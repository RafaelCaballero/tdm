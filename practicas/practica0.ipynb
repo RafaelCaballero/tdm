{
 "cells": [
  {
   "cell_type": "markdown",
   "metadata": {},
   "source": [
    "# Tratamiento de datos masivos \n",
    "## Práctica 1: Introducción a Python\n",
    "### por Rafa Caballero (Facultad de Informática - UCM)\n",
    "\n",
    "\n",
    "\n",
    "Por favor, no olvides escribir aquí tu nombre y el número de puesto"
   ]
  },
  {
   "cell_type": "markdown",
   "metadata": {},
   "source": [
    "Nombre:                 \n",
    "\n",
    "Puesto:"
   ]
  },
  {
   "cell_type": "markdown",
   "metadata": {},
   "source": [
    "**Intrucciones**\n",
    "\n",
    "* Completa las casillas indicadas \n",
    "* Cuando hayas terminado selecciona *File* + *Download as* + *Notebook* (.ipynb)\n",
    "* Grabar el fichero en el disco (por ejemplo en la carpeta c:\\hlocal) con nombre *NombreDelEstudiante.ipynb*\n",
    "* Finalmente subir este fichero al *Campus Virtual*."
   ]
  },
  {
   "cell_type": "markdown",
   "metadata": {},
   "source": [
    "**1.** Escribir una expresión que muestre el primer y el último elemento de una lista a.\n",
    "\n",
    "**Nota:** el código debe funcionar para cuaquier lista no vacía\n",
    "\n",
    "Ejemplo: para la lista *a* del ejemplo mostrará *1 7*"
   ]
  },
  {
   "cell_type": "code",
   "execution_count": 1,
   "metadata": {
    "collapsed": true
   },
   "outputs": [],
   "source": [
    "# no modificar\n",
    "a = [1,2,3,4,5,6,7] "
   ]
  },
  {
   "cell_type": "code",
   "execution_count": 2,
   "metadata": {},
   "outputs": [],
   "source": [
    "# Solución\n"
   ]
  },
  {
   "cell_type": "markdown",
   "metadata": {},
   "source": [
    "** 2. ** Sabiendo que la lista *b* tiene al menos 8 elementos, escribir una expresión que devuelva la concatenación de los elementos que ocupan las posiciones [1,2,3,4] y [6,7]  (recordad que la primera posición es la 0).\n",
    "\n",
    "Por ejemplo, para la lista b siguiente tendremos como salida: *['b', 'c', 'd', 'e', 'g', 'h']*\n",
    "\n",
    "*Nota*: No se puede hacer accediendo a todos los elementos uno a uno (es decir con 6 accesos individuales)."
   ]
  },
  {
   "cell_type": "code",
   "execution_count": 3,
   "metadata": {
    "collapsed": true
   },
   "outputs": [],
   "source": [
    "b = ['a','b','c','d','e','f','g','h']"
   ]
  },
  {
   "cell_type": "code",
   "execution_count": 4,
   "metadata": {},
   "outputs": [],
   "source": [
    "# Solución\n"
   ]
  },
  {
   "cell_type": "markdown",
   "metadata": {},
   "source": [
    "**3.** EScribir un programa que lea una frase introducida por teclado por el usuario y cambie todas las letras 'a' por 'o'.\n",
    "\n",
    "Ejemplo:\n",
    "``` [Python]\n",
    "Dime algo: abracadabra\n",
    "obrocodobro\n",
    "```\n"
   ]
  },
  {
   "cell_type": "code",
   "execution_count": 6,
   "metadata": {},
   "outputs": [],
   "source": [
    "# Solución\n"
   ]
  },
  {
   "cell_type": "markdown",
   "metadata": {},
   "source": [
    "**4.** Escribir un programa que lea una frase del teclado y cuente el número de palabras. Consideramos que cada dos palabras vienen separados por un espacio.\n",
    "\n",
    "Ejemplo\n",
    "``` [Python]\n",
    "Dime una frase: esta frase tiene cinco palabras\n",
    "5\n",
    "```"
   ]
  },
  {
   "cell_type": "code",
   "execution_count": 7,
   "metadata": {},
   "outputs": [],
   "source": [
    "#Solución\n"
   ]
  },
  {
   "cell_type": "markdown",
   "metadata": {},
   "source": [
    "** 5. ** Escribir una instrucción print que muestre el texto en x a partir de la primera coma en adelante. Con el valor x del ejemplo, la salida ser * ingrávidos y gentiles, como pompas de jabón*\n",
    "\n",
    "Notas:\n",
    "* No alterar x, escribir tras el comentario *Solución*\n",
    "* Se puede suponer que la cadena en x contiene al menos una coma."
   ]
  },
  {
   "cell_type": "code",
   "execution_count": 8,
   "metadata": {},
   "outputs": [],
   "source": [
    "x = \"yo amo los mundos sutiles, ingrávidos y gentiles, como pompas de jabón\"\n",
    "# Solución\n"
   ]
  },
  {
   "cell_type": "markdown",
   "metadata": {},
   "source": [
    "** 6. ** Definir una variable y que contenga una copia de x. La salida esperada es:\n",
    "\n",
    "``` [Python]\n",
    "['s', 'e', 'n', 'o', 'i', 'c', 'u', 'l', 'o', 's']\n",
    "['s', 'o', 'l', 'u', 'c', 'i', 'o', 'n', 'e', 's']\n",
    "```\n",
    "\n",
    "Nota: No alterar el resto de las instrucciones, solo la que sigue al comentario"
   ]
  },
  {
   "cell_type": "code",
   "execution_count": 9,
   "metadata": {},
   "outputs": [],
   "source": [
    "# no cambiar\n",
    "x = list(\"soluciones\")\n",
    "\n",
    "# Solución\n"
   ]
  },
  {
   "cell_type": "markdown",
   "metadata": {},
   "source": [
    "** 7. ** Ordenar la lista p por longitud de las palabras, de mayor a menor"
   ]
  },
  {
   "cell_type": "code",
   "execution_count": 10,
   "metadata": {},
   "outputs": [],
   "source": [
    "p = ['toribio', 'zarzalejo','ana']\n",
    "# Solución\n"
   ]
  },
  {
   "cell_type": "markdown",
   "metadata": {},
   "source": [
    "** 8. ** Devolver la posición del penúltimo 5 en la lista *y*. La lista no debe modificarse\n",
    "\n",
    "Nota: se puede asumir que y tiene al menos dos valores 5."
   ]
  },
  {
   "cell_type": "code",
   "execution_count": 13,
   "metadata": {
    "collapsed": true
   },
   "outputs": [],
   "source": [
    "# No cambiar\n",
    "y = [1,2,3,4,5,6,7,5]\n",
    "# Solución\n"
   ]
  },
  {
   "cell_type": "markdown",
   "metadata": {},
   "source": [
    "** 9. ** Escribir una expresión que muestre el entero que equivale a la cadena 'tdm' en base 34.\n",
    "\n",
    "La salida esperada:\n",
    "``` [Python]\n",
    "    'tdm' en base 34 es:  33988\n",
    "```"
   ]
  },
  {
   "cell_type": "code",
   "execution_count": 11,
   "metadata": {},
   "outputs": [],
   "source": [
    "#Solución\n"
   ]
  },
  {
   "cell_type": "markdown",
   "metadata": {},
   "source": [
    "###### 10.  (Difícil)\n",
    "Queremos escribir un código que pida dos valores booleanos True/False al usuario y devuelve el AND lógico de ambos valores. \n",
    "\n",
    "Nota: Podemos suponer que el usuario escribe los valores correctamente.\n",
    "\n",
    "Ejemplos de ejecución (en negrita los valores introducidos por el usuario):\n",
    " ``` [Python]\n",
    "Dame un valor booleano (true o false) True \n",
    "Y ahora otro False\n",
    "True  AND  False = False\n",
    "```\n",
    "\n",
    "Otro ejemplo:\n",
    "``` [Python]\n",
    "Dame un valor booleano (true o false) True\n",
    "Y ahora otro True\n",
    "True  AND  True = True\n",
    "```"
   ]
  },
  {
   "cell_type": "code",
   "execution_count": 14,
   "metadata": {},
   "outputs": [],
   "source": [
    "# Solución 10\n"
   ]
  }
 ],
 "metadata": {
  "kernelspec": {
   "display_name": "Python 3",
   "language": "python",
   "name": "python3"
  },
  "language_info": {
   "codemirror_mode": {
    "name": "ipython",
    "version": 3
   },
   "file_extension": ".py",
   "mimetype": "text/x-python",
   "name": "python",
   "nbconvert_exporter": "python",
   "pygments_lexer": "ipython3",
   "version": "3.6.3"
  }
 },
 "nbformat": 4,
 "nbformat_minor": 2
}
