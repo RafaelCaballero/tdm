{
 "cells": [
  {
   "cell_type": "markdown",
   "metadata": {},
   "source": [
    "# Tratamiento de Datos Masivos  - Práctica 2\n",
    "### Rafael Caballero - Facultad de Informática - UCM"
   ]
  },
  {
   "cell_type": "code",
   "execution_count": null,
   "metadata": {
    "collapsed": true
   },
   "outputs": [],
   "source": []
  },
  {
   "cell_type": "markdown",
   "metadata": {},
   "source": [
    "En esta práctica vamos a acceder desde Python a Mongo, tanto para hacer operaciones de modificación como consultas básicas. Las siguientes instrucciones están pensadas para ser utilizadas en el entorno **Windows** de los laboratorios\n",
    "\n",
    "### Preparación\n",
    "\n",
    "* En primer lugar necesitamos arrancar el servidor de Mongo. Para ello \n",
    "    * Creamos una carpeta nueva en un lugar donde tengamos derechos de escritura (por ejemplo c:\\hlocal\\tdm\\data). Importante: si ya existe la carpeta, borrarla primero.\n",
    "    * Abrimos una consola de Mongo y  tecleamos: ```mongod -dbpath c:\\hlocal\\tdm\\data ```. Si todo va bien ya tenemos el servidor arrancado. Si no funciona avisad al profesor, que a su vez avisará al técnico, que a su vez...\n",
    "\n",
    "* El segundo paso es importar la base de datos. Para ello copiamos el fichero comments.json y el fichero comunidades.csv a una carpeta, digamos c:\\hlocal\\tdm, abrimos otra consola de Mongo y tecleamos\n",
    "```[Python]\n",
    "mongoimport -d lv -c comments --file c:\\hlocal\\tdm\\comments.json\n",
    "```\n",
    "\n",
    "Nos debe decir que se han importado 164642 documentos\n",
    "\n",
    "* Finalmente ejecutaremos el siguiente código para crear el acceso a la base de datos y a las colecciones"
   ]
  },
  {
   "cell_type": "code",
   "execution_count": 20,
   "metadata": {},
   "outputs": [
    {
     "name": "stdout",
     "output_type": "stream",
     "text": [
      "164642\n"
     ]
    }
   ],
   "source": [
    "import pymongo  # la conexión con mongo\n",
    "from pprint import pprint\n",
    "from pymongo import MongoClient\n",
    "client = MongoClient('mongodb://localhost:27017/')\n",
    "db = client.lv\n",
    "comments = db.comments\n",
    "comunidades = db.comunidades # esta aun no existe, la crearemos más adelante en la la práctica\n",
    "print(comentarios.count_documents({})) # debe mostrar 164642"
   ]
  },
  {
   "cell_type": "markdown",
   "metadata": {},
   "source": [
    "### Ejercicios \n",
    "\n",
    "**1.-**  Número de comentarios escritor por el autor con 'authorNick' igual a 'UROBOROS3'.\n",
    "*Nota* : Para contar documentos en Pymongo usar la función comentarios.count_documents(Filtro) con *Filtro* el documento que se usa como filtro en find.\n",
    "\n",
    "Respuesta esperada: 496"
   ]
  },
  {
   "cell_type": "code",
   "execution_count": 60,
   "metadata": {},
   "outputs": [
    {
     "data": {
      "text/plain": [
       "496"
      ]
     },
     "execution_count": 60,
     "metadata": {},
     "output_type": "execute_result"
    }
   ],
   "source": [
    "# Solución\n"
   ]
  },
  {
   "cell_type": "markdown",
   "metadata": {},
   "source": [
    "**2.-** Número de comentarios a los que ha dado like (likedBy) el autor con 'authorNick' igual a 'UROBOROS3'\n",
    "\n",
    "Respuesta esperada: 282\n"
   ]
  },
  {
   "cell_type": "code",
   "execution_count": 61,
   "metadata": {},
   "outputs": [
    {
     "data": {
      "text/plain": [
       "282"
      ]
     },
     "execution_count": 61,
     "metadata": {},
     "output_type": "execute_result"
    }
   ],
   "source": [
    "# Solución\n"
   ]
  },
  {
   "cell_type": "markdown",
   "metadata": {},
   "source": [
    "**3.-**  Número de usuarios que han escrito un comentario (clave 'createdAt') entre el 12 y el 13 de octubre de 2018.\n",
    "\n",
    "*Nota* Por ejemplo d = datetime.strptime('2018-10-12','%Y-%m-%d')  devuelve en d el valor del 12 de octubre en un formato compatible con MongoDB\n",
    "\n",
    "Salida esperada: 20960"
   ]
  },
  {
   "cell_type": "code",
   "execution_count": 72,
   "metadata": {},
   "outputs": [
    {
     "data": {
      "text/plain": [
       "20960"
      ]
     },
     "execution_count": 72,
     "metadata": {},
     "output_type": "execute_result"
    }
   ],
   "source": [
    "from datetime import datetime\n",
    "# Solución\n"
   ]
  },
  {
   "cell_type": "markdown",
   "metadata": {},
   "source": [
    "** 4.- ** Número de comentarios que han gustado al menos a un usuario (contienen clave 'likedBy').\n",
    "\n",
    "Salida esperada: 80455"
   ]
  },
  {
   "cell_type": "code",
   "execution_count": 74,
   "metadata": {},
   "outputs": [
    {
     "data": {
      "text/plain": [
       "80455"
      ]
     },
     "execution_count": 74,
     "metadata": {},
     "output_type": "execute_result"
    }
   ],
   "source": [
    "# Solución\n"
   ]
  },
  {
   "cell_type": "markdown",
   "metadata": {},
   "source": [
    "** 5.- ** Autor (authorNick) del usuario que ha emitido el comentario \n",
    "\n",
    "```[JSON]\n",
    "\"_id\" : {\n",
    "                \"collection\" : \"238449142\",\n",
    "                \"id\" : \"811961925\"\n",
    "        }\n",
    "```\n",
    "Salida esperada: ```{'content': {'authorNick': '9- Railroad'}}```"
   ]
  },
  {
   "cell_type": "code",
   "execution_count": 77,
   "metadata": {},
   "outputs": [
    {
     "data": {
      "text/plain": [
       "{'content': {'authorNick': '9- Railroad'}}"
      ]
     },
     "execution_count": 77,
     "metadata": {},
     "output_type": "execute_result"
    }
   ],
   "source": [
    "# Solución\n"
   ]
  },
  {
   "cell_type": "markdown",
   "metadata": {},
   "source": [
    "**5.- (5 puntos)- ** Tenemos el fichero comunidades.csv que contiene el identificador de cada usuario (campo 1) y la comunidad a la que pertenece (campo 3, 0 no independentista, 1 indenpendentista ).\n",
    "\n",
    "Queremos añadir a la colección comunidades la misma información de comentarios, pero añadiendo un campo comunidad que indique la comunidad a la que pertenece el usuario que ha emitido el comentario."
   ]
  },
  {
   "cell_type": "markdown",
   "metadata": {},
   "source": [
    "\n"
   ]
  },
  {
   "cell_type": "code",
   "execution_count": 83,
   "metadata": {
    "collapsed": true
   },
   "outputs": [],
   "source": []
  },
  {
   "cell_type": "code",
   "execution_count": null,
   "metadata": {
    "collapsed": true
   },
   "outputs": [],
   "source": []
  }
 ],
 "metadata": {
  "kernelspec": {
   "display_name": "Python 3",
   "language": "python",
   "name": "python3"
  },
  "language_info": {
   "codemirror_mode": {
    "name": "ipython",
    "version": 3
   },
   "file_extension": ".py",
   "mimetype": "text/x-python",
   "name": "python",
   "nbconvert_exporter": "python",
   "pygments_lexer": "ipython3",
   "version": "3.6.3"
  }
 },
 "nbformat": 4,
 "nbformat_minor": 2
}
