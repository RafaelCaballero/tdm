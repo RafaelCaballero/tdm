{
 "cells": [
  {
   "cell_type": "markdown",
   "metadata": {},
   "source": [
    "# Práctica 1 Solución :Web Scraping con Selenium\n",
    "\n",
    "## Tratamiento de datos masivos - Facultad de Informática - Rafael Caballero"
   ]
  },
  {
   "cell_type": "markdown",
   "metadata": {},
   "source": [
    "Nombre: "
   ]
  },
  {
   "cell_type": "markdown",
   "metadata": {},
   "source": [
    "**Inicialización:**\n",
    "\n",
    "* Descargar el fichero 'chromedriver.exe'. Alojarlo en una carpeta local. En el resto de la práctica se asume que se situa en la carpeta' c:/hlocal/tdm\n",
    "* Ejecutar el siguiente código y comprobar que se abre una sesión de Chrome"
   ]
  },
  {
   "cell_type": "code",
   "execution_count": 8,
   "metadata": {
    "collapsed": true
   },
   "outputs": [],
   "source": [
    "# https://sites.google.com/a/chromium.org/chromedriver/downloads\n",
    "import os\n",
    "from selenium import webdriver  # si da error, desde anaconda prompt hacer pip install --user  selenium\n",
    "chromedriver = \"c:/hlocal/tdm/chromedriver.exe\"\n",
    "os.environ[\"webdriver.chrome.driver\"] = chromedriver\n",
    "driver = webdriver.Chrome(executable_path=chromedriver)"
   ]
  },
  {
   "cell_type": "markdown",
   "metadata": {},
   "source": [
    "1.- Escribir código para abrir en Chrome la página: http://clearskycalculator.com/pyranometer.htm"
   ]
  },
  {
   "cell_type": "code",
   "execution_count": 9,
   "metadata": {
    "collapsed": true
   },
   "outputs": [],
   "source": [
    "url = 'http://clearskycalculator.com/pyranometer.htm'\n",
    "driver.get(url)"
   ]
  },
  {
   "cell_type": "markdown",
   "metadata": {},
   "source": [
    "2.- La página nos permite calcular la radiación esperada para una cierta longitud y latitud. \n",
    "Escribir el código que \n",
    "\n",
    "2.1 Escribe en el formulario los valores 41.4 (latitud) y 355.5 (longitud) y 345 (longitud tz). \n",
    "Notas: \n",
    "* Para conocer los datos que identifican a un objeto colocarse sobre él y pulsar inspeccionar. La primera vez hay que hacerlo 2 veces.\n",
    "* Para escribir texto en una caja input se utiliza el método send_keys(s), con s el string que se desea escribir. \n",
    "Antes de llamar a este método conviene llamar al método clear del input para borrar el valor antiguo.\n",
    "* Utilizar el id para identificar objetos cuando sea posible. Recordar que el nombre de identificadores tiene en cuenta mayúscula y minúscula"
   ]
  },
  {
   "cell_type": "code",
   "execution_count": 19,
   "metadata": {
    "collapsed": true
   },
   "outputs": [],
   "source": [
    "lat = driver.find_element_by_id(\"p1G6\")\n",
    "lat.clear()\n",
    "lat.send_keys(\"41.4\")\n",
    "long = driver.find_element_by_id(\"p1G8\")\n",
    "long.clear()\n",
    "long.send_keys(\"355.5\")\n",
    "longz = driver.find_element_by_id(\"p1G10\")\n",
    "longz.clear()\n",
    "longz.send_keys(\"345\")"
   ]
  },
  {
   "cell_type": "markdown",
   "metadata": {},
   "source": [
    "2.2 Pulsar el botón \"RECALCULATE MODEL\". \n",
    "Nota:  para obtener un elemento por un valor de un atributo se escribe \n",
    "``` [Python]\n",
    "elemento = driver.findElement_by_xpath(\"//element[@attribute='púlsame']\"))\n",
    "```"
   ]
  },
  {
   "cell_type": "code",
   "execution_count": 41,
   "metadata": {
    "collapsed": true
   },
   "outputs": [],
   "source": [
    "boton = driver.find_element_by_xpath('//input[@value=\"RECALCULATE MODEL\"]')\n",
    "b.click()\n"
   ]
  },
  {
   "cell_type": "markdown",
   "metadata": {},
   "source": [
    "2.3 Obtener y mostrar por pantalla el valor de radiación solar de la etiqueta a la derecha texto *Model Estimated Shortwave*\n",
    "Nota: Para obtener el texto asociado a un input fijarse en esta pregunta:\n",
    "https://stackoverflow.com/questions/25580569/get-value-of-an-input-box-using-selenium-python"
   ]
  },
  {
   "cell_type": "code",
   "execution_count": 52,
   "metadata": {},
   "outputs": [
    {
     "name": "stdout",
     "output_type": "stream",
     "text": [
      "976\n"
     ]
    }
   ],
   "source": [
    "rad = driver.find_element_by_id(\"p1L6\")\n",
    "print(rad.get_attribute('value'))"
   ]
  },
  {
   "cell_type": "markdown",
   "metadata": {},
   "source": [
    "3 En Python las funciones nos permiten agrupar código que vamos a utilizar varias veces. Por ejemplo:\n"
   ]
  },
  {
   "cell_type": "code",
   "execution_count": 53,
   "metadata": {},
   "outputs": [
    {
     "data": {
      "text/plain": [
       "4"
      ]
     },
     "execution_count": 53,
     "metadata": {},
     "output_type": "execute_result"
    }
   ],
   "source": [
    "def mayor(x,y):\n",
    "    z = max(x,y)\n",
    "    return z\n",
    "\n",
    "# llamamos a la función\n",
    "mayor(3,4)"
   ]
  },
  {
   "cell_type": "markdown",
   "metadata": {},
   "source": [
    "Reunir el código anterior en una función que reciba como parámetros los valores lat, lon, lonz y devuelva la radiación esperada:\n",
    "    "
   ]
  },
  {
   "cell_type": "code",
   "execution_count": 56,
   "metadata": {
    "collapsed": true
   },
   "outputs": [],
   "source": [
    "def radiacion(latitud,longitud,longitudz): #### esta linea no se puede cambiar\n",
    "    ### código de 2.1, adaptado para que send_keys utilice los parámetros latitud, longitud longitudz\n",
    "    lat = driver.find_element_by_id(\"p1G6\")\n",
    "    lat.clear()\n",
    "    lat.send_keys(latitud)\n",
    "    long = driver.find_element_by_id(\"p1G8\")\n",
    "    long.clear()\n",
    "    long.send_keys(longitud)\n",
    "    longz = driver.find_element_by_id(\"p1G10\")\n",
    "    longz.clear()\n",
    "    longz.send_keys(longitudz)\n",
    "    ### código de 2.2\n",
    "    boton = driver.find_element_by_xpath('//input[@value=\"RECALCULATE MODEL\"]')\n",
    "    b.click()\n",
    "    ###código de 2.3\n",
    "    rad = driver.find_element_by_id(\"p1L6\")\n",
    "    # print(rad.get_attribute('value'))\n",
    "    return  rad.get_attribute('value')  ## añadir tras return la expresión o variable que contiene el valor de raciación"
   ]
  },
  {
   "cell_type": "markdown",
   "metadata": {},
   "source": [
    "Para probarlo podemos ejecutar:"
   ]
  },
  {
   "cell_type": "code",
   "execution_count": 57,
   "metadata": {},
   "outputs": [
    {
     "name": "stdout",
     "output_type": "stream",
     "text": [
      "855\n"
     ]
    }
   ],
   "source": [
    "## pruebas\n",
    "print(radiacion(\"41.7\",\"32.3\",\"0\"))"
   ]
  },
  {
   "cell_type": "markdown",
   "metadata": {},
   "source": [
    "4  Ahora queremos repetir el trabajo pero leyendo los datos de latitu, longitud y longitudz del fichero *datos.csv*. En el fichero los valores están con la forma *lat,lon,lonz*, y no hay cabecera. Se pide:\n",
    "\n",
    "4.1 Leer el fichero, que debemos alojar en la carpeta c:/hlocal/tdm. Leerlo como csv (ver ejercicio 1 de la práctica 2)\n",
    "\n",
    "4.2 Para cada linea del fichero llamaremos a la función *radiación* e iremos mostrando tanto los valores leídos, como el valor devuelto por la función.\n",
    "\n",
    "La salida será similar a:\n",
    "\n",
    "```\n",
    "41.4 71.2 74 --> 995\n",
    "38.3 68.2 74 --> 1011\n",
    "77.3 258.2 260 --> 576\n",
    "89.3 4 0 --> 373\n",
    "52.3 6 7 --> 906\n",
    "```\n"
   ]
  },
  {
   "cell_type": "code",
   "execution_count": 65,
   "metadata": {},
   "outputs": [
    {
     "name": "stdout",
     "output_type": "stream",
     "text": [
      "41.4 71.2 74 --> 995\n",
      "38.3 68.2 74 --> 1011\n",
      "77.3 258.2 260 --> 576\n",
      "89.3 4 0 --> 373\n",
      "52.3 6 7 --> 906\n"
     ]
    }
   ],
   "source": [
    "### Solución 4.1, 4.2\n",
    "import csv\n",
    "path = 'c:/hlocal/tdm/datos.csv'\n",
    "with open(path) as csvfile:\n",
    "    readCSV = csv.reader(csvfile, delimiter=',')\n",
    "    for row in readCSV:\n",
    "        print(row[0],row[1],row[2],'-->',radiacion(row[0],row[1],row[2]))"
   ]
  },
  {
   "cell_type": "markdown",
   "metadata": {},
   "source": [
    "5 Ahora consideramos el ficheros *datosmissing.csv*  \n",
    "Queremos hacer lo mismo que en el ejercicio 4, pero la diferencia es que, en este caso faltan algunos valores para la segunda columna, la longitud.\n",
    "\n",
    "Estos valores 'missing' son muy comunes en ciencia de datos y hay varias formas de tratarlos, que vamos a probar a continuación:"
   ]
  },
  {
   "cell_type": "markdown",
   "metadata": {},
   "source": [
    "5.1 Lo primero es conocer cuántos datos de este tipo hay. Escribir un código que lea el fichero *datosmissing* \n",
    "y cuente el número de filas cuya longitud tiene longitud 0. También debe indicar el % de filas con esta característica.\n",
    "La salida será:\n",
    "```\n",
    "Total de filas missing:  8  lo que representa el  22.857142857142858  por ciento del total\n",
    "```"
   ]
  },
  {
   "cell_type": "code",
   "execution_count": 72,
   "metadata": {},
   "outputs": [
    {
     "name": "stdout",
     "output_type": "stream",
     "text": [
      "Total de filas missing:  8  lo que representa el  22.857142857142858  por ciento del total\n"
     ]
    }
   ],
   "source": [
    "import csv\n",
    "path = 'c:/hlocal/tdm/datosmissing.csv'\n",
    "### solución 5.1\n",
    "n=0\n",
    "m=0\n",
    "with open(path) as csvfile:\n",
    "    readCSV = csv.reader(csvfile, delimiter=',')\n",
    "    for row in readCSV:\n",
    "        if row[1]=='':\n",
    "           m = m+1\n",
    "        n = n+1\n",
    "print('Total de filas missing: ', m, ' lo que representa el ',m*100.0/n,' por ciento del total')\n",
    "            "
   ]
  },
  {
   "cell_type": "markdown",
   "metadata": {},
   "source": [
    "5.2 La primera forma es simplemente ignorar las filas que existen estos huecos. Escribir un código similar al del ejercicio 4,\n",
    "pero que cuando el valor de la longitud es vacío (len(x) == 0, o x=='', lo que se prefiera), no llame a la función radiacion sino que escriba la línea missing.\n",
    "\n",
    "La salida esperada será de la forma:\n",
    "```\n",
    "41.4 71.2 74 --> 995\n",
    "*missing*\n",
    "77.3 258.2 260 --> 576\n",
    "*missing*\n",
    "52.3 6 7 --> 906\n",
    "...\n",
    "```"
   ]
  },
  {
   "cell_type": "code",
   "execution_count": 67,
   "metadata": {},
   "outputs": [
    {
     "name": "stdout",
     "output_type": "stream",
     "text": [
      "41.4 71.2 74 --> 995\n",
      "*missing*\n",
      "77.3 258.2 260 --> 576\n",
      "*missing*\n",
      "52.3 6 7 --> 906\n",
      "41.4 71.2 74 --> 995\n",
      "38.3 68.2 74 --> 1011\n",
      "*missing*\n",
      "89.3 4 0 --> 373\n",
      "52.3 6 7 --> 906\n",
      "41.4 71.2 74 --> 995\n",
      "38.3 68.2 74 --> 1011\n",
      "77.3 258.2 260 --> 576\n",
      "89.3 4 0 --> 373\n",
      "52.3 6 7 --> 906\n",
      "41.4 71.2 74 --> 995\n",
      "38.3 68.2 74 --> 1011\n",
      "77.3 258.2 260 --> 576\n",
      "89.3 4 0 --> 373\n",
      "52.3 6 7 --> 906\n",
      "41.4 71.2 74 --> 995\n",
      "38.3 68.2 74 --> 1011\n",
      "77.3 258.2 260 --> 576\n",
      "89.3 4 0 --> 373\n",
      "52.3 6 7 --> 906\n",
      "41.4 71.2 74 --> 995\n",
      "38.3 68.2 74 --> 1011\n",
      "77.3 258.2 260 --> 576\n",
      "89.3 4 0 --> 373\n",
      "52.3 6 7 --> 906\n",
      "41.4 71.2 74 --> 995\n",
      "38.3 68.2 74 --> 1011\n",
      "77.3 258.2 260 --> 576\n",
      "89.3 4 0 --> 373\n",
      "52.3 6 7 --> 906\n"
     ]
    }
   ],
   "source": [
    "import csv\n",
    "path = 'c:/hlocal/tdm/datosmissing.csv'\n",
    "### solución 5.2\n",
    "with open(path) as csvfile:\n",
    "    readCSV = csv.reader(csvfile, delimiter=',')\n",
    "    for row in readCSV:\n",
    "        if row[1]=='':\n",
    "            print('*missing*')\n",
    "        else: \n",
    "            print(row[0],row[1],row[2],'-->',radiacion(row[0],row[1],row[2]))"
   ]
  },
  {
   "cell_type": "markdown",
   "metadata": {},
   "source": [
    "5.3 La segunda posibilidad es *rellenar* el valor. En ocasiones se hará con la media de otros valores. En este caso lo que haremos será tomar como valor de longitud el valor longitudz cuando longitud no exista. Salida esperada:\n",
    "\n",
    "41.4 71.2 74 --> 995\n",
    "\n",
    "38.3 **74** 74 --> 1012\n",
    "\n",
    "77.3 258.2 260 --> 576\n",
    "\n",
    "89.3 **0** 0 --> 373\n",
    "\n",
    "52.3 6 7 --> 906\n",
    "\n",
    "..."
   ]
  },
  {
   "cell_type": "code",
   "execution_count": 74,
   "metadata": {},
   "outputs": [
    {
     "name": "stdout",
     "output_type": "stream",
     "text": [
      "41.4 71.2 74 --> 995\n",
      "38.3 74 74 --> 1012\n",
      "77.3 258.2 260 --> 576\n",
      "89.3 0 0 --> 373\n",
      "52.3 6 7 --> 906\n",
      "41.4 71.2 74 --> 995\n",
      "38.3 68.2 74 --> 1011\n",
      "77.3 260 260 --> 576\n",
      "89.3 4 0 --> 373\n",
      "52.3 6 7 --> 906\n",
      "41.4 71.2 74 --> 995\n",
      "38.3 68.2 74 --> 1011\n",
      "77.3 258.2 260 --> 576\n",
      "89.3 4 0 --> 373\n",
      "52.3 6 7 --> 906\n",
      "41.4 71.2 74 --> 995\n",
      "38.3 68.2 74 --> 1011\n",
      "77.3 258.2 260 --> 576\n",
      "89.3 4 0 --> 373\n",
      "52.3 6 7 --> 906\n",
      "41.4 74 74 --> 994\n",
      "38.3 74 74 --> 1012\n",
      "77.3 260 260 --> 576\n",
      "89.3 4 0 --> 373\n",
      "52.3 6 7 --> 906\n",
      "41.4 74 74 --> 994\n",
      "38.3 68.2 74 --> 1011\n",
      "77.3 258.2 260 --> 576\n",
      "89.3 4 0 --> 373\n",
      "52.3 6 7 --> 906\n",
      "41.4 71.2 74 --> 995\n",
      "38.3 74 74 --> 1012\n",
      "77.3 258.2 260 --> 576\n",
      "89.3 4 0 --> 373\n",
      "52.3 6 7 --> 906\n"
     ]
    }
   ],
   "source": [
    "import csv\n",
    "path = 'c:/hlocal/tdm/datosmissing.csv'\n",
    "### solución 5.3\n",
    "with open(path) as csvfile:\n",
    "    readCSV = csv.reader(csvfile, delimiter=',')\n",
    "    for row in readCSV:\n",
    "        if row[1]=='':\n",
    "            row[1] = row[2]\n",
    "        print(row[0],row[1],row[2],'-->',radiacion(row[0],row[1],row[2]))"
   ]
  },
  {
   "cell_type": "code",
   "execution_count": null,
   "metadata": {
    "collapsed": true
   },
   "outputs": [],
   "source": []
  }
 ],
 "metadata": {
  "kernelspec": {
   "display_name": "Python 3",
   "language": "python",
   "name": "python3"
  },
  "language_info": {
   "codemirror_mode": {
    "name": "ipython",
    "version": 3
   },
   "file_extension": ".py",
   "mimetype": "text/x-python",
   "name": "python",
   "nbconvert_exporter": "python",
   "pygments_lexer": "ipython3",
   "version": "3.6.3"
  }
 },
 "nbformat": 4,
 "nbformat_minor": 2
}
