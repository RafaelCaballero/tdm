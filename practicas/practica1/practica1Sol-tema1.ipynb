{
 "cells": [
  {
   "cell_type": "markdown",
   "metadata": {},
   "source": [
    "# Tratamiento de datos masivos \n",
    "## Práctica 1: Análisis de ficheros\n",
    "### por Rafa Caballero (Facultad de Informática - UCM)\n",
    "\n",
    "\n",
    "Por favor, no olvides escribir aquí tu nombre"
   ]
  },
  {
   "cell_type": "markdown",
   "metadata": {},
   "source": [
    "Nombre: "
   ]
  },
  {
   "cell_type": "markdown",
   "metadata": {},
   "source": [
    "Vamos a hacer una pequeña gráfica de la evolución de la contaminación atmosférica \n",
    "en el día de hoy en Madrid. \n",
    "\n",
    "Para ello accederemos al fichero csv que proporciona el ayuntamiento:\n",
    "    [http://www.mambiente.munimadrid.es/opendata/horario.txt](http://www.mambiente.munimadrid.es/opendata/horario.txt)\n",
    "    \n",
    "Este fichero, un csv sin cabecera, cada línea se corresponde a medición de una **estación** para un **contaminante** concreto. En particular, dentro de la línea tenemos que:\n",
    "    \n",
    "* La concatenación de los 3 primeros valores nos da la estación concreta. La lista de las estaciones con sus códigos está en [http://www.mambiente.munimadrid.es/opencms/opencms/calaire/SistemaIntegral/SistVigilancia/Estaciones/E04.html] (http://www.mambiente.munimadrid.es/opencms/opencms/calaire/SistemaIntegral/SistVigilancia/Estaciones/E04.html). En nuestro caso nos interesan las líneas que corresponde a Cuatro Caminos,  código '28079038'.\n",
    "* Los siguientes 3 valores, concatenados, indican el contaminante. Por ejemplo si esta concatenación nos da '013802' corresponde al dióxido de azufre.\n",
    "* Los siguientes 3 valores indican la fecha con el formato año,mes,dia.\n",
    "* A apartir de ahí se encuentran otras 48 columnas que deben leerse por pares. El segundo valor es siempre una letra que valdrá 'V' si la medición es la correcta, o 'N' si es incorrecta. La primera pareja corresponde a las 0 horas, la segunda a la una...y así hasta las 23 horas. Como ayuda hay que decir que estos datos empiezan en la columna 9 (contando desde 0).\n",
    "\n",
    "**Ejemplo**: línea del fichero csv\n",
    "\n",
    "28,079,038,**01,38,02**,2018,10,01,00004,V,00003,V,00004,V,00004,V,00004,V,00005,V,00005,V,00005,V,00005,V,00006,V,00005,V,00005,V,00005,V,00005,V,00004,V,00004,V,00004,V,00004,V,00004,V,00004,V,00004,V,00004,V,00000,N,00000,N\n",
    "\n",
    "Se trata de la estación '28079038', contaminante '013802', fecha 2018/10/01. A las 0 horas el valor es 4, a la una 3....y así hasta las 22 horas. Los valores de las 22 y las 23 horas no se pueden tener en cuenta porque están anotados como 'N'.\n",
    "    \n",
    " (Aunque no es necesario para la práctica, podéis encontrar una descripción más detallada del fichero [aquí](https://www.google.com/url?sa=t&rct=j&q=&esrc=s&source=web&cd=1&cad=rja&uact=8&ved=2ahUKEwiloabbzOfdAhWlJcAKHfefAv8QFjAAegQICRAC&url=https%3A%2F%2Fdatos.madrid.es%2FFWProjects%2Fegob%2FCatalogo%2FMedioAmbiente%2FAire%2FFicheros%2FInterprete_ficheros_%2520calidad_%2520del_%2520aire_global_.pdf&usg=AOvVaw1hj5CQwdUrME4kdrxmnF_K) )"
   ]
  },
  {
   "cell_type": "markdown",
   "metadata": {},
   "source": [
    "**Paso Inicial**: descargar la información. El siguiente código accede a la página, la baja y la graba en 'c:/hlocal/datos.txt'."
   ]
  },
  {
   "cell_type": "code",
   "execution_count": 1,
   "metadata": {},
   "outputs": [
    {
     "name": "stdout",
     "output_type": "stream",
     "text": [
      "<Response [200]>\n"
     ]
    }
   ],
   "source": [
    "import requests\n",
    "\n",
    "url = \"http://www.mambiente.munimadrid.es/opendata/horario.txt\"\n",
    "resp = requests.get(url)\n",
    "print(resp) # un codigo 200 es que todo ha ido bien.\n",
    "path = \"C:/hlocal/datos.txt\"\n",
    "with open(path, 'wb') as output:  #grabar la página en la carpeta indicada\n",
    "    output.write(resp.content)"
   ]
  },
  {
   "cell_type": "markdown",
   "metadata": {},
   "source": [
    "**1** Para la estación '28079016', mostrar la lista de todos los contaminantes para los que dispone de sensores. El resultado esperado:\n",
    "```\n",
    "064802\n",
    "070802\n",
    "080802\n",
    "120802\n",
    "140602\n",
    "```\n",
    "\n",
    "Nota: \n",
    "* Para concatenar strings utilizar +\n",
    "* Habrá tantos contaminantes como filas corresponden a esta estación"
   ]
  },
  {
   "cell_type": "code",
   "execution_count": 2,
   "metadata": {},
   "outputs": [
    {
     "name": "stdout",
     "output_type": "stream",
     "text": [
      "064802\n",
      "070802\n",
      "080802\n",
      "120802\n",
      "140602\n"
     ]
    }
   ],
   "source": [
    "import csv\n",
    "with open(path) as csvfile:\n",
    "    readCSV = csv.reader(csvfile, delimiter=',')\n",
    "    for row in readCSV:\n",
    "        if row[0]+row[1]+row[2]=='28079016':\n",
    "            print(row[3]+row[4]+row[5])\n",
    "        "
   ]
  },
  {
   "cell_type": "markdown",
   "metadata": {},
   "source": [
    "**2** Determinar cuál el valor más alto para el contaminante\n",
    "'013802' a las 0 horas. El resultado debe quedar almacenado en la variable 'm'.\n",
    "\n",
    "Notas:\n",
    "* Se puede suponer que el valor de las 0 horas, columna 9, siempre existe, no hace falta comprobar que en la columna 10 hay una 'V'.\n",
    "* El modo más lógico de hacerlo, es crear una lista vacía e ir añadiendo, para cada fila correspondiente a este contaminante, el valor de la columna 9 convertido en entero. Al final, tras acabar la lectura, max(l) (con l la lista) nos dará el valor buscado.\n",
    "* El valor debe quedar almacenado en la variable m"
   ]
  },
  {
   "cell_type": "code",
   "execution_count": 20,
   "metadata": {},
   "outputs": [
    {
     "name": "stdout",
     "output_type": "stream",
     "text": [
      "16.0\n"
     ]
    }
   ],
   "source": [
    "import csv\n",
    "l = []\n",
    "with open(path) as csvfile:\n",
    "    readCSV = csv.reader(csvfile, delimiter=',')\n",
    "    i = 0\n",
    "    for row in readCSV:\n",
    "        a = row[3]+row[4]+row[5]\n",
    "        if a=='013802':\n",
    "            l.append(float(row[9]))\n",
    "        i+=1\n",
    "m = max(l)\n",
    "print(m)  # el valor debe ser 16"
   ]
  },
  {
   "cell_type": "markdown",
   "metadata": {},
   "source": [
    "**3** Buscar el código de estación a las 0 horas tenía el valor m para \n",
    "el contaminante '013802'.\n",
    "\n",
    "Nota: \n",
    "* Si hay varios basta con encontrar el primero\n",
    "* Se puede asumir que hay al menos una línea para ese contaminante y ese valor\n",
    "* El resultado se almacenará en la variable 'estacion'\n",
    "* Si se quiere convertir el resultado de csv.reader a una lista se puede usar\n",
    "```[Python]\n",
    "readCSV = list(csv.reader(csvfile, delimiter=','))\n",
    "```"
   ]
  },
  {
   "cell_type": "code",
   "execution_count": 22,
   "metadata": {},
   "outputs": [
    {
     "name": "stdout",
     "output_type": "stream",
     "text": [
      "28079035\n"
     ]
    }
   ],
   "source": [
    "\n",
    "with open(path) as csvfile:\n",
    "    readCSV = list(csv.reader(csvfile, delimiter=','))\n",
    "    found = False\n",
    "    i = 0\n",
    "    while not found and i<len(readCSV):\n",
    "        row = readCSV[i]     \n",
    "        i += 1\n",
    "        a = row[3]+row[4]+row[5]\n",
    "        if a=='013802' and float(row[9])==m:\n",
    "                estacion = row[0]+row[1]+row[2]\n",
    "                found = True\n",
    "\n",
    "if found:\n",
    "    print(estacion)\n"
   ]
  },
  {
   "cell_type": "markdown",
   "metadata": {
    "collapsed": true
   },
   "source": [
    "** 4 ** Completar el siguiente código para buscar el código contenido en estación\n",
    "dentro de las variable 'nombres' y mostrar el nombre de la estación correspondiente."
   ]
  },
  {
   "cell_type": "code",
   "execution_count": 24,
   "metadata": {},
   "outputs": [
    {
     "data": {
      "text/plain": [
       "'Plaza de España'"
      ]
     },
     "execution_count": 24,
     "metadata": {},
     "output_type": "execute_result"
    }
   ],
   "source": [
    "estacion = '28079004'\n",
    "nombres = [('28079001','Pº. Recoletos'),\n",
    "           ('28079002', 'Glta. de Carlos V'),\n",
    "           ('28079004', 'Plaza de España'),\n",
    "           ('28079039', 'Barrio del Pilar'),\n",
    "           ('28079038','Cuatro caminos')\n",
    "          ]\n",
    "\n",
    "[y for (x,y) in nombres if  x==estacion][0]"
   ]
  },
  {
   "cell_type": "markdown",
   "metadata": {},
   "source": [
    "** 5 ** Ahora queremos representar una gráfica con los valores del contaminante\n",
    "'013802' en la estación de plaza de España, '28079004'.\n",
    "\n",
    "Para ello se debe recorrer el csv buscando la línea correspondiente. \n",
    "Cuando se encuentre se deben rellenar un array con las horas (desde 0 en adelante, \n",
    "    hasta el último valor acompañado de 'V') y otro array con los valores asociados. Con estos dos arrays, ambos con datos numéricos y de la misma longtud, podemos llamar a plot, tal y como muestra el código.\n",
    "    \n",
    "Nota: recordar que la hora 0 empieza en la columna 9 (contando desde 0), que la columna 10 nos dice si la 9 es válida, etc."
   ]
  },
  {
   "cell_type": "code",
   "execution_count": 25,
   "metadata": {},
   "outputs": [
    {
     "data": {
      "image/png": "[encoded data removed]",
      "text/plain": [
       "<matplotlib.figure.Figure at 0x1b5361b0eb8>"
      ]
     },
     "metadata": {},
     "output_type": "display_data"
    }
   ],
   "source": [
    "import matplotlib.pyplot as plt\n",
    "xs = [] # array de horas\n",
    "ys = [] # array de valores asociados a cada hora\n",
    "\n",
    "with open(path) as csvfile:\n",
    "    readCSV = list(csv.reader(csvfile, delimiter=','))\n",
    "    found = False\n",
    "    i = 0\n",
    "    while not found:\n",
    "        row = readCSV[i]\n",
    "        i += 1\n",
    "        a = ''\n",
    "        for i in range(6):\n",
    "            a+=row[i]\n",
    "        \n",
    "        if a=='28079004013802':\n",
    "            index = 9\n",
    "            hora = 0            \n",
    "            found = True\n",
    "            while hora<=23 and row[index+1]=='V':\n",
    "                xs.append( hora)\n",
    "                ys.append(int(row[index]))\n",
    "                index += 2\n",
    "                hora += 1\n",
    "\n",
    "\n",
    "\n",
    "plt.plot(xs, ys)\n",
    "plt.show()"
   ]
  },
  {
   "cell_type": "code",
   "execution_count": null,
   "metadata": {
    "collapsed": true
   },
   "outputs": [],
   "source": []
  }
 ],
 "metadata": {
  "kernelspec": {
   "display_name": "Python 3",
   "language": "python",
   "name": "python3"
  },
  "language_info": {
   "codemirror_mode": {
    "name": "ipython",
    "version": 3
   },
   "file_extension": ".py",
   "mimetype": "text/x-python",
   "name": "python",
   "nbconvert_exporter": "python",
   "pygments_lexer": "ipython3",
   "version": "3.6.3"
  }
 },
 "nbformat": 4,
 "nbformat_minor": 2
}
