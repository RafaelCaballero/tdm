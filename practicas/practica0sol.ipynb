{
 "cells": [
  {
   "cell_type": "markdown",
   "metadata": {},
   "source": [
    "# Tratamiento de datos masivos \n",
    "## Práctica 1: Introducción a Python\n",
    "### por Rafa Caballero (Facultad de Informática - UCM)\n",
    "\n",
    "\n",
    "\n",
    "Por favor, no olvides escribir aquí tu nombre y el número de puesto"
   ]
  },
  {
   "cell_type": "markdown",
   "metadata": {},
   "source": [
    "Nombre:                 Puesto:"
   ]
  },
  {
   "cell_type": "markdown",
   "metadata": {},
   "source": [
    "**Intrucciones**\n",
    "\n",
    "* Completa las casillas indicadas \n",
    "* Cuando hayas terminado selecciona *File* + *Download as* + *Notebook* (.ipynb)\n",
    "* Grabar el fichero en el disco (por ejemplo en la carpeta c:\\hlocal) con nombre *NombreDelEstudiante.ipynb*\n",
    "* Finalmente subir este fichero al *Campus Virtual*."
   ]
  },
  {
   "cell_type": "markdown",
   "metadata": {},
   "source": [
    "**1.** Escribir una expresión que muestre el primer y el último elemento de una lista a.\n",
    "\n",
    "**Nota:** el código debe funcionar para cuaquier lista no vacía\n",
    "\n",
    "Ejemplo: para la lista *a* del ejemplo mostrará *1 7*"
   ]
  },
  {
   "cell_type": "code",
   "execution_count": 38,
   "metadata": {
    "collapsed": true
   },
   "outputs": [],
   "source": [
    "a = [1,2,3,4,5,6,7] "
   ]
  },
  {
   "cell_type": "code",
   "execution_count": 39,
   "metadata": {},
   "outputs": [
    {
     "name": "stdout",
     "output_type": "stream",
     "text": [
      "1 7\n"
     ]
    }
   ],
   "source": [
    "# Solución\n",
    "print(a[0],a[-1])"
   ]
  },
  {
   "cell_type": "markdown",
   "metadata": {},
   "source": [
    "** 2. ** Sabiendo que la lista *b* tiene al menos 8 elementos, escribir una expresión que devuelva la concatenación de los elementos que ocupan las posiciones [1,2,3,4] y [6,7]  (recordad que la primera posición es la 0).\n",
    "\n",
    "Por ejemplo, para la lista b siguiente tendremos como salida: *['b', 'c', 'd', 'e', 'g', 'h']*\n",
    "\n",
    "*Nota*: No se puede hacer accediendo a todos los elementos uno a uno (es decir con 6 accesos individuales)."
   ]
  },
  {
   "cell_type": "code",
   "execution_count": 35,
   "metadata": {
    "collapsed": true
   },
   "outputs": [],
   "source": [
    "b = ['a','b','c','d','e','f','g','h']"
   ]
  },
  {
   "cell_type": "code",
   "execution_count": 37,
   "metadata": {},
   "outputs": [
    {
     "name": "stdout",
     "output_type": "stream",
     "text": [
      "['b', 'c', 'd', 'e', 'g', 'h']\n"
     ]
    }
   ],
   "source": [
    "# Solución\n",
    "print(b[1:5]+b[6:8])"
   ]
  },
  {
   "cell_type": "markdown",
   "metadata": {},
   "source": [
    "**3.** EScribir un programa que lea una frase introducida por teclado por el usuario y cambie todas las letras 'a' por 'o'.\n",
    "\n",
    "Ejemplo:\n",
    "``` [Python]\n",
    "Dime algo: abracadabra\n",
    "obrocodobro\n",
    "```\n"
   ]
  },
  {
   "cell_type": "code",
   "execution_count": 43,
   "metadata": {},
   "outputs": [
    {
     "name": "stdout",
     "output_type": "stream",
     "text": [
      "Dime algo: abracadabra\n",
      "obrocodobro\n"
     ]
    }
   ],
   "source": [
    "# Solución\n",
    "x = input('Dime algo: ')\n",
    "print(x.replace('a','o'))"
   ]
  },
  {
   "cell_type": "markdown",
   "metadata": {},
   "source": [
    "**4.** Escribir un programa que lea una frase del teclado y cuente el número de palabras. Consideramos que cada dos palabras vienen separados por un espacio.\n",
    "\n",
    "Ejemplo\n",
    "``` [Python]\n",
    "Dime una frase: esta frase tiene cinco palabras\n",
    "5\n",
    "```"
   ]
  },
  {
   "cell_type": "code",
   "execution_count": 45,
   "metadata": {},
   "outputs": [
    {
     "name": "stdout",
     "output_type": "stream",
     "text": [
      "Dime una frase: esta frase tiene cinco palabras\n",
      "5\n"
     ]
    }
   ],
   "source": [
    "x = input('Dime una frase: ')\n",
    "print(len(x.split(' ')))"
   ]
  },
  {
   "cell_type": "markdown",
   "metadata": {},
   "source": [
    "** 5. ** Escribir una instrucción print que muestre el texto en x a partir de la primera coma en adelante. Con el valor x del ejemplo, la salida ser * ingrávidos y gentiles, como pompas de jabón*\n",
    "\n",
    "Notas:\n",
    "* No alterar x, escribir tras el comentario *Solución*\n",
    "* Se puede suponer que la cadena en x contiene al menos una coma."
   ]
  },
  {
   "cell_type": "code",
   "execution_count": 49,
   "metadata": {},
   "outputs": [
    {
     "name": "stdout",
     "output_type": "stream",
     "text": [
      " ingrávidos y gentiles, como pompas de jabón\n"
     ]
    }
   ],
   "source": [
    "x = \"yo amo los mundos sutiles, ingrávidos y gentiles, como pompas de jabón\"\n",
    "# Solución\n",
    "p = x.find(',')\n",
    "print(x[p+1:])"
   ]
  },
  {
   "cell_type": "markdown",
   "metadata": {},
   "source": [
    "** 6. ** Definir una variable y que contenga una copia de x. La salida esperada es:\n",
    "\n",
    "``` [Python]\n",
    "['s', 'e', 'n', 'o', 'i', 'c', 'u', 'l', 'o', 's']\n",
    "['s', 'o', 'l', 'u', 'c', 'i', 'o', 'n', 'e', 's']\n",
    "```\n",
    "\n",
    "Nota: No alterar el resto de las instrucciones, solo la que sigue al comentario"
   ]
  },
  {
   "cell_type": "code",
   "execution_count": 72,
   "metadata": {},
   "outputs": [
    {
     "name": "stdout",
     "output_type": "stream",
     "text": [
      "['s', 'e', 'n', 'o', 'i', 'c', 'u', 'l', 'o', 's']\n",
      "['s', 'o', 'l', 'u', 'c', 'i', 'o', 'n', 'e', 's']\n"
     ]
    }
   ],
   "source": [
    "# no cambiar\n",
    "x = list(\"soluciones\")\n",
    "\n",
    "# Solución\n",
    "y = x[:]\n",
    "\n",
    "# no cambiar\n",
    "x.reverse()\n",
    "print(x)\n",
    "print(y)"
   ]
  },
  {
   "cell_type": "markdown",
   "metadata": {},
   "source": [
    "** 7. ** Ordenar la lista p por longitud de las palabras, de mayor a menor"
   ]
  },
  {
   "cell_type": "code",
   "execution_count": 74,
   "metadata": {},
   "outputs": [
    {
     "name": "stdout",
     "output_type": "stream",
     "text": [
      "['zarzalejo', 'toribio', 'ana']\n"
     ]
    }
   ],
   "source": [
    "p = ['toribio', 'zarzalejo','ana']\n",
    "# Solución\n",
    "p.sort(key=len,reverse=True)\n",
    "print(p)"
   ]
  },
  {
   "cell_type": "markdown",
   "metadata": {},
   "source": [
    "** 8. ** Devolver la posición del penúltimo 5 en la lista *y*. La lista no debe modificarse\n",
    "\n",
    "Nota: se puede asumir que y tiene al menos dos valores 5."
   ]
  },
  {
   "cell_type": "code",
   "execution_count": 77,
   "metadata": {},
   "outputs": [
    {
     "name": "stdout",
     "output_type": "stream",
     "text": [
      "5\n"
     ]
    }
   ],
   "source": [
    "y = [1,2,3,4,5,6,7,5]\n",
    "# Solución\n",
    "x = y[:]\n",
    "x.reverse()\n",
    "print(len(y)-x.index(5,x.index(5)+1))"
   ]
  },
  {
   "cell_type": "markdown",
   "metadata": {},
   "source": [
    "** 9. ** Escribir una expresión que muestre el entero que equivale a la cadena 'tdm' en base 34.\n",
    "\n",
    "La salida esperada:\n",
    "``` [Python]\n",
    "    'tdm' en base 34 es:  33988\n",
    "```"
   ]
  },
  {
   "cell_type": "code",
   "execution_count": 46,
   "metadata": {},
   "outputs": [
    {
     "name": "stdout",
     "output_type": "stream",
     "text": [
      "'tdm' en base 34 es:  33988\n"
     ]
    }
   ],
   "source": [
    "#Solución\n",
    "print(\"'tdm' en base 34 es: \",int('tdm',34))"
   ]
  },
  {
   "cell_type": "markdown",
   "metadata": {},
   "source": [
    "###### 10.  (Difícil)\n",
    "Queremos escribir un código que pida dos valores booleanos True/False al usuario y devuelve el AND lógico de ambos valores. \n",
    "\n",
    "Nota: Podemos suponer que el usuario escribe los valores correctamente.\n",
    "\n",
    "Ejemplos de ejecución (en negrita los valores introducidos por el usuario):\n",
    " ``` [Python]\n",
    "Dame un valor booleano (true o false) True \n",
    "Y ahora otro False\n",
    "True  AND  False = False\n",
    "```\n",
    "\n",
    "Otro ejemplo:\n",
    "``` [Python]\n",
    "Dame un valor booleano (true o false) True\n",
    "Y ahora otro True\n",
    "True  AND  True = True\n",
    "```"
   ]
  },
  {
   "cell_type": "code",
   "execution_count": 23,
   "metadata": {},
   "outputs": [
    {
     "name": "stdout",
     "output_type": "stream",
     "text": [
      "Dame un valor booleano (true o false) True\n",
      "Y ahora otro True\n",
      "True  AND  True = True\n"
     ]
    }
   ],
   "source": [
    "a =  input(\"Dame un valor booleano (true o false) \")\n",
    "b =  input(\"Y ahora otro \")\n",
    "r = bool((a.lower()=='true')*(b.lower()=='true'))\n",
    "print(a,' AND ',b,'=', r)"
   ]
  },
  {
   "cell_type": "code",
   "execution_count": 15,
   "metadata": {},
   "outputs": [
    {
     "data": {
      "text/plain": [
       "0"
      ]
     },
     "execution_count": 15,
     "metadata": {},
     "output_type": "execute_result"
    }
   ],
   "source": [
    "True*False"
   ]
  },
  {
   "cell_type": "code",
   "execution_count": null,
   "metadata": {
    "collapsed": true
   },
   "outputs": [],
   "source": []
  }
 ],
 "metadata": {
  "kernelspec": {
   "display_name": "Python 3",
   "language": "python",
   "name": "python3"
  },
  "language_info": {
   "codemirror_mode": {
    "name": "ipython",
    "version": 3
   },
   "file_extension": ".py",
   "mimetype": "text/x-python",
   "name": "python",
   "nbconvert_exporter": "python",
   "pygments_lexer": "ipython3",
   "version": "3.6.3"
  }
 },
 "nbformat": 4,
 "nbformat_minor": 2
}
