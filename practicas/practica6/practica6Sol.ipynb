{
 "cells": [
  {
   "cell_type": "markdown",
   "metadata": {},
   "source": [
    "# Práctica 6\n",
    "### TDM - Máster en IoT - Rafael Caballero\n",
    "\n",
    "Vamos a trabajar con datos de las evaluaciones Pisa por páises para tres disciplinas: ciencias (SCI), lectura (REA) y matemáticas (MAT). Los datos se han obtenido de: https://www.kaggle.com/zazueta/pisa-scores-2015\n",
    "\n",
    "Por favor, empezad poniendo el nombre:"
   ]
  },
  {
   "cell_type": "code",
   "execution_count": null,
   "metadata": {
    "collapsed": true
   },
   "outputs": [],
   "source": [
    "# Nombre: "
   ]
  },
  {
   "cell_type": "markdown",
   "metadata": {},
   "source": [
    "#### Setup"
   ]
  },
  {
   "cell_type": "code",
   "execution_count": 2,
   "metadata": {},
   "outputs": [
    {
     "name": "stdout",
     "output_type": "stream",
     "text": [
      "Preparado!!\n"
     ]
    }
   ],
   "source": [
    "%matplotlib inline\n",
    "import os\n",
    "# cambiamos las variables del sistema\n",
    "spark = 'C:\\\\hlocal\\\\tdm\\\\spark\\\\hadoop\\\\spark-2.3.2-bin-hadoop2.7'\n",
    "# en el path se añade\n",
    "path = os.environ.get('PATH') \n",
    "path = path+ ';'+spark+'\\\\bin;'\n",
    "os.environ['PATH'] = path\n",
    "os.environ['SPARK_HOME']= spark \n",
    "os.environ['HADOOP_HOME']= spark \n",
    "os.environ['PYSPARK_DRIVER_PYTHON']= 'jupyter'\n",
    "os.environ['PYSPARK_DRIVER_PYTHON_OPTS']='notebook'\n",
    "\n",
    "# si da problema con collect quizás haya que poner java_home\n",
    "os.environ['JAVA_HOME']= 'C:\\\\Program Files\\\\Java\\\\jdk1.8.0_151'\n",
    "#labs = 'C:\\\\JDK\\\\jdk8-64bits'\n",
    "#os.environ['JAVA_HOME']= labs\n",
    "os.environ['PATH'] = os.environ.get('JAVA_HOME')+'\\\\bin;'+path\n",
    "\n",
    "\n",
    "import findspark\n",
    "findspark.init()\n",
    "\n",
    "import pyspark # only run after findspark.init()\n",
    "from pyspark.sql import SparkSession\n",
    "spark = SparkSession.builder.getOrCreate()\n",
    "sc = spark.sparkContext\n",
    "print(\"Preparado!!\")\n"
   ]
  },
  {
   "cell_type": "markdown",
   "metadata": {},
   "source": [
    "### Carga de datos\n",
    "*1.* Cargar el fichero 'PisaData.csv', que contiene los resultados en las pruebas Pisa por países para los años 2013,2014,2015. \n",
    "Inicialmente lo cargamos como un RDD de texto, al que llamaremos raw_data\n",
    "\n",
    "\n"
   ]
  },
  {
   "cell_type": "code",
   "execution_count": 3,
   "metadata": {},
   "outputs": [
    {
     "data": {
      "text/plain": [
       "['CountryName,CountryCode,Series Name,Code,YR2013,YR2014,YR2015',\n",
       " 'Albania,ALB,PISA: Mean performance on the mathematics scale,LO.PISA.MAT,..,..,413.157',\n",
       " 'Albania,ALB,PISA: Mean performance on the mathematics scale. Female,LO.PISA.MAT.FE,..,..,417.750029482799',\n",
       " 'Albania,ALB,PISA: Mean performance on the mathematics scale. Male,LO.PISA.MAT.MA,..,..,408.545458736189',\n",
       " 'Albania,ALB,PISA: Mean performance on the reading scale,LO.PISA.REA,..,..,405.2588']"
      ]
     },
     "execution_count": 3,
     "metadata": {},
     "output_type": "execute_result"
    }
   ],
   "source": [
    "#path = 'c:\\\\hlocal\\\\tdm\\\\PisaData.csv'\n",
    "path = 'c:\\\\hlocal\\\\tdm\\\\PisaData.csv' # cambiar si está en otro lugarç\n",
    "\n",
    "raw_data = sc.textFile(path).cache() # Un RDD de strings\n",
    "raw_data.take(5)"
   ]
  },
  {
   "cell_type": "markdown",
   "metadata": {},
   "source": [
    "### Preprocesamiento\n",
    "\n",
    "Vemos algunas valores tienen '..' en lugar de un valor numérico. Se tratan de datos *missing*, es decir no conocidos, para algún año, asignatura y país. El problema de estos datos es que impedirían inferir que los campos son de tipo numérico.  Como en todo caso solo nos interesa el año 2015, lo primero que vamos a hacer es quedarnos con las columnas que nos interesan, y luego descartar, si los hay, los valores missing. Lo hacemos por fases\n",
    "\n",
    "*2*  Utilizar una operación adecuado sobre RDDs que convierta el RDD en uno de arrays de strings, donde cada componente del array es un campo. Para ellos se debe separar cada línea por el carácter , (ver notebook SparkSQL). El resultado se llamara csv_data."
   ]
  },
  {
   "cell_type": "code",
   "execution_count": 4,
   "metadata": {},
   "outputs": [
    {
     "data": {
      "text/plain": [
       "[['CountryName',\n",
       "  'CountryCode',\n",
       "  'Series Name',\n",
       "  'Code',\n",
       "  'YR2013',\n",
       "  'YR2014',\n",
       "  'YR2015'],\n",
       " ['Albania',\n",
       "  'ALB',\n",
       "  'PISA: Mean performance on the mathematics scale',\n",
       "  'LO.PISA.MAT',\n",
       "  '..',\n",
       "  '..',\n",
       "  '413.157'],\n",
       " ['Albania',\n",
       "  'ALB',\n",
       "  'PISA: Mean performance on the mathematics scale. Female',\n",
       "  'LO.PISA.MAT.FE',\n",
       "  '..',\n",
       "  '..',\n",
       "  '417.750029482799'],\n",
       " ['Albania',\n",
       "  'ALB',\n",
       "  'PISA: Mean performance on the mathematics scale. Male',\n",
       "  'LO.PISA.MAT.MA',\n",
       "  '..',\n",
       "  '..',\n",
       "  '408.545458736189'],\n",
       " ['Albania',\n",
       "  'ALB',\n",
       "  'PISA: Mean performance on the reading scale',\n",
       "  'LO.PISA.REA',\n",
       "  '..',\n",
       "  '..',\n",
       "  '405.2588']]"
      ]
     },
     "execution_count": 4,
     "metadata": {},
     "output_type": "execute_result"
    }
   ],
   "source": [
    "# solución\n",
    "csv_data = raw_data.map(lambda l: l.split(\",\")) \n",
    "\n",
    "# para probar\n",
    "csv_data.take(5)"
   ]
  },
  {
   "cell_type": "markdown",
   "metadata": {},
   "source": [
    "**3** Solo nos interesan las columnas que ocupan las posiciones 0 (CountryName), 3 (Code) y 6 (YR2015). \n",
    "Escribir la operación sobre RDDs que crea a partir de csv_data un nuevo RDD, al que llamaremos datosRDD, que solo tiene estas columnas\n",
    "\n",
    "Pista: Dada una fila l, queremos consutruir un nuevo array con los valores l[0],l[3] y l[6]"
   ]
  },
  {
   "cell_type": "code",
   "execution_count": 5,
   "metadata": {},
   "outputs": [
    {
     "name": "stdout",
     "output_type": "stream",
     "text": [
      "1167\n"
     ]
    },
    {
     "data": {
      "text/plain": [
       "[['CountryName', 'Code', 'YR2015'],\n",
       " ['Albania', 'LO.PISA.MAT', '413.157'],\n",
       " ['Albania', 'LO.PISA.MAT.FE', '417.750029482799'],\n",
       " ['Albania', 'LO.PISA.MAT.MA', '408.545458736189'],\n",
       " ['Albania', 'LO.PISA.REA', '405.2588']]"
      ]
     },
     "execution_count": 5,
     "metadata": {},
     "output_type": "execute_result"
    }
   ],
   "source": [
    "datosRDD = csv_data.map(lambda l: [l[0],l[3],l[6]])\n",
    "\n",
    "# Para probar\n",
    "print(datosRDD.count()) # los mismos que csv_data:1167\n",
    "datosRDD.take(5)"
   ]
  },
  {
   "cell_type": "markdown",
   "metadata": {},
   "source": [
    "**4** Ahora quitamos los valores missing para la columna de índice 2. Es decir, quitamos aquellas filas cuyo valor en la columna 2 sea '..'.\n",
    "El nuevo RDD se llamará *datosRDD2*"
   ]
  },
  {
   "cell_type": "code",
   "execution_count": 6,
   "metadata": {},
   "outputs": [
    {
     "name": "stdout",
     "output_type": "stream",
     "text": [
      "582\n"
     ]
    },
    {
     "data": {
      "text/plain": [
       "[['CountryName', 'Code', 'YR2015'],\n",
       " ['Albania', 'LO.PISA.MAT', '413.157'],\n",
       " ['Albania', 'LO.PISA.MAT.FE', '417.750029482799'],\n",
       " ['Albania', 'LO.PISA.MAT.MA', '408.545458736189'],\n",
       " ['Albania', 'LO.PISA.REA', '405.2588'],\n",
       " ['Albania', 'LO.PISA.REA.FE', '434.639625546737'],\n",
       " ['Albania', 'LO.PISA.REA.MA', '375.75919916958'],\n",
       " ['Albania', 'LO.PISA.SCI', '427.225'],\n",
       " ['Albania', 'LO.PISA.SCI.FE', '439.442962901842'],\n",
       " ['Albania', 'LO.PISA.SCI.MA', '414.957643727778'],\n",
       " ['Algeria', 'LO.PISA.MAT', '359.6062']]"
      ]
     },
     "execution_count": 6,
     "metadata": {},
     "output_type": "execute_result"
    }
   ],
   "source": [
    "# 4\n",
    "datosRDD2 = datosRDD.filter(lambda l: l[2]!='..')\n",
    "print(datosRDD2.count()) # Quedan 582\n",
    "datosRDD2.take(11)"
   ]
  },
  {
   "cell_type": "code",
   "execution_count": 7,
   "metadata": {},
   "outputs": [
    {
     "data": {
      "text/plain": [
       "\"\\n# este código se encarga de trasponer los datos anteriores de forma que cada país \\n# aparezca una sola vez y tenga 10 columnas asociadas, una por medida\\nfrom itertools import islice\\n\\n# quitamos la primera fila\\nsinHeader = datosRDD2.mapPartitionsWithIndex(\\n    lambda idx, it: islice(it, 1, None) if idx == 0 else it \\n)\\n# convertimos cada uno en parejas\\nparejas = sinHeader.map(lambda l: (l[0],[l[2]]))\\nprint(parejas.take(5))\\npaises = parejas.reduceByKey(lambda a,b:[a[0]+','+b[0]]).map(lambda a:a[0]+','+a[1][0])\\npaises.take(5)\\nprint(paises.count())\\n\\nopath= 'c:\\\\hlocal\\\\tdm\\\\PisaData2.csv'\\npaises.saveAsTextFile(opath)\\n# nota, habría que añadir las cabeceras\\n\""
      ]
     },
     "execution_count": 7,
     "metadata": {},
     "output_type": "execute_result"
    }
   ],
   "source": [
    "# Ignorar, solo como curiosidad.\n",
    "'''\n",
    "# este código se encarga de trasponer los datos anteriores de forma que cada país \n",
    "# aparezca una sola vez y tenga 10 columnas asociadas, una por medida\n",
    "from itertools import islice\n",
    "\n",
    "# quitamos la primera fila\n",
    "sinHeader = datosRDD2.mapPartitionsWithIndex(\n",
    "    lambda idx, it: islice(it, 1, None) if idx == 0 else it \n",
    ")\n",
    "# convertimos cada uno en parejas\n",
    "parejas = sinHeader.map(lambda l: (l[0],[l[2]]))\n",
    "print(parejas.take(5))\n",
    "paises = parejas.reduceByKey(lambda a,b:[a[0]+','+b[0]]).map(lambda a:a[0]+','+a[1][0])\n",
    "paises.take(5)\n",
    "print(paises.count())\n",
    "\n",
    "opath= 'c:\\\\hlocal\\\\tdm\\\\PisaData2.csv'\n",
    "paises.saveAsTextFile(opath)\n",
    "# nota, habría que añadir las cabeceras\n",
    "'''"
   ]
  },
  {
   "cell_type": "code",
   "execution_count": null,
   "metadata": {
    "collapsed": true
   },
   "outputs": [],
   "source": []
  },
  {
   "cell_type": "markdown",
   "metadata": {},
   "source": [
    "### Carga de datos (2)\n",
    "\n",
    "**5.** Cargar el fichero 'PisaDataBis.csv', que contiene los resultados en las pruebas Pisa por países para 2015. Utilizar el método 'fácil' que permite leer todo el fichero como una dataframe, infiriendo el esquema. Llamar al dataframe 'datos_df'\n",
    "\n",
    "Nota: El fichero contiene cabeceras"
   ]
  },
  {
   "cell_type": "code",
   "execution_count": 8,
   "metadata": {},
   "outputs": [
    {
     "name": "stdout",
     "output_type": "stream",
     "text": [
      "64\n",
      "root\n",
      " |-- PAIS: string (nullable = true)\n",
      " |-- MAT: double (nullable = true)\n",
      " |-- MAT_FE: double (nullable = true)\n",
      " |-- MAT_MA: double (nullable = true)\n",
      " |-- REA: double (nullable = true)\n",
      " |-- REA_FE: double (nullable = true)\n",
      " |-- REA_MA: double (nullable = true)\n",
      " |-- SCI: double (nullable = true)\n",
      " |-- SCI_FE: double (nullable = true)\n",
      " |-- SCI_MA: double (nullable = true)\n",
      "\n"
     ]
    },
    {
     "data": {
      "text/plain": [
       "[Row(PAIS='Albania', MAT=413.157, MAT_FE=417.750029482799, MAT_MA=408.545458736189, REA=405.2588, REA_FE=434.639625546737, REA_MA=375.75919916958, SCI=427.225, SCI_FE=439.442962901842, SCI_MA=414.957643727778),\n",
       " Row(PAIS='Algeria', MAT=359.6062, MAT_FE=363.072479076874, MAT_MA=356.495105666181, REA=349.8593, REA_FE=366.208166798086, REA_MA=335.185435908668, SCI=375.7451, SCI_FE=383.220938935314, SCI_MA=369.035233788056),\n",
       " Row(PAIS='Argentina', MAT=409.0333, MAT_FE=400.443116055612, MAT_MA=418.388360865522, REA=425.3031, REA_FE=432.95807959441, REA_MA=416.966607209736, SCI=432.2262, SCI_FE=424.994351346692, SCI_MA=440.102029698007),\n",
       " Row(PAIS='Australia', MAT=493.8962, MAT_FE=490.985500770373, MAT_MA=496.761344887127, REA=502.9006, REA_FE=518.865799240277, REA_MA=487.18552546683, SCI=509.9939, SCI_FE=508.921647404582, SCI_MA=511.049257232073),\n",
       " Row(PAIS='Austria', MAT=496.7423, MAT_FE=483.133026052429, MAT_MA=510.098215924204, REA=484.8656, REA_FE=495.075191103096, REA_MA=474.846031609294, SCI=495.0375, SCI_FE=485.526754333789, SCI_MA=504.371197291877)]"
      ]
     },
     "execution_count": 8,
     "metadata": {},
     "output_type": "execute_result"
    }
   ],
   "source": [
    "# path = 'c:\\\\hlocal\\\\tdm\\\\PisaDataBis.csv'\n",
    "# Cambiar si el path es diferente\n",
    "path = 'c:\\\\hlocal\\\\tdm\\\\PisaDataBis.csv'\n",
    "\n",
    "# solucion; debe crear un dataframe datos\n",
    "datos_df = spark.read.format(\"com.databricks.spark.csv\")\\\n",
    "            .options(header='true', inferschema='true') \\\n",
    "            .load(path)\n",
    "\n",
    "print(datos_df.count()) # 64\n",
    "datos_df.printSchema()\n",
    "datos_df.take(5)\n"
   ]
  },
  {
   "cell_type": "markdown",
   "metadata": {},
   "source": [
    "### Estadísticas básicas\n"
   ]
  },
  {
   "cell_type": "markdown",
   "metadata": {},
   "source": [
    "**6** Dibujar el histograma correspondiente a la columna 'SCI' que da los datos globales en ciencias. Usar un gráfico de 23 barras en azul.\n"
   ]
  },
  {
   "cell_type": "code",
   "execution_count": 9,
   "metadata": {},
   "outputs": [
    {
     "data": {
      "image/png": "[encoded data removed]",
      "text/plain": [
       "<matplotlib.figure.Figure at 0x17a785e9668>"
      ]
     },
     "metadata": {},
     "output_type": "display_data"
    }
   ],
   "source": [
    "%matplotlib inline\n",
    "from pyspark_dist_explore import hist\n",
    "import matplotlib.pyplot as plt\n",
    "\n",
    "fig,ax = plt.subplots()\n",
    "col = 'SCI'\n",
    "hist(ax, datos_df.select([col]), bins = 23, color=['blue'])\n",
    "plt.xlabel(col)\n",
    "plt.show()\n"
   ]
  },
  {
   "cell_type": "markdown",
   "metadata": {},
   "source": [
    "**7** Observamos algo curioso: la gráfica parece tener varios 'picos' (¿varias normales superpuestas?). \n",
    "    Escribir una instrucción en SPARKSQL que nos devuelva un dataframe los países que están por debajo de 450. \n",
    "    El nuevo dataframe recibirá como nombre menor_df. \n",
    "    \n",
    "    Utilizar una instrucción filter de SPARK SQL, seguida de un select para tomar solo la columna país\n",
    "    \n",
    "    https://stackoverflow.com/questions/45978108/multiple-condition-filter-on-dataframe"
   ]
  },
  {
   "cell_type": "code",
   "execution_count": 10,
   "metadata": {
    "collapsed": true
   },
   "outputs": [],
   "source": [
    "# solución\n",
    "menor_df = datos_df.filter('SCI < 440').select(['PAIS','SCI'])\n",
    "\n",
    "# quitar comentario para probar\n",
    "#menor_df.show()"
   ]
  },
  {
   "cell_type": "markdown",
   "metadata": {},
   "source": [
    " **8** Número de países en los que las mujeres son peores en lectura que los hombres (REA_FE < REA_MA)\n",
    " \n",
    " Ayuda: El resultado es ¡0!"
   ]
  },
  {
   "cell_type": "code",
   "execution_count": 11,
   "metadata": {},
   "outputs": [
    {
     "data": {
      "text/plain": [
       "0"
      ]
     },
     "execution_count": 11,
     "metadata": {},
     "output_type": "execute_result"
    }
   ],
   "source": [
    "datos_df.filter('REA_FE < REA_MA').count()"
   ]
  },
  {
   "cell_type": "markdown",
   "metadata": {},
   "source": [
    "\n",
    "Vemos que corresponden a países con renta per capita no muy alta. Digamos que el histograma muestra las diferencias en renta\n",
    "\n",
    "**9**  ¿Es la correlación entre SCI (columna 7 de datos_df) y MAT (columna 1) es mayor que la correlación entre SCI y REA (columna 4)?. Mostrar ambos valores. Ayuda: Ver SparkSQL, justo antes de 'muestras'"
   ]
  },
  {
   "cell_type": "code",
   "execution_count": 12,
   "metadata": {},
   "outputs": [
    {
     "name": "stdout",
     "output_type": "stream",
     "text": [
      "corr. sci-mat:  Row(corr(SCI, MAT)=0.9744212449079869)  corr. sci-rea:  Row(corr(SCI, REA)=0.9625212644401843)\n"
     ]
    }
   ],
   "source": [
    "from pyspark.sql.functions import corr\n",
    "import math \n",
    "\n",
    "sci = 7\n",
    "mat = 1\n",
    "rea = 4\n",
    "\n",
    "sci_mat = datos_df.select(corr(datos_df.columns[sci], datos_df.columns[mat])).first()\n",
    "sci_rea = datos_df.select(corr(datos_df.columns[sci], datos_df.columns[rea])).first()\n",
    "\n",
    "print(\"corr. sci-mat: \",sci_mat,' corr. sci-rea: ',sci_rea)\n",
    "       "
   ]
  },
  {
   "cell_type": "markdown",
   "metadata": {},
   "source": [
    "**10** Queremos saber qué decil ocupa españa en ciencias (SCI). Para ello\n",
    "\n",
    "1. Obtendremos el valor de españa en ciencias\n",
    "2. Calcularemos los deciles de la columna sci con la función approxQuantile (sobre la que debemos buscar información en internet). Usar como cota del error el valor 0.\n",
    "3. Mostraremos el decil por pantalla (D1 si está en el mejor 10%, D2 si está en el top 20%, y así hasta D10 si está en el peor 10%)"
   ]
  },
  {
   "cell_type": "code",
   "execution_count": 16,
   "metadata": {},
   "outputs": [
    {
     "name": "stdout",
     "output_type": "stream",
     "text": [
      "D4\n"
     ]
    }
   ],
   "source": [
    "# solución\n",
    "\n",
    "# dato de españa\n",
    "spa = datos_df.filter(\"PAIS='Spain'\").select(['SCI']).first()[0]\n",
    "\n",
    "# deciles\n",
    "quantiles = datos_df.approxQuantile(\"SCI\", [ i*0.1 for i in range(1,10) ], 0) \n",
    "\n",
    "# buscar hueco\n",
    "i=0\n",
    "while i<=8 and quantiles[i]<spa:\n",
    "    i+=1\n",
    "print('D'+str(10-i))    "
   ]
  },
  {
   "cell_type": "code",
   "execution_count": null,
   "metadata": {
    "collapsed": true
   },
   "outputs": [],
   "source": []
  }
 ],
 "metadata": {
  "kernelspec": {
   "display_name": "Python 3",
   "language": "python",
   "name": "python3"
  },
  "language_info": {
   "codemirror_mode": {
    "name": "ipython",
    "version": 3
   },
   "file_extension": ".py",
   "mimetype": "text/x-python",
   "name": "python",
   "nbconvert_exporter": "python",
   "pygments_lexer": "ipython3",
   "version": "3.6.3"
  }
 },
 "nbformat": 4,
 "nbformat_minor": 2
}
