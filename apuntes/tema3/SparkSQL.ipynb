{
 "cells": [
  {
   "cell_type": "markdown",
   "metadata": {},
   "source": [
    "# Spark: Dataframes y Spark SQL. Estadísticas básicas\n",
    "\n",
    "Los dataframes se obtienen a partir de RDDs. \n",
    "Se pueden ver como RDDs de tipo *Row*\n",
    "\n",
    "Un ejemplo está tomado de https://www.codementor.io/jadianes/python-spark-sql-dataframes-du107w74i\n",
    "\n",
    "Muchos ejemplos de estadísticas y SparkSQL:\n",
    "\n",
    "https://github.com/databricks/Spark-The-Definitive-Guide/blob/master/code/Structured_APIs-Chapter_7_Aggregations.py"
   ]
  },
  {
   "cell_type": "code",
   "execution_count": 1,
   "metadata": {
    "collapsed": true
   },
   "outputs": [],
   "source": [
    "import os\n",
    "# cambiamos las variables del sistema\n",
    "spark = 'C:\\\\hlocal\\\\tdm\\\\spark\\\\hadoop\\\\spark-2.3.2-bin-hadoop2.7'\n",
    "# en el path se añade\n",
    "path = os.environ.get('PATH') \n",
    "path = path+ ';'+spark+'\\\\bin;'\n",
    "os.environ['PATH'] = path\n",
    "os.environ['SPARK_HOME']= spark \n",
    "os.environ['HADOOP_HOME']= spark \n",
    "os.environ['PYSPARK_DRIVER_PYTHON']= 'jupyter'\n",
    "os.environ['PYSPARK_DRIVER_PYTHON_OPTS']='notebook'\n",
    "# si da problema con collect quizás haya que poner java_home\n",
    "#other = 'C:\\\\Program Files\\\\Java\\jdk1,8.0_151'\n",
    "#os.environ['JAVA_HOME']= 'C:\\\\JDK\\\\jdk8-64bits'\n",
    "#os.environ['PATH'] = os.environ.get('JAVA_HOME')+'\\\\bin;'+path\n",
    "\n",
    "import findspark\n",
    "findspark.init()\n",
    "\n",
    "import pyspark # only run after findspark.init()\n",
    "from pyspark.sql import SparkSession\n",
    "spark = SparkSession.builder.getOrCreate()\n",
    "sc = spark.sparkContext\n",
    "\n",
    "\n",
    "\n",
    "\n"
   ]
  },
  {
   "cell_type": "code",
   "execution_count": 2,
   "metadata": {},
   "outputs": [
    {
     "data": {
      "text/plain": [
       "['0,tcp,http,SF,181,5450,0,0,0,0,0,1,0,0,0,0,0,0,0,0,0,0,8,8,0.00,0.00,0.00,0.00,1.00,0.00,0.00,9,9,1.00,0.00,0.11,0.00,0.00,0.00,0.00,0.00,normal.',\n",
       " '0,tcp,http,SF,239,486,0,0,0,0,0,1,0,0,0,0,0,0,0,0,0,0,8,8,0.00,0.00,0.00,0.00,1.00,0.00,0.00,19,19,1.00,0.00,0.05,0.00,0.00,0.00,0.00,0.00,normal.',\n",
       " '0,tcp,http,SF,235,1337,0,0,0,0,0,1,0,0,0,0,0,0,0,0,0,0,8,8,0.00,0.00,0.00,0.00,1.00,0.00,0.00,29,29,1.00,0.00,0.03,0.00,0.00,0.00,0.00,0.00,normal.',\n",
       " '0,tcp,http,SF,219,1337,0,0,0,0,0,1,0,0,0,0,0,0,0,0,0,0,6,6,0.00,0.00,0.00,0.00,1.00,0.00,0.00,39,39,1.00,0.00,0.03,0.00,0.00,0.00,0.00,0.00,normal.',\n",
       " '0,tcp,http,SF,217,2032,0,0,0,0,0,1,0,0,0,0,0,0,0,0,0,0,6,6,0.00,0.00,0.00,0.00,1.00,0.00,0.00,49,49,1.00,0.00,0.02,0.00,0.00,0.00,0.00,0.00,normal.']"
      ]
     },
     "execution_count": 2,
     "metadata": {},
     "output_type": "execute_result"
    }
   ],
   "source": [
    "import urllib\n",
    "url = \"http://kdd.ics.uci.edu/databases/kddcup99/kddcup.data_10_percent.gz\"\n",
    "path = \"c:\\\\hlocal\\\\tdm\\\\kddcup.gz\"\n",
    "f = urllib.request.urlretrieve(url,path )\n",
    "\n",
    "\n",
    "raw_data = sc.textFile(path).cache() # Un RDD de strings\n",
    "raw_data.take(5)"
   ]
  },
  {
   "cell_type": "markdown",
   "metadata": {},
   "source": [
    "Ahora pasamos de RDD a Dataframe"
   ]
  },
  {
   "cell_type": "code",
   "execution_count": 4,
   "metadata": {
    "scrolled": true
   },
   "outputs": [
    {
     "name": "stdout",
     "output_type": "stream",
     "text": [
      "+---------+--------+----+-------------+-------+---------+--------------+\n",
      "|dst_bytes|duration|flag|protocol_type|service|src_bytes|wrong_fragment|\n",
      "+---------+--------+----+-------------+-------+---------+--------------+\n",
      "|     5450|       0|  SF|          tcp|   http|      181|             0|\n",
      "|      486|       0|  SF|          tcp|   http|      239|             0|\n",
      "|     1337|       0|  SF|          tcp|   http|      235|             0|\n",
      "|     1337|       0|  SF|          tcp|   http|      219|             0|\n",
      "|     2032|       0|  SF|          tcp|   http|      217|             0|\n",
      "|     2032|       0|  SF|          tcp|   http|      217|             0|\n",
      "|     1940|       0|  SF|          tcp|   http|      212|             0|\n",
      "|     4087|       0|  SF|          tcp|   http|      159|             0|\n",
      "|      151|       0|  SF|          tcp|   http|      210|             0|\n",
      "|      786|       0|  SF|          tcp|   http|      212|             0|\n",
      "|      624|       0|  SF|          tcp|   http|      210|             0|\n",
      "|     1985|       0|  SF|          tcp|   http|      177|             0|\n",
      "|      773|       0|  SF|          tcp|   http|      222|             0|\n",
      "|     1169|       0|  SF|          tcp|   http|      256|             0|\n",
      "|      259|       0|  SF|          tcp|   http|      241|             0|\n",
      "|     1837|       0|  SF|          tcp|   http|      260|             0|\n",
      "|      261|       0|  SF|          tcp|   http|      241|             0|\n",
      "|      818|       0|  SF|          tcp|   http|      257|             0|\n",
      "|      255|       0|  SF|          tcp|   http|      233|             0|\n",
      "|      504|       0|  SF|          tcp|   http|      233|             0|\n",
      "+---------+--------+----+-------------+-------+---------+--------------+\n",
      "only showing top 20 rows\n",
      "\n"
     ]
    }
   ],
   "source": [
    "from pyspark.sql import Row\n",
    "\n",
    "csv_data = raw_data.map(lambda l: l.split(\",\"))\n",
    "row_data = csv_data.map(lambda p: Row(\n",
    "    duration=int(p[0]), \n",
    "    protocol_type=p[1],\n",
    "    service=p[2],\n",
    "    flag=p[3],\n",
    "    src_bytes=int(p[4]),\n",
    "    dst_bytes=int(p[5]),\n",
    "    wrong_fragment=int(p[7])\n",
    "    )\n",
    ")\n",
    "\n",
    "# creamos el dataframe\n",
    "interactions_df = spark.createDataFrame(row_data)\n",
    "interactions_df.registerTempTable(\"interactions\")\n",
    "\n",
    "interactions_df.show()"
   ]
  },
  {
   "cell_type": "code",
   "execution_count": 3,
   "metadata": {
    "scrolled": true
   },
   "outputs": [],
   "source": [
    "# Si el fichero tiene cabecera la cosa es mucho más fácil:\n",
    "# Load  data\n",
    "datos = spark.read.format(\"com.databricks.spark.csv\")\\\n",
    "            .options(header='true', inferschema='true') \\\n",
    "            .load('c:\\\\hlocal\\\\tdm\\\\escalado.csv')\n"
   ]
  },
  {
   "cell_type": "markdown",
   "metadata": {
    "collapsed": true
   },
   "source": [
    "### Estadísticas descripticas\n",
    "\n",
    "Comenzamos por ver datos básicos, como la media, desviación típica y valores máximos y mínimos"
   ]
  },
  {
   "cell_type": "code",
   "execution_count": 9,
   "metadata": {},
   "outputs": [
    {
     "data": {
      "text/html": [
       "<div>\n",
       "<style>\n",
       "    .dataframe thead tr:only-child th {\n",
       "        text-align: right;\n",
       "    }\n",
       "\n",
       "    .dataframe thead th {\n",
       "        text-align: left;\n",
       "    }\n",
       "\n",
       "    .dataframe tbody tr th {\n",
       "        vertical-align: top;\n",
       "    }\n",
       "</style>\n",
       "<table border=\"1\" class=\"dataframe\">\n",
       "  <thead>\n",
       "    <tr style=\"text-align: right;\">\n",
       "      <th></th>\n",
       "      <th>0</th>\n",
       "      <th>1</th>\n",
       "      <th>2</th>\n",
       "      <th>3</th>\n",
       "      <th>4</th>\n",
       "    </tr>\n",
       "  </thead>\n",
       "  <tbody>\n",
       "    <tr>\n",
       "      <th>summary</th>\n",
       "      <td>count</td>\n",
       "      <td>mean</td>\n",
       "      <td>stddev</td>\n",
       "      <td>min</td>\n",
       "      <td>max</td>\n",
       "    </tr>\n",
       "    <tr>\n",
       "      <th>community</th>\n",
       "      <td>806</td>\n",
       "      <td>0.31017369727047145</td>\n",
       "      <td>0.46285178084783823</td>\n",
       "      <td>0</td>\n",
       "      <td>1</td>\n",
       "    </tr>\n",
       "    <tr>\n",
       "      <th>num_conv</th>\n",
       "      <td>806</td>\n",
       "      <td>0.0496950581414392</td>\n",
       "      <td>0.09857844484103014</td>\n",
       "      <td>0.0</td>\n",
       "      <td>1.0</td>\n",
       "    </tr>\n",
       "    <tr>\n",
       "      <th>altura_media_ramas</th>\n",
       "      <td>806</td>\n",
       "      <td>0.18057369554838745</td>\n",
       "      <td>0.156900083964312</td>\n",
       "      <td>0.0</td>\n",
       "      <td>1.0</td>\n",
       "    </tr>\n",
       "    <tr>\n",
       "      <th>long_media_mensajes</th>\n",
       "      <td>806</td>\n",
       "      <td>0.029497639565756913</td>\n",
       "      <td>0.04703633613084475</td>\n",
       "      <td>0.0</td>\n",
       "      <td>1.0</td>\n",
       "    </tr>\n",
       "    <tr>\n",
       "      <th>num_conv_likes_com</th>\n",
       "      <td>806</td>\n",
       "      <td>0.5493165033287835</td>\n",
       "      <td>0.34903725950657777</td>\n",
       "      <td>0.0</td>\n",
       "      <td>1.0</td>\n",
       "    </tr>\n",
       "    <tr>\n",
       "      <th>num_conv_likes_otras</th>\n",
       "      <td>806</td>\n",
       "      <td>0.027979785642679895</td>\n",
       "      <td>0.12300045775692753</td>\n",
       "      <td>0.0</td>\n",
       "      <td>1.0</td>\n",
       "    </tr>\n",
       "    <tr>\n",
       "      <th>num_likes_com</th>\n",
       "      <td>806</td>\n",
       "      <td>0.0584554688523575</td>\n",
       "      <td>0.12000587239909087</td>\n",
       "      <td>0.0</td>\n",
       "      <td>1.354316547</td>\n",
       "    </tr>\n",
       "    <tr>\n",
       "      <th>num_likes_otra</th>\n",
       "      <td>806</td>\n",
       "      <td>0.0010860274379652592</td>\n",
       "      <td>0.004573456300625299</td>\n",
       "      <td>0.0</td>\n",
       "      <td>0.096</td>\n",
       "    </tr>\n",
       "    <tr>\n",
       "      <th>conv_insultos</th>\n",
       "      <td>806</td>\n",
       "      <td>0.052498151791563294</td>\n",
       "      <td>0.15289475311508768</td>\n",
       "      <td>0.0</td>\n",
       "      <td>1.0</td>\n",
       "    </tr>\n",
       "    <tr>\n",
       "      <th>conv_mayus</th>\n",
       "      <td>806</td>\n",
       "      <td>0.018766981095533493</td>\n",
       "      <td>0.09566110874108306</td>\n",
       "      <td>0.0</td>\n",
       "      <td>1.0</td>\n",
       "    </tr>\n",
       "    <tr>\n",
       "      <th>conv_datos</th>\n",
       "      <td>806</td>\n",
       "      <td>0.11822077064640199</td>\n",
       "      <td>0.21721542782533376</td>\n",
       "      <td>0.0</td>\n",
       "      <td>1.0</td>\n",
       "    </tr>\n",
       "    <tr>\n",
       "      <th>num_debates_com</th>\n",
       "      <td>806</td>\n",
       "      <td>0.024615301006203467</td>\n",
       "      <td>0.06897929217026952</td>\n",
       "      <td>0.0</td>\n",
       "      <td>0.666666667</td>\n",
       "    </tr>\n",
       "    <tr>\n",
       "      <th>long_media_debates_com</th>\n",
       "      <td>806</td>\n",
       "      <td>0.06652647910669973</td>\n",
       "      <td>0.13556530900455768</td>\n",
       "      <td>0.0</td>\n",
       "      <td>1.0</td>\n",
       "    </tr>\n",
       "    <tr>\n",
       "      <th>num_debates_otra</th>\n",
       "      <td>806</td>\n",
       "      <td>0.05017519627543426</td>\n",
       "      <td>0.12411566851468883</td>\n",
       "      <td>0.0</td>\n",
       "      <td>1.0</td>\n",
       "    </tr>\n",
       "    <tr>\n",
       "      <th>long_media_debates_otra</th>\n",
       "      <td>806</td>\n",
       "      <td>0.09691628773697272</td>\n",
       "      <td>0.16944051835945528</td>\n",
       "      <td>0.0</td>\n",
       "      <td>1.0</td>\n",
       "    </tr>\n",
       "    <tr>\n",
       "      <th>cont_conv_iniciadas</th>\n",
       "      <td>806</td>\n",
       "      <td>0.06129859394168685</td>\n",
       "      <td>0.1209017003372878</td>\n",
       "      <td>0.0</td>\n",
       "      <td>1.0</td>\n",
       "    </tr>\n",
       "    <tr>\n",
       "      <th>cont_conv_iniciadas_debate</th>\n",
       "      <td>806</td>\n",
       "      <td>0.06231716007568241</td>\n",
       "      <td>0.16896214958771452</td>\n",
       "      <td>0.0</td>\n",
       "      <td>1.0</td>\n",
       "    </tr>\n",
       "    <tr>\n",
       "      <th>creador_temas</th>\n",
       "      <td>806</td>\n",
       "      <td>0.6291998812717121</td>\n",
       "      <td>0.34683570237075995</td>\n",
       "      <td>0.0</td>\n",
       "      <td>1.0</td>\n",
       "    </tr>\n",
       "    <tr>\n",
       "      <th>usuarios_com_interacciona</th>\n",
       "      <td>806</td>\n",
       "      <td>0.0014447399652605438</td>\n",
       "      <td>0.004128779069191342</td>\n",
       "      <td>0.0</td>\n",
       "      <td>0.041366906</td>\n",
       "    </tr>\n",
       "    <tr>\n",
       "      <th>usuarios_otra_interacciona</th>\n",
       "      <td>806</td>\n",
       "      <td>0.0025334451910669965</td>\n",
       "      <td>0.006450923362683672</td>\n",
       "      <td>0.0</td>\n",
       "      <td>0.08</td>\n",
       "    </tr>\n",
       "  </tbody>\n",
       "</table>\n",
       "</div>"
      ],
      "text/plain": [
       "                                0                      1  \\\n",
       "summary                     count                   mean   \n",
       "community                     806    0.31017369727047145   \n",
       "num_conv                      806     0.0496950581414392   \n",
       "altura_media_ramas            806    0.18057369554838745   \n",
       "long_media_mensajes           806   0.029497639565756913   \n",
       "num_conv_likes_com            806     0.5493165033287835   \n",
       "num_conv_likes_otras          806   0.027979785642679895   \n",
       "num_likes_com                 806     0.0584554688523575   \n",
       "num_likes_otra                806  0.0010860274379652592   \n",
       "conv_insultos                 806   0.052498151791563294   \n",
       "conv_mayus                    806   0.018766981095533493   \n",
       "conv_datos                    806    0.11822077064640199   \n",
       "num_debates_com               806   0.024615301006203467   \n",
       "long_media_debates_com        806    0.06652647910669973   \n",
       "num_debates_otra              806    0.05017519627543426   \n",
       "long_media_debates_otra       806    0.09691628773697272   \n",
       "cont_conv_iniciadas           806    0.06129859394168685   \n",
       "cont_conv_iniciadas_debate    806    0.06231716007568241   \n",
       "creador_temas                 806     0.6291998812717121   \n",
       "usuarios_com_interacciona     806  0.0014447399652605438   \n",
       "usuarios_otra_interacciona    806  0.0025334451910669965   \n",
       "\n",
       "                                               2    3            4  \n",
       "summary                                   stddev  min          max  \n",
       "community                    0.46285178084783823    0            1  \n",
       "num_conv                     0.09857844484103014  0.0          1.0  \n",
       "altura_media_ramas             0.156900083964312  0.0          1.0  \n",
       "long_media_mensajes          0.04703633613084475  0.0          1.0  \n",
       "num_conv_likes_com           0.34903725950657777  0.0          1.0  \n",
       "num_conv_likes_otras         0.12300045775692753  0.0          1.0  \n",
       "num_likes_com                0.12000587239909087  0.0  1.354316547  \n",
       "num_likes_otra              0.004573456300625299  0.0        0.096  \n",
       "conv_insultos                0.15289475311508768  0.0          1.0  \n",
       "conv_mayus                   0.09566110874108306  0.0          1.0  \n",
       "conv_datos                   0.21721542782533376  0.0          1.0  \n",
       "num_debates_com              0.06897929217026952  0.0  0.666666667  \n",
       "long_media_debates_com       0.13556530900455768  0.0          1.0  \n",
       "num_debates_otra             0.12411566851468883  0.0          1.0  \n",
       "long_media_debates_otra      0.16944051835945528  0.0          1.0  \n",
       "cont_conv_iniciadas           0.1209017003372878  0.0          1.0  \n",
       "cont_conv_iniciadas_debate   0.16896214958771452  0.0          1.0  \n",
       "creador_temas                0.34683570237075995  0.0          1.0  \n",
       "usuarios_com_interacciona   0.004128779069191342  0.0  0.041366906  \n",
       "usuarios_otra_interacciona  0.006450923362683672  0.0         0.08  "
      ]
     },
     "execution_count": 9,
     "metadata": {},
     "output_type": "execute_result"
    }
   ],
   "source": [
    "datos.describe().toPandas().transpose()"
   ]
  },
  {
   "cell_type": "code",
   "execution_count": 10,
   "metadata": {},
   "outputs": [
    {
     "data": {
      "text/html": [
       "<div>\n",
       "<style>\n",
       "    .dataframe thead tr:only-child th {\n",
       "        text-align: right;\n",
       "    }\n",
       "\n",
       "    .dataframe thead th {\n",
       "        text-align: left;\n",
       "    }\n",
       "\n",
       "    .dataframe tbody tr th {\n",
       "        vertical-align: top;\n",
       "    }\n",
       "</style>\n",
       "<table border=\"1\" class=\"dataframe\">\n",
       "  <thead>\n",
       "    <tr style=\"text-align: right;\">\n",
       "      <th></th>\n",
       "      <th>0</th>\n",
       "      <th>1</th>\n",
       "      <th>2</th>\n",
       "      <th>3</th>\n",
       "      <th>4</th>\n",
       "    </tr>\n",
       "  </thead>\n",
       "  <tbody>\n",
       "    <tr>\n",
       "      <th>summary</th>\n",
       "      <td>count</td>\n",
       "      <td>mean</td>\n",
       "      <td>stddev</td>\n",
       "      <td>min</td>\n",
       "      <td>max</td>\n",
       "    </tr>\n",
       "    <tr>\n",
       "      <th>dst_bytes</th>\n",
       "      <td>494021</td>\n",
       "      <td>868.5324247349809</td>\n",
       "      <td>33040.00125210252</td>\n",
       "      <td>0</td>\n",
       "      <td>5155468</td>\n",
       "    </tr>\n",
       "    <tr>\n",
       "      <th>duration</th>\n",
       "      <td>494021</td>\n",
       "      <td>47.97930249928647</td>\n",
       "      <td>707.7464723053699</td>\n",
       "      <td>0</td>\n",
       "      <td>58329</td>\n",
       "    </tr>\n",
       "    <tr>\n",
       "      <th>flag</th>\n",
       "      <td>494021</td>\n",
       "      <td>None</td>\n",
       "      <td>None</td>\n",
       "      <td>OTH</td>\n",
       "      <td>SH</td>\n",
       "    </tr>\n",
       "    <tr>\n",
       "      <th>protocol_type</th>\n",
       "      <td>494021</td>\n",
       "      <td>None</td>\n",
       "      <td>None</td>\n",
       "      <td>icmp</td>\n",
       "      <td>udp</td>\n",
       "    </tr>\n",
       "    <tr>\n",
       "      <th>service</th>\n",
       "      <td>494021</td>\n",
       "      <td>None</td>\n",
       "      <td>None</td>\n",
       "      <td>IRC</td>\n",
       "      <td>whois</td>\n",
       "    </tr>\n",
       "    <tr>\n",
       "      <th>src_bytes</th>\n",
       "      <td>494021</td>\n",
       "      <td>3025.6102959185946</td>\n",
       "      <td>988218.1010504081</td>\n",
       "      <td>0</td>\n",
       "      <td>693375640</td>\n",
       "    </tr>\n",
       "    <tr>\n",
       "      <th>wrong_fragment</th>\n",
       "      <td>494021</td>\n",
       "      <td>0.0064329249161472896</td>\n",
       "      <td>0.13480524800509122</td>\n",
       "      <td>0</td>\n",
       "      <td>3</td>\n",
       "    </tr>\n",
       "  </tbody>\n",
       "</table>\n",
       "</div>"
      ],
      "text/plain": [
       "                     0                      1                    2     3  \\\n",
       "summary          count                   mean               stddev   min   \n",
       "dst_bytes       494021      868.5324247349809    33040.00125210252     0   \n",
       "duration        494021      47.97930249928647    707.7464723053699     0   \n",
       "flag            494021                   None                 None   OTH   \n",
       "protocol_type   494021                   None                 None  icmp   \n",
       "service         494021                   None                 None   IRC   \n",
       "src_bytes       494021     3025.6102959185946    988218.1010504081     0   \n",
       "wrong_fragment  494021  0.0064329249161472896  0.13480524800509122     0   \n",
       "\n",
       "                        4  \n",
       "summary               max  \n",
       "dst_bytes         5155468  \n",
       "duration            58329  \n",
       "flag                   SH  \n",
       "protocol_type         udp  \n",
       "service             whois  \n",
       "src_bytes       693375640  \n",
       "wrong_fragment          3  "
      ]
     },
     "execution_count": 10,
     "metadata": {},
     "output_type": "execute_result"
    }
   ],
   "source": [
    "interactions_df.describe().toPandas().transpose()"
   ]
  },
  {
   "cell_type": "markdown",
   "metadata": {},
   "source": [
    "Los histogramas pueden ayudar a entender mejor los datos. Se hacen para cada variable por separado"
   ]
  },
  {
   "cell_type": "code",
   "execution_count": 72,
   "metadata": {},
   "outputs": [
    {
     "data": {
      "image/png": "[encoded data removed]",
      "text/plain": [
       "<matplotlib.figure.Figure at 0x1779178a358>"
      ]
     },
     "metadata": {},
     "output_type": "display_data"
    }
   ],
   "source": [
    "from pyspark_dist_explore import hist\n",
    "import matplotlib.pyplot as plt\n",
    "\n",
    "fig,ax = plt.subplots()\n",
    "col = 'long_media_mensajes'\n",
    "hist(ax, datos.select([col]), bins = 20, color=['red'])\n",
    "plt.xlabel(col)\n",
    "plt.show()"
   ]
  },
  {
   "cell_type": "markdown",
   "metadata": {},
   "source": [
    "En ocasiones se entiende mejor si se aplica alguna función. En este caso tiene un tipo exponencial, \n",
    "así que parece que un logaritmo nos puede ayudar a entender mejor el dato"
   ]
  },
  {
   "cell_type": "code",
   "execution_count": 73,
   "metadata": {},
   "outputs": [
    {
     "data": {
      "image/png": "[encoded data removed]",
      "text/plain": [
       "<matplotlib.figure.Figure at 0x177916f0c50>"
      ]
     },
     "metadata": {},
     "output_type": "display_data"
    }
   ],
   "source": [
    "import math\n",
    "\n",
    "# devuelve un valor tipo Row con el logaritmo del valor\n",
    "def applyLog(x):\n",
    "    if x[0]==0:\n",
    "        v=0\n",
    "    else:\n",
    "        v=math.log(x[0])\n",
    "    return Row(lx=v)\n",
    "\n",
    "\n",
    "\n",
    "fig,ax = plt.subplots()\n",
    "col = 'long_media_mensajes'\n",
    "d = spark.createDataFrame(datos.select([col]).rdd.map(applyLog))\n",
    "hist(ax, d, bins = 20, color=['blue'])\n",
    "plt.xlabel('log('+col+')')\n",
    "plt.show()"
   ]
  },
  {
   "cell_type": "markdown",
   "metadata": {},
   "source": [
    "Parece una normal muy abultada. Para comprobarlo podemos acceder a dos parámetros tipicos, curtosis y asimetría:\n",
    "\n",
    "https://support.minitab.com/es-mx/minitab/18/help-and-how-to/statistics/basic-statistics/supporting-topics/data-concepts/how-skewness-and-kurtosis-affect-your-distribution/\n"
   ]
  },
  {
   "cell_type": "code",
   "execution_count": 39,
   "metadata": {},
   "outputs": [
    {
     "name": "stdout",
     "output_type": "stream",
     "text": [
      "+------------------+------------------+\n",
      "|      skewness(lx)|      kurtosis(lx)|\n",
      "+------------------+------------------+\n",
      "|0.4640675144935896|1.5161333411382607|\n",
      "+------------------+------------------+\n",
      "\n"
     ]
    }
   ],
   "source": [
    "from pyspark.sql.functions import skewness, kurtosis\n",
    "d.select(skewness(\"lx\"), kurtosis(\"lx\")).show()"
   ]
  },
  {
   "cell_type": "markdown",
   "metadata": {},
   "source": [
    "Esto indica que tenemos asimetría positiva y leptocúrtica (apuntada). Para ver como son estos valores para una distribución normal:"
   ]
  },
  {
   "cell_type": "code",
   "execution_count": 62,
   "metadata": {},
   "outputs": [
    {
     "data": {
      "image/png": "[encoded data removed]",
      "text/plain": [
       "<matplotlib.figure.Figure at 0x177913d8f60>"
      ]
     },
     "metadata": {},
     "output_type": "display_data"
    },
    {
     "name": "stdout",
     "output_type": "stream",
     "text": [
      "+--------------------+--------------------+\n",
      "|    skewness(normal)|    kurtosis(normal)|\n",
      "+--------------------+--------------------+\n",
      "|0.004527794849760889|-0.02049550299366...|\n",
      "+--------------------+--------------------+\n",
      "\n"
     ]
    }
   ],
   "source": [
    "from pyspark.sql.functions import rand, randn\n",
    "\n",
    "d2 = d.select(randn(seed=23).alias(\"normal\"))\n",
    "\n",
    "fig,ax = plt.subplots()\n",
    "col = 'normal'\n",
    "hist(ax, d2.select([col]), bins = 20, color=['red'])\n",
    "plt.xlabel(col)\n",
    "plt.show()\n",
    "\n",
    "d2.select(skewness(\"normal\"), kurtosis(\"normal\")).show()"
   ]
  },
  {
   "cell_type": "code",
   "execution_count": 52,
   "metadata": {},
   "outputs": [
    {
     "name": "stdout",
     "output_type": "stream",
     "text": [
      "+----------------------------------+\n",
      "|corr(num_likes_com, conv_insultos)|\n",
      "+----------------------------------+\n",
      "|              -0.01645181141067...|\n",
      "+----------------------------------+\n",
      "\n"
     ]
    }
   ],
   "source": [
    "from pyspark.sql.functions import corr\n",
    "datos.select(corr(\"num_likes_com\", \"conv_insultos\")).show()"
   ]
  },
  {
   "cell_type": "code",
   "execution_count": 61,
   "metadata": {},
   "outputs": [
    {
     "name": "stdout",
     "output_type": "stream",
     "text": [
      "Row(corr(num_conv, num_likes_com)=0.9314729766211521)\n",
      "Row(corr(num_conv, cont_conv_iniciadas)=0.900969418725643)\n",
      "Row(corr(num_conv, usuarios_otra_interacciona)=0.734191208690115)\n",
      "Row(corr(num_likes_com, cont_conv_iniciadas)=0.8734680477834502)\n",
      "Row(corr(long_media_debates_com, long_media_debates_otra)=0.6542221455837354)\n"
     ]
    }
   ],
   "source": [
    "for i in range(len(datos.columns)):\n",
    "    for j in range(len(datos.columns)):\n",
    "        c = datos.select(corr(datos.columns[i], datos.columns[j])).first()\n",
    "        if math.fabs(c[0])>0.65 and i<j:\n",
    "            print(c)"
   ]
  },
  {
   "cell_type": "markdown",
   "metadata": {},
   "source": [
    "### Muestras\n",
    "\n",
    "Nos interesa representar gráficamente la relación entre *long_media_debates_com* y *long_media_debates_otra*. Sin embargo, en un entorno big data no tiene sentido mostrar todos los puntos. En lugar de eso tomamos una muestra aleatoria. Para ello usaremos *sample*, que recibe tres parámetros:\n",
    "\n",
    "\n",
    "    * withReplacement = True o False según se desee una muestra con o sin reemplazamiento.\n",
    "    * fraction, valor entre 0 y uno con la proporción de la población a seleccionar. \n",
    "    * seed : semilla aleatorio si se quiere que el resultado sea reproducible \n",
    "\n"
   ]
  },
  {
   "cell_type": "code",
   "execution_count": 91,
   "metadata": {},
   "outputs": [
    {
     "data": {
      "image/png": "[encoded data removed]",
      "text/plain": [
       "<matplotlib.figure.Figure at 0x1779170b780>"
      ]
     },
     "metadata": {},
     "output_type": "display_data"
    }
   ],
   "source": [
    "n = datos.count()\n",
    "campos = ['long_media_debates_com','long_media_debates_otra']\n",
    "d = datos.select(campos).sort(campos[0])\n",
    "puntos = 100 # cuántos puntos deseamos\n",
    "if n<puntos:\n",
    "    p = 1 # seleccionar todos\n",
    "else:\n",
    "    p = puntos / n\n",
    "puntos = d.sample(False,p).collect()\n",
    "\n",
    "# mostrar\n",
    "plt.scatter(list(map(lambda x:x[0],puntos)),list(map(lambda x:x[1],puntos)), color='darkgreen', label=campos[0])\n",
    "#plt.scatter(list(map(lambda x:x[1],puntos)), color='darkred', label=campos[1])\n",
    "plt.show()\n"
   ]
  },
  {
   "cell_type": "markdown",
   "metadata": {},
   "source": [
    "Los valores 0 \"molestan\". ¿Podriamos quitarlos? ¿Antes o después del *sample*?"
   ]
  },
  {
   "cell_type": "code",
   "execution_count": null,
   "metadata": {
    "collapsed": true
   },
   "outputs": [],
   "source": []
  },
  {
   "cell_type": "code",
   "execution_count": null,
   "metadata": {
    "collapsed": true
   },
   "outputs": [],
   "source": []
  }
 ],
 "metadata": {
  "kernelspec": {
   "display_name": "Python 3",
   "language": "python",
   "name": "python3"
  },
  "language_info": {
   "codemirror_mode": {
    "name": "ipython",
    "version": 3
   },
   "file_extension": ".py",
   "mimetype": "text/x-python",
   "name": "python",
   "nbconvert_exporter": "python",
   "pygments_lexer": "ipython3",
   "version": "3.6.3"
  }
 },
 "nbformat": 4,
 "nbformat_minor": 2
}
