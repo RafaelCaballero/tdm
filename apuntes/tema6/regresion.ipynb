{
 "cells": [
  {
   "cell_type": "markdown",
   "metadata": {},
   "source": [
    "# Regresión en Spark con Python\n",
    "\n",
    "## Tratamiento de datos masivos - Rafael Caballero\n",
    "\n",
    "\n",
    "\n",
    "### Introducción\n",
    "La **regresión** es una técnica de aprendizaje automático supervisado, que busca relacionar una variable *y* con un vector de variables *X*. En particular, se busca una **función de regresión** que, dados unos valores para los parámetros de entrada *X*, sea capaz de calcular el valor *y* con el menor error posible. \n",
    "\n",
    "Hay varios tipos, según la forma de la función:\n",
    "\n",
    "* Regresión lineal: se asume que la variable y, de tipo continuo o con una gran cantidad de valores discretos se puede calcular a partir de X mediante la ecuación de una línea recta.\n",
    "\n",
    "* Regresión logística: se asume que la variable y solo puede tomar dos valores (variable dicotómica o *dummy*). En este sentido se puede considerar un *método de clasificación*. En regresión logística se supone que a partir de determinados valores de X la y cambia de 0 a 1.\n",
    "\n",
    "* Regresión de Poisson: la variable y sigue una distribución de Poisson, en particular se asume que el logaritmo de y sigue una regresión lineal con respecto a X. La distribución de Poisson es útil para modelar el número de veces que ocurre fenómenos que suceden de forma independiente en un cierto intervalo de tiempo, como por ejemplo el número de llamadas en call center por hora.\n",
    "\n",
    "* Regresión lineal generalizada: es un modelo que intenta reunir las 3 anteriores (y otras), y está incluido en Spark. Incluye una \"familia\" de funciones que puede ser \"gaussian\", \"binomial\", \"poisson\", \"gamma\" y \"tweedie\". A su vez cada miembro de la familia tiene funciones link que especifican la relación entre la variable dependiente y el resto. Más detalles [aquí](http://spark.apache.org/docs/2.2.2/api/java/org/apache/spark/ml/regression/GeneralizedLinearRegression.html)\n",
    "\n",
    "* Otros métodos: basados en árboles de decisión, en métodos de incremento de gradiente...\n",
    "\n",
    "### Aprendizaje en Spark. Esquema general.\n",
    "\n",
    "Como veremos el método es el mismo en todos los métodos. Una vez preparados los datos:\n",
    "\n",
    "1.- Preparar el regresor/clasificador.\n",
    "\n",
    "2.- Aplicarlo con *fit* al conjunto de entrenamiento, lo que genera un modelo.\n",
    "\n",
    "3.- Aplicar el modelo al conjunto que queramos con *transform*.\n",
    "\n",
    "### Ajuste de hiperparámetros\n",
    "\n",
    "En el paso 1 le daremos valor a distintos hiperparámetros que ajustan el método. Cada método tiene sus propios hiperparámetros. Sin embargo podemos commentar algunos de los más comunes:\n",
    "\n",
    "* maxIter : casi todos los métodos proceden de forma iterativa, generando mejores resultados para el conjunto de entrenamiento, aunque un número demasiado elevado puede provocar que se tarde demasiado y que además haya sobreajuste\n",
    "\n",
    "* regParam: Destinado a evitar el sobreajuste. Básicamente da cierto margen al método para que admite mayores errores sin tener que adaptarse demasiado a los valores de entrenamiento. Valores como 0.1, 0.2 o 0.3 son habituales.\n",
    "\n",
    "* elasticNetParam: propio de Spark; combina dos formas de regularización (L1 y L2) y este parámetro indica qué peso se le da a cada una. [Aquí](https://spark.apache.org/docs/2.3.2/mllib-linear-methods.html) se puede leer más información sobre este tema.\n",
    "\n",
    "Para obtener los mejores parámetros se utiliza la técnica de *búsqueda en rejilla* sobre la que podemos leer más [aquí](https://spark.apache.org/docs/2.2.0/ml-tuning.html) para el caso de Spark, y [aquí] una discusión general sobre optimización de hiperparámetros.\n",
    "\n",
    "\n",
    "### Medida del error\n",
    "\n",
    "Para medir el error, el paso 3. se aplicará al conjunto de test, y se usará alguna medida de error. Las más usuales en el caso de regresión:\n",
    "\n",
    "\n",
    "**Coeficiente de correlación r^2**: Solo tiene sentido para regresión lineal. Si la regresión es lineal el valor r^2 (coeficiente de correlación) es un buen indicador, cuanto más cercano a uno mejor será la aproximación.\n",
    "\n",
    "**Error absoluto medio  (MAE)**: Da una idea de los residuos esperables. Sigue la fórmula:\n",
    "\n",
    "![MAE.png](https://i.imgur.com/BmBC8VW.jpg)\n",
    "\n",
    "Un valor de 0 significa que no hay error. No da importancia a los outliers.\n",
    "\n",
    "**Error cuadrático medio(MSE)**\n",
    "\n",
    "Sigue la fórmula: \n",
    "![MSE.png](https://i.imgur.com/vB3UAiH.jpg)\n",
    "\n",
    "da importancia a los outliers\n",
    "\n",
    "**Raíz del error cuadrático medio (RMSE)**: igual que el anterior pero con la ventaja de que tiene las mismas unidades que los valores originales.\n",
    "\n",
    "[Referencia](https://www.dataquest.io/blog/understanding-regression-error-metrics/)\n"
   ]
  },
  {
   "cell_type": "markdown",
   "metadata": {},
   "source": [
    "### setup"
   ]
  },
  {
   "cell_type": "code",
   "execution_count": 3,
   "metadata": {},
   "outputs": [
    {
     "name": "stdout",
     "output_type": "stream",
     "text": [
      "Preparado!!\n"
     ]
    }
   ],
   "source": [
    "%matplotlib inline\n",
    "import os\n",
    "# cambiamos las variables del sistema\n",
    "spark = 'C:\\\\hlocal\\\\tdm\\\\spark\\\\hadoop\\\\spark-2.3.2-bin-hadoop2.7'\n",
    "# en el path se añade\n",
    "path = os.environ.get('PATH') \n",
    "path = path+ ';'+spark+'\\\\bin;'\n",
    "os.environ['PATH'] = path\n",
    "os.environ['SPARK_HOME']= spark \n",
    "os.environ['HADOOP_HOME']= spark \n",
    "os.environ['PYSPARK_DRIVER_PYTHON']= 'jupyter'\n",
    "os.environ['PYSPARK_DRIVER_PYTHON_OPTS']='notebook'\n",
    "\n",
    "# si da problema con collect quizás haya que poner java_home\n",
    "os.environ['JAVA_HOME']= 'C:\\\\Program Files\\\\Java\\\\jdk1.8.0_151'\n",
    "#labs = 'C:\\\\JDK\\\\jdk8-64bits'\n",
    "#os.environ['JAVA_HOME']= labs\n",
    "os.environ['PATH'] = os.environ.get('JAVA_HOME')+'\\\\bin;'+path\n",
    "\n",
    "\n",
    "import findspark\n",
    "findspark.init()\n",
    "\n",
    "import pyspark # only run after findspark.init()\n",
    "from pyspark.sql import SparkSession\n",
    "spark = SparkSession.builder.getOrCreate()\n",
    "sc = spark.sparkContext\n",
    "print(\"Preparado!!\")\n"
   ]
  },
  {
   "cell_type": "code",
   "execution_count": 77,
   "metadata": {},
   "outputs": [],
   "source": [
    "import numpy as np\n",
    "\n",
    "# #############################################################################\n",
    "# Datos de prueba\n",
    "puntos = 400\n",
    "X = np.sort(5 * np.random.rand(puntos, 1), axis=0).ravel()\n",
    "pendiente = 10\n",
    "intercep = 2\n",
    "y = X*pendiente+intercep\n",
    "\n",
    "# para la gráfica\n",
    "etiq = 'X*'+str(pendiente)+'+'+str(intercep)\n"
   ]
  },
  {
   "cell_type": "code",
   "execution_count": 78,
   "metadata": {},
   "outputs": [],
   "source": [
    "##  Otros datos de prueba; función seno\n",
    "y = 2*np.sin(X*X)\n",
    "etiq = \"2 sen (X^2)\""
   ]
  },
  {
   "cell_type": "code",
   "execution_count": 79,
   "metadata": {},
   "outputs": [
    {
     "name": "stdout",
     "output_type": "stream",
     "text": [
      "200\n"
     ]
    }
   ],
   "source": [
    "## y aun otros\n",
    "mitad = len(X)//2\n",
    "print(mitad)\n",
    "y = [ int(x>mitad) for x in range(len(X))]\n",
    "etiq = \"x>\"+str(mitad)"
   ]
  },
  {
   "cell_type": "markdown",
   "metadata": {},
   "source": [
    "Mostramos la gráfica de la función elegida"
   ]
  },
  {
   "cell_type": "code",
   "execution_count": 80,
   "metadata": {},
   "outputs": [
    {
     "name": "stdout",
     "output_type": "stream",
     "text": [
      "400 400\n"
     ]
    },
    {
     "data": {
      "image/png": "[encoded data removed]",
      "text/plain": [
       "<matplotlib.figure.Figure at 0x243006a3278>"
      ]
     },
     "metadata": {},
     "output_type": "display_data"
    }
   ],
   "source": [
    "import matplotlib.pyplot as plt\n",
    "# ruido en uno de cada s valores        \n",
    "s = 10\n",
    "y[::s] += 2 * (0.5 - np.random.rand(puntos//s))\n",
    "\n",
    "# en el caso de  regresión logística tiene que ser etiqueta 1 o 0\n",
    "if etiq.startswith(\"x>\"):\n",
    "    y = [ int(v<=0) for v in y]\n",
    "\n",
    "print(len(X),len(y))\n",
    "\n",
    "# grabamos el resultado\n",
    "path = 'c:/hlocal/tdm/regresion.csv'\n",
    "with open(path,'w') as file:\n",
    "    file.write(\"label,x\\n\")\n",
    "    for i in range(len(X)):\n",
    "        file.write(str(y[i])+','+str(X[i])+'\\n')\n",
    "\n",
    "\n",
    "\n",
    "plt.scatter(X, y, color='darkorange', label=etiq)\n",
    "plt.xlabel('x')\n",
    "plt.ylabel('y')\n",
    "plt.legend()\n",
    "plt.show()\n"
   ]
  },
  {
   "cell_type": "markdown",
   "metadata": {},
   "source": [
    "Cargamos los datos desde Spark"
   ]
  },
  {
   "cell_type": "code",
   "execution_count": 81,
   "metadata": {},
   "outputs": [
    {
     "name": "stdout",
     "output_type": "stream",
     "text": [
      "root\n",
      " |-- label: integer (nullable = true)\n",
      " |-- x: double (nullable = true)\n",
      "\n"
     ]
    },
    {
     "data": {
      "image/png": "[encoded data removed]",
      "text/plain": [
       "<matplotlib.figure.Figure at 0x243006ff438>"
      ]
     },
     "metadata": {},
     "output_type": "display_data"
    },
    {
     "data": {
      "image/png": "[encoded data removed]",
      "text/plain": [
       "<matplotlib.figure.Figure at 0x2430087e4e0>"
      ]
     },
     "metadata": {},
     "output_type": "display_data"
    },
    {
     "data": {
      "text/html": [
       "<div>\n",
       "<style scoped>\n",
       "    .dataframe tbody tr th:only-of-type {\n",
       "        vertical-align: middle;\n",
       "    }\n",
       "\n",
       "    .dataframe tbody tr th {\n",
       "        vertical-align: top;\n",
       "    }\n",
       "\n",
       "    .dataframe thead th {\n",
       "        text-align: right;\n",
       "    }\n",
       "</style>\n",
       "<table border=\"1\" class=\"dataframe\">\n",
       "  <thead>\n",
       "    <tr style=\"text-align: right;\">\n",
       "      <th></th>\n",
       "      <th>0</th>\n",
       "      <th>1</th>\n",
       "      <th>2</th>\n",
       "      <th>3</th>\n",
       "      <th>4</th>\n",
       "    </tr>\n",
       "  </thead>\n",
       "  <tbody>\n",
       "    <tr>\n",
       "      <th>summary</th>\n",
       "      <td>count</td>\n",
       "      <td>mean</td>\n",
       "      <td>stddev</td>\n",
       "      <td>min</td>\n",
       "      <td>max</td>\n",
       "    </tr>\n",
       "    <tr>\n",
       "      <th>label</th>\n",
       "      <td>400</td>\n",
       "      <td>0.4875</td>\n",
       "      <td>0.5004697041900039</td>\n",
       "      <td>0</td>\n",
       "      <td>1</td>\n",
       "    </tr>\n",
       "    <tr>\n",
       "      <th>x</th>\n",
       "      <td>400</td>\n",
       "      <td>2.6299348495436035</td>\n",
       "      <td>1.4639455162840609</td>\n",
       "      <td>0.010864313535796644</td>\n",
       "      <td>4.970282168609955</td>\n",
       "    </tr>\n",
       "  </tbody>\n",
       "</table>\n",
       "</div>"
      ],
      "text/plain": [
       "             0                   1                   2                     3  \\\n",
       "summary  count                mean              stddev                   min   \n",
       "label      400              0.4875  0.5004697041900039                     0   \n",
       "x          400  2.6299348495436035  1.4639455162840609  0.010864313535796644   \n",
       "\n",
       "                         4  \n",
       "summary                max  \n",
       "label                    1  \n",
       "x        4.970282168609955  "
      ]
     },
     "execution_count": 81,
     "metadata": {},
     "output_type": "execute_result"
    }
   ],
   "source": [
    "from pyspark.sql import SparkSession\n",
    "\n",
    "\n",
    "# Load  data\n",
    "datos = spark.read.format(\"com.databricks.spark.csv\")\\\n",
    "            .options(header='true', inferschema='true') \\\n",
    "            .load(path)\n",
    "datos.printSchema()\n",
    "\n",
    "from pyspark_dist_explore import hist\n",
    "import matplotlib.pyplot as plt\n",
    "\n",
    "fig,ax = plt.subplots()\n",
    "hist(ax, datos.select(['label']), bins = 20, color=['red'])\n",
    "plt.show()\n",
    "fig,ax = plt.subplots()\n",
    "hist(ax, datos.select(['x']), bins = 20, color=['blue'])\n",
    "plt.show()\n",
    "datos.describe().toPandas().transpose()\n"
   ]
  },
  {
   "cell_type": "code",
   "execution_count": 82,
   "metadata": {},
   "outputs": [
    {
     "name": "stdout",
     "output_type": "stream",
     "text": [
      "+-----+--------------------+\n",
      "|label|            features|\n",
      "+-----+--------------------+\n",
      "|    1|[0.01086431353579...|\n",
      "|    1|[0.01754097783147...|\n",
      "|    1|[0.05697526793439...|\n",
      "|    1|[0.06070887670675...|\n",
      "|    1|[0.07366327034390...|\n",
      "+-----+--------------------+\n",
      "only showing top 5 rows\n",
      "\n"
     ]
    }
   ],
   "source": [
    "from pyspark.ml.linalg import Vectors\n",
    "from pyspark.ml.feature import VectorAssembler\n",
    "\n",
    "# nombres de columna que no sean label (label es el nombre en Spark para la y)\n",
    "vectorcols = [x for x in datos.columns if x not in ['label']]\n",
    "\n",
    "# genera un vector a partir de los valores X\n",
    "assembler = VectorAssembler(\n",
    "    inputCols=vectorcols,\n",
    "    outputCol='features')\n",
    "\n",
    "datosprep =  assembler.transform(datos)\n",
    "datosprep = datosprep.select(['label','features'])\n",
    "\n",
    "datosprep.show(5)"
   ]
  },
  {
   "cell_type": "code",
   "execution_count": 83,
   "metadata": {},
   "outputs": [
    {
     "data": {
      "text/plain": [
       "DataFrame[label: int, features: vector]"
      ]
     },
     "metadata": {},
     "output_type": "display_data"
    }
   ],
   "source": [
    "# entrenamiento y test\n",
    "splits = datosprep.randomSplit([0.7, 0.3])\n",
    "train_df = splits[0]\n",
    "test_df = splits[1]\n",
    "display(train_df.select('label','features'))"
   ]
  },
  {
   "cell_type": "markdown",
   "metadata": {},
   "source": [
    "### Regresión lineal"
   ]
  },
  {
   "cell_type": "code",
   "execution_count": 84,
   "metadata": {},
   "outputs": [
    {
     "name": "stdout",
     "output_type": "stream",
     "text": [
      "Coefficients: [-0.10674739900440351]\n",
      "Intercept: 0.7784697832149068\n",
      "+--------------------+\n",
      "|           residuals|\n",
      "+--------------------+\n",
      "| -0.7275324507362706|\n",
      "| -0.7051151378541871|\n",
      "|  -0.692404040065113|\n",
      "| -0.6277082330431498|\n",
      "| -0.4974843694535505|\n",
      "|-0.49315929282810894|\n",
      "|  -0.490361273829594|\n",
      "|-0.48947135279628284|\n",
      "|-0.48745578312810645|\n",
      "| -0.4870873927221975|\n",
      "| -0.4827766455117393|\n",
      "|-0.47599136868680686|\n",
      "|-0.47321162353586055|\n",
      "|-0.46463525063541605|\n",
      "|-0.46294354852736286|\n",
      "| -0.4605797697211265|\n",
      "| -0.4565082420860824|\n",
      "|  -0.454757598447906|\n",
      "| -0.4533677296187967|\n",
      "| -0.4533597910059775|\n",
      "+--------------------+\n",
      "only showing top 20 rows\n",
      "\n",
      "RMSE: 0.379175\n",
      "r2: 0.424905\n"
     ]
    }
   ],
   "source": [
    "from pyspark.ml.regression import LinearRegression\n",
    "\n",
    "lr = LinearRegression(maxIter=10, regParam=0.3, elasticNetParam=0.8)\n",
    "\n",
    "# Fit the model\n",
    "lrModel = lr.fit(train_df)\n",
    "\n",
    "# Print the coefficients and intercept for linear regression\n",
    "print(\"Coefficients: %s\" % str(lrModel.coefficients))\n",
    "print(\"Intercept: %s\" % str(lrModel.intercept))\n",
    "\n",
    "# Summarize the model over the training set and print out some metrics\n",
    "trainingSummary = lrModel.summary\n",
    "trainingSummary.residuals.show()\n",
    "print(\"RMSE: %f\" % trainingSummary.rootMeanSquaredError)\n",
    "print(\"r2: %f\" % trainingSummary.r2)\n"
   ]
  },
  {
   "cell_type": "code",
   "execution_count": 85,
   "metadata": {},
   "outputs": [
    {
     "name": "stdout",
     "output_type": "stream",
     "text": [
      "+-------------------+-----+--------------------+\n",
      "|         prediction|label|            features|\n",
      "+-------------------+-----+--------------------+\n",
      "| 0.5425600008236505|    0| [2.209981550759139]|\n",
      "| 0.5119541236360909|    0|[2.4966946460945776]|\n",
      "| 0.4996039081267676|    0|[2.6123903503881674]|\n",
      "|0.48896363890842437|    0| [2.712067432149235]|\n",
      "|  0.483719753849574|    0|[2.7611916741238245]|\n",
      "+-------------------+-----+--------------------+\n",
      "only showing top 5 rows\n",
      "\n",
      "[('r2', 0.4338560050925969), ('mae', 0.36712473039076116), ('mse', 0.14061549925542224), ('rmse', 0.3749873321265963)]\n"
     ]
    }
   ],
   "source": [
    "#### Para ver lo bueno que es el ajuste debemos usar los valores de test\n",
    "lr_predictions = lrModel.transform(test_df)\n",
    "lr_predictions.select(\"prediction\",\"label\",\"features\").show(5)\n",
    "\n",
    "from pyspark.ml.evaluation import RegressionEvaluator\n",
    "\n",
    "metrics=[\"r2\",\"mae\",\"mse\",\"rmse\"]\n",
    "evaluators = [(m,RegressionEvaluator(predictionCol=\"prediction\", \\\n",
    "                 labelCol=\"label\",metricName=m)) for m in metrics]\n",
    "\n",
    "errors = [ (name, eval.evaluate(lr_predictions)) for name,eval in evaluators]\n",
    "print(errors)\n"
   ]
  },
  {
   "cell_type": "markdown",
   "metadata": {},
   "source": [
    "### Regresión basada en árboles de decisión"
   ]
  },
  {
   "cell_type": "code",
   "execution_count": 86,
   "metadata": {},
   "outputs": [
    {
     "name": "stdout",
     "output_type": "stream",
     "text": [
      "[('r2', 0.9149827350921074), ('mae', 0.039004849251528556), ('mse', 0.021116085762437682), ('rmse', 0.1453137493922639)]\n"
     ]
    }
   ],
   "source": [
    "# Otro método: árboles de decisión\n",
    "from pyspark.ml.regression import DecisionTreeRegressor\n",
    "\n",
    "dt = DecisionTreeRegressor()\n",
    "dt_model = dt.fit(train_df)\n",
    "dt_predictions = dt_model.transform(test_df)\n",
    "errors = [ (name, eval.evaluate(dt_predictions)) for name,eval in evaluators]\n",
    "print(errors)\n"
   ]
  },
  {
   "cell_type": "markdown",
   "metadata": {},
   "source": [
    "### Regresión basada en incremento del gradiente"
   ]
  },
  {
   "cell_type": "code",
   "execution_count": 87,
   "metadata": {},
   "outputs": [
    {
     "name": "stdout",
     "output_type": "stream",
     "text": [
      "[('r2', 0.9153624613694942), ('mae', 0.03859413659877716), ('mse', 0.02102177159403628), ('rmse', 0.14498886713826092)]\n"
     ]
    }
   ],
   "source": [
    "#Método de incremento del gradiente\n",
    "from pyspark.ml.regression import GBTRegressor\n",
    "gbt = GBTRegressor(featuresCol = 'features', labelCol = 'label', maxIter=10)\n",
    "gbt_model = gbt.fit(train_df)\n",
    "gbt_predictions = gbt_model.transform(test_df)\n",
    "errors = [ (name, eval.evaluate(gbt_predictions)) for name,eval in evaluators]\n",
    "print(errors)\n"
   ]
  },
  {
   "cell_type": "markdown",
   "metadata": {},
   "source": [
    "### Regresión generalizada"
   ]
  },
  {
   "cell_type": "code",
   "execution_count": 88,
   "metadata": {},
   "outputs": [
    {
     "name": "stdout",
     "output_type": "stream",
     "text": [
      "[('r2', 0.6194187442473208), ('mae', 0.28031615554638006), ('mse', 0.09452652287457608), ('rmse', 0.3074516594109976)]\n"
     ]
    }
   ],
   "source": [
    "########## regresión generalizada\n",
    "from pyspark.ml.regression import GeneralizedLinearRegression\n",
    "glr = GeneralizedLinearRegression(family=\"gaussian\", link=\"identity\", maxIter=10, regParam=0.3)\n",
    "glr_model = glr.fit(train_df)\n",
    "glr_predictions = glr_model.transform(test_df)\n",
    "errors = [ (name, eval.evaluate(glr_predictions)) for name,eval in evaluators]\n",
    "print(errors)\n"
   ]
  },
  {
   "cell_type": "markdown",
   "metadata": {},
   "source": [
    "### Regresión logística"
   ]
  },
  {
   "cell_type": "code",
   "execution_count": 94,
   "metadata": {},
   "outputs": [
    {
     "name": "stdout",
     "output_type": "stream",
     "text": [
      "[('r2', 0.9350615344330977), ('mae', 0.016129032258064516), ('mse', 0.01612903225806452), ('rmse', 0.1270001270001905)]\n"
     ]
    }
   ],
   "source": [
    "############# regresión logística\n",
    "from pyspark.ml.classification import LogisticRegression\n",
    "if etiq.startswith(\"x>\"):\n",
    "    logistr = LogisticRegression(maxIter=10, regParam=0.4, elasticNetParam=0.9)\n",
    "    logistr_model = logistr.fit(train_df)\n",
    "    logistr_predictions = logistr_model.transform(test_df)\n",
    "    errors = [ (name, eval.evaluate(logistr_predictions)) for name,eval in evaluators]\n",
    "    print(errors)\n"
   ]
  },
  {
   "cell_type": "code",
   "execution_count": 101,
   "metadata": {},
   "outputs": [
    {
     "data": {
      "image/png": "[encoded data removed]",
      "text/plain": [
       "<matplotlib.figure.Figure at 0x24300060470>"
      ]
     },
     "metadata": {},
     "output_type": "display_data"
    }
   ],
   "source": [
    "xtestFrame = test_df.select(['features']).collect()\n",
    "xtest = list(map(lambda x: x.features[0],xtestFrame))\n",
    "y_lrFrame = lr_predictions.select(['prediction']).collect()\n",
    "y_lr = list(map(lambda y: y.prediction,y_lrFrame))\n",
    "y_dtFrame = dt_predictions.select(['prediction']).collect()\n",
    "y_dt = list(map(lambda y: y.prediction,y_dtFrame))\n",
    "y_gbFrame = gbt_predictions.select(['prediction']).collect()\n",
    "y_gb = list(map(lambda y: y.prediction+0.1,y_gbFrame))\n",
    "y_glrFrame = glr_predictions.select(['prediction']).collect()\n",
    "y_glr = list(map(lambda y: y.prediction-0.1,y_glrFrame))\n",
    "if etiq.startswith(\"x>\"):\n",
    "    y_logistrFrame = logistr_predictions.select(['prediction']).collect()\n",
    "    y_logistr = list(map(lambda y: y.prediction-0.1,y_logistrFrame))\n",
    "\n",
    "plt.scatter(X, y, color='darkorange', label=etiq)\n",
    "lw=1\n",
    "s=4\n",
    "plt.plot(xtest, y_lr, color='darkblue', lw=lw,label='lin.')\n",
    "plt.scatter(xtest, y_dt, color='darkgreen',s=s,label='árbol dec')\n",
    "plt.scatter(xtest, y_gb, color='darkred', s=s,label='incr. grad.')\n",
    "plt.scatter(xtest, y_glr, color='yellow', s=s,label='lin.gen.-gauss')\n",
    "if etiq.startswith(\"x>\"):\n",
    "    plt.scatter(xtest, y_logistr, color='magenta', s=s,label='logíst.')\n",
    "plt.xlabel('x')\n",
    "plt.ylabel('y')\n",
    "plt.legend()\n",
    "plt.show()\n"
   ]
  },
  {
   "cell_type": "code",
   "execution_count": null,
   "metadata": {},
   "outputs": [],
   "source": []
  }
 ],
 "metadata": {
  "kernelspec": {
   "display_name": "Python 3",
   "language": "python",
   "name": "python3"
  },
  "language_info": {
   "codemirror_mode": {
    "name": "ipython",
    "version": 3
   },
   "file_extension": ".py",
   "mimetype": "text/x-python",
   "name": "python",
   "nbconvert_exporter": "python",
   "pygments_lexer": "ipython3",
   "version": "3.6.4"
  }
 },
 "nbformat": 4,
 "nbformat_minor": 2
}
