{
 "cells": [
  {
   "cell_type": "markdown",
   "metadata": {},
   "source": [
    "# Una breve introducción a Python \n",
    "## (Strings)\n",
    "### por Rafa Caballero (Facultad de Informática - UCM)"
   ]
  },
  {
   "cell_type": "markdown",
   "metadata": {},
   "source": [
    "Llamamos *strings* a las cadenas de caracteres\n",
    "\n",
    "#### Declaración"
   ]
  },
  {
   "cell_type": "markdown",
   "metadata": {},
   "source": [
    "Se pueden usar comillas simples o dobles, pero recordar utilizar la misma \n",
    "para abrir que para cerrar. También se pueden utilizar 3 comillas para \n",
    "cadenas multilínea"
   ]
  },
  {
   "cell_type": "code",
   "execution_count": 12,
   "metadata": {
    "collapsed": true
   },
   "outputs": [],
   "source": [
    "s0 = 'vivo sin vivir en mí'\n",
    "s1 = \"Vivo sin vivir en mí\"\n",
    "s2 = '''Vivo sin vivir en mí\n",
    "y tan alta vida espero\n",
    "que muero porque no muero'''"
   ]
  },
  {
   "cell_type": "code",
   "execution_count": 13,
   "metadata": {},
   "outputs": [
    {
     "name": "stdout",
     "output_type": "stream",
     "text": [
      "vivo sin vivir en mí <class 'str'>\n",
      "Vivo sin vivir en mí <class 'str'>\n",
      "Vivo sin vivir en mí\n",
      "y tan alta vida espero\n",
      "que muero porque no muero <class 'str'>\n"
     ]
    }
   ],
   "source": [
    "print(s0 , type(s0))\n",
    "print(s1, type(s1))\n",
    "print(s2, type(s2))"
   ]
  },
  {
   "cell_type": "markdown",
   "metadata": {},
   "source": [
    "#### Funciones de búsqueda y formato"
   ]
  },
  {
   "cell_type": "markdown",
   "metadata": {},
   "source": [
    "Vamos a ver algunas operaciones básicas con cadenas de caracteres. Muchas de ellas nos volverán a aparecer cuando hablemos de listas, en el siguiente cuaderno, ya que los strings son realmente listas de caracteres.\n",
    "\n",
    "Comenzando buscando subcadenas con **find**"
   ]
  },
  {
   "cell_type": "code",
   "execution_count": 17,
   "metadata": {},
   "outputs": [
    {
     "name": "stdout",
     "output_type": "stream",
     "text": [
      "vivo sin vivir en mí\n",
      "6\n",
      "-1\n"
     ]
    }
   ],
   "source": [
    "print(s0)\n",
    "print(s0.find('in vi'))\n",
    "print(s0.find('am'))"
   ]
  },
  {
   "cell_type": "markdown",
   "metadata": {},
   "source": [
    "Cuando no se encuentra el valor se devuelve -1. También se puede usar **index**, pero devolverá error si el elemento no existe.\n",
    "\n",
    "También se puede especificar entre qué posiciones buscar (recordar que la primera posición es la 0):"
   ]
  },
  {
   "cell_type": "code",
   "execution_count": 18,
   "metadata": {},
   "outputs": [
    {
     "name": "stdout",
     "output_type": "stream",
     "text": [
      "6\n",
      "1\n"
     ]
    }
   ],
   "source": [
    "print(s0.find('i',4))   # a partir de la 4\n",
    "print(s0.find('i',1,3)) # entre la 1 y la 3"
   ]
  },
  {
   "cell_type": "markdown",
   "metadata": {},
   "source": [
    "**capitalize( )** convierte a mayúscula la primera letra"
   ]
  },
  {
   "cell_type": "code",
   "execution_count": 19,
   "metadata": {},
   "outputs": [
    {
     "name": "stdout",
     "output_type": "stream",
     "text": [
      "vivo sin vivir en mí\n",
      "Vivo sin vivir en mí\n"
     ]
    }
   ],
   "source": [
    "print(s0)\n",
    "print(s0.capitalize())"
   ]
  },
  {
   "cell_type": "markdown",
   "metadata": {},
   "source": [
    "**lower()** y **upper()** convierten todo el texto enn minúsculas y en mayúsculas, respectivamente:"
   ]
  },
  {
   "cell_type": "code",
   "execution_count": 23,
   "metadata": {},
   "outputs": [
    {
     "name": "stdout",
     "output_type": "stream",
     "text": [
      "VIVO SIN VIVIR EN MÍ\n"
     ]
    }
   ],
   "source": [
    "print(s0.upper())"
   ]
  },
  {
   "cell_type": "markdown",
   "metadata": {},
   "source": [
    "**center( )** alinea el texto dentro de los espacios indicados"
   ]
  },
  {
   "cell_type": "code",
   "execution_count": 29,
   "metadata": {},
   "outputs": [
    {
     "name": "stdout",
     "output_type": "stream",
     "text": [
      "                         vivo sin vivir en mí                         \n"
     ]
    }
   ],
   "source": [
    "centrado = s0.center(70)\n",
    "print(centrado)"
   ]
  },
  {
   "cell_type": "markdown",
   "metadata": {},
   "source": [
    "En lugar de espacios, se puede rellanar con otro carácter, como '-'"
   ]
  },
  {
   "cell_type": "code",
   "execution_count": 21,
   "metadata": {},
   "outputs": [
    {
     "data": {
      "text/plain": [
       "'-------------------------vivo sin vivir en mí-------------------------'"
      ]
     },
     "execution_count": 21,
     "metadata": {},
     "output_type": "execute_result"
    }
   ],
   "source": [
    "s0.center(70,'-')"
   ]
  },
  {
   "cell_type": "markdown",
   "metadata": {},
   "source": [
    "Para quitar caracteres sobrantes podemos usar **strip()**, que elimina \n",
    "el caracter indicado (blanco si no se dice nada) de ambos extremos de la \n",
    "cadena. Si solo queremos quitarlos por un lado, podemos usar **rstrip()**\n",
    "o **lstrip()**"
   ]
  },
  {
   "cell_type": "code",
   "execution_count": 33,
   "metadata": {},
   "outputs": [
    {
     "name": "stdout",
     "output_type": "stream",
     "text": [
      "*vivo sin vivir en mí*\n"
     ]
    }
   ],
   "source": [
    "print('*'+centrado.strip()+'*')"
   ]
  },
  {
   "cell_type": "markdown",
   "metadata": {},
   "source": [
    "Para mostrar cadenas a menudo utilizaremos la concatenación, representada por el operador +"
   ]
  },
  {
   "cell_type": "code",
   "execution_count": 2,
   "metadata": {},
   "outputs": [
    {
     "name": "stdout",
     "output_type": "stream",
     "text": [
      "Big Data\n"
     ]
    }
   ],
   "source": [
    "s1 = 'Big'\n",
    "s2 = 'Data'\n",
    "print( s1 +' '+ s2)"
   ]
  },
  {
   "cell_type": "markdown",
   "metadata": {},
   "source": [
    "**%s** Se usa en print para representar una cadena"
   ]
  },
  {
   "cell_type": "code",
   "execution_count": 3,
   "metadata": {},
   "outputs": [
    {
     "name": "stdout",
     "output_type": "stream",
     "text": [
      "Hello Big\n"
     ]
    }
   ],
   "source": [
    "print(\"Hello %s\" % s1)"
   ]
  },
  {
   "cell_type": "markdown",
   "metadata": {},
   "source": [
    "De forma análoga podemos usar otros símbolos\n",
    "\n",
    "    - %s -> string\n",
    "    - %d -> Integer\n",
    "    - %f -> Float\n",
    "    - %o -> Octal\n",
    "    - %x -> Hexadecimal\n",
    "    - %e -> exponential\n",
    "    \n",
    "Esto permite hacer conversiones dentro del print"
   ]
  },
  {
   "cell_type": "markdown",
   "metadata": {},
   "source": [
    "Cuando se quieren usar varias variables se escriben entre paréntesis"
   ]
  },
  {
   "cell_type": "code",
   "execution_count": 4,
   "metadata": {},
   "outputs": [
    {
     "name": "stdout",
     "output_type": "stream",
     "text": [
      "¿Cómo te llamas? Bertoldo\n",
      "¿En qué año naciste? 1989\n",
      "Hola Bertoldo! Tu edad es 28 o 29\n"
     ]
    }
   ],
   "source": [
    "nombre = input('¿Cómo te llamas? ')\n",
    "snacido = input('¿En qué año naciste? ')\n",
    "nacido = int(snacido)\n",
    "actual = 2018\n",
    "\n",
    "print(\"Hola %s! Tu edad es %d o %d\"%(nombre,actual-nacido-1,actual-nacido))\n"
   ]
  },
  {
   "cell_type": "markdown",
   "metadata": {},
   "source": [
    "###### Ej. *¿Cómo hacer el último print sin %?*"
   ]
  },
  {
   "cell_type": "code",
   "execution_count": null,
   "metadata": {
    "collapsed": true
   },
   "outputs": [],
   "source": [
    "#Solución\n",
    "#print(...)"
   ]
  },
  {
   "cell_type": "markdown",
   "metadata": {},
   "source": [
    "#### Otras funciones"
   ]
  },
  {
   "cell_type": "markdown",
   "metadata": {},
   "source": [
    "Una curiosidad de las cadenas de caracteres en Python es que se pueden *multiplicar*:"
   ]
  },
  {
   "cell_type": "code",
   "execution_count": 10,
   "metadata": {},
   "outputs": [
    {
     "name": "stdout",
     "output_type": "stream",
     "text": [
      "no me digas no me digas no me digas no me digas \n"
     ]
    }
   ],
   "source": [
    "x = 'no me digas '\n",
    "print(x*4)"
   ]
  },
  {
   "cell_type": "markdown",
   "metadata": {},
   "source": [
    "Podemos contar el número de caracteres en una cadena con **len**"
   ]
  },
  {
   "cell_type": "code",
   "execution_count": 11,
   "metadata": {},
   "outputs": [
    {
     "name": "stdout",
     "output_type": "stream",
     "text": [
      "12\n",
      "48\n"
     ]
    }
   ],
   "source": [
    "print(len(x))\n",
    "print(len(x*4))"
   ]
  },
  {
   "cell_type": "markdown",
   "metadata": {},
   "source": [
    "La función **replace( )** reemplaza un substring por otro"
   ]
  },
  {
   "cell_type": "code",
   "execution_count": 27,
   "metadata": {},
   "outputs": [
    {
     "name": "stdout",
     "output_type": "stream",
     "text": [
      "profanación\n",
      "aayyaayyaa\n"
     ]
    }
   ],
   "source": [
    "cadena = 'programación'\n",
    "print(cadena.replace('gram','fan'))\n",
    "cadena = 'xxyyxxyyxx'\n",
    "print(cadena.replace('xx','aa'))"
   ]
  },
  {
   "cell_type": "markdown",
   "metadata": {
    "collapsed": true
   },
   "source": [
    "###### Ej. *¿Qué mostrará print(len(x+x))?*"
   ]
  },
  {
   "cell_type": "code",
   "execution_count": 14,
   "metadata": {
    "collapsed": true
   },
   "outputs": [],
   "source": [
    "# solución\n",
    "#print(len(x+x))"
   ]
  },
  {
   "cell_type": "markdown",
   "metadata": {},
   "source": [
    "Podemos tomar parte de un string usando la notación : que especifica \n",
    "    un rango de caracteres por su posición\n",
    "Es importante notar que el primer caracter siempre corresponde a la 0"
   ]
  },
  {
   "cell_type": "code",
   "execution_count": 15,
   "metadata": {},
   "outputs": [
    {
     "name": "stdout",
     "output_type": "stream",
     "text": [
      "me\n"
     ]
    }
   ],
   "source": [
    "print(x[3:5])"
   ]
  },
  {
   "cell_type": "markdown",
   "metadata": {},
   "source": [
    "La notación : o *slice* es muy importante y volveremos a ella al hablar de listas."
   ]
  },
  {
   "cell_type": "markdown",
   "metadata": {},
   "source": [
    "La función split divide el string en los componentes separados por el caracter indicado"
   ]
  },
  {
   "cell_type": "code",
   "execution_count": 17,
   "metadata": {},
   "outputs": [
    {
     "name": "stdout",
     "output_type": "stream",
     "text": [
      "['El', 'que', 'habla', 'no', 'sabe,', 'el', 'que', 'sabe', 'no', 'habla']\n",
      "['El que habla no sabe', ' el que sabe no habla']\n"
     ]
    }
   ],
   "source": [
    "x = \"El que habla no sabe, el que sabe no habla\"\n",
    "print(x.split(\" \"))\n",
    "print(x.split(\",\"))\n"
   ]
  },
  {
   "cell_type": "markdown",
   "metadata": {},
   "source": [
    "El resultado es una lista, con tantos componentes como divisiones se hayan hecho.\n",
    "\n",
    "La siguiente función, **index**, nos dice en qué posición aparece por primera vez un carácter."
   ]
  },
  {
   "cell_type": "code",
   "execution_count": 25,
   "metadata": {},
   "outputs": [
    {
     "name": "stdout",
     "output_type": "stream",
     "text": [
      "7\n",
      "37\n"
     ]
    }
   ],
   "source": [
    "print(x.index('h'))\n",
    "print(x.index('h',8)) # busca a partir de la posición 8"
   ]
  },
  {
   "cell_type": "markdown",
   "metadata": {},
   "source": [
    "### Ej. ¿Como escribir una instrucción que muestre la posición de la segunda 'h' sin saber de antemano dónde está la primera (un solo print)?"
   ]
  },
  {
   "cell_type": "code",
   "execution_count": 27,
   "metadata": {},
   "outputs": [
    {
     "name": "stdout",
     "output_type": "stream",
     "text": [
      "37\n"
     ]
    }
   ],
   "source": [
    "# Solución\n",
    "# print(....)"
   ]
  },
  {
   "cell_type": "markdown",
   "metadata": {},
   "source": [
    "### Ej. Escribir una instrucción print que muestre el texto en x a partir de la primera coma en adelante"
   ]
  },
  {
   "cell_type": "code",
   "execution_count": 1,
   "metadata": {
    "collapsed": true
   },
   "outputs": [],
   "source": [
    "# Solución\n",
    "# print(....)"
   ]
  },
  {
   "cell_type": "code",
   "execution_count": null,
   "metadata": {
    "collapsed": true
   },
   "outputs": [],
   "source": []
  }
 ],
 "metadata": {
  "kernelspec": {
   "display_name": "Python 3",
   "language": "python",
   "name": "python3"
  },
  "language_info": {
   "codemirror_mode": {
    "name": "ipython",
    "version": 3
   },
   "file_extension": ".py",
   "mimetype": "text/x-python",
   "name": "python",
   "nbconvert_exporter": "python",
   "pygments_lexer": "ipython3",
   "version": "3.6.4"
  }
 },
 "nbformat": 4,
 "nbformat_minor": 1
}
