{
  "cells": [
    {
      "cell_type": "markdown",
      "id": "8a92b55a",
      "metadata": {
        "id": "8a92b55a"
      },
      "source": [
        "# Aprendizaje automático con Python\n",
        "Rafa Caballero\n",
        "\n",
        "### Ejemplo de árboles de decisión"
      ]
    },
    {
      "cell_type": "markdown",
      "id": "efd0e595",
      "metadata": {
        "id": "efd0e595"
      },
      "source": [
        "#### Carga y preprocesado\n",
        "\n",
        "Vamos a intentar predecir en el caso del conjunto del titanic quién sobrevivió y quien no a partir de sus características"
      ]
    },
    {
      "cell_type": "code",
      "execution_count": null,
      "id": "16b47834",
      "metadata": {
        "id": "16b47834"
      },
      "outputs": [],
      "source": [
        "!pip install seaborn"
      ]
    },
    {
      "cell_type": "code",
      "execution_count": null,
      "id": "c1df15ef",
      "metadata": {
        "id": "c1df15ef"
      },
      "outputs": [],
      "source": [
        "import matplotlib.pyplot as plt\n",
        "from sklearn.metrics import RocCurveDisplay\n",
        "from sklearn.metrics import roc_auc_score\n",
        "from sklearn.metrics import classification_report\n",
        "from sklearn.metrics import make_scorer,f1_score, accuracy_score, recall_score,cohen_kappa_score\n",
        "from sklearn.metrics import confusion_matrix\n",
        "import seaborn as sns\n",
        "import numpy as np\n",
        "\n",
        "\n",
        "def show_cm(y_real,y_pred):\n",
        "    labels = list(set(y_real))\n",
        "    cf_matrix = confusion_matrix(y_real, y_pred, labels=labels)\n",
        "    ax = sns.heatmap(cf_matrix/sum(cf_matrix), annot=True, fmt='.2', cmap='Blues')\n",
        "\n",
        "def show_results(y_real,y_pred):\n",
        "    print(\"Accuracy \",round(accuracy_score(y_real,y_pred),4),\\\n",
        "              \"\\nRecall \",round(recall_score(y_real,y_pred),4),\\\n",
        "              \"\\nKappa \", round(cohen_kappa_score(y_real,y_pred),4),)\n",
        "    print('\\nClassification Report: \\n', classification_report(y_real, y_pred))\n",
        "    show_cm(y_real,y_pred)\n",
        "\n",
        "url = \"https://raw.githubusercontent.com/RafaelCaballero/tdm/master/datos/titanicyesno.csv\"\n",
        "import pandas as pd\n",
        "df = pd.read_csv(url)\n",
        "columnas = [\"survived\", \"pclass\", \"sex\", \"age\", \"sibsp\", \"parch\", \"fare\",\"embarked\"]\n",
        "df2 = df[columnas]\n",
        "df2 = df2.dropna()\n",
        "df2[\"survived\"] = df2.survived.replace(('yes', 'no'), (1, 0))\n",
        "df2[\"sex\"] = df2.sex.replace(('female', 'male'), (1, 0))\n",
        "df2 = pd.get_dummies(df2, columns=[\"embarked\"])\n",
        "\n",
        "\n",
        "df2"
      ]
    },
    {
      "cell_type": "markdown",
      "id": "fa6b813e",
      "metadata": {
        "id": "fa6b813e"
      },
      "source": [
        " Ahora estamos listos para aplicar machine learning. De los 4 pasos que describimos\n",
        "\n",
        "1 Obtener las columnas\n",
        "\n",
        "2 Dividir entre train y test\n",
        "\n",
        "3 Aplicar el método\n",
        "\n",
        "4 Evaluar\n",
        "\n"
      ]
    },
    {
      "cell_type": "code",
      "execution_count": null,
      "id": "c8b2f56d",
      "metadata": {
        "id": "c8b2f56d"
      },
      "outputs": [],
      "source": [
        "from sklearn.tree import DecisionTreeClassifier, plot_tree\n",
        "\n",
        "# 1\n",
        "XColumns = [c for c in df2.columns if c!=\"survived\"]\n",
        "yColumn = \"survived\"\n",
        "X = df2[XColumns]\n",
        "y = df2[yColumn]\n",
        "\n",
        "\n",
        "\n",
        "# 2\n",
        "from sklearn.model_selection import train_test_split\n",
        "test = 0.4\n",
        "X_train, X_test, y_train, y_test = train_test_split(X, y, test_size= test)\n",
        "\n",
        "# 3\n",
        "metodo = DecisionTreeClassifier(min_samples_split=3,min_samples_leaf=4,max_depth=3) # es muy poco pero es para dibujarlo después\n",
        "modelo = metodo.fit(X_train,y_train)\n",
        "\n",
        "# 4\n",
        "y_pred = modelo.predict(X_test)\n",
        "show_results(y_test,y_pred)"
      ]
    },
    {
      "cell_type": "code",
      "execution_count": null,
      "id": "24404fed",
      "metadata": {
        "id": "24404fed"
      },
      "outputs": [],
      "source": [
        "fig = plt.figure(figsize=(25,20))\n",
        "plot_tree(metodo,filled=True,feature_names=XColumns, class_names=[\"no\",\"yes\"],fontsize=\"14\")\n",
        "plt.show()"
      ]
    },
    {
      "cell_type": "code",
      "execution_count": null,
      "id": "2655b570",
      "metadata": {
        "id": "2655b570"
      },
      "outputs": [],
      "source": []
    }
  ],
  "metadata": {
    "kernelspec": {
      "display_name": "Python 3 (ipykernel)",
      "language": "python",
      "name": "python3"
    },
    "language_info": {
      "codemirror_mode": {
        "name": "ipython",
        "version": 3
      },
      "file_extension": ".py",
      "mimetype": "text/x-python",
      "name": "python",
      "nbconvert_exporter": "python",
      "pygments_lexer": "ipython3",
      "version": "3.9.12"
    },
    "colab": {
      "provenance": []
    }
  },
  "nbformat": 4,
  "nbformat_minor": 5
}