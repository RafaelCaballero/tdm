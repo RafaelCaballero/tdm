{
 "cells": [
  {
   "cell_type": "markdown",
   "metadata": {},
   "source": [
    "# Una breve introducción a Python \n",
    "### por Rafa Caballero (Facultad de Informática - UCM)"
   ]
  },
  {
   "cell_type": "markdown",
   "metadata": {},
   "source": [
    "Python es un lenguaje de programación de propósito general. Creado por Guido Van Rossum allá por 1989, se ha convertido en uno de los lenguajes más comunes en ciencia de datos.\n",
    "\n",
    "En estos cuadernos vamos a ver una pequeña introducción a algunos elementos básicos del lenguaje. Los cuadernos están pensados para personas con mínimos conocimientos de programación y solo abarcan lo necesario para iniciarse en la ciencia de datos.\n",
    "\n",
    "\n",
    "Estos notebooks están basados en varios libros y recursos entre los que hay que destacar:\n",
    "\n",
    "* [https://www.python.org/](https://www.python.org/)   La referencia básica de Python. Aquí pueden encontrarse tutoriales y también una ayuda muy detallada.\n",
    "\n",
    "* [Rajath Kumar en GitHub](https://github.com/rajathkumarmp/Python-Lectures \"Rajath Kumar en GitHub\"). Notebooks para Python 2 en lugar de 3, pero que han servido de punto de partida para estas notas.\n",
    "* Python for Kids: un libro para niños tan bien escrito y explicado que vale para todos.\n",
    "* [The Python tutorial](https://docs.python.org/3/tutorial/index.html \"The Python tutorial\"). Una referencia obligada. Aunque no es mi preferido (me parece prolijo y poco didáctico) es una referencia muy completa.\n",
    "* Learning with Python How to Think Like a Computer Scientist. Buen libro para iniciarse en Python con una perspectiva adecuada para la ciencia de datos.\n",
    "* Introducción a la programación en Python 3 : libro detallado, para quien quiera conocer el lenguaje a fondo.\n",
    "    Python para todos: hace hincapié en la parte de objetos de Python, que apenas veremos en el curso, por lo que puede utilizarse como complemento.\n",
    "\n",
    "\n"
   ]
  },
  {
   "cell_type": "markdown",
   "metadata": {},
   "source": [
    "## Versiones y entornos"
   ]
  },
  {
   "cell_type": "markdown",
   "metadata": {},
   "source": [
    "Por desgracia, allá por 2008, Python se *escindió*, al publicarse la versión 3 que no era compatible *hacia atrás*, es decir los programas escritos en Python 2.X no necesariamente corren en Python 3.x (ni viceversa, pero esto es más habitual). \n",
    "\n",
    "En todo caso la idea es que finalmente solo una de las versiones, la 3.X, siga manteniéndose y nos vamos a ceñir a esta.\n",
    "\n",
    "En cuanto a entornos, hay muchos disponibles y nos valdrá cualquiera, como Anaconda, que incluya los Jupyter notebooks.\n",
    "\n",
    "**¡Empezamos!**\n",
    "\n",
    "\n",
    "Si quieres, puedes saltar a la sección que prefieras siguiendo este índice:\n",
    "\n",
    "### Índice\n",
    "\n",
    "[Variables](#Variables)\n",
    "\n",
    "[Operadores](#Operadores)<br>\n",
    "  &emsp;[Operadores aritméticos](#Operadores-aritméticos)<br>\n",
    "  &emsp;[Operadores relacionales](#Operadores-relacionales)<br>\n",
    "  &emsp;[Operadores de bit](#Operadores-de-bit)<br>\n",
    "  &emsp;[Operadores para secuencias](#Operadores-para-secuencias)<br>\n",
    "  &emsp;[Slices](#Slices)<br>\n",
    "\n",
    "[Funciones predefinidas](#Funciones-predefinidas)<br>\n",
    "  &emsp;[Conversión entre bases](#Conversión-entre-bases)<br>\n",
    "  &emsp;[Funciones para secuencias](#Funciones-para-secuencias)<br>\n",
    "\n",
    "[Importación de bibliotecas](#Importación-de-bibliotecas)\n",
    "\n",
    "[Tipos en Python](#Tipos-en-Python)\n",
    "\n",
    "[Entrada de usuario](#Entrada-de-usuario)"
   ]
  },
  {
   "cell_type": "markdown",
   "metadata": {},
   "source": [
    "## Variables \n"
   ]
  },
  {
   "cell_type": "markdown",
   "metadata": {},
   "source": [
    "En los lenguajes de programación a los datos, sean números, frases u otro tipo de valores, solemos ponerles nombres. Es lo que denominamos *variable*.\n",
    "\n",
    "Una variable puede pensarse como un trocito de memoria de ordenador que tiene un nombre asociado, y un valor, el valor contenido en ese trocito de memoria."
   ]
  },
  {
   "cell_type": "code",
   "execution_count": 35,
   "metadata": {},
   "outputs": [],
   "source": [
    "x = 2\n",
    "y = 1.2\n",
    "xy = 'if you torture the data long enough, it will confess to anything'"
   ]
  },
  {
   "cell_type": "markdown",
   "metadata": {},
   "source": [
    "Estas instrucciones Python crean 3 variables\n",
    "* Una variable con nombre  x,  con valor 2\n",
    "* Una variable con nombre y, con valor 1.2\n",
    "* Una variable con nombre xy, con valor *'if you torture the data long enough, it will confess to anything'*. \n",
    "\n",
    "Es importante señalar con las secuencias de caracteres siempre van entre comillas (se puede elegir la comilla simple ' o la doble \", pero recordad cerrar la secuenca con el mismo símbolo)"
   ]
  },
  {
   "cell_type": "code",
   "execution_count": 36,
   "metadata": {},
   "outputs": [
    {
     "name": "stdout",
     "output_type": "stream",
     "text": [
      "3.2 if you torture the data long enough, it will confess to anything 2.4\n"
     ]
    }
   ],
   "source": [
    "print(x+y,xy,x*y)"
   ]
  },
  {
   "cell_type": "markdown",
   "metadata": {},
   "source": [
    "se le puede dar valor a varias variables simultáneamente:"
   ]
  },
  {
   "cell_type": "code",
   "execution_count": 3,
   "metadata": {},
   "outputs": [],
   "source": [
    "x = y = 1"
   ]
  },
  {
   "cell_type": "code",
   "execution_count": 4,
   "metadata": {},
   "outputs": [
    {
     "name": "stdout",
     "output_type": "stream",
     "text": [
      "1 1\n"
     ]
    }
   ],
   "source": [
    "print(x,y)"
   ]
  },
  {
   "cell_type": "markdown",
   "metadata": {},
   "source": [
    "Otra forma de hacer lo mismo"
   ]
  },
  {
   "cell_type": "code",
   "execution_count": 12,
   "metadata": {
    "collapsed": true
   },
   "outputs": [],
   "source": [
    "x,y = 1,1"
   ]
  },
  {
   "cell_type": "markdown",
   "metadata": {},
   "source": [
    "Esta notación es en realidad una forma abreviada de escribir una *tupla*, una de las estructuras de las que dispone Python para agregar elementos.\n",
    "\n",
    "La forma no abreviada:"
   ]
  },
  {
   "cell_type": "code",
   "execution_count": 9,
   "metadata": {},
   "outputs": [],
   "source": [
    "(x,y) = (1,1)"
   ]
  },
  {
   "cell_type": "markdown",
   "metadata": {},
   "source": [
    "Nótese que las tuplas permiten tener elementos ordenados agregados. Otras formas son los strings y las listas. Los tres tipos, strings, listas y tuplas constituyen las *secuencias de Python*"
   ]
  },
  {
   "cell_type": "markdown",
   "metadata": {},
   "source": [
    "###### Ej. *¿Cómo declarar en una sola línea dos variables x,y y hacer que la primera tome el valor 1 y la segunda el valor 2?*"
   ]
  },
  {
   "cell_type": "code",
   "execution_count": 8,
   "metadata": {},
   "outputs": [],
   "source": [
    "# escribir aquí la solución\n"
   ]
  },
  {
   "cell_type": "markdown",
   "metadata": {},
   "source": [
    "###### Ej. * ¿Qué hará el siguiente código? * (para probarlo quitar el símbolo de comentario #)"
   ]
  },
  {
   "cell_type": "code",
   "execution_count": 24,
   "metadata": {
    "collapsed": true
   },
   "outputs": [],
   "source": [
    "#x = y = 5\n",
    "#x = x+1\n",
    "#y = y+x-2\n",
    "#print(x,y)"
   ]
  },
  {
   "cell_type": "code",
   "execution_count": null,
   "metadata": {},
   "outputs": [],
   "source": []
  },
  {
   "cell_type": "markdown",
   "metadata": {},
   "source": [
    "## Operadores"
   ]
  },
  {
   "cell_type": "markdown",
   "metadata": {},
   "source": [
    "### Operadores aritméticos"
   ]
  },
  {
   "cell_type": "markdown",
   "metadata": {},
   "source": [
    "| Símbolo | Función |\n",
    "|----|---|\n",
    "| +  | suma |\n",
    "| -  | resta |\n",
    "| /  | división |\n",
    "| %  | módulo |\n",
    "| *  | multiplicación |\n",
    "| //  | división entera |\n",
    "| **  | Potencia |"
   ]
  },
  {
   "cell_type": "code",
   "execution_count": 25,
   "metadata": {},
   "outputs": [
    {
     "data": {
      "text/plain": [
       "20000000001"
      ]
     },
     "execution_count": 25,
     "metadata": {},
     "output_type": "execute_result"
    }
   ],
   "source": [
    "1+20000000000"
   ]
  },
  {
   "cell_type": "code",
   "execution_count": 26,
   "metadata": {},
   "outputs": [
    {
     "data": {
      "text/plain": [
       "199999999"
      ]
     },
     "execution_count": 26,
     "metadata": {},
     "output_type": "execute_result"
    }
   ],
   "source": [
    "200000000-1"
   ]
  },
  {
   "cell_type": "code",
   "execution_count": 8,
   "metadata": {},
   "outputs": [
    {
     "data": {
      "text/plain": [
       "2"
      ]
     },
     "execution_count": 8,
     "metadata": {},
     "output_type": "execute_result"
    }
   ],
   "source": [
    "1*2"
   ]
  },
  {
   "cell_type": "markdown",
   "metadata": {},
   "source": [
    "###### Ej. *¿Por qué sucede esto?*"
   ]
  },
  {
   "cell_type": "code",
   "execution_count": 9,
   "metadata": {},
   "outputs": [
    {
     "data": {
      "text/plain": [
       "0"
      ]
     },
     "execution_count": 9,
     "metadata": {},
     "output_type": "execute_result"
    }
   ],
   "source": [
    "1/2"
   ]
  },
  {
   "cell_type": "code",
   "execution_count": 10,
   "metadata": {},
   "outputs": [
    {
     "data": {
      "text/plain": [
       "0.5"
      ]
     },
     "execution_count": 10,
     "metadata": {},
     "output_type": "execute_result"
    }
   ],
   "source": [
    "1/2.0"
   ]
  },
  {
   "cell_type": "code",
   "execution_count": 11,
   "metadata": {},
   "outputs": [
    {
     "data": {
      "text/plain": [
       "5"
      ]
     },
     "execution_count": 11,
     "metadata": {},
     "output_type": "execute_result"
    }
   ],
   "source": [
    "15%10"
   ]
  },
  {
   "cell_type": "markdown",
   "metadata": {},
   "source": [
    "En el caso de trabajar con números reales también se puede obtener el resultado de truncar el resultado de la división"
   ]
  },
  {
   "cell_type": "code",
   "execution_count": 29,
   "metadata": {},
   "outputs": [
    {
     "data": {
      "text/plain": [
       "1.0"
      ]
     },
     "execution_count": 29,
     "metadata": {},
     "output_type": "execute_result"
    }
   ],
   "source": [
    "1.9//1.0"
   ]
  },
  {
   "cell_type": "markdown",
   "metadata": {},
   "source": [
    "### Operadores relacionales"
   ]
  },
  {
   "cell_type": "markdown",
   "metadata": {},
   "source": [
    "Son operadores que pueden devolver los valores True (cierto) o False (falso). \n",
    "\n",
    "En programación llamamos a estos valores (True,False) *valores booleanos* o *valores lógicos*"
   ]
  },
  {
   "cell_type": "markdown",
   "metadata": {},
   "source": [
    "| Operador | Significado |\n",
    "|----|---|\n",
    "| == | True, si los dos operandos son iguales, False e.o.c. |\n",
    "| !=  | True, si los dos operandos son diferente, False e.o.c. |\n",
    "| < | menor |\n",
    "| > | mayor  |\n",
    "| <=  | menor o igual  |\n",
    "| >=  | mayor o igual |"
   ]
  },
  {
   "cell_type": "code",
   "execution_count": 30,
   "metadata": {},
   "outputs": [
    {
     "name": "stdout",
     "output_type": "stream",
     "text": [
      "1\n"
     ]
    }
   ],
   "source": [
    "z = 1\n",
    "print(z)"
   ]
  },
  {
   "cell_type": "code",
   "execution_count": 31,
   "metadata": {},
   "outputs": [
    {
     "data": {
      "text/plain": [
       "True"
      ]
     },
     "execution_count": 31,
     "metadata": {},
     "output_type": "execute_result"
    }
   ],
   "source": [
    "z == 1"
   ]
  },
  {
   "cell_type": "code",
   "execution_count": 32,
   "metadata": {},
   "outputs": [
    {
     "data": {
      "text/plain": [
       "False"
      ]
     },
     "execution_count": 32,
     "metadata": {},
     "output_type": "execute_result"
    }
   ],
   "source": [
    "z > 1"
   ]
  },
  {
   "cell_type": "markdown",
   "metadata": {},
   "source": [
    "### Operadores de bit"
   ]
  },
  {
   "cell_type": "markdown",
   "metadata": {},
   "source": [
    "| Símbolo | Significado |\n",
    "|----|---|\n",
    "| &  | Conjunción lógica |\n",
    "| l  | disyunción lógica |\n",
    "| ^  | XOR |\n",
    "| ~  | negación |\n",
    "| >>  | desplazamiento a la derecha |\n",
    "| <<  | desplazamiento a la izquierda |"
   ]
  },
  {
   "cell_type": "code",
   "execution_count": 33,
   "metadata": {
    "collapsed": true
   },
   "outputs": [],
   "source": [
    "a = 2 #10\n",
    "b = 3 #11"
   ]
  },
  {
   "cell_type": "code",
   "execution_count": 35,
   "metadata": {},
   "outputs": [
    {
     "name": "stdout",
     "output_type": "stream",
     "text": [
      "3\n",
      "0b10\n"
     ]
    }
   ],
   "source": [
    "print(a | b)\n",
    "print(bin(a&b))"
   ]
  },
  {
   "cell_type": "code",
   "execution_count": 18,
   "metadata": {},
   "outputs": [
    {
     "data": {
      "text/plain": [
       "2"
      ]
     },
     "execution_count": 18,
     "metadata": {},
     "output_type": "execute_result"
    }
   ],
   "source": [
    "5 >> 1"
   ]
  },
  {
   "cell_type": "markdown",
   "metadata": {},
   "source": [
    "0000 0101 -> 5 \n",
    "\n",
    "El desplazamiento hacia la derecha introduce ceros por la izquierda\n",
    "\n",
    "0000 0010 -> 2"
   ]
  },
  {
   "cell_type": "code",
   "execution_count": 19,
   "metadata": {},
   "outputs": [
    {
     "data": {
      "text/plain": [
       "10"
      ]
     },
     "execution_count": 19,
     "metadata": {},
     "output_type": "execute_result"
    }
   ],
   "source": [
    "5 << 1"
   ]
  },
  {
   "cell_type": "markdown",
   "metadata": {},
   "source": [
    "### Operadores para secuencias\n",
    "\n",
    "En este apartado vemos los operadadores aplicados a las tuplas. Los mismos son aplciables a listas y a strings.\n",
    "\n",
    "El operador + *concatena* dos secuencias"
   ]
  },
  {
   "cell_type": "code",
   "execution_count": 10,
   "metadata": {},
   "outputs": [
    {
     "data": {
      "text/plain": [
       "(1, 2, 3, 4, 5)"
      ]
     },
     "execution_count": 10,
     "metadata": {},
     "output_type": "execute_result"
    }
   ],
   "source": [
    "(1,2,3) + (4,5)"
   ]
  },
  {
   "cell_type": "markdown",
   "metadata": {},
   "source": [
    "El operador * repite una secuencia una cantidad de veces"
   ]
  },
  {
   "cell_type": "code",
   "execution_count": 11,
   "metadata": {},
   "outputs": [
    {
     "data": {
      "text/plain": [
       "(1, 2, 3, 1, 2, 3, 1, 2, 3, 1, 2, 3)"
      ]
     },
     "execution_count": 11,
     "metadata": {},
     "output_type": "execute_result"
    }
   ],
   "source": [
    "(1,2,3)*4"
   ]
  },
  {
   "cell_type": "markdown",
   "metadata": {},
   "source": [
    "El operador *[i]* permite acceder al i-ésimo elemento. Hay que tener en cuenta que el primer elemento es el que ocupa la posición 0, el segundo la posición 1"
   ]
  },
  {
   "cell_type": "code",
   "execution_count": 13,
   "metadata": {},
   "outputs": [
    {
     "data": {
      "text/plain": [
       "1"
      ]
     },
     "execution_count": 13,
     "metadata": {},
     "output_type": "execute_result"
    }
   ],
   "source": [
    "(1,2,3)[0]"
   ]
  },
  {
   "cell_type": "code",
   "execution_count": 21,
   "metadata": {},
   "outputs": [
    {
     "ename": "IndexError",
     "evalue": "tuple index out of range",
     "output_type": "error",
     "traceback": [
      "\u001b[1;31m---------------------------------------------------------------------------\u001b[0m",
      "\u001b[1;31mIndexError\u001b[0m                                Traceback (most recent call last)",
      "\u001b[1;32m<ipython-input-21-0cbbfbefacae>\u001b[0m in \u001b[0;36m<module>\u001b[1;34m()\u001b[0m\n\u001b[1;32m----> 1\u001b[1;33m \u001b[1;33m(\u001b[0m\u001b[1;36m1\u001b[0m\u001b[1;33m,\u001b[0m\u001b[1;36m2\u001b[0m\u001b[1;33m,\u001b[0m\u001b[1;36m3\u001b[0m\u001b[1;33m)\u001b[0m\u001b[1;33m[\u001b[0m\u001b[1;36m3\u001b[0m\u001b[1;33m]\u001b[0m\u001b[1;33m\u001b[0m\u001b[0m\n\u001b[0m",
      "\u001b[1;31mIndexError\u001b[0m: tuple index out of range"
     ]
    }
   ],
   "source": [
    "(1,2,3)[3]"
   ]
  },
  {
   "cell_type": "markdown",
   "metadata": {},
   "source": [
    "Una variante es *[-i]*  que permite el acceso desde el final"
   ]
  },
  {
   "cell_type": "code",
   "execution_count": 17,
   "metadata": {},
   "outputs": [
    {
     "data": {
      "text/plain": [
       "1"
      ]
     },
     "execution_count": 17,
     "metadata": {},
     "output_type": "execute_result"
    }
   ],
   "source": [
    "x = (1,2,3)\n",
    "x[-0]"
   ]
  },
  {
   "cell_type": "code",
   "execution_count": 18,
   "metadata": {},
   "outputs": [
    {
     "data": {
      "text/plain": [
       "3"
      ]
     },
     "execution_count": 18,
     "metadata": {},
     "output_type": "execute_result"
    }
   ],
   "source": [
    "x[-1]"
   ]
  },
  {
   "cell_type": "markdown",
   "metadata": {},
   "source": [
    "Los operadores infijos *in* y  *not in* sirven para determinar si un elemento está o no en una secuencia"
   ]
  },
  {
   "cell_type": "code",
   "execution_count": 34,
   "metadata": {},
   "outputs": [
    {
     "name": "stdout",
     "output_type": "stream",
     "text": [
      "True\n",
      "True\n",
      "False\n"
     ]
    }
   ],
   "source": [
    "x = (1,2,3)\n",
    "print(2 in x)\n",
    "print(5 not in x)\n",
    "print(5  in x)"
   ]
  },
  {
   "cell_type": "markdown",
   "metadata": {},
   "source": [
    "### Slices ###\n",
    "Un tipo especial de operadores son los de \"rodaja\" o *slice*, que extraen una subsecuencia de la secuencia\n",
    "\n",
    "\n",
    "    a[start:stop]  # elementos desde start hasta stop -1\n",
    "    a[start:]      # desde start hasta el final\n",
    "    a[:stop]       # desde el principio hasta stop-1\n",
    "    a[:]           # copia la secuencia\n",
    "    a[start:stop:step] # desde start sin llegar ni pasar de stop, saltando step\n"
   ]
  },
  {
   "cell_type": "code",
   "execution_count": 29,
   "metadata": {},
   "outputs": [
    {
     "name": "stdout",
     "output_type": "stream",
     "text": [
      "(3, 4, 5)\n",
      "(3, 5)\n"
     ]
    }
   ],
   "source": [
    "x = (0,1,2,3,4,5,6,7,8,9,10)\n",
    "print(x[3:6])\n",
    "print(x[3:7:2])"
   ]
  },
  {
   "cell_type": "code",
   "execution_count": 19,
   "metadata": {},
   "outputs": [
    {
     "data": {
      "text/plain": [
       "(2,)"
      ]
     },
     "execution_count": 19,
     "metadata": {},
     "output_type": "execute_result"
    }
   ],
   "source": [
    "x[1:2]"
   ]
  },
  {
   "cell_type": "markdown",
   "metadata": {},
   "source": [
    "La notación (2,) se hace para indicar que es una tupla, no del número (2). Esto es útil para crear tuplas de un solo elemento:"
   ]
  },
  {
   "cell_type": "code",
   "execution_count": 20,
   "metadata": {},
   "outputs": [
    {
     "data": {
      "text/plain": [
       "3"
      ]
     },
     "execution_count": 20,
     "metadata": {},
     "output_type": "execute_result"
    }
   ],
   "source": [
    "y = (3,)\n",
    "y[0]"
   ]
  },
  {
   "cell_type": "markdown",
   "metadata": {},
   "source": [
    "**Ej.** ¿Qué resultado producirá el siguiente código? ¿por qué?"
   ]
  },
  {
   "cell_type": "code",
   "execution_count": 22,
   "metadata": {},
   "outputs": [
    {
     "ename": "TypeError",
     "evalue": "'int' object is not subscriptable",
     "output_type": "error",
     "traceback": [
      "\u001b[1;31m---------------------------------------------------------------------------\u001b[0m",
      "\u001b[1;31mTypeError\u001b[0m                                 Traceback (most recent call last)",
      "\u001b[1;32m<ipython-input-22-63efe85b456d>\u001b[0m in \u001b[0;36m<module>\u001b[1;34m()\u001b[0m\n\u001b[0;32m      1\u001b[0m \u001b[0my\u001b[0m \u001b[1;33m=\u001b[0m \u001b[1;33m(\u001b[0m\u001b[1;36m3\u001b[0m\u001b[1;33m)\u001b[0m\u001b[1;33m\u001b[0m\u001b[0m\n\u001b[1;32m----> 2\u001b[1;33m \u001b[0my\u001b[0m\u001b[1;33m[\u001b[0m\u001b[1;36m0\u001b[0m\u001b[1;33m]\u001b[0m\u001b[1;33m\u001b[0m\u001b[0m\n\u001b[0m",
      "\u001b[1;31mTypeError\u001b[0m: 'int' object is not subscriptable"
     ]
    }
   ],
   "source": [
    "y = (3)\n",
    "y[0]"
   ]
  },
  {
   "cell_type": "markdown",
   "metadata": {},
   "source": [
    "**Ej.** ¿Qué resultado producirá el siguiente código? ¿por qué?"
   ]
  },
  {
   "cell_type": "code",
   "execution_count": 25,
   "metadata": {},
   "outputs": [
    {
     "data": {
      "text/plain": [
       "7"
      ]
     },
     "execution_count": 25,
     "metadata": {},
     "output_type": "execute_result"
    }
   ],
   "source": [
    "a = (1,2,3,4,5,6,7,8,9,10)\n",
    "a[2:][4]"
   ]
  },
  {
   "cell_type": "markdown",
   "metadata": {},
   "source": [
    "## Funciones predefinidas"
   ]
  },
  {
   "cell_type": "markdown",
   "metadata": {},
   "source": [
    "Las funciones agrupan fragmentos de código con un propósito concreto bajo cierto nombre. Para añadir flexibilidad, pueden recibir valores de entrada y devolver valores de salida. Algunas funciones ya están predefinidas en el sistema, pero el usuario también puede definir sus propias funciones, como veremos en otro cuaderno."
   ]
  },
  {
   "cell_type": "markdown",
   "metadata": {},
   "source": []
  },
  {
   "cell_type": "markdown",
   "metadata": {},
   "source": [
    "Python incluye numerosas funciones predefinidas. Veamos algunas de ellas.\n",
    "\n",
    "| Función | Significado |\n",
    "|----|---|\n",
    "| 0xV  | Convierte el número hexadecimal V en entero |\n",
    "| hex(x)  | convierte x a su representación hexadecimal, como cadena |\n",
    "| 0oV  | Convierte el número octal V en entero |\n",
    "| oct(x)  | convierte x a su representación octal, como cadena |\n",
    "| 0b  | Convierte el número binario V en entero |\n",
    "| bin(x)  | convierte x a su representación binaria, como cadena |\n",
    "| int(x,b)  | Representa el número x en base b|\n",
    "| int(x)  | Convierte el número real x en su parte entera |\n",
    "| int(x)  | Convierte el string x en un entero |\n",
    "| >>  | desplazamiento a la derecha |\n",
    "| <<  | desplazamiento a la izquierda |"
   ]
  },
  {
   "cell_type": "markdown",
   "metadata": {},
   "source": [
    "### Conversión entre bases"
   ]
  },
  {
   "cell_type": "markdown",
   "metadata": {},
   "source": [
    "Python considera que un número está escrito en hexadecimal anteponiendo el prefijo **0x**. También se puede convertir un entero en hexadecimal utilizando la función **hex( )**. Ojo porque esta función devuelve el valor  hexadecimal, pero como una cadena de caracteres."
   ]
  },
  {
   "cell_type": "code",
   "execution_count": 41,
   "metadata": {},
   "outputs": [
    {
     "data": {
      "text/plain": [
       "'0x6b2'"
      ]
     },
     "execution_count": 41,
     "metadata": {},
     "output_type": "execute_result"
    }
   ],
   "source": [
    "hex(1714) "
   ]
  },
  {
   "cell_type": "code",
   "execution_count": 38,
   "metadata": {},
   "outputs": [
    {
     "data": {
      "text/plain": [
       "1714"
      ]
     },
     "execution_count": 38,
     "metadata": {},
     "output_type": "execute_result"
    }
   ],
   "source": [
    "0x6B2"
   ]
  },
  {
   "cell_type": "markdown",
   "metadata": {},
   "source": [
    "Para representar un valor en octal antepondremos el prefijo **0o**  al valor octal. \n",
    "\n",
    "Viceversa, la función **oct( )** permite convertir un valor decimal en octal, pero representado como caracteres.\n"
   ]
  },
  {
   "cell_type": "code",
   "execution_count": 54,
   "metadata": {},
   "outputs": [
    {
     "data": {
      "text/plain": [
       "'0o10'"
      ]
     },
     "execution_count": 54,
     "metadata": {},
     "output_type": "execute_result"
    }
   ],
   "source": [
    "oct(8)"
   ]
  },
  {
   "cell_type": "code",
   "execution_count": 55,
   "metadata": {},
   "outputs": [
    {
     "data": {
      "text/plain": [
       "8"
      ]
     },
     "execution_count": 55,
     "metadata": {},
     "output_type": "execute_result"
    }
   ],
   "source": [
    "0o10"
   ]
  },
  {
   "cell_type": "markdown",
   "metadata": {},
   "source": [
    "En el caso de números binarios podemos utilizar el prefijo 0b y la función bin()"
   ]
  },
  {
   "cell_type": "code",
   "execution_count": 42,
   "metadata": {},
   "outputs": [
    {
     "data": {
      "text/plain": [
       "15"
      ]
     },
     "execution_count": 42,
     "metadata": {},
     "output_type": "execute_result"
    }
   ],
   "source": [
    "0b01111"
   ]
  },
  {
   "cell_type": "code",
   "execution_count": 50,
   "metadata": {},
   "outputs": [
    {
     "data": {
      "text/plain": [
       "'0b1111'"
      ]
     },
     "execution_count": 50,
     "metadata": {},
     "output_type": "execute_result"
    }
   ],
   "source": [
    "bin(15)"
   ]
  },
  {
   "cell_type": "markdown",
   "metadata": {},
   "source": [
    "La función **int(x,b)** convierte a entero el número x, que es un string en base b"
   ]
  },
  {
   "cell_type": "code",
   "execution_count": 77,
   "metadata": {},
   "outputs": [
    {
     "name": "stdout",
     "output_type": "stream",
     "text": [
      "520\n",
      "47802\n",
      "47802\n",
      "10\n",
      "8469720880\n"
     ]
    }
   ],
   "source": [
    "print(int('1010',8))\n",
    "print(int('baba',16))\n",
    "print(int('0xbaba',16))\n",
    "print(int('1010',2))\n",
    "print(int('bigdata',30))\n"
   ]
  },
  {
   "cell_type": "markdown",
   "metadata": {},
   "source": [
    "###### Ej. En matemáticas, decimos que f y g son funciones inversas si para todo valor x, se cumple que \n",
    "\n",
    "f(g(x)) == x \n",
    "\n",
    "y para todo valor y\n",
    "\n",
    "g(f(y)) == y\n",
    "\n",
    "¿Cual es la inversa de la función hex(x)? (para pensar, la respuesta no es trivial)"
   ]
  },
  {
   "cell_type": "code",
   "execution_count": 70,
   "metadata": {},
   "outputs": [
    {
     "data": {
      "text/plain": [
       "True"
      ]
     },
     "execution_count": 70,
     "metadata": {},
     "output_type": "execute_result"
    }
   ],
   "source": [
    "x = 0xacaba\n",
    "y = '0xcaba'\n",
    "# Solución, cambiar f,g por las funciones adecuadas para que se cumpla\n",
    "\n",
    "# f(g(x)) == x\n",
    "# g(f(y)) == y\n",
    "\n"
   ]
  },
  {
   "cell_type": "markdown",
   "metadata": {},
   "source": [
    "### Funciones para secuencias\n",
    "En el caso de las secuencias, tenemos algunas funciones predefinidas interesantes. La más conocida es **len(x)** que devuelve el número de elementos de la secuencia *x*"
   ]
  },
  {
   "cell_type": "code",
   "execution_count": 30,
   "metadata": {},
   "outputs": [
    {
     "data": {
      "text/plain": [
       "2"
      ]
     },
     "execution_count": 30,
     "metadata": {},
     "output_type": "execute_result"
    }
   ],
   "source": [
    "x = (0,1,2,3,4,5,6,7)\n",
    "len(x[1:3])"
   ]
  },
  {
   "cell_type": "markdown",
   "metadata": {},
   "source": [
    "También se pueden utilizar otras funciones como\n",
    "\n",
    "- mySeq.*index*(x): devuelve la posición (empezando desde 0) de la primera ocurrencia del valor x en la secuencia mySeq, o un error si no x no aparece.  Si se quiere evitar el error mejor emplear el operador *in* dentro de una instrucción *if*. \n",
    "\n",
    "- min(mySeq), max(mySeq): devuelve el menor y el mayor elemento de mySeq, respectivamente.\n",
    "    \n",
    "- mySeq.count(x): devuelve el número de apariciones del valor x en mySeq."
   ]
  },
  {
   "cell_type": "code",
   "execution_count": 2,
   "metadata": {},
   "outputs": [
    {
     "data": {
      "text/plain": [
       "5"
      ]
     },
     "execution_count": 2,
     "metadata": {},
     "output_type": "execute_result"
    }
   ],
   "source": [
    "x = (\"Si\", \"me\", \"quieres\", \"quiéreme\", \"entera\", \"no\", \"por\", \"zonas\", \"de\", \"luz\", \"o\", \"sombra\")\n",
    "x.index(\"no\")"
   ]
  },
  {
   "cell_type": "markdown",
   "metadata": {},
   "source": [
    "**Ej.** ¿Qué devolverá la siguiente expresión?"
   ]
  },
  {
   "cell_type": "code",
   "execution_count": 8,
   "metadata": {},
   "outputs": [],
   "source": [
    "# quitar el comentario de la línea inferior para probar\n",
    "#max(x[1:])"
   ]
  },
  {
   "cell_type": "markdown",
   "metadata": {},
   "source": [
    "## Importación de bibliotecas\n"
   ]
  },
  {
   "cell_type": "markdown",
   "metadata": {},
   "source": [
    "Una de las razones del éxito de Python es la gran cantidad de *bibliotecas* que contienen funciones útiles. Estas bibliotecas ( o módulos, como se denominan en Python) se pueden instalar desde una consola (una consola de Anaconda si estamos en este sistema)\n",
    "\n",
    " \n",
    "    pip install modulo\n",
    "\n",
    "\n",
    "o, si no tenemos permiso para instalar para todos los usuarios\n",
    "\n",
    "    pip install --user  modulo\n",
    "    \n",
    "En algunos sistemas puede que en lugar de *pip* tengamos que utilizar *pip3*.\n",
    "\n",
    "El siguiente ejemplo importa (hace visible al programa) los módulos random y math"
   ]
  },
  {
   "cell_type": "code",
   "execution_count": 10,
   "metadata": {},
   "outputs": [
    {
     "name": "stdout",
     "output_type": "stream",
     "text": [
      "21\n",
      "1\n",
      "8\n",
      "17\n",
      "23\n",
      "3.141592653589793\n"
     ]
    }
   ],
   "source": [
    "import random\n",
    "import math\n",
    "\n",
    "\n",
    "for i in range(5):\n",
    "    print(random.randint(1, 25))\n",
    "\n",
    "print(math.pi)"
   ]
  },
  {
   "cell_type": "markdown",
   "metadata": {},
   "source": [
    "Lo de escribir \n",
    "\n",
    "        random.randint \n",
    "\n",
    "todo el tiempo puede resultar molesto. Si queremos usar solo randint podemos poner:"
   ]
  },
  {
   "cell_type": "code",
   "execution_count": 12,
   "metadata": {},
   "outputs": [
    {
     "name": "stdout",
     "output_type": "stream",
     "text": [
      "17\n",
      "9\n",
      "20\n",
      "18\n",
      "11\n",
      "3.141592653589793\n"
     ]
    }
   ],
   "source": [
    "from random import randint\n",
    "from math import pi\n",
    "\n",
    "\n",
    "for i in range(5):\n",
    "    print(randint(1, 25))\n",
    "\n",
    "print(pi)"
   ]
  },
  {
   "cell_type": "markdown",
   "metadata": {},
   "source": [
    "Una última posibilidad es renombrar para utilizar nombres más cortos. El siguiente ejemplo (que no hace falta entender completamente) utiliza esta posibilidad para dibujar gráficos de barras"
   ]
  },
  {
   "cell_type": "code",
   "execution_count": 17,
   "metadata": {},
   "outputs": [
    {
     "name": "stdout",
     "output_type": "stream",
     "text": [
      "ind [0 1 2 3 4]\n"
     ]
    },
    {
     "data": {
      "application/javascript": [
       "/* Put everything inside the global mpl namespace */\n",
       "window.mpl = {};\n",
       "\n",
       "\n",
       "mpl.get_websocket_type = function() {\n",
       "    if (typeof(WebSocket) !== 'undefined') {\n",
       "        return WebSocket;\n",
       "    } else if (typeof(MozWebSocket) !== 'undefined') {\n",
       "        return MozWebSocket;\n",
       "    } else {\n",
       "        alert('Your browser does not have WebSocket support.' +\n",
       "              'Please try Chrome, Safari or Firefox ≥ 6. ' +\n",
       "              'Firefox 4 and 5 are also supported but you ' +\n",
       "              'have to enable WebSockets in about:config.');\n",
       "    };\n",
       "}\n",
       "\n",
       "mpl.figure = function(figure_id, websocket, ondownload, parent_element) {\n",
       "    this.id = figure_id;\n",
       "\n",
       "    this.ws = websocket;\n",
       "\n",
       "    this.supports_binary = (this.ws.binaryType != undefined);\n",
       "\n",
       "    if (!this.supports_binary) {\n",
       "        var warnings = document.getElementById(\"mpl-warnings\");\n",
       "        if (warnings) {\n",
       "            warnings.style.display = 'block';\n",
       "            warnings.textContent = (\n",
       "                \"This browser does not support binary websocket messages. \" +\n",
       "                    \"Performance may be slow.\");\n",
       "        }\n",
       "    }\n",
       "\n",
       "    this.imageObj = new Image();\n",
       "\n",
       "    this.context = undefined;\n",
       "    this.message = undefined;\n",
       "    this.canvas = undefined;\n",
       "    this.rubberband_canvas = undefined;\n",
       "    this.rubberband_context = undefined;\n",
       "    this.format_dropdown = undefined;\n",
       "\n",
       "    this.image_mode = 'full';\n",
       "\n",
       "    this.root = $('<div/>');\n",
       "    this._root_extra_style(this.root)\n",
       "    this.root.attr('style', 'display: inline-block');\n",
       "\n",
       "    $(parent_element).append(this.root);\n",
       "\n",
       "    this._init_header(this);\n",
       "    this._init_canvas(this);\n",
       "    this._init_toolbar(this);\n",
       "\n",
       "    var fig = this;\n",
       "\n",
       "    this.waiting = false;\n",
       "\n",
       "    this.ws.onopen =  function () {\n",
       "            fig.send_message(\"supports_binary\", {value: fig.supports_binary});\n",
       "            fig.send_message(\"send_image_mode\", {});\n",
       "            if (mpl.ratio != 1) {\n",
       "                fig.send_message(\"set_dpi_ratio\", {'dpi_ratio': mpl.ratio});\n",
       "            }\n",
       "            fig.send_message(\"refresh\", {});\n",
       "        }\n",
       "\n",
       "    this.imageObj.onload = function() {\n",
       "            if (fig.image_mode == 'full') {\n",
       "                // Full images could contain transparency (where diff images\n",
       "                // almost always do), so we need to clear the canvas so that\n",
       "                // there is no ghosting.\n",
       "                fig.context.clearRect(0, 0, fig.canvas.width, fig.canvas.height);\n",
       "            }\n",
       "            fig.context.drawImage(fig.imageObj, 0, 0);\n",
       "        };\n",
       "\n",
       "    this.imageObj.onunload = function() {\n",
       "        fig.ws.close();\n",
       "    }\n",
       "\n",
       "    this.ws.onmessage = this._make_on_message_function(this);\n",
       "\n",
       "    this.ondownload = ondownload;\n",
       "}\n",
       "\n",
       "mpl.figure.prototype._init_header = function() {\n",
       "    var titlebar = $(\n",
       "        '<div class=\"ui-dialog-titlebar ui-widget-header ui-corner-all ' +\n",
       "        'ui-helper-clearfix\"/>');\n",
       "    var titletext = $(\n",
       "        '<div class=\"ui-dialog-title\" style=\"width: 100%; ' +\n",
       "        'text-align: center; padding: 3px;\"/>');\n",
       "    titlebar.append(titletext)\n",
       "    this.root.append(titlebar);\n",
       "    this.header = titletext[0];\n",
       "}\n",
       "\n",
       "\n",
       "\n",
       "mpl.figure.prototype._canvas_extra_style = function(canvas_div) {\n",
       "\n",
       "}\n",
       "\n",
       "\n",
       "mpl.figure.prototype._root_extra_style = function(canvas_div) {\n",
       "\n",
       "}\n",
       "\n",
       "mpl.figure.prototype._init_canvas = function() {\n",
       "    var fig = this;\n",
       "\n",
       "    var canvas_div = $('<div/>');\n",
       "\n",
       "    canvas_div.attr('style', 'position: relative; clear: both; outline: 0');\n",
       "\n",
       "    function canvas_keyboard_event(event) {\n",
       "        return fig.key_event(event, event['data']);\n",
       "    }\n",
       "\n",
       "    canvas_div.keydown('key_press', canvas_keyboard_event);\n",
       "    canvas_div.keyup('key_release', canvas_keyboard_event);\n",
       "    this.canvas_div = canvas_div\n",
       "    this._canvas_extra_style(canvas_div)\n",
       "    this.root.append(canvas_div);\n",
       "\n",
       "    var canvas = $('<canvas/>');\n",
       "    canvas.addClass('mpl-canvas');\n",
       "    canvas.attr('style', \"left: 0; top: 0; z-index: 0; outline: 0\")\n",
       "\n",
       "    this.canvas = canvas[0];\n",
       "    this.context = canvas[0].getContext(\"2d\");\n",
       "\n",
       "    var backingStore = this.context.backingStorePixelRatio ||\n",
       "\tthis.context.webkitBackingStorePixelRatio ||\n",
       "\tthis.context.mozBackingStorePixelRatio ||\n",
       "\tthis.context.msBackingStorePixelRatio ||\n",
       "\tthis.context.oBackingStorePixelRatio ||\n",
       "\tthis.context.backingStorePixelRatio || 1;\n",
       "\n",
       "    mpl.ratio = (window.devicePixelRatio || 1) / backingStore;\n",
       "\n",
       "    var rubberband = $('<canvas/>');\n",
       "    rubberband.attr('style', \"position: absolute; left: 0; top: 0; z-index: 1;\")\n",
       "\n",
       "    var pass_mouse_events = true;\n",
       "\n",
       "    canvas_div.resizable({\n",
       "        start: function(event, ui) {\n",
       "            pass_mouse_events = false;\n",
       "        },\n",
       "        resize: function(event, ui) {\n",
       "            fig.request_resize(ui.size.width, ui.size.height);\n",
       "        },\n",
       "        stop: function(event, ui) {\n",
       "            pass_mouse_events = true;\n",
       "            fig.request_resize(ui.size.width, ui.size.height);\n",
       "        },\n",
       "    });\n",
       "\n",
       "    function mouse_event_fn(event) {\n",
       "        if (pass_mouse_events)\n",
       "            return fig.mouse_event(event, event['data']);\n",
       "    }\n",
       "\n",
       "    rubberband.mousedown('button_press', mouse_event_fn);\n",
       "    rubberband.mouseup('button_release', mouse_event_fn);\n",
       "    // Throttle sequential mouse events to 1 every 20ms.\n",
       "    rubberband.mousemove('motion_notify', mouse_event_fn);\n",
       "\n",
       "    rubberband.mouseenter('figure_enter', mouse_event_fn);\n",
       "    rubberband.mouseleave('figure_leave', mouse_event_fn);\n",
       "\n",
       "    canvas_div.on(\"wheel\", function (event) {\n",
       "        event = event.originalEvent;\n",
       "        event['data'] = 'scroll'\n",
       "        if (event.deltaY < 0) {\n",
       "            event.step = 1;\n",
       "        } else {\n",
       "            event.step = -1;\n",
       "        }\n",
       "        mouse_event_fn(event);\n",
       "    });\n",
       "\n",
       "    canvas_div.append(canvas);\n",
       "    canvas_div.append(rubberband);\n",
       "\n",
       "    this.rubberband = rubberband;\n",
       "    this.rubberband_canvas = rubberband[0];\n",
       "    this.rubberband_context = rubberband[0].getContext(\"2d\");\n",
       "    this.rubberband_context.strokeStyle = \"#000000\";\n",
       "\n",
       "    this._resize_canvas = function(width, height) {\n",
       "        // Keep the size of the canvas, canvas container, and rubber band\n",
       "        // canvas in synch.\n",
       "        canvas_div.css('width', width)\n",
       "        canvas_div.css('height', height)\n",
       "\n",
       "        canvas.attr('width', width * mpl.ratio);\n",
       "        canvas.attr('height', height * mpl.ratio);\n",
       "        canvas.attr('style', 'width: ' + width + 'px; height: ' + height + 'px;');\n",
       "\n",
       "        rubberband.attr('width', width);\n",
       "        rubberband.attr('height', height);\n",
       "    }\n",
       "\n",
       "    // Set the figure to an initial 600x600px, this will subsequently be updated\n",
       "    // upon first draw.\n",
       "    this._resize_canvas(600, 600);\n",
       "\n",
       "    // Disable right mouse context menu.\n",
       "    $(this.rubberband_canvas).bind(\"contextmenu\",function(e){\n",
       "        return false;\n",
       "    });\n",
       "\n",
       "    function set_focus () {\n",
       "        canvas.focus();\n",
       "        canvas_div.focus();\n",
       "    }\n",
       "\n",
       "    window.setTimeout(set_focus, 100);\n",
       "}\n",
       "\n",
       "mpl.figure.prototype._init_toolbar = function() {\n",
       "    var fig = this;\n",
       "\n",
       "    var nav_element = $('<div/>')\n",
       "    nav_element.attr('style', 'width: 100%');\n",
       "    this.root.append(nav_element);\n",
       "\n",
       "    // Define a callback function for later on.\n",
       "    function toolbar_event(event) {\n",
       "        return fig.toolbar_button_onclick(event['data']);\n",
       "    }\n",
       "    function toolbar_mouse_event(event) {\n",
       "        return fig.toolbar_button_onmouseover(event['data']);\n",
       "    }\n",
       "\n",
       "    for(var toolbar_ind in mpl.toolbar_items) {\n",
       "        var name = mpl.toolbar_items[toolbar_ind][0];\n",
       "        var tooltip = mpl.toolbar_items[toolbar_ind][1];\n",
       "        var image = mpl.toolbar_items[toolbar_ind][2];\n",
       "        var method_name = mpl.toolbar_items[toolbar_ind][3];\n",
       "\n",
       "        if (!name) {\n",
       "            // put a spacer in here.\n",
       "            continue;\n",
       "        }\n",
       "        var button = $('<button/>');\n",
       "        button.addClass('ui-button ui-widget ui-state-default ui-corner-all ' +\n",
       "                        'ui-button-icon-only');\n",
       "        button.attr('role', 'button');\n",
       "        button.attr('aria-disabled', 'false');\n",
       "        button.click(method_name, toolbar_event);\n",
       "        button.mouseover(tooltip, toolbar_mouse_event);\n",
       "\n",
       "        var icon_img = $('<span/>');\n",
       "        icon_img.addClass('ui-button-icon-primary ui-icon');\n",
       "        icon_img.addClass(image);\n",
       "        icon_img.addClass('ui-corner-all');\n",
       "\n",
       "        var tooltip_span = $('<span/>');\n",
       "        tooltip_span.addClass('ui-button-text');\n",
       "        tooltip_span.html(tooltip);\n",
       "\n",
       "        button.append(icon_img);\n",
       "        button.append(tooltip_span);\n",
       "\n",
       "        nav_element.append(button);\n",
       "    }\n",
       "\n",
       "    var fmt_picker_span = $('<span/>');\n",
       "\n",
       "    var fmt_picker = $('<select/>');\n",
       "    fmt_picker.addClass('mpl-toolbar-option ui-widget ui-widget-content');\n",
       "    fmt_picker_span.append(fmt_picker);\n",
       "    nav_element.append(fmt_picker_span);\n",
       "    this.format_dropdown = fmt_picker[0];\n",
       "\n",
       "    for (var ind in mpl.extensions) {\n",
       "        var fmt = mpl.extensions[ind];\n",
       "        var option = $(\n",
       "            '<option/>', {selected: fmt === mpl.default_extension}).html(fmt);\n",
       "        fmt_picker.append(option)\n",
       "    }\n",
       "\n",
       "    // Add hover states to the ui-buttons\n",
       "    $( \".ui-button\" ).hover(\n",
       "        function() { $(this).addClass(\"ui-state-hover\");},\n",
       "        function() { $(this).removeClass(\"ui-state-hover\");}\n",
       "    );\n",
       "\n",
       "    var status_bar = $('<span class=\"mpl-message\"/>');\n",
       "    nav_element.append(status_bar);\n",
       "    this.message = status_bar[0];\n",
       "}\n",
       "\n",
       "mpl.figure.prototype.request_resize = function(x_pixels, y_pixels) {\n",
       "    // Request matplotlib to resize the figure. Matplotlib will then trigger a resize in the client,\n",
       "    // which will in turn request a refresh of the image.\n",
       "    this.send_message('resize', {'width': x_pixels, 'height': y_pixels});\n",
       "}\n",
       "\n",
       "mpl.figure.prototype.send_message = function(type, properties) {\n",
       "    properties['type'] = type;\n",
       "    properties['figure_id'] = this.id;\n",
       "    this.ws.send(JSON.stringify(properties));\n",
       "}\n",
       "\n",
       "mpl.figure.prototype.send_draw_message = function() {\n",
       "    if (!this.waiting) {\n",
       "        this.waiting = true;\n",
       "        this.ws.send(JSON.stringify({type: \"draw\", figure_id: this.id}));\n",
       "    }\n",
       "}\n",
       "\n",
       "\n",
       "mpl.figure.prototype.handle_save = function(fig, msg) {\n",
       "    var format_dropdown = fig.format_dropdown;\n",
       "    var format = format_dropdown.options[format_dropdown.selectedIndex].value;\n",
       "    fig.ondownload(fig, format);\n",
       "}\n",
       "\n",
       "\n",
       "mpl.figure.prototype.handle_resize = function(fig, msg) {\n",
       "    var size = msg['size'];\n",
       "    if (size[0] != fig.canvas.width || size[1] != fig.canvas.height) {\n",
       "        fig._resize_canvas(size[0], size[1]);\n",
       "        fig.send_message(\"refresh\", {});\n",
       "    };\n",
       "}\n",
       "\n",
       "mpl.figure.prototype.handle_rubberband = function(fig, msg) {\n",
       "    var x0 = msg['x0'] / mpl.ratio;\n",
       "    var y0 = (fig.canvas.height - msg['y0']) / mpl.ratio;\n",
       "    var x1 = msg['x1'] / mpl.ratio;\n",
       "    var y1 = (fig.canvas.height - msg['y1']) / mpl.ratio;\n",
       "    x0 = Math.floor(x0) + 0.5;\n",
       "    y0 = Math.floor(y0) + 0.5;\n",
       "    x1 = Math.floor(x1) + 0.5;\n",
       "    y1 = Math.floor(y1) + 0.5;\n",
       "    var min_x = Math.min(x0, x1);\n",
       "    var min_y = Math.min(y0, y1);\n",
       "    var width = Math.abs(x1 - x0);\n",
       "    var height = Math.abs(y1 - y0);\n",
       "\n",
       "    fig.rubberband_context.clearRect(\n",
       "        0, 0, fig.canvas.width, fig.canvas.height);\n",
       "\n",
       "    fig.rubberband_context.strokeRect(min_x, min_y, width, height);\n",
       "}\n",
       "\n",
       "mpl.figure.prototype.handle_figure_label = function(fig, msg) {\n",
       "    // Updates the figure title.\n",
       "    fig.header.textContent = msg['label'];\n",
       "}\n",
       "\n",
       "mpl.figure.prototype.handle_cursor = function(fig, msg) {\n",
       "    var cursor = msg['cursor'];\n",
       "    switch(cursor)\n",
       "    {\n",
       "    case 0:\n",
       "        cursor = 'pointer';\n",
       "        break;\n",
       "    case 1:\n",
       "        cursor = 'default';\n",
       "        break;\n",
       "    case 2:\n",
       "        cursor = 'crosshair';\n",
       "        break;\n",
       "    case 3:\n",
       "        cursor = 'move';\n",
       "        break;\n",
       "    }\n",
       "    fig.rubberband_canvas.style.cursor = cursor;\n",
       "}\n",
       "\n",
       "mpl.figure.prototype.handle_message = function(fig, msg) {\n",
       "    fig.message.textContent = msg['message'];\n",
       "}\n",
       "\n",
       "mpl.figure.prototype.handle_draw = function(fig, msg) {\n",
       "    // Request the server to send over a new figure.\n",
       "    fig.send_draw_message();\n",
       "}\n",
       "\n",
       "mpl.figure.prototype.handle_image_mode = function(fig, msg) {\n",
       "    fig.image_mode = msg['mode'];\n",
       "}\n",
       "\n",
       "mpl.figure.prototype.updated_canvas_event = function() {\n",
       "    // Called whenever the canvas gets updated.\n",
       "    this.send_message(\"ack\", {});\n",
       "}\n",
       "\n",
       "// A function to construct a web socket function for onmessage handling.\n",
       "// Called in the figure constructor.\n",
       "mpl.figure.prototype._make_on_message_function = function(fig) {\n",
       "    return function socket_on_message(evt) {\n",
       "        if (evt.data instanceof Blob) {\n",
       "            /* FIXME: We get \"Resource interpreted as Image but\n",
       "             * transferred with MIME type text/plain:\" errors on\n",
       "             * Chrome.  But how to set the MIME type?  It doesn't seem\n",
       "             * to be part of the websocket stream */\n",
       "            evt.data.type = \"image/png\";\n",
       "\n",
       "            /* Free the memory for the previous frames */\n",
       "            if (fig.imageObj.src) {\n",
       "                (window.URL || window.webkitURL).revokeObjectURL(\n",
       "                    fig.imageObj.src);\n",
       "            }\n",
       "\n",
       "            fig.imageObj.src = (window.URL || window.webkitURL).createObjectURL(\n",
       "                evt.data);\n",
       "            fig.updated_canvas_event();\n",
       "            fig.waiting = false;\n",
       "            return;\n",
       "        }\n",
       "        else if (typeof evt.data === 'string' && evt.data.slice(0, 21) == \"data:image/png;base64\") {\n",
       "            fig.imageObj.src = evt.data;\n",
       "            fig.updated_canvas_event();\n",
       "            fig.waiting = false;\n",
       "            return;\n",
       "        }\n",
       "\n",
       "        var msg = JSON.parse(evt.data);\n",
       "        var msg_type = msg['type'];\n",
       "\n",
       "        // Call the  \"handle_{type}\" callback, which takes\n",
       "        // the figure and JSON message as its only arguments.\n",
       "        try {\n",
       "            var callback = fig[\"handle_\" + msg_type];\n",
       "        } catch (e) {\n",
       "            console.log(\"No handler for the '\" + msg_type + \"' message type: \", msg);\n",
       "            return;\n",
       "        }\n",
       "\n",
       "        if (callback) {\n",
       "            try {\n",
       "                // console.log(\"Handling '\" + msg_type + \"' message: \", msg);\n",
       "                callback(fig, msg);\n",
       "            } catch (e) {\n",
       "                console.log(\"Exception inside the 'handler_\" + msg_type + \"' callback:\", e, e.stack, msg);\n",
       "            }\n",
       "        }\n",
       "    };\n",
       "}\n",
       "\n",
       "// from http://stackoverflow.com/questions/1114465/getting-mouse-location-in-canvas\n",
       "mpl.findpos = function(e) {\n",
       "    //this section is from http://www.quirksmode.org/js/events_properties.html\n",
       "    var targ;\n",
       "    if (!e)\n",
       "        e = window.event;\n",
       "    if (e.target)\n",
       "        targ = e.target;\n",
       "    else if (e.srcElement)\n",
       "        targ = e.srcElement;\n",
       "    if (targ.nodeType == 3) // defeat Safari bug\n",
       "        targ = targ.parentNode;\n",
       "\n",
       "    // jQuery normalizes the pageX and pageY\n",
       "    // pageX,Y are the mouse positions relative to the document\n",
       "    // offset() returns the position of the element relative to the document\n",
       "    var x = e.pageX - $(targ).offset().left;\n",
       "    var y = e.pageY - $(targ).offset().top;\n",
       "\n",
       "    return {\"x\": x, \"y\": y};\n",
       "};\n",
       "\n",
       "/*\n",
       " * return a copy of an object with only non-object keys\n",
       " * we need this to avoid circular references\n",
       " * http://stackoverflow.com/a/24161582/3208463\n",
       " */\n",
       "function simpleKeys (original) {\n",
       "  return Object.keys(original).reduce(function (obj, key) {\n",
       "    if (typeof original[key] !== 'object')\n",
       "        obj[key] = original[key]\n",
       "    return obj;\n",
       "  }, {});\n",
       "}\n",
       "\n",
       "mpl.figure.prototype.mouse_event = function(event, name) {\n",
       "    var canvas_pos = mpl.findpos(event)\n",
       "\n",
       "    if (name === 'button_press')\n",
       "    {\n",
       "        this.canvas.focus();\n",
       "        this.canvas_div.focus();\n",
       "    }\n",
       "\n",
       "    var x = canvas_pos.x * mpl.ratio;\n",
       "    var y = canvas_pos.y * mpl.ratio;\n",
       "\n",
       "    this.send_message(name, {x: x, y: y, button: event.button,\n",
       "                             step: event.step,\n",
       "                             guiEvent: simpleKeys(event)});\n",
       "\n",
       "    /* This prevents the web browser from automatically changing to\n",
       "     * the text insertion cursor when the button is pressed.  We want\n",
       "     * to control all of the cursor setting manually through the\n",
       "     * 'cursor' event from matplotlib */\n",
       "    event.preventDefault();\n",
       "    return false;\n",
       "}\n",
       "\n",
       "mpl.figure.prototype._key_event_extra = function(event, name) {\n",
       "    // Handle any extra behaviour associated with a key event\n",
       "}\n",
       "\n",
       "mpl.figure.prototype.key_event = function(event, name) {\n",
       "\n",
       "    // Prevent repeat events\n",
       "    if (name == 'key_press')\n",
       "    {\n",
       "        if (event.which === this._key)\n",
       "            return;\n",
       "        else\n",
       "            this._key = event.which;\n",
       "    }\n",
       "    if (name == 'key_release')\n",
       "        this._key = null;\n",
       "\n",
       "    var value = '';\n",
       "    if (event.ctrlKey && event.which != 17)\n",
       "        value += \"ctrl+\";\n",
       "    if (event.altKey && event.which != 18)\n",
       "        value += \"alt+\";\n",
       "    if (event.shiftKey && event.which != 16)\n",
       "        value += \"shift+\";\n",
       "\n",
       "    value += 'k';\n",
       "    value += event.which.toString();\n",
       "\n",
       "    this._key_event_extra(event, name);\n",
       "\n",
       "    this.send_message(name, {key: value,\n",
       "                             guiEvent: simpleKeys(event)});\n",
       "    return false;\n",
       "}\n",
       "\n",
       "mpl.figure.prototype.toolbar_button_onclick = function(name) {\n",
       "    if (name == 'download') {\n",
       "        this.handle_save(this, null);\n",
       "    } else {\n",
       "        this.send_message(\"toolbar_button\", {name: name});\n",
       "    }\n",
       "};\n",
       "\n",
       "mpl.figure.prototype.toolbar_button_onmouseover = function(tooltip) {\n",
       "    this.message.textContent = tooltip;\n",
       "};\n",
       "mpl.toolbar_items = [[\"Home\", \"Reset original view\", \"fa fa-home icon-home\", \"home\"], [\"Back\", \"Back to  previous view\", \"fa fa-arrow-left icon-arrow-left\", \"back\"], [\"Forward\", \"Forward to next view\", \"fa fa-arrow-right icon-arrow-right\", \"forward\"], [\"\", \"\", \"\", \"\"], [\"Pan\", \"Pan axes with left mouse, zoom with right\", \"fa fa-arrows icon-move\", \"pan\"], [\"Zoom\", \"Zoom to rectangle\", \"fa fa-square-o icon-check-empty\", \"zoom\"], [\"\", \"\", \"\", \"\"], [\"Download\", \"Download plot\", \"fa fa-floppy-o icon-save\", \"download\"]];\n",
       "\n",
       "mpl.extensions = [\"eps\", \"jpeg\", \"pdf\", \"png\", \"ps\", \"raw\", \"svg\", \"tif\"];\n",
       "\n",
       "mpl.default_extension = \"png\";var comm_websocket_adapter = function(comm) {\n",
       "    // Create a \"websocket\"-like object which calls the given IPython comm\n",
       "    // object with the appropriate methods. Currently this is a non binary\n",
       "    // socket, so there is still some room for performance tuning.\n",
       "    var ws = {};\n",
       "\n",
       "    ws.close = function() {\n",
       "        comm.close()\n",
       "    };\n",
       "    ws.send = function(m) {\n",
       "        //console.log('sending', m);\n",
       "        comm.send(m);\n",
       "    };\n",
       "    // Register the callback with on_msg.\n",
       "    comm.on_msg(function(msg) {\n",
       "        //console.log('receiving', msg['content']['data'], msg);\n",
       "        // Pass the mpl event to the overriden (by mpl) onmessage function.\n",
       "        ws.onmessage(msg['content']['data'])\n",
       "    });\n",
       "    return ws;\n",
       "}\n",
       "\n",
       "mpl.mpl_figure_comm = function(comm, msg) {\n",
       "    // This is the function which gets called when the mpl process\n",
       "    // starts-up an IPython Comm through the \"matplotlib\" channel.\n",
       "\n",
       "    var id = msg.content.data.id;\n",
       "    // Get hold of the div created by the display call when the Comm\n",
       "    // socket was opened in Python.\n",
       "    var element = $(\"#\" + id);\n",
       "    var ws_proxy = comm_websocket_adapter(comm)\n",
       "\n",
       "    function ondownload(figure, format) {\n",
       "        window.open(figure.imageObj.src);\n",
       "    }\n",
       "\n",
       "    var fig = new mpl.figure(id, ws_proxy,\n",
       "                           ondownload,\n",
       "                           element.get(0));\n",
       "\n",
       "    // Call onopen now - mpl needs it, as it is assuming we've passed it a real\n",
       "    // web socket which is closed, not our websocket->open comm proxy.\n",
       "    ws_proxy.onopen();\n",
       "\n",
       "    fig.parent_element = element.get(0);\n",
       "    fig.cell_info = mpl.find_output_cell(\"<div id='\" + id + \"'></div>\");\n",
       "    if (!fig.cell_info) {\n",
       "        console.error(\"Failed to find cell for figure\", id, fig);\n",
       "        return;\n",
       "    }\n",
       "\n",
       "    var output_index = fig.cell_info[2]\n",
       "    var cell = fig.cell_info[0];\n",
       "\n",
       "};\n",
       "\n",
       "mpl.figure.prototype.handle_close = function(fig, msg) {\n",
       "    var width = fig.canvas.width/mpl.ratio\n",
       "    fig.root.unbind('remove')\n",
       "\n",
       "    // Update the output cell to use the data from the current canvas.\n",
       "    fig.push_to_output();\n",
       "    var dataURL = fig.canvas.toDataURL();\n",
       "    // Re-enable the keyboard manager in IPython - without this line, in FF,\n",
       "    // the notebook keyboard shortcuts fail.\n",
       "    IPython.keyboard_manager.enable()\n",
       "    $(fig.parent_element).html('<img src=\"' + dataURL + '\" width=\"' + width + '\">');\n",
       "    fig.close_ws(fig, msg);\n",
       "}\n",
       "\n",
       "mpl.figure.prototype.close_ws = function(fig, msg){\n",
       "    fig.send_message('closing', msg);\n",
       "    // fig.ws.close()\n",
       "}\n",
       "\n",
       "mpl.figure.prototype.push_to_output = function(remove_interactive) {\n",
       "    // Turn the data on the canvas into data in the output cell.\n",
       "    var width = this.canvas.width/mpl.ratio\n",
       "    var dataURL = this.canvas.toDataURL();\n",
       "    this.cell_info[1]['text/html'] = '<img src=\"' + dataURL + '\" width=\"' + width + '\">';\n",
       "}\n",
       "\n",
       "mpl.figure.prototype.updated_canvas_event = function() {\n",
       "    // Tell IPython that the notebook contents must change.\n",
       "    IPython.notebook.set_dirty(true);\n",
       "    this.send_message(\"ack\", {});\n",
       "    var fig = this;\n",
       "    // Wait a second, then push the new image to the DOM so\n",
       "    // that it is saved nicely (might be nice to debounce this).\n",
       "    setTimeout(function () { fig.push_to_output() }, 1000);\n",
       "}\n",
       "\n",
       "mpl.figure.prototype._init_toolbar = function() {\n",
       "    var fig = this;\n",
       "\n",
       "    var nav_element = $('<div/>')\n",
       "    nav_element.attr('style', 'width: 100%');\n",
       "    this.root.append(nav_element);\n",
       "\n",
       "    // Define a callback function for later on.\n",
       "    function toolbar_event(event) {\n",
       "        return fig.toolbar_button_onclick(event['data']);\n",
       "    }\n",
       "    function toolbar_mouse_event(event) {\n",
       "        return fig.toolbar_button_onmouseover(event['data']);\n",
       "    }\n",
       "\n",
       "    for(var toolbar_ind in mpl.toolbar_items){\n",
       "        var name = mpl.toolbar_items[toolbar_ind][0];\n",
       "        var tooltip = mpl.toolbar_items[toolbar_ind][1];\n",
       "        var image = mpl.toolbar_items[toolbar_ind][2];\n",
       "        var method_name = mpl.toolbar_items[toolbar_ind][3];\n",
       "\n",
       "        if (!name) { continue; };\n",
       "\n",
       "        var button = $('<button class=\"btn btn-default\" href=\"#\" title=\"' + name + '\"><i class=\"fa ' + image + ' fa-lg\"></i></button>');\n",
       "        button.click(method_name, toolbar_event);\n",
       "        button.mouseover(tooltip, toolbar_mouse_event);\n",
       "        nav_element.append(button);\n",
       "    }\n",
       "\n",
       "    // Add the status bar.\n",
       "    var status_bar = $('<span class=\"mpl-message\" style=\"text-align:right; float: right;\"/>');\n",
       "    nav_element.append(status_bar);\n",
       "    this.message = status_bar[0];\n",
       "\n",
       "    // Add the close button to the window.\n",
       "    var buttongrp = $('<div class=\"btn-group inline pull-right\"></div>');\n",
       "    var button = $('<button class=\"btn btn-mini btn-primary\" href=\"#\" title=\"Stop Interaction\"><i class=\"fa fa-power-off icon-remove icon-large\"></i></button>');\n",
       "    button.click(function (evt) { fig.handle_close(fig, {}); } );\n",
       "    button.mouseover('Stop Interaction', toolbar_mouse_event);\n",
       "    buttongrp.append(button);\n",
       "    var titlebar = this.root.find($('.ui-dialog-titlebar'));\n",
       "    titlebar.prepend(buttongrp);\n",
       "}\n",
       "\n",
       "mpl.figure.prototype._root_extra_style = function(el){\n",
       "    var fig = this\n",
       "    el.on(\"remove\", function(){\n",
       "\tfig.close_ws(fig, {});\n",
       "    });\n",
       "}\n",
       "\n",
       "mpl.figure.prototype._canvas_extra_style = function(el){\n",
       "    // this is important to make the div 'focusable\n",
       "    el.attr('tabindex', 0)\n",
       "    // reach out to IPython and tell the keyboard manager to turn it's self\n",
       "    // off when our div gets focus\n",
       "\n",
       "    // location in version 3\n",
       "    if (IPython.notebook.keyboard_manager) {\n",
       "        IPython.notebook.keyboard_manager.register_events(el);\n",
       "    }\n",
       "    else {\n",
       "        // location in version 2\n",
       "        IPython.keyboard_manager.register_events(el);\n",
       "    }\n",
       "\n",
       "}\n",
       "\n",
       "mpl.figure.prototype._key_event_extra = function(event, name) {\n",
       "    var manager = IPython.notebook.keyboard_manager;\n",
       "    if (!manager)\n",
       "        manager = IPython.keyboard_manager;\n",
       "\n",
       "    // Check for shift+enter\n",
       "    if (event.shiftKey && event.which == 13) {\n",
       "        this.canvas_div.blur();\n",
       "        event.shiftKey = false;\n",
       "        // Send a \"J\" for go to next cell\n",
       "        event.which = 74;\n",
       "        event.keyCode = 74;\n",
       "        manager.command_mode();\n",
       "        manager.handle_keydown(event);\n",
       "    }\n",
       "}\n",
       "\n",
       "mpl.figure.prototype.handle_save = function(fig, msg) {\n",
       "    fig.ondownload(fig, null);\n",
       "}\n",
       "\n",
       "\n",
       "mpl.find_output_cell = function(html_output) {\n",
       "    // Return the cell and output element which can be found *uniquely* in the notebook.\n",
       "    // Note - this is a bit hacky, but it is done because the \"notebook_saving.Notebook\"\n",
       "    // IPython event is triggered only after the cells have been serialised, which for\n",
       "    // our purposes (turning an active figure into a static one), is too late.\n",
       "    var cells = IPython.notebook.get_cells();\n",
       "    var ncells = cells.length;\n",
       "    for (var i=0; i<ncells; i++) {\n",
       "        var cell = cells[i];\n",
       "        if (cell.cell_type === 'code'){\n",
       "            for (var j=0; j<cell.output_area.outputs.length; j++) {\n",
       "                var data = cell.output_area.outputs[j];\n",
       "                if (data.data) {\n",
       "                    // IPython >= 3 moved mimebundle to data attribute of output\n",
       "                    data = data.data;\n",
       "                }\n",
       "                if (data['text/html'] == html_output) {\n",
       "                    return [cell, data, j];\n",
       "                }\n",
       "            }\n",
       "        }\n",
       "    }\n",
       "}\n",
       "\n",
       "// Register the function which deals with the matplotlib target/channel.\n",
       "// The kernel may be null if the page has been refreshed.\n",
       "if (IPython.notebook.kernel != null) {\n",
       "    IPython.notebook.kernel.comm_manager.register_target('matplotlib', mpl.mpl_figure_comm);\n",
       "}\n"
      ],
      "text/plain": [
       "<IPython.core.display.Javascript object>"
      ]
     },
     "metadata": {},
     "output_type": "display_data"
    },
    {
     "data": {
      "text/html": [
       "<img src=\"data:image/png;base64,iVBORw0KGgoAAAANSUhEUgAABQAAAAPACAYAAABq3NR5AAAgAElEQVR4nOzdeZwcVb338W/2EAhrIMBNngwgIAmLKCjIkhEQ2S/I4sI2+OhzJd7ggyAiChlw4SJXEdkUEIYHElBBrmAUEciggZAEAogmLFlGCIlhT0I2kszv+aOmu0/3VHdXT7rnnEp93q/X7yVOnTpVXVVdk/OdWiQAAAAAAAAAAAAAAAAAAAAAAAAAAAAAAAAAAAAAAAAAAAAAAAAAAAAAAAAAAAAAAAAAAAAAAAAAAAAAAAAAAAAAAAAAAAAAAAAAAAAAAAAAAAAAAAAAAAAAAAAAAAAAAAAAAAAAAAAAAAAAAAAAAAAAAAAAAAAAAAAAAAAAAAAAAAAAAAAAAAAAAAAAAAAAAAAAAAAAAAAAAAAAAAAAAAAAAAAAAAAAAAAAAAAAAAAAAAAAAAAAAAAAAAAAAAAAAAAAAAAAAAAAAAAAAAAAAAAAAAAAAAAAAAAAAAAAAAAAAAAAAAAAAAAAAAAAAAAAAAAAAAAAAAAAAAAAAAAAAAAAAAAAAAAAAAAAAAAAAAAAAAAAAAAAAAAAAAAAAAAAAAAAAAAAAAAAAAAAAAAAAAAAAAAAAAAAAAAAAAAAAAAAAAAAAAAAAAAAAAAAAAAAAAAAAAAAAAAAAAAAAAAAAAAAAAAAAAAAAAAAAAAAAAAAAAAAAAAAAAAAAAAAAAAAAAAAAAAAAAAAAAAAAAAAAAAAAAAAAAAAAAAAAAAAAAAAAAAAAAAAAAAAAAAAAAAAAAAAAAAAAAAAAAAAAAAAAAAAAAAAAAAAAAAAAAAAAAAAAAAAAAAAAAAAAAAAAAAAAAAAAAAAAAAAAAAAAAAAAAAAAAAAAAAAAAAAAAAAAAAAAAAAAAAAAAAAAAAAAAAAAAAAAAAAALw5TVJrVx3udU0AAAAAAAAA1NVhktZJMknPSRrqd3UAAAAAAKisTdEg1iS1eF0TAAjf9pL+peic+U9JO/pdHQAAAAAoaFch5Imr5ZI6JP1O0nhJW/hYSXjRJgJAAEiinwq/T9+VNNrr2gAAAABAiXZVDgBLa6mks3ysaJ21qvCZWr2uSbjaRAAIAElcqehcuVrSWM/rAgAAAADdtKsQ8syQdL1TN0iaKOlldQ8C/8PDutZTqwgAq2kTASAAVHOMpM6u+pzndQEAAACAWO1KFoSdqOi2plzb1ZJGNHjdGqlVBIAAgA03XtHvkdM8rwcAAAAAlNWu5EHYsSq+CvCHjVyxBmsVASAAAAAAAAAyoF21BWHPqviW4bRqFQEgAAAAAAAAMqBdtQVhNzrt34qZ7l4hWOvym2tos7Wkb0ma2bUeqyTNl/RLSXsmXF61auvBurpalWzbDpD0GUk/kjRF0iJFt1ivkrRQ0h8kfV3SZgmWWWq4pIsk/VnSq119rur67z92TWsqM2+bs/4tCZa1maTzJP2pa71XK7pt/O+Knin5iYTrHHcM7S7pp5LmSHpf0jJJzyt68P6whP3mbCrpXEkPSvqnpJWK3nb9iqTbJB1WQ1+HKTrmXpD0nqS1io7HOYqOlx9IOlTRPt4QLep+XPaXdKakhxVt7zWSXlf0xu7P9mAZn1H0+V9WtH1XKdo+90s6R8k+Q5u6HzNbKjp+/9K1fuu6pm/Zg3V0DZN0uaTnFL2caLmi7f4zSXt0tWly1qejTD/l2hws6VZJL3b1b4qOwZxWJft+5zQ77dtrbHOiov3aoeh79S9F3+kWSX0TLNt1gKLv4z8UfT9XKzp+HpL0n4q+H/XwgAqf5eIa5vuhM9/EOq3LnpJuUvQdX6noO/q0pG+rcP5oUflzfzn7S7pG0TH4pqQPFO2bxxX9ftoqQR8dznKbun42QtL3FJ3j3pO0QtFxeJ2kUQnXLWeAovPErxX9jlze1d8CSXdLOklSnyp9NCv+uDymq49XFJ2XTdL/LdNHvX4/AAAAAOihdtU2iP2B0/6DmOm9EQAepGgAUS64WyfpKwn6CiEAHKloMJpkfd6U9OkEy5WiUOAyRQO9av2ulzQ6po82p01LleUdJ2lxgmVNlDSkSl+lx9BXFQ0Wy/X5lqT9qvSZc2rC9XxQ0hYV+tlMUSCT9Fj6csL1K6fF6atN0vaS/lplmX+QNDRB39tJeiTBZ3hZ1bdzm9O+RdF39dUy/W1IAHikou9DuXVdo+hFRU3OzzrK9FXaZqCisCiu394OAIcqCmAr7ZcZknZMsPxNJd1TpS9T9AeIoxP0V81xTp8vJ5ynn4rP7bWE8eVcpOh3VaXP+0nVFgBuJeneCn3m6l1Jp1Tpq8Np36Qo7H2vQp8rFT2OI4lmSXMTrOc0Sf9WpR/3uNxC0m/L9BUXANbz9wMAAACAHmpXbYNY9wrAN2Omu/+Yr3X5zQna/KeiKxhM0hJFg7BfSPq9ooFRrt16SQfG9PV1RVcbzHDalr79OFdn9GBdXa2qvm0/7LR5R1Goc5eknyu6GmuKoiuxcm3WKhqsVtJP3Qdna7rWv03RVU2/VzTwzU3/SEw/bc70lgrL+5wKV3VZ13+3dy3nHkVXfbnr8qSkwRX6c9u2OP/9oqJtc4ui7dTpTFus6oHS+SXzLFN0Ncqtkm6XNL1k+nMqPxgtDWVeUXSFzc8VXRH4gKIrbHLT6xkATpT0lArb+nEVtrW7T03SVEWBVjnD1T0gmNu1jNuc5eRquaJQr5w2p+33VQgylik65m6W9BtF392eBoAHqfi73inpCUXbfaKKt/t5zn93lOmvqaTNDc7//5ukOxVti6mSfuLM1+q0a02w3s1O+/aEbdyQaXrXekyUNE/F++VFRVdFlzOka353ntcVHTO3di3L/Q6vVfXgqpp+Kg5/D00wj/uc2XmqfmVaNd9Q8WdepSgYv1nROTL3Yqt3FP3BJNeurUKf20uaXdLvbEmTFP0uul/F4XSnpNMr9NfhtP3fKuyHfyraPzcrutpzrdNuhaSdqnz2U1UcfK5S9PvkdkX7/C8lfb6q6HwQp9lp97iiP5DkPtt0RdvrDknPKPod66r37wcAAAAAPdSu2gaxzzvt454B6P5DvtblNydos1rRAOIbim6BdI1UdCtmru1jFZbbqto+d9J1rXUZoxTdsvhxlb+Vb3NJVzt9vVyhrST9l4r3w3UqHw58XNHAbUzMtDanj5Yy8++iQiBrim7J3rWkTV9F+2u90+5nFdbfXffVkt6QdFRMu0NVuDXTFA3gyzncWf4Hkr6j+FsdP6Lo1shcnzeWaeMGYpWultq5a1nHV2iTRIuzzDVd/ztL0m4l7foquuLJDTIvr9DvH5x2KyR9MabNfioOnF5V+fCuzWmXCxeuV/fb1weo9ltXJWkTFQeWL0vaJ6bdV7qW71452lGmzyanTS6oeFXSITFtBzn/3erM15pg3Zud9u0J2uT283xF39NSZ6n4891RYdnuH27WKQrDS7f/ropui821W6rqIVM1rQnXL+c+p/13NnDZY1TYhqYogN62pM0QFa72dLdlW5k++yr6vZJr94zir4odLGmCCt/D91V+W3Y4/a3uanuGuoefY1R8deRtZfrLtXWv/r5G8b8DdlbxlcR/KNNfs9Mm973+m6S9Ytq635FG/H4AAAAA0EPtSj6ILX0L8JUxbRodAJqk/1Ohvz1VGHR1StqhTLtWJf/ctazrhi6jEve2xHKh024qHkjV8uytUm1OPy1l2tzhtJmnyld1ne+0Xa/yA+LSAHDvCn1+zWk7p0ybvoqColy7SlfjSNEVPktUCAtHlEz/T6ev71fpq15aVLxdXpO0TYX233HarlL84P9TJX2eUKG/JhXfllgubG0r6fOWCn32hLu/l6ny89DGlaxLR5l2TSXtVqh7sBqn1ZmnNUH7Zqd9e4I2ueBolwp9nl7SPu5W/l1UfE4YX6G/rVR8BWWlkCmJkc6yVyj6Y0Y526pwxdo6Vb4lNYnfqDh4qnQl7K9VvB3byrQ702nzrKo/l/Vyp/1NZdp0OG06Ff/Hjhz3d/Bydf8jWM6jTrtqQeqmKr6iMe5ZfM0q3j6LlezZq434/QAAAACgh9qVbBD77yrcLmWKrqwYGdOu0QHg3xL06d7qdlyZNq1K9rnLrUdzgvY9WUYlH3f6+3GZNm5IOE0bdgtdm9NXS8z0LVV81Uy1F0/0VfTA90oBslR8DFW7EmSoClekdCo+YPh3p79HqvSXc7EzzzdKpl3iTCu93a1RWlS8Xc6p0n6AioOcuPV0nwf3QIJ1uMhpv0jxx1ab02aVkr0EoRbuFWqVrmyUouPtRad9R5l2TSretlclXJdWZ57WBO2bnfbtCdok+YxSdGtyrv01MdPdK4KfV/VzwmlO+9Wq/CzMJCY7/f1HhXYXOO1+v4HL3FrFt79+qkp7N6isFAA+67Q5OMF6DFbh9+Z7ir/qtcPps9r3sI+Kn6UX98KrfZzpLym6FbuazzvzxJ1zm1V8XJ6boM9G/X4AAAAA0EPtKvyDO+5ZeHcpGkRYSY0r01+jA8BLE/T5c6f9f5Zp0+q0aU22qg0PAAcoGlR+TdEbIH+q4n3hXk3xaJk+3NCn2pVu1bQ5fbXETD/Gmf6Wyl+N4nKfyfVUmTbuMRR3G2YpN+SJGxD/wpme9Fl8btj625JpZzjTZql+b02tpMVZ5uqEy3Rf2PM/MdOXONNPTNDftioOST4c06bNmf67BH3WYmjJ8ndPMM8Ep31HmTZNKj7m9k24Pq3OPK0J2jc77dsTtDFVvvov5ytO++diprvPOy33hlbXAElvO/NUuiItCTeAj3tsRI4b/py0gct0X0BSLqwuNcWZpy1m+g7O9IU1rIt7m33c1cwdzvQzE/T3kNM+7g9c33amJ71CeTtnnlkx05ud6Z2q/LzJnEb9fgAAAADQQ+3qHu5VqmWqfPVRowPAJEGFG3yUu/2p1WnTmmxVGxYAbqIo8Kv0VtPSej6mn+ElbZK8GbSSNqevlpjp7m2mkxP2+QlnnjWKH5i7nyHJiyKecNrHvaDib870+xX/wpfSutOZZ2ZJf1ur+LlWCxXtvwMUhSeN0FJhfcpxQ5B/lkz7NxVv5+0S9jnHmSfueYFtzvRKz2TsiYOdvpcmnMcNITrKtGly2nygZEGF1PgAMO4lS3H2dOZZp+JjsI+Kr4TbP2Gff3TmuSThPOX0V/GLHuKeG3eAM32JNvx79F2nv6RB9I+cedpipn/Wmf66kp1HrlfxH9Di3t7b4UyPexlTqYlO+7g/8jzgTH804Tq6L76JO+6anenzE6yj1LjfDwAAAAB6qF2Vg6bligYoDyh6o2a1QKbRAWC1W7mkZAPzJG0qrUdzndZjKxXfVpa04gZhezvTVydYv2ranP5aYqb/1Jke97KMOKUhZdwtu+70JAPAdlXeL2+p9u3r1tyYPk9R8QsGcrWya30ul/SxBOueVIuzjPsSzuPeCriyZNpHKkyrxA2GzouZ3uZMT3KbYC1OdPr+R8J53G3QUaZNk9NmSQ3r0+rM15qgfbPTvj1Bm2cSrscWKj4G3TB3ywrTKnEfJfCTKm2T+L7T309jpt/sTP9RHZbnnptuSDjP15152mKmu8/+7GmVvlleKg4Akzz3rs1p3xIz3b1Nvie1LqbPZmf69ATrKDXu9wMAAACAHmpXbYPYatx/vNe6/OYNaONqVfXPlKRNb6zHJKfNakW3Lx8v6UOKHjDvPr+pyWnbEdPXQc70txKsXzVtTn8tMdNvdaZfnbDPzVR8jMQ96L/ex9BaFfdZa3WUWe5eil4eEBcE5uppRW8r3lAtTp93JpznQyXr4h5L7tV0Sa80k6R7nfnirq5tc6a31NBvEu6t10mvgnS3QUeZNk0J2sRpdeZrTdC+2WnfnqDNXxOuR38V72f3tuERJdOS3q7+38489XiRS5MKt2+/peIXcgxRdGV5bnlJbu2upifnpi8787TFTHevaOtptcT02+FMb0qwnm1V+nulDutZqtmZ1p5gHaXG/X4AAAAA0EPtqj0Iq6TW8OYvTvvmMm3aE7Rxtar6Z0rSZkPX44oqy/g3Fd5YvE7Vg6K9nP46YqZvjFcAJtGuyvvFfXvtPgn7rMXmim7tu0rSkyq+5dIUBR+nbuAyWpz+0nIFYEsN/SZxktN3o64ALNcmTqszX2uC9oc57dvLtGl22mxMVwBKxc+uc78PLc7Pk4ae1Vzr9FmvKwD/rzP9/g1fxbwOp9+mBO3bnPYtMdOfc6b/ex3WT+pZAMgVgAAAAEBg2lXfANC92irJs7Sed9o3l2nTnqCNq1XVP1OSNqX+7MxzRIL27iA0bhlnOtOTvIXVfaZbR8z00sHTDgn6rKTN6aslZrp7RUzSt3a6L9dI8gzAJNpV+fhwn8F1SsI+N8Tmks5W8QtZ3lT0rMeeanH6Snr12/HOPK+WTCt9BuCwhH3Oduap9gzAloR9JnWI0/d7Ceep9RmA5drEcY//JC9bcAPM9jJtmlV8zCTh/mGg2jMA90vYp/viig19BmDOyU6fDzk/d/8I1FKnZV3q9FmvZwB+wZn+9w1fxbwOp9+mBO3bVHl7/cmZfmEd1k/qWQDYqN8PAAAAAHqoXfUNAN9x+htepe1ASauc9s0J1rFcG1erqn+mCQnalPqtM8/nErR/rMoyvuVMvzJBf+4AtaNMGzd06s23AL+h4ltMyznfmSfJW4CTaFfl4+P/OdPrcTtjUjspuhIzt+zDNqCvFqefRrwF+IQE/W2j2t4C3JKgz1psrsIVs6bGvAW4XJs45znz3ZSg/WVO+/YybZpVfPx/KEG/tbwFOO6qzVL9VfzczA19C3DOAEmLu/pcL+l/SdrVWc4yRbcD14Mbfr+u+rwFeCcV75sR9VhR1T8AdK88/3Md1k/qWQDYqN8PAAAAAHqoXfUNAJ9x+vtMlbanqHhA1ZxgHcu1cbWq+mdyw7cfJOhTkn7szFMtsNtRxVfexK3HN53p11bpb4ikfzntO8q0u9Fp86Q27AqKNqevlpjpW6o44KoWIvVR8e1pPyzTrt4B4GnO9BVKfhtkPbjfhy9sQD8tKt4uld7ELUVhixsGfz2mzT3O9N8mWIdvOO3LhSptqnzMbCh3e15epW1fSS+q+nemKUGbOG7INC1B+7877dvLtGlW8X6u9hklaarT/pqY6f/lTH9G1c8J7ttuVym6xbhernT6vqzk//+ijsvZRsXn32ovjxqp6OrJSgGgVHwF7H/XY0VV/wDQvYquU/FvXa5Vs6ofu6Ua9fsBAAAAQA+1q74BoPvsqLsrtNtc0dtVfQWA1R74HudzzjwdkgZVaPsrFX+2uPVwb4mbq8q3TLvbtVJQsZuKr9K6uEKf1bQ5/bSUaXOH0+YlSUMr9Oe+RXO9yr/xst4BYD8VPxj/YRXfJlnJZup+tV3S22X7S1rkLDfJbePltKh4uyxUFHKU495+t7pM20+V9FnpSq+RKr6697Iy7dpU/ZjZEO4xtEzSqAptx6n483WUadeUoE2c7VW4IrFT0h41rEt7mXbNJe3eV/FLPUqdXtJ+TEybXVR8TviPCv1toeLz8m0V2vbELipsswUq/n7sX+dluS+smaniF4+UKj1ft5Vpd7bTZq1q+05vX+bnHU6fTQn6aXPat5RpM8Vp87ySP0tvoKI305dqVvVjN04jfj8AAAAA6KF21TcAdJ/TZYr+UV/qw4rejpoLJ3wEgJ9w2ixWsqtcSt9Weae6P9dtaxVuOXU/W9x6bKXoirRcm7sUXTXh2lzSzSqEAUmCCvdWYZN0Xdd6xdlf0YAyLjhoc/poKTP/zpKWO+2e7PqZq6+k8Sq+wuZnFda/3gGgFA3U3eVPU+XAYW9FVye9I2nPkmm3K3pZwdmKHyxL0rYqvvV4qer3DMDcW4efUXQLpauvoitL3Vtlv1ehX/dZb8sV/7KSfSW97LR7Vd2P05w2VT9mNsQQSfOdZbys+Be7fEVRQON+BzvK9NmUoE05jzrzPqfut4X2l3SBomPPXZf2Mv01q/t+nq/4Y/XMkj4rvR3avTJ4raSvKTpWXLtImq7iY7YRIcwjzjJy9bcGLGcvFV8F+HtF30vXEBX+uOJuy7YyffZT8T5fo+hq8nK35G+m6MrfxyT9pkybDqe/pkofqEub076lTJs9VXxeflGVw8oPKfqjweuKnjVbqlnVj904jfj9AAAAAKCH2lXfAFCKBlru4G6OotDkNklPqHA1yu1KFt4kaeNqVfXP1FfSP512ixVdrfBjRbd2/bfin/Pn3rZrip6jdo+ikO6PKgR6L3T1UW09Li/p721FocwtirZjLvRbJ+ksp11Hhc/fX9FLRdx+1yi6KuT2rr4fVPHVNx+J6afNmd5SYXmfU/Hgba2iAe8tkiZJeq1kXaZJGlyhv0YEgFIUCrnrmQuQfiXp54r2/59U/Gw8U/cAsM2Ztk7RG2l/o+gYuFPRdl5T0sdXEn6WclqcviYqej5WbvlTFG3ruxUN4N3lPqnKV6oOV/crcV/u+hy/7JrfDRPfl3RQhf7anLYttX3ExA5VcVjTqei88ktF22aBM819Tt/8Mv01OW06alyXT6j46rqVir5bv1B0TOSOpeUqvsKpvUx/zSVt7nM+41Ndn/FOxe+zSleEDlHxswBN0ffybkXHzmPq/h1u1Atz3Fvy3f3UCKXn65WSJiv6rt4n6d2un7+r4mc0VrrycRtJs0r6XaEoGLxd0b7/taJA2A0g7y3TX4fTpinBZ2pz2rdUaHeciv/AZIrC+/u61vF2Rb9jSs/P9QwApfr/fgAAAADQQ+2qfwC4taJbrkoHeW79UlEw4S6/OcE6lmvjalWyz3SMioOE0mqLmaevooFLpc82TdGVQEnWo5+Kb5OKq3clnajagoq+ip5tWOnzuSHWhr7Q4TgVP6OwXE1S9Qf9u+2TaHfaN1dp+ykVX81Wrf6u6HmOrutqmH+ZNjz8k4oDwDZFb3h+ssqy/6Rkt/4NV/FVTeXqFVW/TbPNad+S5IP10FEqflFFaa1RdKur+5KJ58v01eS06ejBunxJ3YNltxYpujK62flZe5m+StsMVfQW20r75WlFb3WuZjN1v9W13PoenaC/nhqo6KUQueWtVvkrlOvh2yp+O33c5/2kil+mUu2ZrJsounKwUr9urexajzgdTrumBJ+nzWnfUqXtPipcbZ+kFij+j0HNTpv2BOtYqp6/HwAAAAD0ULsK//hurWO/AySdK+kviq5qW6NooPMbSZ8us/zmBOtYro2rVck/0xhFA7kXFIU17tVObRXmO0bRm1UXK7rKY7Giqxq+pMLz5WpZj+MUXbW3pKu/JYpC1O+qEEA1Of11VOkvZ6SkSxXth0Vdfa/smn+yohc7lAsP2pzltSRY1maKruR5WNGVaGskvafowfk3KLpaKgl3QJhEu2o7Pvoqev7ibV3r9o6iAGeZopDrQUWD9biBcM4eim5bm6joSp93FIUBqxQ9n+9Pim79rNcLR1rU/bgcoOhlII+osL0Xd63/yT1YxmcUXRX0iqIr1lYrumLod13LSfLcxDbVdsxsiG0VvfH0eUX7brmiq42vkzS6q417q//jZfppUu3fq1KjJd2q6CrDVYpC+1mKbqvMPTOy2VlOe5l+4tr0UXQ13oOK9scaRQHao4rON0neruo6UNEtwbMVfT/XKDp+/qTomE7yhukN9UsVPmelZ8XWy16Krnqbp2j/vK3oFvpLVNg/7ouhkrx8RYqOne8qOvcv7Oo7t3+e6lrmaaocxHc4y21KsMw21f4dO1LRPn9e0puKzlXvKwr8/qTo835S5V8Q06zqx2419fr9AAAAAADARqtFyYJpFHOv6vq553VJolkbHrSEro+Kb9PekJfj1NNEFdbp857XBQAAAAAAZFCLCAB74s8qbLf/7XldkmjWxh8AHqHiW07LXXXWmzZV4XmApspvXgYAAAAAAGiIFhEA1urf1XvPmauXZm38AaD7gqKLPa9LzjUqrNMMz+sCAAAAAAAyqkUEgDn/S9FbVss9s2ygojfuui/AuaHX1m7DNGvjDgBPUOHzLVflNxfXwymSrpb0oTLThyl6Np773NFTG7xOAAAAAAAAsVpEAJjTpMK2WKzoZTa3Kno792RFL2RxA505il5AkAbN2rgCwF0k/beiK+wmq/glS5f1wvJbnOW9JOleRS/maFP0UpjSt6Tf1QvrBAAAAAAAEKtFBIA5TSoObSrVoyq85TUNmrVxBYDNit8vUxVdqdloLWWWX1rrJF2r2t+oDAAAAAAAUDctIgB0fVzS9yQ9ougKvzclrVV09d8/JN2scN4uW4tmbbwB4BpJL0q6XNImvbT8gZKOlXSdpCckzZX0nqQPJC2RNF3SVZJ276X1AQAAAAAAAAAAAAAAAAAAAAAAAAAAAAAAAAAAAAAAAAAAAAAAAAAAAAAAAAAAAAAAAAAAAAAAAJBNgyTt11WjJI2gKIqiKIqiKIqiKKruNUqF8fcgAUAv2k+SURRFURRFURRFURTVa7WfAKAXEQBSFEVRFEVRFEVRVO8WASCAXjVKXSegGTNm2GuvvUZRFEVRFEVRFEVRVJ1rxowZbgA4ymsSACBzRqjrBPTaa68ZAAAAAACov9dee80NAEd4TQIAZA4BIAAAAAAADUYACMAnAkAAAAAAABqMABCATwSAAAAAAAA0GAEgAJ8IAAEAAAAAaDACQAA+EQACAAAAANBgBIAAfCIABAAAAACgwQgAAfhEAAgAAAAAQIMRAALwiQAQAAAAAIAGIwAE4BMBIAAAAAAADUYACMAnAkAAAAAAABqMABCATwSAAAAAQEqtX7/eli5daq+99prNmzfPXn75ZYqiGlTz5s2zxYsX26pVq3r0fSUABOATASAAAACQQsuWLbM5c+bY7NmzKYrq5Xr99dets7Ozpu8sASAAnwgAAQAAgJSJC//mzJnj/QopitqYqzQEfPPNN2v63hIAAvCJABAAAABIkfXr1xeFf6+++qq9//77NV+NBKA269ats7feeqsoBFyzZk3i+QkAAfhEAG8xvpYAACAASURBVAgAAACkyNKlS4vCP4I/oHctWbIk/x18++23E89HAAjAJwJAAAAAIEVee+21fPjw/vvv+14dIHNWrVpVFMInRQAIwCcCQAAAACBF5s2bl3/mH1f/Ab2vs7Mzfxv+3LlzE89HAAjAJwJAAAAAIEVyLyN4+eWXfa8KkFk9+R4SAALwiQAQAAAASBECQMA/AkAAaUMACAAAAKQIASDgHwEggLQhAAQAAABShAAQ8I8AEEDaEAACAAAAKUIACPhHAAggbQgAAQAAgBQhAERvmzBhQj64QoQAEEDaEAACAAAAKUIA2PumTJmSD24mTJiQaB43NJsyZUpD16/RCAC7IwAEkDYEgAAAAECKEAD2PgJAAsBSBIAA0oYAEAAAAEiRmoMHaeOuXkAASABYigAQQNoQAAIAAAApQgBIANjbCAC7IwAEkDYEgAAAAECKEAASAPY2AsDuCAABpA0BIAAAAJAiBIAbTwC4Zs0au+GGG6y5udmGDRtmAwYMsOHDh9vRRx9td955p61fv75s/2effbZJslGjRpmZ2eLFi+2CCy6wXXfd1TbZZBPbcccd7dRTT7W///3vRfMtWLDAxo8fb7vuuqsNHjzYtttuO/viF79oc+fOTfRZzMzeffddu+yyy2z06NG26aab2lZbbWVjx461u+66q+I2GTVqlEmys88+28zMnn76aTv77LOtqanJBg4cWDZgfPHFF238+PE2evRo23zzzW3w4MG20047WUtLiz3zzDMVl7lq1Sq79tprbezYsbbNNttY//79bauttrLdd9/djj76aPvJT35iCxYsqNhHHAJAAGlDAAgAAACkCAHgxhEAdnR02B577OEGQt3q4IMPtrfffju2fzcAfO6552z77beP7WPIkCH217/+1czMHn30Udtiiy1i22211VbdwsK4zzJ//nzbZZddyq7zKaecYmvXro3txw0Ab7rpJuvfv3+3+UtdccUVse1y1adPH7vssstil7do0SIbPXp0xW0syS644ILY+SshAASQNgSAAAAAQIoQAKY/AFy+fLntvPPO+eknnniiPfDAA/b000/bb37zGxs7dmx+2oEHHmjr1q3r1n8uANx2221tp512sq233tp++MMf2hNPPGFPPfWUtba25q+qa2pqsldeecU233xzGzFihF177bX21FNP2dSpU+3888+3Pn36mCT7xCc+UfWz7L///ta3b1/76le/ao888ojNnDnTfvnLX9puu+2WbzN+/PjYfnIB4OjRo61fv37W1NRk119/vU2bNs2mTp1qV155ZVH7Sy+9NN/nJz/5Sbv11ltt2rRp9vTTT9vEiRPtwAMPzE//2c9+1m15J598cn76GWecYb/97W/tqaeespkzZ9rvf/97u/zyy23fffclAASQCQSAAAAAQIoQAPoNAM8991x74YUXqta5555bNgC88MIL89O++93vdlteZ2ennX766fk2N954Y7c2uQBQkg0bNiz2Ft4bbrgh32bbbbe1XXfd1d54441u7b75zW/m282aNavbdDcAlGSTJk3q1mbZsmW2zz77mCTr27ev/e1vf+vWJhcASrK99trL3n333W5tcmbMmGF9+/Ytu43MzNavX29nnHGGSbKhQ4cW9bdq1SobMGCASdWv8Ct3lWUlBIAA0oYAEEBN3njjjaJ/AEqK/YckAABoDAJAvwFgT8oNAFevXm1bbrmlSdGVcHFX95mZLV261LbZZpt8u1JuAHjTTTfF9rFy5UobPHhwvt1DDz0U227+/Pn5Ntdee2236W4AeNxxx5XdTtOnT8+3GzduXLfpbgD4l7/8pWw/ZoWr9z72sY9ZZ2dn2XbvvvuuDRo0yCTZLbfckv/566+/nl/W7373u4rL6gkCQABpQwAIoCYEgAAA+EUAmO4A8Iknnsj//Ec/+lHF5bpXES5atKhoWi4A7NOnT8Ur2Pbaay+Tomf8VQrShg4dapLs61//erdpbgB43333VVznMWPGmCTbbbfduk3LBYAjR46s2McHH3xgQ4YMMUndbguOs99++5kk+9KXvpT/2erVq/O3QFd6LmFPEQACSBsCQAA1IQAEAMAvAkC/AeCGPgPwF7/4Rf7njz/+eMU+2tra8m0ffvjhomnuMwArOeSQQ0yKnt1XyciRI7uFaHGf5dVXX63YzznnnJMPJtesWVM0LRcAHnvssRX7eO6553oUtB5zzDFF/Zx55pn5aaNGjbJvfvObNnnyZHvvvfcqLj8JAkAAaUMACKAmBIAAAPhFAJjuAPDKK6/M//zFF1+s2MdDDz2Ub3vPPfcUTXPfAlxJ7oUiY8eOrdjOfUNvpc+yevXqiv1cfPHF+bb/+te/YpdxxhlnVOzj4Ycf7lEA2NzcXNTP0qVL7fjjj+/Wrl+/frb//vvb1VdfbUuXLq24LuUQAAJIGwJAADUhAAQAwC8CwI0nAHzppZcq9vHHP/4xuACw9Kq+Ut/61reqBoBxy3C5n/vqq69O9NKVF154webPnx/b3/Tp0+2CCy6wj370o9avX7+if8dut9129uSTT1ZcnzgEgADShgAQQE0IAAEA8IsAMN0BYL1vAe7tALAetwBXCwBnzJiRX94Pf/jDim1rtWzZMnvggQfspJNOyi9jhx12sJUrV9bUDwEggLQhAARQEwJAAAD8IgBMdwBYy0tAxo0bl29b7iUgvR0AVnsJyJ577mlS5ZeAVAsAV6xYkX+BR+ltvfV03nnnlQ1YqyEABJA2BIAAakIACACAXwSA6Q4AV69ebVtuuaVJsjFjxti6deti51+2bJkNGzbMJNno0aO7TfcVAJ5wwgll+5g5c2a+3bhx42paRqmjjz4639f06dOrtu+J3/3ud/llTJo0qaZ5CQABpA0BIICaEAACAOAXAWC6A0AzswsvvDA/7dJLL+02b2dnp5111ln5NjfeeGO3Nr4CQEn2q1/9qlub5cuX27777muSrG/fvvb888/XtIxSU6dOtT59+pgk22mnnWzu3Lll265bt84mTpxYNKadN2+etbe3V1zG1772tfxnmjZtWtV1chEAAkgbAkAANSEABADALwLA9AeAy5Yts5133jk//aSTTrIHH3zQnnnmGbv33nutubk5P+3AAw+MvUrQVwC43377Wb9+/WzcuHH22GOP2dNPP2233Xab7b777vk248ePr3kZcdzlbrbZZvb1r3/dJk+ebLNmzbJp06bZ3Xffbeedd57tuOOOJsleeOGF/Ly5fTZ69Gj7zne+Y/fff7/NmDHDZsyYYffdd5+ddtpp+b733Xdf6+zsTLROOQSAANKGABBATQgAAQDwiwAw/QGgmdmCBQvswx/+cLd/V7l10EEH2dtvvx3bv68AcP78+bbTTjuVXeeTTz7Z1q5dW/Myyrnmmmts0KBBFbeTJBs4cKC98sor+fncfVap9thjD1uwYEHi9ckhAASQNgSAAGpCAAgAgF8EgBtHAGhmtmbNGrv++utt7Nixts0229iAAQNs+PDhdtRRR9mdd95p69evL9u/rwDQzOydd96xSy65xPbYYw8bMmSIbbHFFnbooYfaXXfd1eNlVLJw4UK79NJL7YADDrBhw4ZZ//79bdNNN7XddtvNTj75ZPv5z39ub775ZtE869ats2nTptkVV1xhhx12mH3oQx+yoUOH5rfxkUceab/4xS+6vak4KQJAAGlDAAigJgSAAAD41ZPgAUB9EQACSBsCQAA1IQAEAMAvAkDAPwJAAGlDAAigJgSAAAD4RQAI+EcACCBtCAAB1IQAEAAAvwgAAf8IAAGkDQEggJoQAAIA4BcBIOAfASCAtCEABFATAkAAAPwiAAT8IwAEkDYEgABqQgAIAIBfBICAfwSAANKGABBATQgAC9gWAAAfCAAB/wgAAaQNASCAmhB6FbAtAAA+EAAC/hEAAkgbAkAANSH0KmBbAAB8IAAE/CMABJA2BIAAakLoVcC2AAD4QAAI+EcACCBtCAAB1ITQq4BtAQDwgQAQ8I8AEEDaEAACqAmhVwHbAgDgAwEg4B8BIIC0IQAEUBNCrwK2BQDABwJAwD8CQABpQwAIoCaEXgVsCwCADwSAgH8EgADShgAQQE0IvQrYFgAAHwgAAf8IAAGkDQEggJoQehWwLQAAPhAAAv4RAAJIGwJAADUh9CpgWwAAfCAABPwjAASQNgSAAGpC6FXAtgAA+EAACPhHAAggbQgAAdSE0KuAbQEA8IEAEPCPABBA2hAAAqgJoVcB2wIA4AMBIOKMHTvWJNnYsWN9r0omEAACSBsCQAA1IfQqYFsAAHwgAOx9U6ZMKfp9v9lmm9mKFSuqzrdy5UrbfPPNi+adMmVKQ9aRALB3EQACSBsCQAA1IfQqYFsAAHwgAOx9pQGgJJs4cWLV+e6+++5u8xEAbhwIAAGkDQEggJoQehWwLQAAPtQaPEyZoo26eoMbAA4ePNgk2VFHHVV1vmOOOaZoHjUwAETvIgAEkDYEgABqQuhVwLYAAPhAAOg3ADzttNNMkvXr188WL15cdp4lS5ZY//79TZJ97nOfIwDcyBAAAkgbAkAANSH0KmBbIMs4/rOF/R0WAkC/AeCtt95q22+/vUmyn/zkJ2Xn+elPf2qSbPjw4XbrrbcSAG5kCAABpA0BIICaMAgsYFsgyzj+s4X9HRYCQL8B4O23327nn3++SbJ999237Dwf/ehHTZKdf/75dvvtt5cNAM8++2yTZKNGjaq4Dm4fCxYs6DY96TMA33nnHfve975nBxxwgG2zzTY2cOBA22GHHeyEE06w++67r+K8ueVPmDDBzMweffRRO+WUU2zEiBHWv3//sp9h+vTp9uUvf9l23XVX23TTTW3IkCG2++6727hx46oex++++659//vftwMOOMC23HJL69+/vw0bNsz22GMPO/HEE+3GG2+0JUuWVOyjEQgAAaQNASCAmjAILGBbIMs4/rOF/R0WAkD/AeCsWbPy///vf/97t/b/+Mc/8tNnzZoVTAA4efJk23LLLbt9n9069thjbfny5bHz59pMmDDBLrnkkm7zln6GtWvX2rnnnltxeQMGDLCbb745dnmzZ8+2HXfcseL8kuy6666ruO0agQAQQNoQAAKoCYPAArYFsozjP1vY32EhAPQfAJqZ7bnnnibJvvWtb3Vrf/HFF5skGzNmjJlZEAHgww8/bP369TNJ1tTUZFdddZW1t7fbrFmz7MEHH7Qzzjgj3/9nP/vZ2D5y0/fee2+TZHvttZfddtttNmPGDHv88cft2muvLWp/1lln5ec5+uij7a677rIZM2bYzJkz7ZZbbrExY8bkpz/wwAPdlvexj30sHxKOGzfOHnzwQZs5c6ZNnz7d7r//fvv2t79tu+22GwEgACRAAAigJgwCC9gWyDKO/2xhf4eFADCMAPCqq64ySTZixAhbv359vm1nZ6eNHDnSJNl//dd/mZn/APD999+34cOHmyQ78sgjbcWKFbHLuPnmm/PLeOSRR7pNd88Bhx9+uK1evbrs+t577735trfccktsm1WrVtlhhx2WDyXXrl2bnzZv3rxEV/h1dnbaO++8U3Z6oxAAAkgbAkAANWEQWMC2QJZx/GcL+zssBIBhBIALFy60vn37miR77LHH8m0fe+wxk2R9+/bNj7F8B4DXXXedSbLBgwdXfV7exz/+cZNkp59+erdpueX37ds3dh1cuav3TjrppIrtZs+ene/3z3/+c/7nTzzxRP7nzz//fMU+fCAABJA2BIAAasIgsIBtgSzj+M8W9ndYCADDCADNzA4//HCTZOecc07+Z+ecc45JssMOOyz/M98B4BFHHGGS7DOf+UzVz3rhhReaJNt55527Tcst/5BDDqnYx8KFC/Nt77777qrLHDZsmEmyK664Iv+z+fPn5/s4//zzq/bR2wgAAaQNASCAmjAILGBbIMs4/rOF/R0WAsBwAsA77rjDJNnQoUNt5cqVtnLlStt88827tfMdAFZ78UdcDRkypFs/uWlf+9rXKq7r//zP/9S8PEk2bty4on4OOeSQ/LTRo0fbpZdeao8++mjZW5h7EwEggLQhAARQEwaBBWwLZBnHf7awv8NCABhOALh8+XIbMmRI/kq3SZMmmSTbZJNNbNmyZfl2PgPADz74oEdhnNR92+Z+/t3vfrfiurrPEqylWlpaivpZuHChHXjggd3aDRgwwA499FC76aabbNWqVRXXpVEIAIFs2FzS5yX9WNLjkuZKWirpA0lvSGqXdJGkbSr00azkJ8LWun+CAgJAADVhEFjAtkCWcfxnC/s7LASA4QSAZmann366SbJjjjnGjj76aJNkX/jCF4ra+AwAV61alZ/vtNNOsxdeeCFxlcr1M2HChIrretNNN+XbTpw4MfHyFi5cGNvfI488YuPGjbMxY8ZYnz59is5Fu+yyi7300ksV16cRCACBbDhCyYK7NyV9pkwfzQn7IAAEEBQGgQVsC2QZx3+2sL/DQgAYVgD4pz/9ySRZ//79rX///ibJ/vCHPxS1qRQA5p4ZOHLkyIrrcP311/coADSz/FWKRx55ZJKPW1Zu+dUCwF//+tf5tpMmTdqgZZZ666237J577sm/PViSfeQjH6nrMpIgAASy4QhJr0q6Q9J5kk6SdICkT0o6TdKvJa1T9KVeI2nvmD6aVfjinyNpzwq1XcM+CQEggBoxCCxgWyDLOP6zhf0dFgLAsALAdevW2Q477JCfPnz4cFu3bl1Rm0oB4HnnnWdS9BzBSsaPH9/jAPCggw4ySbbppptu0PPzcsuvFgC+8sor+balt/XW0wknnJBfTi1BXD0QAALZ0C9BmxNV+GLfFzO92ZneXK8V6wECQAA1YRBYwLZAlnH8Zwv7OywEgGEFgGZmF110kQ0aNMgGDRpkF1xwQbfplQLAa665Jj/txRdfjF3+mjVrbMcdd+xxAHjVVVfl5/3Rj36U5CPHyvVRLQA0Mxs9erRJssGDB9s///nPHi+zkmuvvTa/Tk8++WRDllEOASAA1xwVbgUu1SwCQAApxCCwgG2BLOP4zxb2d1gIAMMLAKupFADOmjUrP+0rX/lKt3k7Ozvtq1/9atH3r9YAcOnSpTZs2DCTZIMGDep2i3KpqVOn2uOPP97t57nlJwkAcy9EkWQf+9jHKp4zVq9ebTfccEPRCz2effZZe/bZZ8vO09nZaccff7xJsj59+tiiRYuqrlM9EQACcD2t6Iu9PGZaswgAAaQQg8ACtgWyjOM/W9jfYSEA3LgCQDOzAw44ID/97LPPtscee8yeeeYZu+eee6y5udkkFb0Nt9YA0Mzsz3/+c/4ZhX379rVTTz3V7rnnHps5c6bNnDnTHnjgAZswYYLtvffeJsmuu+66bn3klp8kADQrvOBEkg0bNsy+853v2MMPP2zPPvusTZ061e644w778pe/bFtvvbVJsuXLl3fbZvvvv79dccUV9vvf/96efvppmzZtmk2aNMk+/elP5/s+8cQTE61PPREAAsjZQ4XnAM6Mmd4sAkAAKcQgsIBtgSzj+M8W9ndYCAA3vgBwzpw5tt1223X7nuXqG9/4Ro/fAux69NFHbfvtty+7HLfuuOOObvPnpiUNANetW2cXXXSR9evXr+ryNt10U1u5cmXsNqtUBx98sL399tuJ1qeeCACBbBsiaVdJ35D0LxW+2GfEtG12pj8paaGkDyS9K+lZSddI2q3ha0wACKBGDAIL2BbIMo7/bGF/h4UAcOMLAM3MFi5caOeee66NGjXKBg4caNtuu60dddRRNnny5G599DQANDNbsWKFXX/99XbUUUfZDjvsYAMHDrTBgwfbyJEj7cgjj7Qf/OAHZZ9FmFt+0gAw56WXXrILLrjA9t13X9tqq62sX79+NnToUBszZoydfvrpdscdd9iyZcuK5lmzZo1NmTLFLrnkEjvkkENsp512siFDhtjAgQNtxIgRdsIJJ9ikSZNs/fr1Na1LvRAAAtnTosp/kbhaUp+Y+ZqrzGeS1ktqLTN/UiOq1H655REAAkiCQWAB2wJZxvGfLezvsPQkeMDG75BDDjFJdvjhh/telUwgAASyp0Xx4d2zkj5RYb5mSYskXS/p85I+Lumjit4e/EtFVwPm+vrhBqxfosumRQAIICEGgQVsC2QZx3+2sL/DQgCIOPvss49Jss9+9rO+VyUTCACB7NlS0p5dtb+iMO+3ir7QcyUdV2a+TSUNqNDvxyW919VPp6SP9HD9CACBjZHkrd6IOX+84XF9fGJAjCzj+PeEc38Q53/fCABRasWKFbbJJpuYJLv44ot9r04mEAACyDlTUXC3XtFVgj1xugonh1t62Ae3AAMbI48DruAGgR4RgCDLOP494dwfxPnfNwJA5Lz44ov28MMP27HHHpv/bj7++OO+VysTCAABuH6l6Iv9vqStejB/fxWuAny5juvl4iUgQBp5HHAFNwj0iAAEWcbx7wnn/iDO/74RACJn1KhRRd/L448/3vcqZQYBIADXF1X4cn+xh33M6Jp/Rb1WqgQBIJBGHgdcwQ0CPSIAQZZx/HvCuT+I879vBIDIGTVqlA0aNMg+/OEPW2trq61evdr3KmUGASAA16dV+HJ/u4d9zOyanwAQQIHHAVdwg0CPCECQZRz/nnDuD+L87xsBIOAfASAAV4sKX+7xPZi/v6SlXfO/Ur/VKkIACKSRxwFXcINAjwhAkGUc/55w7g/i/O8bASDgHwEgANdkFb7czT2Y/wxn/lvrt1pFCACBNPI44ApuEOgRAQiyjOPfE879QZz/fSMABPwjAASyoUXS4Cptzlfhi71A0dV8OVupeiD4cUnvds3fqehtvY1AAAikkccBV3CDQI8IQJBlHP+ecO4P4vzvGwEg4B8BIJANHZLelnSzpLMkHSRpH0kHSzpX0lQVvtRrJB1RMn9T17TnJV0u6QRJ+0v6qKQTJf1S0gdOHz9q4GchAATSyOOAK7hBoEcEIMgyjn9POPcHcf73jQAQ8I8AEMiGDsX8IyimXlP0IpBSTQnnXydpgqQ+jfogIgAE0snjgCu4QaBHBCDIMo5/Tzj3B3H+940AEPCPABDIhl0k/YekexRdxfcvSWslLZc0V9K9im4THlJm/oGSTpH0Y0l/lTRf0jJFV/29qegKwu8rCgobjQAQSCOPA67gBoEeEYAgyzj+PeHcH8T53zcCQMA/AkAAaUMACKSRxwFXcINAjwhAkGUc/55w7g/i/O/bvHnzbPbs2TZ79mxbt26d79UBMmf9+vU2Z84cmz17ts2bNy/xfASAAHwiAATSyOOAK7hBoEcEIMgyjn9POPcHcf73bfHixfkA8K233vK9OkDmLF26NP8dXLRoUeL5CAAB+EQACKSRxwFXcINAjwhAkGUc/55w7g/i/O/bqlWr8uHD7NmzbcmSJbZq1Srr7Oz0vWrARm39+vW2dOlSe+mll/Lfv+XLlyeenwAQgE8EgEAaeRxwBTcI9IgABFnG8e8J5/4gzv8heP3114tCwNmzZ9ucOXPs5ZdfpiiqQZW77TdXCxYsqCl4JwAE4BMBIJBGHgdcwQ0CPSIAQZZx/HvCuT+I838IOjs77c033+wWAlIU1Tu1YMECW79+fU3fWwJAAD4RAAJp5HHAFdwg0CMCEGQZx78nnPuDOP+HZM2aNfb222/bq6++anPnzvV+hRRFbcw1b948W7RokS1fvrxHt9wTAALwiQAQSCOPA67gBoEeEYAgyzj+PeHcH8T5HwB6ggAQgE8EgEAaeRxwBTcI9IgABFnG8e8J5/4gzv8A0BMEgAB8IgAE0sjjgCu4QaBHBCDZEuL+njJF3ur++7ufC+6/39/6ZIbv0C2kAoCUIQAE4BMBIJBGHgdcBIAFIQZCaJwQ9zcBIAFgpgsAUoYAEIBPBIBAGnkccBEAFoQYCKFxQtzfBIAEgJkuAEgZAkAAPhEAAmnkccBFAFgQYiCExglxfxMAEgBmugAgZQgAAfhEAAikkccBFwFgQYiBEBonxP1NAEgAmOkCgJQhAATgEwEgkEYeB1wEgAUhBkJonBD3NwEgAWCmCwBShgAQgE8EgEAaeRxwEQAWhBgIoXFC3N8EgASAmS4ASBkCQAA+EQACaeRxwEUAWBBiIITGCXF/EwASAGa6ACBlCAAB+EQACKSRxwEXAWBBiIEQGifE/U0ASACY6QKAlCEABOATASCQRh4HXASABSEGQmicEPc3ASABYKYLAFKGABCATwSAQBp5HHARABaEGAihcULc3wSABICZLgBIGQJAAD4RAAJp5HHARQBYEGIghMYJcX8TABIAZroAIGUIAAH4RAAIpJHHARcBYEGIgRAaJ8T9TQBIAJjpAoCUIQAE4BMBIJBGHgdcBIAFIQZCaJwQ9zcBIAFgpgsAUoYAEIBPBIBAGnkccBEAFoQYCKFxQtzfBIAEgJkuAEgZAkAAPhEAAmnkccBFAFgQYiCExglxfxMAEgBmugAgZQgAAfhEAAikkccBFwFgQYiBEBonxP1NAEgAmOkCgJQhAATgEwEgkEYeB1wEgAUhBkJonBD3NwEgAWCmCwBShgAQgE8EgEAaeRxwEQAWhBgIoXFC3N8EgASAmS4ASBkCQAA+EQACaeRxwEUAWBBiIITGCXF/EwASAGa6ACBlCAAB+EQACKSRxwEXAWBBiIEQGifE/U0ASACY6QKAlCEABOATASCQRh4HXASABSEGQmicEPc3ASABYKYLAFKGABCATwSAQBp5HHARABaEGAihcULc3wSABICZLgBIGQJAAD4RAAJp5HHARQBYEGIghMYJcX8TABIAZroAIGUIAAH4RAAIpJHHARcBYEGIgRAaJ8T9TQBIAJjpAoCUIQAE4BMBIJBGHgdcBIAFIQZCaJwQ9zcBIAFgpgsAUoYAEIBPBIBAGnkccBEAFoQYCKFxQtzfBIAEgJkuAEgZAkAAPhEAAmnkccBFAFgQYiCExglxfxMArL3F+AAAIABJREFUEgBmugAgZQgAAfhEAAikkccBFwFgQYiBEBonxP1NAEgAmOkCgJQhAATgEwEgkEYeB1wEgAUhBkJonBD3NwEgAWCmCwBShgAQgE8EgEAaeRxwEQAWhBgIoXFC3N8EgASAmS4ASBkCQAA+EQACaeRxwEUAWBBiIITGCXF/EwASAGa6ACBlCAAB+EQACKSRxwEXAWBBiIEQGifE/U0ASACY6QKAlCEABOATASCQRh4HXASABSEGQmicEPc3ASABYKYLAFKGABCATwSAQBp5HHARABaEGAihcULc3wSABICZLgBIGQJAAD4RAAJp5HHARQBYEGIghMYJcX8TABIAZroAIGUIAAH4RAAIpJHHARcBYEGIgRAaJ8T9TQBIAJjpAoCUIQAE4BMBIJBGvgddARUBSAYDEE8IAMOuzAjgvBtMAUDKEAAC8IkAEEgj34OugIoAMIMBiCcEgGFXZgRw3g2mACBlCAAB+EQACKSR70FXQEUAmMEAxBMCwLArMwI47wZTAJAyBIAAfCIABNLI96AroCIAzGAA4gkBYNiVGQGcd4MpAEgZAkAAPhEAAmnke9AVUBEAZjAA8YQAMOzKjADOu8EUAKQMASAAnwgAgTTyPegKqAgAMxiAeEIAGHZlRgDn3WAKAFKGABCATwSAQBr5HnQFVASAGQxAPCEADLsyI4DzbjAFAClDAAjAJwJAII18D7oCKgLADAYgnhAAhl2ZEcB5N5gCgJQhAATgEwEgkEa+B10BFQFgBgMQTwgAw67MCOC8G0wBQMoQAALwiQAQSCPfg66AigAwgwGIJwSAYVdmBHDeDaYAIGUIAAH4RAAIpJHvQVdARQCYwQDEEwLAsCszAjjvBlMAkDIEgAB8IgAE0sj3oCugIgDMYADiCQFg2JUZAZx3gykASBkCQAA+EQACaeR70BVQEQBmMADxhAAw7MqMAM67wRQApAwBIACfCACBNPI96AqoCAAzGIB4QgAYdmVGAOfdYAoAUoYAEIBPBIBAGvkedAVUBIAZDEA8IQAMuzIjgPNuMAUAKUMACMAnAkAgjXwPugIqAsAMBiCeEACGXZkRwHk3mAKAlCEABOATASCQRr4HXQEVAWAGAxBPCADDrswI4LwbTAFAyhAAAvCJABBII9+DroCKADCDAYgnBIBhV2YEcN4NpgAgZQgAAfhEAAikke9BV0BFAJjBAMQTAsCwKzMCOO8GUwCQMgSAAHwiAATSyPegK6AiAMxgAOIJAWDYlRkBnHeDKQBIGQJAAD4RAAJp5HvQFVARAGYwAPGEADDsyowAzrvBFACkDAEgAJ8IAIE08j3oCqgIADMYgHhCABh2ZUYA591gCgBShgAQgE8EgEAa+R50BVQEgBkMQDwhAAy7MiOA824wBQApQwAIwCcCQCCNfA+6AioCwAwGIJ4QAIZdmRHAeTeYAoCUIQAE4BMBIJBGvgddARUBYAYDEE8IAMOuzAjgvBtMAUDKEAAC8IkAEEgj34OugIoAMIMBiCcEgGFXZgRw3g2mACBlCAAB+EQACKSR70FXQEUAmMEAxBMCwLArMwI47wZTAJAyBIBA+mwu6fOSfizpcUlzJS2V9IGkNyS1S7pI0jYJ+ztQ0p2SOiStlrRY0kNdy2g0AkAgjXwPugIqAsAMBiCeEACGXZkRwHk3mAKAlCEABNLnCKn7oC+m3pT0mSp9XSZpfYU+HpA0uO6foIAAEEgj34OugIoAMIMBiCcEgGFXZgRw3g2mACBlCACB9DlC0quS7pB0nqSTJB0g6ZOSTpP0a0nrFH2p10jau0w/X1bhyz9X0pck7S/p3yU95ky7q0GfQyIABNLJ96AroCIAzGAA4gkBYNiVGQGcd4MpAEgZAkAgffolaHOiCl/s+2Kmbynp3a7p/5Q0LGYZDzh9HNrTla2CABBII9+DroCKADCDAYgnBIBhV2YEcN4NpgAgZQgAgY3XHCl/K3Cpb6rwxS/3rL8RKlxJ+GAjVlAEgEA6+R50BVQEgBkMQDwhAAy7MiOA824wBQApQwAIbLyeVvTFXh4z7YmuaUslDazQx0Nd7VZL2qzeKygCQCCdfA+6AioCwAwGIJ4QAIZdmRHAeTeYAoCUIQAENk57qHD13sySaQMlre2a9lCVfr6twgniU3VeR4kAEEgn34OugIoAMIMBiCcEgGFXZgRw3g2mACBlCACBjccQSbtK+oakf6nwxT6jpN0YZ9pPq/R5ktN2XD1XtgsBIJBGvgddARUBYAYDEE8IAMOuzAjgvBtMAUDKEAAC6dYidR8AOnW1pD4l8xzlTL+wSv/7OW2v7MH6jahS+f4JAIEU8T3oCqgIADMYgHhCABh2ZUYA591gCgBShgAQSLcWKTb4e1bSJ8rMc6rT7qtV+t/DaXtdD9Yvbt1iiwAQSBHfg66AigAwgwGIJwSAYVdmBHDeDaYAIGUIAIF021LSnl21v6I3+v5W0Rd6rqTjYuY5U4Uv/Zeq9L+z0/bWHqxft8FKuSIABFLE96AroCIAJADprXoj5nfnGxk+/kOrzAjgvBtMAUDKEAACG6czJXVKWq/oKkFXb14ByC3AwMbI96AroCIAJADprSIADLsyI4DzbjAFAClDAAhsvH6l6Iv9vqStnJ/35jMAq+ElIEAa+R50BVQEgAQgvVUEgGFXZgRw3g2mACBlCACBjdcXVfhyf9H5+Z7Oz3kLMIDa+R50BVQEgAQgvVUEgGFXZgRw3g2mACBlCACBjdenVfhyf9v5+UBJ67p+/lCVPr7t9PGpBqwjASCQRr4HXQEVASABSG8VAWDYlRkBnHeDKQBIGQJAYOPVosKXe3zJtCe7fr5UUSBYzkNd7VZLGlr/VSQABFLJ96AroCIAJADprSIADLsyI4DzbjAFAClDAAhsvCar8OVuLpl2kTPt82XmH6HClYKTG7OKBIBAKvkedAVUBIAEIL1VBIBhV2YEcN4NpgAgZQgAgfRpkTS4SpvzVfhiL5DUv2T61pLe65reIWmbkun9JD3g9NGI238lAkAgnXwPugIqAkACkN4qAsCwKzMCOO8GUwCQMgSAQPp0SHpb0s2SzpJ0kKR9JB0s6VxJU1X4Uq+RdESZfv7DaTdX0jmK3vp7gqTHnGmTGvMxJBEAAunke9AVUBEAEoD0VhEAhl2ZEcB5N5gCgJQhAATSp0Mxg4CYek3Ri0AquVxSZ4U+Jqv61YYbggAQSCPfg66AigCQAKS3igAw7MqMAM67wRQApAwBIJA+uyi6eu8eSc9L+pektZKWK7qS715FtwkPSdjfJyVNlPSqoisGl0h6WNIX6rnSZRAAAmnke9AVUBEAEoD0VhEAhl2ZEcB5N5gCgJQhAATgEwEgkEa+B10BFQEgAUhvFQFg2JUZAZx3gykASBkCQAA+EQACaeR70BVQEQASgPRWEQCGXZkRwHk3mAKAlCEABOATASCQRr4HXQEVASABSG8VAWDYlRkBnHeDKQBIGQJAAD4RAAJp5HvQFVARABKA9FYRAIZdmRHAeTeYAoCUIQAE4BMBIJBGvgddARUBIAFIbxUBYNiVGQGcd4MpAEgZAkAAPhEAAmnke9AVUBEAEoD0VhEAhl2ZEcB5N5gCgJQhAATgEwEgkEa+B10BFQEgAUhvFQFg2JUZAZx3gykASBkCQAA+EQACaeR70BVQEQASgPRWEQCGXZkRwHk3mAJ6yRtvvNH9/P/GG75XCylEAAjAJwJAII18D7oCKgJAApDeKgLAsCszAjjvBlNALyEARL0QAALwiQAQSCPfg66AigCQAKS3igAw7MqMAM67wRTQSwgAUS8EgAB8IgAE0sj3oCugIgAkAOmtIgAMuzIjgPNuMAX0EgJA1AsBIACfCACBNPI96AqoCAAJQHqr/j97bx9seV6Qdz7AAEFRiJnyHWwwoIWYEpwhU4rC4q4BnF1jgqCbBDsxATdksxKiJrwZXRIjMYrrS6A2xglbpRXWAItkKUPxooUUSqQqK+xEFgWdIcJIfCEMzAzT3fvHObfO6dv39u1zzr3n+Xy/z/Op+hRO33PvHKc+9/f93qd6pjsAso0B8NzFWMqe6ABYTosOgKUUJx0ASxkR9w9dIDsAdgDZlx0A2cYAeO5iLGVPdAAsp0UHwFKKkw6ApYyI+4cukB0AO4Dsyw6AbGMAPHcxlrInOgCW06IDYCnFSQfAUkbE/UMXyA6AHUD2ZQdAtjEAnrsYS9kTHQDLadEBsJTipANgKSPi/qELZAfADiD7sgMg2xgAz12MpeyJDoDltOgAWEpx0gGwlBFx/9AFsgNgB5B92QGQbQyA5y7GUvZEB8ByWnQALKU46QBYyoi4f+gC2QGwA8i+7ADINgbAcxdjKXuiA2A5LToAllKcdAAsZUTcP3SB7ADYAWRfdgBkGwPguYuxlD3RAbCcFh0ASylOOgCWMiLuH7pAdgDsALIvOwCyjQHw3MVYyp7oAFhOiw6ApRQnHQBLGRH3D10gOwB2ANmXHQDZxgB47mIsZU90ACynRQfAUoqTDoCljIj7hy6QHQA7gOzLDoBsYwA8dzGWsic6AJbTogNgKcVJB8BSRsT9QxfIDoAdQPZlB0C2MQCeuxhL2RMdAMtp0QGwlOKkA2ApI+L+oQtkB8AOIPuyAyDbGADPXYyl7IkOgOW06ABYSnHSAbCUEXH/0AWyA2AHkH3ZAZBtDIDnLsZS9kQHwHJadAAspTjpAFjKiLh/6ALZAbADyL7sAMg2BsBzF2Mpe6IDYDktOgCWUpx0ACw70QuRCfcPXSA7AHYA2ZcdANnGAHjuYixlT/S+u6L/LHajA2ApxUkHwLITvQSYcP/QBbIDYAeQfdkBkG0MgOcuxlL2RO+7K/rPYjc6AJZSnHQALDvRS4AJ9w9dIDsAdgDZlx0A2cYAeO5iLGVP9L67ov8sdqMDYCnFSQfAshO9BJhw/9AFsgNgB5B92QGQbQyA5y7GUvZE77sr+s9iNzoAllKcdAAsO9FLgAn3D10gOwB2ANmXHQDZxgB47mIsZU/0vrui/yx2owNgKcVJB8CyE70EmHD/0AWyA2AHkH3ZAZBtDIDnLsZS9kTvuyv6z2I3OgCWUpx0ACw70UuACfcPXSA7AHYA2ZcdANnGAHjuYixlT/S+u6L/LHajA2ApxUkHwLITvQSYcP/QBbIDYAeQfdkBkG0MgOcuxlL2RO+7K/rPYjc6AJZSnHQALDvRS4AJ9w9dIDsAdgDZlx0A2cYAeO5iLGVP9L67ov8sdqMDYCnFSQfAshO9BJhw/9AFsgNgB5B92QGQbQyA5y7GUvZE77sr+s9iNzoAllKcdAAsO9FLgAn3D10gOwB2ANmXHQDZxgB47mIsZU/0vrui/yx2owNgKcVJB8CyE70EmHD/0AWyA2AHkH3ZAZBtDIDnLsZS9kTvuyv6z2I3OgCWUpx0ACw70UuACfcPXSA7AHYA2ZcdANnGAHjuYixlT/S+u6L/LHajA2ApxUkHwLITvQSYcP/QBbIDYAeQfdkBkG0MgOcuxlL2RO+7K/rPYjc6AJZSnHQALDvRS4AJ9w9dIDsAdgDZlx0A2cYAeO5iLGVP9L67ov8sdqMDYCnFSQfAshO9BJhw/9AFsgNgB5B92QGQbQyA5y7GUvZE77sr+s9iNzoAllKcdAAsO9FLgAn3D10gOwB2ANmXHQDZxgB47mIsZU/0vrui/yx2owNgKcVJB8CyE70EmHD/0AWyA2AHkH3ZAZBtDIDnLsZS9kTvuyv6z2I3OgCWUpx0ACw70UuACfcPXSDdowPJGEytdQBkGwPguYux5GFqjfj8d9G7/250ACylOOkAWHailwAT7ksnSPfoQDIGU2vEHwDdzZGMAfDcxVjyMLVGfP676N1/NzoAllKcdAAsO9FLgAn3pROke3QgGYOpNeIPgO7mSMYAeO5iLHmYWiM+/1307r8bHQBLKU46AJad6CXAhPvSCdI9OpCMwdQa8QdAd3MkYwA8dzGWPEytEZ//Lnr3340OgKUUJx0Ay070EmDCfekE6R4dSMZgao34A6C7OZIxAJ67GEseptaIz38XvfvvRgfAUoqTDoBlJ3oJMOG+dIJ0jw4kYzC1RvwB0N0cyRgAz12MJQ9Ta8Tnv4ve/XejA2ApxUkHwLITvQSYcF86QbpHB5IxmFoj/gDobo5kDIDnLsaSh6k14vPfRe/+u9EBsJTipANg2YleAky4L50g3aMDyRhMrRF/AHQ3RzIGwHMXY8nD1Brx+e+id//d6ABYSnHSAbDsRC8BJtyXTpDu0YFkDKbWiD8AupsjGQPguYux5GFqjfj8d9G7/250ACylOOkAWHailwAT7ksnSPfoQDIGU2vEHwDdzZGMAfDcxVjyMLVGfP676N1/NzoAllKcdAAsO9FLgAn3pROke3QgGYOpNeIPgO7mSMYAeO5iLHmYWiM+/1307r8bHQBLKU46AJad6CXAhPvSCdI9OpCMwdQa8QdAd3MkYwA8dzGWPEytEZ//Lnr3340OgKUUJx0Ay070EmDCfekE6R4dSMZgao34A6C7OZIxAJ67GEseptaIz38XvfvvRgfAUoqTDoBlJ3oJMOG+dIJ0jw4kYzC1RvwB0N0cyRgAz12MJQ9Ta8Tnv4ve/XejA2ApxUkHwLITvQSYcF86QbpHB5IxmFoj/gDobo5kDIDnLsaSh6k14vPfRe/+u9EBsJTipANg2YleAky4L50g3aMDyRhMrRF/AHQ3RzIGwHMXY8nD1Brx+e+id//d6ABYSnHSAbDsRC8BJtyXTpDu0YFkDKbWiD8AupsjGQPguYux5GFqjfj8d9G7/250ACylOOkAWHailwAT7ksnSPfoQDIGU2vEHwDdzZGMAfDcxVjyMLVGfP676N1/NzoAllKcdAAsO9FLgAn3pROke3QgGYOpNeIPgO7mSMYAeO5iLHmYWiM+/1307r8bHQBLKU46AJad6CXAhPvSCdI9OpCMAdAdRXdzJGMAdIex5GFqrQPgit79d6MDYCnFSQfAshO9BJhwXzpBukcHkjEAuqPobo5kDIDuMJY8TK11AFzRu/9udAAspTjpAFh2opcAE+5LJ0j36EAyBkB3FN3NkYwB0B3GkoeptQ6AK3r3340OgKUUJx0Ay070EmDCfekE6R4dSMYA6I6iuzmSMQC6w1jyMLXWAXBF7/670QGwlOKkA2DZiV4CTLgvnSDdowPJGADdUXQ3RzIGQHcYSx6m1joArujdfzc6AJZSnHQALDvRS4AJ96UTpHt0IBkDoDuK7uZIxgDoDmPJw9RaB8AVvfvvRgfAUoqTDoBlJ3oJMOG+dIJ0jw4kYwB0R9HdHMkYAN1hLHmYWusAuKJ3/93oAFhKcdIBsOxELwEm3JdOkO7RgWQMgO4oupsjGQOgO4wlD1NrHQBX9O6/Gx0ASxmTx0t6oaQ3SbpN0t2SPiHp/ZJukfR11/A1zuuIw+QYz5/ie1+nA2DZiV4CTLgvnSDdowPJGADdUXQ3RzIGQHcYSx6m1joArujdfzc6AJYyHr+sIw6BI3y1pAdc5eucv8avc0kdAAuUXgJMuC+dIN2jA8kYAN1RdDdHMgZAdxhLHqbWOgCu6N1/NzoAljIeH9DiG/bDkl4h6S9LulHSTZKeL+l2rb6pf+4qX+f82uu+UdJjr+JDT///DUkdAMuO9BJgwn3pBOkeHUjGAOiOors5kjEAusNY8jC11gFwRe/+u9EBsJTxeKOkZ0q63zEfv17Sb2n1jX3cvw58fu015071HV47HQDLTvQSYMJ96QTpHh1IxgDojqK7OZIxALrDWPIwtdYBcEXv/rvRAbCUOblZq2/sHz/mNefXXnNuL+/qSjoAlp3oJcCE+9IJ0j06kIwB0B1Fd3MkYwB0h7HkYWqtA+CK3v13owNgKXPyYK2+sd94zGvOr73m3F7e1ZV0ACw70UuACfelE6R7dCAZA6A7iu7mSMYA6A5jycPUWgfAFb3770YHwFLm5HO0+sZ+wzGvOb/2mnN7eVdX0gGw7EQvASbcl06Q7tGBZAyA7ii6myMZA6A7jCUPU2sdAFf07r8bHQBLmZNv0eob++XHvOb82mveLumjku6R9DFJ75L0MklfdMbvswNg2YleAky4L50g3aMDyRgA3VF0N0cyBkB3GEseptY6AK7o3X83OgCWMh/3lfRrWn1j33DM685LVx4mh/yUpOfu8F6++ARvOPh7dQAs29BLgAn3pROke3QgGQOgO4ru5kjGAOgOY8nD1FoHwBW9++9GB8BS5uMFWn1Tv/Yqrzsv6bcl/TNJf0nSjUufJek1ki6ufZ3nbPlernhAH2cHwLINvQSYcF86QbpHB5IxALqj6G6OZAyA7jCWPEytdQBc0bv/bnQALGUuniTp01p8Q39U0udd5bUPkXSfq3z8Zi3+leBLku6U9PlbvJ8rHtDH2QFwXJw/cL3udVe29LrX9QfAM8d96QTpHh1IxgDojqK7OZIxALrDWPJwNwfS9ayl3f1He/53ACxlHr5C0h9q8c18lxZj4K68SKsHxIu2+Pz+K8ABOA9c2iUgBsDFk6Kzf5oxALqj6G6OZAyA7jCWPNzNgXQ9a2l3/9Ge/x0AS5mDR0j6sBbfyPdq8YeAnAafq9W/CvzvT+lrrtM/BGQCnAcu7RIQA+DiSdHZP80YAN1RdDdHMgZAdxhLHu7mQLqetbS7/2jP/w6ApYzPF2rx3/K7pMVY9+xT/vp3LL/2+07560odAKfAeeDSLgExAC6eFJ3904wB0B1Fd3MkYwB0h7Hk4W4OpOtZS7v7j/b87wBYythcr8Uwd/BN/Lwz+Hv8wfJrdwAsR+I8cGmXgBgAF0+Kzv5pxgDojqK7OZIxALrDWPJwNwfS9ayl3f1He/53ACzl9HmgpG/Q4k/TfcIZ/n0eIuk3tPoG/r4z+Hus/yvAbz6Dr98BcAKcBy7tEhAD4OJJ0dk/zRgA3VF0N0cyBkB3GEse7uZAup61tLv/aM//DoClbMaXSHr50oce8fGbJN0u6cKa75b08FN+H58h6R1affO+7JS//gEvXvt7vPgMvn4HwAlwHri0S0AMgIsnRWf/NGMAdEfR3RzJGADdYSx5uJsD6XrW0u7+oz3/OwCWshnfrcXviPsPR3zssyR9RIvR7+Ihf1PSdaf0Hh4g6Ze0+sZ9xRZf45ykx53wmpsl3b38e3xK0hdt8fc5iQ6AE+A8cGmXgBgAF0+Kzv5pxgDojqK7OZIxALrDWPJwNwfS9ayl3f1He/53ACxlM/6dFgPfUb8b7gVajH0XtBjl/ntJP7n2a995Su/h32r1TfsWSV8p6bFX8dFHfI0nLz//nZL+oaSnSfpqSTdIeqak12j1r/5e0tn8twWlDoBT4DxwaZeAGAAXT4rO/mnGAOiOors5kjEAusNY8nA3B9L1rKXd/Ud7/ncALGUzbtVizHvaER/7teXHfuHQr/8bLca0N53Se7jioXeCHzriazz5Gj/3TknPOaX3fRQdACfAeeDSLgExAC6eFJ3904wB0B1Fd3MkYwB0h7Hk4W4OpOtZS7v7j/b87wBYymb8Fy1Gvscf+vXPlvTp5ce+6dDHvkWLAfA/n9J7uOKhd4IfOuJrfJakv6LF71B8l6Tf1WLsu1uLf435LZJeqMUfAnKWdACcAOeBS7sExAC4eFJ09k8zBkB3FN3NkYwB0B3Gkoe7OZCuZy3t7j/a878DYCmbcY8WI9+Nh379aVqMfPdI+sxDH7th+bG7zvzdjUcHwAlwHri0S0AMgIsnRWf/NGMAdEfR3RzJGADdYSx5uJsD6XrW0u7+oz3/OwCWshl/oMUA+M2Hfv2HtRj53n3E5xwMgH98tm9tSDoAToDzwKVdAmIAXDwpOvunGQOgO4ru5kjGAOgOY8nD3RxI17OWdvcf7fnfAbCUzXibFgPgLWu/dj9JH1z++suP+Jxv1mIA/K2zfnMD0gFwApwHLu0SEAPg4knR2T/NGADdUXQ3RzIGQHcYSx7u5kC6nrW0u/9oz/8OgKVsxt/V6k/1/WFJN2v1h3xc0OJ3+x3mf11+/M17eo8j0QFwApwHLu0SEAPg4knR2T/NGADdUXQ3RzIGQHcYSx7u5kC6nrW0u/9oz/8OgKVsxgMlvU+rwe/Ai5Jef8znvHf5mhft4w0ORgfACXAeuLRLQAyAiydFZ/80YwB0R9HdHMkYAN1hLHm4mwPpetbS7v6jPf87AJayOZ8v6Re0+BNzD/5wj3+txZ+se5iv12osfMK+3uBAdACcAOeBS7sExAC4eFJ09k8zBkB3FN3NkYwB0B3Gkoe7OZCuZy3t7j/a878DYCnb80BJXyDpAVd5zSMkPWnpffbxpgajA+AEOA9c2iUgBsDFk6Kzf5oxALqj6G6OZAyA7jCWPNzNgXQ9a2l3/9Ge/x0ASylOOgBOgPPApV0CYgBcPCk6+6cZA6A7iu7mSMYA6A5jycPdHEjXs5Z29x/t+d8BsJTipAPgBDgPXNolIAbAxZOis3+aMQC6o+hujmQMgO4wljzczYF0PWtpd//Rnv8dAEvZns+W9Dck/e+SflHSWyR9yaHXfKGkx0h65H7f2jB0AJwA54FLuwTEALh4UnT2TzMGQHcU3c2RjAHQHcaSh7s5kK5nLe3uP9rzvwNgKdvxPEl/rMv/FOALWox963z78mOflPQ5+3yDg9ABcAKcBy7tEhAD4OJJ0dk/zRgA3VF0N0cyBkB3GEse7uZAup61tLv/aM//DoClbM4/0mr0+5SkX9fxA+B9JX14+bG/tb+3OAwdACfAeeDSLgExAC6eFJ3904wB0B1Fd3MkYwB0h7Hk4W4OpOtZS7v7j/b87wBYymY8Tqvf9fdqSQ9Z/vpxA6AkvWL58dfs4w0ORgfACXAeuLRLQAyAiydFZ/80YwB0R9HdHMkYAN1hLHm4mwPpetbS7v6jPf87AJayGf9KizHvHYd+/WoD4LOWH7/1bN/vz41wAAAgAElEQVTakHQAnADngUu7BMQAuHhSdPZPMwZAdxTdzZGMAdAdxpKHuzmQrmct7e4/2vO/A2Apm/HbWgx933bo1682AP755cc/frZvbUg6AE6A88ClXQJiAFw8KTr7pxkDoDuK7uZIxgDoDmPJw90cSNezlnb3H+353wGwlM34pBZD3+MO/frVBsCvWn787rN9a0PSAXACnAcu7RIQA+DiSdHZP80YAN1RdDdHMgZAdxhLHu7mQLqetbS7/2jP/w6ApWzGwZ/8+4RDv361AfBpy49/9Gzf2pB0AJwA54FLuwTEALh4UnT2TzMGQHcU3c2RjAHQHcaSh7s5kK5nLe3uP9rzvwNgKZvxXi2Gvr9+6NevNgD+2PLjv3q2b21IOgBOgPPApV0CYgBcPCk6+6cZA6A7iu7mSMYA6A5jycPdHEjXs5Z29x/t+d8BsJTN+N+0GPN+5dCvHzcAPlKL//bfBUn/6Kzf3IB0AJwA54FLuwTEALh4UnT2TzMGQHcU3c2RjAHQHcaSh7s5kK5nLe3uP9rzvwNgKZvxaEn36MpB76gB8AZJH1h+7JOSvmA/b3EoOgBOgPPApV0CYgBcPCk6+6cZA6A7iu7mSMYA6A5jycPdHEjXs5Z29x/t+d8BsJTNeYlWg9+vSfretb/+e5K+T9Jbln994N+1vFM+HQAnwHng0i4BMQAunhSd/dOMAdAdRXdzJGMAdIex5OFuDqTrWUu7+4/2/O8AWMp2/KCke7Ua/o7y4GPfb3qPI9ABcAKcBy7tEhAD4OJJ0dk/zRgA3VF0N0cyBkB3GEse7uZAup61tLv/aM//DoClbM8Nkn5B0ie0GPvWvUvSv5P0NbZ3NwYdACfAeeDSLgExAC6eFJ3904wB0B1Fd3MkYwB0h7Hk4W4OpOtZS7v7j/b87wBYyu5cJ+nPSfpvJf0FLYbBB1nf0Th0AJwA54FLuwTEALh4UnT2TzMGQHcU3c2RjAHQHcaSh7s5kK5nLe3uP9rzvwNgKcVJB8AJcB64tEtADICLJ0Vn/zRjAHRH0d0cyRgA3WEsebibA+l61tLu/qM9/zsAllKcdACcAOeBS7sExAC4eFJ09k8zBkB3FN3NkYwB0B3Gkoe7OZCuZy3t7j/a878DYCnFSQfACXAeuLRLQAyAiydFZ/80YwB0R9HdHMkYAN1hNHHHHXdcOnz3ueOOO2zvJwp3cyBdz1ra3X+0538HwFK24zpJ3yzpRyS9VtKbJb31BN9ieadsOgBOgPPApV0CYgBcPCk6+6cZA6A7iu7mSMYA6A6jiQ6ARtzNgXQ9a2l3/9Ge/x0AS9mcJ0r6oKQLax7+U4DXvbD2v+VyOgBOgPPApV0CYgBcPCk6+6cZA6A7iu7mSMYA6A6jiQ6ARtzNgXQ9a2l3/9Ge/x0AS9mML5f0Ca1Gvbsk/aakX5b0tmuwXE4HwAlwHri0S0AMgIsnRWf/NGMAdEfR3RzJGADdYTTRAdCIuzmQrmct7e4/2vO/A2Apm/FqLYa/T0t6oaQHe9/O8HQAnADngUu7BMQAuHhSdPZPMwZAdxTdzZGMAdAdRhMdAI24mwPpetbS7v6jPf87AJayGbdr8bv/fsT9RiahA+AEOA9c2iUgBsDFk6Kzf5oxALqj6G6OZAyA7jCa6ABoxN0cSNezlnb3H+353wGwlM24S4sB8Gvdb2QSOgBOgPPApV0CYgBcPCk6+6cZA6A7iu7mSMYA6A6jiQ6ARtzNgXQ9a2l3/9Ge/x0AS9mM27QYAB/vfiOT0AFwApwHLu0SEAPg4knR2T/NGADdUXQ3RzIGQHcYTXQANOJuDqTrWUu7+4/2/O8AWMpm/LwWA+Cz3W9kEjoAToDzwKVdAmIAXDwpOvunGQOgO4ru5kjGAOgOo4kOgEbczYF0PWtpd//Rnv8dAEvZjBsl3SPpNyRdZ34vM9ABcAKcBy7tEhAD4OJJ0dk/zRgA3VF0N0cyBkB3GE10ADTibg6k61lLu/uP9vzvAFjK5vwdLX4X4BskXW9+L6PTAXACnAcu7RIQA+DiSdHZP80YAN1RdDdHMgZAdxhNdAA04m4OpOtZS7v7j/b87wBYyma8dOk7JV2UdKek10v6p2sfu5rlcjoAToDzwKVdAmIAXDwpOvunGQOgO4ru5kjGAOgOo4kOgEbczYF0PWtpd//Rnv8dAEvZjIta/O6/Aw//9UmWy+kAOAHOA5d2CYgBcPGk6OyfZgyA7ii6myMZA6A7jCY6ABpxNwfS9ayl3f1He/53ACxlMy7uaLmcDoAT4DxwaZeAGAAXT4rO/mnGAOiOors5kjEAusNoogOgEXdzIF3PWtrdf7TnfwfAUoqTDoAT4DxwaZeAGAAXT4rO/mnGAOiOors5kjEAusNoogOgEXdzIF3PWtrdf7TnfwfAUoqTDoAT4DxwaZeAGAAXT4rO/mnGAOiOors5kjEAusNoogOgEXdzIF3PWtrdf7TnfwfAUoqTDoAT4DxwaZeAGAAXT4rO/mnGAOiOors5kjEAusNoogOgEXdzIF3PWtrdf7TnfwfAUoqTDoAT4DxwaZeAGAAXT4rO/mnGAOiOors5kjEAusNoogOgEXdzIF3PWtrdf7TnfwfAUrbncyS9QNKbJN0m6c6lty1/7QXL15Tj6QA4Ac4Dl3YJiAFw8aTo7J9mDIDuKLqbIxkDoDuMJjoAGnE3B9L1rKXd/Ud7/ncALGU7nivpv0q6sPTwn/Z78Ov/VdJzTO9xBDoAbgHt4uf+oYtkDICLJ0V3cyRjAHRH0d0cyRgA3WE0QbsHRuFuDqT7mUtyJDoAlrI5/0CXj35/JOmtkn5O0s8v/+8/0uVj4Pda3imfDoBbQLv4uQ9dkjEALp4U3c2RjAHQHUV3cyRjAHSH0QTtHhiFuzmQ7mcuyZHoAFjKZjxW0qe1GPY+LOl/lHT/I153naRvl3T78rX3SPqKPb3HkegAuAW0i5/70CUZA+DiSdHdHMkYAN1RdDdHMgZAdxhN0O6BUbibA+l+5pIciQ6ApWzGK7UY9D4q6eHX8PqHSfqIFr8L8F+c4fsalQ6AW0C7+LkPXZIxAC6eFN3NkYwB0B1Fd3MkYwB0h9EE7R4Yhbs5kO5nLsmR6ABYyma8X4sx77s3+JznazEavv9M3tHYdADcAtrFz33okowBcPGk6G6OZAyA7ii6myMZA6A7jCZo98Ao3M2BdD9zSY5EB8BSNuNOLQbAJ2zwOU/QYgD8xJm8o7HpALgFtIuf+9AlGQPg4knR3RzJGADdUXQ3RzIGQHcYTdDugVG4mwPpfuaSHIkOgKVsxse1GAC/ZoPP+RotBsCPn8k7GpsOgFtAu/i5D12SMQAunhTdzZGMAdAdRXdzJGMAdIfRBO0eGIW7OZDuZy7JkegAWMpmvFeLAfAlG3zOS7QYAN97Ju9obDoAbgHt4uc+dEnGALh4UnQ3RzIGQHcU3c2RjAHQHUYTtHtgFO7mQLqfuSRHogNgKZvxY1qMeX8i6Suv4fV/TqvfNfijZ/i+RqUD4BbQLn7uQ5dkDICLJ0V3cyRjAHRH0d0cyRgA3WE0QbsHRuFuDqT7mUtyJDoAlrIZXyLpU1oMen8i6XskXX/E666X9L2S/liLwfCTurY/NTiNDoBbQLv4uQ9dkjEALp4U3c2RjAHQHUV3cyRjAHSH0QTtHhiFuzmQ7mcuyZHoAFjK5jxbiwHwwHslfUDSr0p6x/L/vnf5sYvL//1rlnfKpwPgFtAufu5Dl2QMgIsnRXdzJGMAdEfR3RzJGADdYTRBuwdG4W4OpPuZS3IkOgCWsh3fJOk2LQa+Aw8GwfVfu13S003vcQQ6AG4B7eLnPnRJxgC4eFJ0N0cyBkB3FN3NkYwB0B1GE7R7YBTu5kC6n7kkR6IDYCnbc52kb5X0Ki1+99+tS391+WvfunxNOZ4OgFtAu/i5D12SMQAunhTdzZGMAdAdRXdzJGMAdIfRBO0eGIW7OZDuZy7JkegAWEpx0gFwC2gXP/ehSzIGwMWTors5kjEAuqPobo5kDIDuMJqg3QOjcDcH0v3MJTkSHQBLKU46AG4B7eLnPnRJxgC4eFJ0N0cyBkB3FN3NkYwB0B1GE7R7YBTu5kC6n7kkR6IDYCnFSQfALaBd/NyHLskYABdPiu7mSMYA6I6iuzmSMQC6w2iCdg+Mwt0cSPczl+RIdAAspTjpALgFtIuf+9AlGQPg4knR3RzJGADdUXQ3RzIGQHcYTdDugVG4mwPpfuaSHIkOgKUczcGf6HvvMb++jYe/VukAuBW0i5/70CUZA+DiSdHdHMkYAN1RdDdHMgZAdxhN0O6BUbibA+l+5pIciQ6ApRzNxaUXjvn1bTz8tUoHwK2gXfzchy7JGAAXT4ru5kjGAOiOors5kjEAusNognYPjMLdHEj3M5fkSHQALOVovn/N4359G8vldADcAtrFz33okowBcPGk6G6OZAyA7ii6myMZA6A7jCZo98Ao3M2BdD9zSY5EB8BSipMOgFtAu/i5D12SMQAunhTdzZGMAdAdRXdzJGMAdIfRBO0eGIW7OZDuZy7JkegAWEpx0gFwC2gXP/ehSzIGwMWTors5kjEAuqPobo5kDIDuMJqg3QOjcDcH0v3MJTkSHQBLKU46AG4B7eLnPnRJxgC4eFJ0N0cyBkB3FN3NkYwB0B1GE7R7YBTu5kC6n7kkR6IDYCmb8/ClD7yG1/6ptdeXK+kAuAW0i5/70CUZA+DiSdHdHMkYAN1RdDdHMgZAdxhN0O6BUbibA+l+5pIciQ6ApWzGE7X4E33/RNKfvobX/2lJH5d0r6QnnOH7GpUOgFtAu/i5D12SMQAunhTdzZGMAdAdRXdzJGMAdIfRBO0eGIW7OZDuZy7JkegAWMpm/IQWA+C/3uBzfnb5OT96Ju9obDoAbgHt4uc+dEnGALh4UnQ3RzIGQHcU3c2RjAHQHUYTtHtgFO7mQLqfuSRHogNgKZvxHyRdkPRXN/icb9diAPz1M3lHY9MBcAtoFz/3oUsyBsDFk6K7OZIxALqj6G6OZAyA7jCaoN0Do3A3B9L9zCU5Eh0AS9mMj2oxAN64wefcqMUA+OFTfB+Pl/RCSW+SdJukuyV9QtL7Jd0i6es2/HpPlfRaSbcvv9bty79+6um83WPpALgFtIuf+9AlGQPg4knR3RzJGADdUXQ3RzIGQHcYTdDugVG4mwPpfuaSHIkOgKVsxl1aDICP3+BzHq/FAHjXKb2HX9ahQ/8YXy3pASd8rftIetUJX+dVy9edBR0At4B28XMfuiRjAFw8KbqbIxkDoDuK7uZIxgDoDqMJ2j0wCndzIN3PXJIj0QGwlM24XYsB8BkbfM4ztBgAf/+U3sMHtPiG/bCkV0j6y1r8LsObJD1/+R4Pvql/7oSv9Y/XXvseSd+2/Frftvzrg4+97JTe+2E6AG4B7eLnPnRJxgC4eFJ0N0cyBkB3FN3NkYwB0B1GE7R7YBTu5kC6n7kkR6IDYCmb8UYtBsD/c4PP+QUtBsA3n+J7eKak+x3z8esl/ZZW39jH/evAf1bSp5evebekBx36+Gcsf/3S8nVfutO7PpoOgFtAu/i5D12SMQAunhTdzZGMAdAdRXdzJGMAdIfRBO0eGIW7OZDuZy7JkegAWMpm/C0txrwLkr71Gl7/zLXXP+8M39dhbtbqG/vHj3nNT6295qZjXnPT2mt+4pTfo9QBcCtoFz/3oUsyBsDFk6K7OZIxALqj6G6OZAyA7jCaoN0Do3A3B9L9zCU5Eh0AS9mM+0v6HS1GvU9L+ueSHnbE6x4m6UeXr7kg6UOSHriftyhJerBW39hvPOLj99HqXxW+9YSv9Z+Wr7tNp//fAuwAuAW0i5/70CUZA+DiSdHdHMkYAN1RdDdHMgZAdxhN0O6BUbibA+l+5pIciQ6ApWzOV0n6uFa/s++CpA9KeqekX13+3we/fnH52sft+T1+jlbf2G844uOPXPv4K0/4Wut/SMgjTvE9Sh0At4J28XMfuiRjAFw8KbqbIxkDoDuK7uZIxgDoDqMJ2j0wCndzIN3PXJIj0QGwlO14jBZ/SMbFNddHvwPfLenLDe/vW7T6xn75ER//prWPf/cJX+v5a699+im+R6kD4FbQLn7uQ5dkDICLJ0V3cyRjAHRH0d0cyRgA3WE0QbsHRuFuDqT7mUtyJDoAlrIb36jFf2PvVyT9v0t/RYs/nfcbTO/pvpJ+Tatv7BuOeM13rX38pD/R+Blrr33uhu/li0/whoOv3QHw2qFd/NyHLskYABdPiu7mSMYA6I6iuzmSMQC6w2iCdg+Mwt0cSPczl+RIdAAsZT5eoNU39WuPec33rL3mqSd8vaetvfYFG76XKy4ox9kB8NqhXfzchy7JGAAXT4ru5kjGAOiOors5kjEAusNognYPjMLdHEj3M5fkSHQALGUunqTFHzxySdJHJX3eMa97iVbf+E854Ws+Ze21L97w/VxxQTnO4QZA44F7xxH//O7oBQBhDICLJ0V3cyRjAHRH0d0cyRgA3VF0tfa61115D3zd69r/XgB0R9H9zCU5Eh0AS5mHr5D0h1p8M9+lxRh4HPv6HYDz/ivAxgO3AyDXGAAXT4ru5kjGAOiOors5kjEAuqPoaq0DoBFAdxTdz1ySI9EBsJTduZ+k6yU9TNLDT/CseISkD2vxjXyvFn8IyNXY138D8CTG/UNAjAduB0CuMQAunhTdzZGMAdAdRXdzJGMAdEfR1VoHQCOA7ii6n7kkR6IDYCnbcb2kH5D0H7X4V24vXIP3ntF7+UJJv63FN/FFSc++hs+5Watv/P4pwNtgPHA7AHKNAXDxpOhujmQMgO4oupsjGQOgO4qu1joAGgF0R9H9zCU5Eh0AS9mcr5H0ES1GvYsbeOEM3sv1kt6n1Tfx867x8x659jmvPOG1r1p77SO2e5vH0gFwCzsAco0BcPGk6G6OZAyA7ii6myMZA6A7iq7WOgAaAXRH0f3MJTkSHQBL2Yw/I+kPtBj0Pi7pRyW9VKuB769L+nuSfk7Snctf+xVJ37H0NHmIpN/Q6hv4+zb43Pto9a8M33rCa29dvu725eedJh0At7ADINcYABdPiu7mSMYA6I6iuzmSMQC6o+hqrQOgEUB3FN3PXJIj0QGwlM34fi3Gvk9p8YduaPm/R/0Ov8+X9Nblr//wKb+Pz5D0Dq2+eV+2xdf46bXPv+mY19y09pqf2uLvcRIdALewAyDXGAAXT4ru5kjGAOiOors5kjEAuqPoaq0DoBFAdxTdz1ySI9EBsJTNeJcWg976GHbcAChJD5L0/uXHnnJK7+EBkn5Jq2/cV2z5dR6txX+/8JKkd2vxXtd50PLXLy1f96gt/z5XowPgFnYA5BoD4OJJ0d0cyRgA3VF0N0cyBkB3FF2tdQA0AuiOovuZS3IkOgCWshkf02LMW/9Tdh+j1QB4vyM+539afvw1p/Qe/q1W37RvkfSVkh57FR99la/1Q2tf6z2SniXphuX/vmftY//klN77YToAbmEHQK4xAC6eFN3NkYwB0B1Fd3MkYwB0R9HVWgdAI4DuKLqfuSRHogNgKZtxjxZD3+PXfu2RWg2ADz3ic25cfvx3T+k9XHHon+CHrvK17ivpZ074/H+5fN1Z0AFwCzsAco0BcPGk6G6OZAyA7ii6myMZA6A7iq7WOgAaAXRH0f3MJTkSHQBL2Yw/1GLoe8Larz1UqwHwq474nK/T6r8beBpcceif4Ieu4Ws+XdLrtfiDQe5e/u/rJT3tlN7zcXQA3MIOgFxjAFw8KbqbIxkDoDuK7uZIxgDojqKrtQ6ARgDdUXQ/c0mORAfAUjbj17UY+p5x6Nf/8/LXn3/E53yfFgPgx872rQ1JB8At7ADINQbAxZOiuzmSMQC6o+hujmQMgO4oulrrAGgE0B1F9zOX5Eh0ACxlM35CR/+pvv9Ki5Hv93X5f3PvCZL+y/Jz3rSPNzgYHQC3sAMg1xgAF0+K7uZIxgDojqK7OZIxALqj6GqtA6ARQHcU3c9ckiPRAbCUzbhZi6Hv/zv064/V6r8PeI8Wf3ru+7T403MP/vXgp+7vbQ5DB8At7ADINQbAxZOiuzmSMQC6o+hujmQMgO4oulrrAGgE0B1F9zOX5Eh0ACxlM+4v6RZJ/4ekRxz62HdqMf5dPMKX7O8tDkUHwC3sAMg1BsDFk6K7OZIxALqj6G6OZAyA7ii6WusAaATQHUX3M5fkSHQALOV0+TJJPyTpDZL+b0k/LukG6zti0wFwCzsAco0BcPGk6G6OZAyA7ii6myMZA6A7iq7WOgAaAXRH0f3MJTkSHQBLKU46AG5hB0CuMQAunhTdzZGMAdAdRXdzJGMAdEfR1VoHQCOA7ii6n7kkR6IDYCnFSQfALewAyDUGwMWTors5kjEAuqPobo5kDIDuKLpa6wBoBNAdRfczl+RIdAAspTjpALiFHQC5xgC4eFJ0N0cyBkB3FN3NkYwB0B1FV2sdAI0AuqPofuaSHIkOgKVsxsN3tFxOB8At7ADINQbAxZOiuzmSMQC6o+hujmQMgO4oulrrAGgE0B1F9zOX5Eh0ACxlMy7s4L2G90unA+AWdgDkGgPg4knR3RzJGADdUXQ3RzIGQHcUXa11ADQC6I6i+5lLciQ6AJayGRd38ILh/dLpALiFHQC5xgC4eFJ0N0cyBkB3FN3NkYwB0B1FV2sdAI0AuqPofuaSHIkOgKVsxndcg39b0o9Lul2L4e8dax8rl9MBcAs7AHKNAXDxpOhujmQMgO4oupsjGQOgO4qu1joAGgF0R9H9zCU5Eh0ASzk77i/pX2jxO/9ebn4vVDoAbmEHQK4xAC6eFN3NkYwB0B1Fd3MkYwB0R9HVWgdAI4DuKLqfuSRHogNgKWfP27QYAf+C+40A6QC4hR0AucYAuHhSdDdHMgZAdxTdzZGMAdAdRVdrHQCNALqj6H7mkhyJDoClnD3P1OJfBX6j+40A6QC4hR0AucYAuHhSdDdHMgZAdxTdzZGMAdAdRVdrHQCNALqj6H7mkhyJDoClnD2P02IA/Ij7jQDpALiFHQC5xgC4eFJ0N0cyBkB3FN3NkYwB0B1FV2sdAI0AuqPofuaSHIkOgKWcPU/WYgD8lPl9EOkAuIUdALnGALh4UnQ3RzIGQHcU3c2RjAHQHUVXax0AjQC6o+h+5pIciQ6ApZw9P6vFAPg77jcCpAPgFnYA5BoD4OJJ0d0cyRgA3VF0N0cyBkB3FF2tdQA0AuiOovuZS3IkOgCWcnY8StIrtRj/Lkj6Se/bQdIBcAs7AHKNAXDxpOhujmQMgO4oupsjGQOgO4qu1joAGgF0R9H9zCU5Eh0AS9mM37kGPyTpj7UY/S5oMQD+vqQv2P/bxdMBcAs7AHKNAXDxpOhujmQMgO4oupsjGQOgO4qu1joAGgF0R9H9zCU5Eh0AS9mMi1v4Tklf5nizA9ABcAs7AHKNAXDxpOhujmQMgO4oupsjGQOgO4qu1joAGgF0R9H9zCU5Eh0AS9mMn70Gf0bSKyT9L5K+yvM2h6ED4BZ2AOQaA+DiSdHdHMkYAN1RdDdHMgZAdxRdrXUANALojqL7mUtyJDoAllKcdADcwg6AXGMAXDwpupsjGQOgO4ru5kjGAOiOoqu1DoBGAN1RdD9zSY5EB8BSipMOgFvYAZBrDICLJ0V3cyRjAHRH0d0cyRgA3VF0tdYB0AigO4ruZy7JkegAWMpmPHvpZ2/wOQ9e+7xyOR0At7ADINcYABdPiu7mSMYA6I6iuzmSMQC6o+hqrQOgEUB3FN3PXJIj0QGwlM24qMWf7PuYDT7nS5efd++ZvKOx6QC4hR0AucYAuHhSdDdHMgZAdxTdzZGMAdAdRVdrHQCNALqj6H7mkhyJDoClbMYuA+CFM3lHY9MBcALdhy7JGADdUXQ3RzIGQHcU3c2RjAHQHUVXax0AjQC6o+h+5pIciQ6ApWzGNgPgly0/7+4zeUdj0wFwAt2HLskYAN1RdDdHMgZAdxTdzZGMAdAdRVdrHQCNALqj6H7mkhyJDoClbMY2A+D/sPy83z+TdzQ2HQAn0H3okowB0B1Fd3MkYwB0R9HdHMkYAN1RdLXWAdAIoDuK7mcuyZHoAFjK1fn6Qx4MgN9xxMcO+99J+i5JH1h+zpv2/N5HoAPgBLoPXZIxALqj6G6OZAyA7ii6myMZA6A7iq7WOgAaAXRH0f3MJTkSHQBLuToHg9+BF4/4tZM8eP1f3PN7H4EOgBPoPnRJxgDojqK7OZIxALqj6G6OZAyA7ii6WusAaATQHUX3M5fkSHQALOXqXDwFf0+L3wlYrqQD4AS6D12SMQC6o+hujmQMgO4oupsjGQOgO4qu1joAGgF0R9H9zCU5Eh0AS7k6T1rzyVr9br7zhz522K+X9ARJD9v3Gx6MDoAT6D50ScYA6I6iuzmSMQC6o+hujmQMgO4oulrrAGgE0B1F9zOX5Eh0ACxlM7b5Q0DK8XQAnED3oUsyBkB3FN3NkYwB0B1Fd3MkYwB0R9HVWgdAI4DuKLqfuSRHogNgKZvxJUuvc7+RSegAOIHuQ5dkDIDuKLqbIxkDoDuK7uZIxgDojqKrtQ6ARgDdUXQ/c0mORAfAUoqTDoAT6D50ScYA6I6iuzmSMQC6o+hujmQMgO4oulrrAGgE0B1F9zOX5Eh0ACylOOkAOIHuQ5dkDIDuKLqbIxkDoDuK7uZIxgDojqKrtQ6ARgDdUXQ/c0mORAfAUrbjOknfLOlHJL1W0pslvfUE32J5p2w6AE6g+9AlGQOgO4ru5kjGAOiOors5kjEAuqPoaq0DoBFAdxTdz1ySI9EBsJTNeaKkD2rxh4EcePEqXlj733I5HQAn0H3okowB0B1Fd3MkYwB0R9HdHMkYAN1RdLXWAdAIoDuK7mcuyZHoAFjKZny5pE9oNerdJek3Jf2ypLddg+VyOgBOoPvQJRkDoDuK7uZIxgDojqK7OSmxDeoAACAASURBVJIxALqj6GqtA6ARQHcU3c9ckiPRAbCUzXi1FsPfpyW9UNKDvW9neDoATqD70CUZA6A7iu7mSMYA6I6iuzmSMQC6o+hqrQOgEUB3FN3PXJIj0QGwlM24XYvf/fcj7jcyCR0AJ9B96JKMAdAdRXdzJGMAdEfR3RzJGADdUXS11gHQCKA7iu5nLsmR6ABYymbcpcUA+LXuNzIJHQAn0H3okowB0B1Fd3MkYwB0R9HdHMkYAN1RdLXWAdAIoDuK7mcuyZHoAFjKZtymxQD4ePcbmYQOgBPoPnRJxgDojqK7OZIxALqj6G6OZAyA7ii6WusAaATQHUX3M5fkSHQALGUzfl6LAfDZ7jcyCR0AJ9B96JKMAdAdRXdzJGMAdEfR3RzJGADdUXQ3RzIGQHcU3c2RHIkOgKVsxo2S7pH0G5KuM7+XGegAOIHuQ5dkDIDuKLqbIxkDoDuK7uZIxgDojqK7OZIxALqj6G6O5Eh0ACxlc/6OFr8L8A2Srje/l9HpADiB7kOXZAyA7ii6myMZA6A7iu7mSMYA6I6iuzmSMQC6o+hujuRIdAAsZTNeuvSdki5KulPS6yX907WPXc1yOR0AJ9B96JKMAdAdRXdzJGMAdEfR3RzJGADdUXQ3RzIGQHcU3c2RHIkOgKVsxkUtfvffgYf/+iTL5XQAnED3oUsyBkB3FN3NkYwB0B1Fd3MkYwB0R9HdHMkYAN1RdDdHciQ6AJayGRd3tFxOB8AJdB+6JGMAdEfR3RzJGADdUXQ3RzIGQHcU3c2RjAHQHUV3cyRHogNgKcVJB8AJdB+6JGMAdEfR3RzJGADdUXQ3RzIGQHcU3c2RjAHQHUV3cyRHogNgKcVJB8AJdB+6JGMAdEfR3RzJGADdUXQ3RzIGQHcU3c2RjAHQHUV3cyRHogNgKcVJB8AJdB+6JGMAdEfR3RzJGADdUXQ3RzIGQHcU3c2RjAHQHUV3cyRHogNgKcVJB8AJdB+6JGMAdEfR3RzJGADdUXQ3RzIGQHcU3c2RjAHQHUV3cyRHogNgKcVJB8AJdB+6JGMAdEfR3RzJGADdUXQ3RzIGQHcU3c2RjAHQHUV3cyRHogNgKZtxYQfvNbxfOh0AJ9B96JKMAdAdRXdzJGMAdEfR3RzJGADdUXQ3RzIGQHcU3c2RHIkOgKVsxsUdvGB4v3Q6AE6g+9AlGQOgO4ru5kjGAOiOors5kjEAuqPobo5kDIDuKLqbIzkSHQBL2YzvvwZfLun/knSnFqPfO9c+Vi6nA+AEug9dkjEAuqPobo5kDIDuKLqbIxkDoDuK7uZIxgDojqK7OZIj0QGwlLPjeklv0OJf/f2fze+FSgfACXQfuiRjAHRH0d0cyRgA3VF0N0cyBkB3FN3NkYwB0B1Fd3MkR6IDYClny3WS3iPpHkl/3vxeiHQAnED3oUsyBkB3FN3NkYwB0B1Fd3MkYwB0R9HdHMkYAN1RdDdHciQ6AJZy9pzX4r8B+G/M74NIB8AJdB+6JGMAdEfR3RzJGADdUXQ3RzIGQHcU3c2RjAHQHUV3cyRHogNgKWfPV2sxAN7ufiNAOgBOoPvQJRkDoDuK7uZIxgDojqK7OZIxALqj6G6OZAyA7ii6myM5Eh0ASzl7vlaLAfAu9xsB0gFwAt2HLskYAN1RdDdHMgZAdxTdzZGMAdAdRXdzJGMAdEfR3RzJkegAWMrZ88+1GABvc78RIB0AJ9B96JKMAdAdRXdzJGMAdEfR3RzJGADdUXQ3RzIGQHcU3c2RHIkOgKWcHZ8p6R9o8acAX5B0i/XdMOkAOIHuQ5dkDIDuKLqbIxkDoDuK7uZIxgDojqK7OZIxALqj6G6O5Eh0ACxlM956Db5d0n+U9Ckthr+Lkj4u6VH7f7t4OgBOoPvQJRkDoDuK7uZIxgDojqK7OZIxALqj6G6OZAyA7ii6myM5Eh0AS9mMi1qNetfqB7X47wCWK+kAOIHuQ5dkDIDuKLqbIxkDoDuK7uZIxgDojqK7OZIxALqj6G6O5Eh0ACxlM94u6W0n+BZJr5f0Y5L+oqT7O97oIHQAnED3oUsyBkB3FN3NkYwB0B1Fd3MkYwB0R9HdHMkYAN1RdDdHciQ6AJZSnHQAnED3oUsyBkB3FN3NkYwB0B1Fd3MkYwB0R9HdHMkYAN1RdDdHciQ6AJZSnHQAnED3oUsyBkB3FN3NkYwB0B1Fd3MkYwB0R9HdHMkYAN1RdDdHciQ6AJZyMg+U9Lcl/aKk/0fS+yS9WdKLJP0Z4/uagQ6AE+g+dEnGAOiOors5kjEAuqPobo5kDIDuKLqbIxkDoDuK7uZIjkQHwFKuzqMkfUCLP/jjKP9I0n9je3fj0wFwAt2HLskYAN1RdDdHMgZAdxTdzZGMAdAdRXdzJGMAdEfR3RzJkegAWMrxPFDSrTr5T/n9I+3/m+dzJd0s6QclvUnSx7T6Rr7lGr/G+bXPOcnzp/XGD9EBcALdhy7JGADdUXQ3RzIGQHcU3c2RjAHQHUV3cyRjAHRH0d0cyZHoAFjK8XynFgPfBUnvkvQNkj5Ti2HwRi3+pN+Dj//Ynt/bpat4yzV+jfMnfJ11z5/WGz9EB8AJdB+6JGMAdEfR3RzJGADdUXQ3RzIGQHcU3c2RjAHQHUV3cyRHogNgKcfzi1oMfO/VYvQ7ijcsX/OhPb2nA9a/cX9P0i+t/fUt1/g1zq99zjdKeuxVfOipvfPL6QA4ge5Dl2QMgO4oupsjGQOgO4ru5kjGAOiOors5kjEAuqPobo7kSHQALOV4fk+L3933N6/ympu0+l2AD9nHm1ryA1r8K8Cft/zrc9JOA+C503xzG9ABcALdhy7JGADdUXQ3RzIGQHcU3c2RjAHQHUV3cyRjAHRH0d0cyZHoAFjK8XxSi2Hvhqu85k9pNQA+ch9v6hjOSR0A9wrg4KXoPnRJxgDojqK7OZIxALqj6G6OZAyA7ii6myMZA6A7iu7mSI5EB8BSjudg2HvMKb3uLDkndQDcK4CDl6L70CUZA6A7iu7mSMYA6I6iuzmSMQC6o+hujmQMgO4oupsjORIdAEs5ng6AZ08HwAl0H7okYwB0R9HdHMkYAN1RdDdHMgZAdxTdzZGMAdAdRXdzJEeiA2Apx5M0AL5d0kcl3SPpY1r8qccvk/RFp/our6QD4AS6D12SMQC6o+hujmQMgO4oupsjGQOgO4ru5kjGAOiOors5kiPRAbCU4zkY9n5S0kuv4rW+7qVn+F7PSTsNgMf5KUnP3eF9ffEJ3nDw9+oAOK7uQ5dkDIDuKLqbIxkDoDuK7uZIxgDojqK7OZIxALqj6G6O5Eh0ACzleA6GvdP0rDgnbTUA/rakfybpL0m6cemzJL1Gi///D77mc7Z8X5eu1Q6A4+o+dEnGAOiOors5kjEAuqPobo5kDIDuKLqbIxkDoDuK7uZIjkQHwFKO5+IpSxsAHyLpPlf5+M1a/CvBlyTdKenzt3hfl67VDoDj6j50ScYA6I6iuzmSMQC6o+hujmQMgO4oupsjGQOgO4ru5kiORAfAUo7nSWfgWXFO2ngAvBZetPZ1X7TF5/dfAQ7QfeiSjAHQHUV3cyRjAHRH0d0cyRgA3VF0N0cyBkB3FN3NkRyJDoClzME56UwGwM/V6l8F/ven+HUP6B8CMoHuQ5dkDIDuKLqbIxkDoDuK7uZIxgDojqK7OZIxALqj6G6O5Eh0ACxlDs5JZzIAStIdy6/7vlP+ulIHwCl0H7okYwB0R9HdHMkYAN1RdDdHMgZAdxTdzZGMAdAdRXdzJEeiA2Apc3BOOrMB8A+WX7cD4DqAg5ei+9AlGQOgO4ru5kjGAOiOors5kjEAuqPobo5kDIDuKLqbIzkSHQBLmYNz0pn/K8BvPsWve0AHwAl0H7okYwB0R9HdHMkYAN1RdDdHMgZAdxTdzZGMAdAdRXdzJEeiA2Apc3BOOpMB8MVrX/fFp/h1D+gAOIHuQ5dkDIDuKLqbIxkDoDuK7uZIxgDojqK7OZIxALqj6G6O5Eh0ACxlDs5JGw2A5yQ97oTX3Czp7uXX/JSkL9r63R1PB8AJdB+6JGMAdEfR3RzJGADdUXQ3RzIGQHcU3c2RjAHQHUV3cyRHogNgKWPyREnn1/z7Wn0jv+PQx84f8flPXr72nZL+oaSnSfpqSTdIeqak12j1r/5ekvS80/9/QVIHwCl0H7okYwB0R9HdHMkYAN1RdDdHMgZAdxTdzZGMAdAdRXdzJEeiA2ApY3KLVt+41+JhnnyNn3enpOec2f8XHQCn0H3okowB0B1Fd3MkYwB0R9HdHMkYAN1RdDdHMgZAdxTdzZEciQ6ApYzJLdJOA+BnSforkn5S0rsk/a4WY9/dkj4i6S2SXqjFHwJylnQAnED3oUsyBkB3FN3NkYwB0B1Fd3MkYwB0R9HdHMkYAN1RdDdHciQ6AJZSnHQAnED3oUsyBkB3FN3NkYwB0B1Fd3MkYwB0R9HdHMkYAN1RdDdHciQ6AJZSnHQAnED3oUsyBkB3FN3NkYwB0B1Fd3MkYwB0R9HdHMkYAN1RdDdHciQ6AJZSnHQAnED3oUsyBkB3FN3NkYwB0B1Fd3MkYwB0R9HdHMkYAN1RdDdHciQ6AJZSnHQAnED3oUsyBkB3FN3NkYwB0B1Fd3MkYwB0R9HdHMkYAN1RdDdHciQ6AJZSnHQAnED3oUsyBkB3FN3NkYwB0B1Fd3MkYwB0R9HdHMkYAN1RdDdHciQ6AJZSnHQAnED3oUsyBkB3FN3NkYwB0B1Fd3MkYwB0R9HdHMkYAN1RdDdHciQ6AJZSnHQAnED3oUsyBkB3FN3NkYwB0B1Fd3MkYwB0R9HdHMkYAN1RdDdHciQ6AJZSnHQAnED3oUsyBkB3FN3NkYwB0B1Fd3MkYwB0R9HdHMkYAN1RdDdHciQ6AJZSnHQAnED3oUsyBkB3FN3NkYwB0B1Fd3MkYwB0R9HdHMkYAN1RdDdHciQ6AJZSnHQAnED3oUsyBkB3FN3NkYwB0B1Fd3MkYwB0R9HdHMkYAN1RdDdHciQ6AJZSnHQAnED3oUsyBkB3FN3NkYwB0B1Fd3MkYwB0R9HdHMkYAN1RdDdHciQ6AJZSnHQAnED3oUsyBkB3FN3NkYwB0B1Fd3MkYwB0R9HdHMkYAN1RdDdHciQ6AJZSnHQAnED3oUsyBkB3FN3NkYwB0B1Fd3MkYwB0R9HdHMkYAN1RdDdHciQ6AJZSnHQAnED3oUsyBkB3FN3NkYwB0B1Fd3MkYwB0R9HdHMkYAN1RdDdHciQ6AJZSnHQAnED3oUsyBkB3FN3NkYwB0B1Fd3MkYwB0R9HdHMkYAN1RdDdHciQ6AJZSnHQAnED3oUsyBkB3FN3NkYwB0B1Fd3MkYwB0R9HdHMkYAN1RdDdHciQ6AJZSnHQAnED3oUsyBkB3FN3NkYwB0B1Fd3MkYwB0R9HdHMkYAN1RdDdHciQ6AJZSnHQAnED3oUsyBkB3FN3NkYwB0B1Fd3MkYwB0R9HdHMkYAN1RdDdHciQ6AJZSnHQAnED3oUsyBkB3FN3NkYwB0B1Fd3MkYwB0R9HdHMkYAN1RdDdHciQ6AJZSnHQAnED3oUsyBkB3FN3NkYwB0B1Fd3MkYwB0R9HdHMkYAN1RdDdHciQ6AJZSnHQAnED3oUsyBkB3FN3NkYwB0B1Fd3MkYwB0R9HdHMkYAN1RdDdHciQ6AJZSnHQAnED3oUsyBkB3FN3NkYwB0B1Fd3MkYwB0R9HdHMkYAN1RdDdHciQ6AJZSnHQAnED3oUsyBkB3FN3NkYwB0B1Fd3MkYwB0R9HdHMkYAN1RdDdHciQ6AJZSnHQAnED3oUsyBkB3FN3NkYwB0B1Fd3MkYwB0R9HdHMkYAN1RdDdHciQ6AJZSnHQAnED3oUsyBkB3FN3NkYwB0B1Fd3MkYwB0R9HdHMkYAN1RdDdHciQ6AJZSnHQAnED3oUsyBkB3FN3NkYwB0B1Fd3MkYwB0R9HdHMkYAN1RdDdHciQ6AJZSnHQAnED3oUsyBkB3FN3NkYwB0B1Fd3MkYwB0R9HdHMkYAN1RdDdHciQ6AJZSnHQAnED3oUsyBkB3FN3NkYwB0B1Fd3MkYwB0R9HdHMkYAN1RdDdHciQ6AJZSnHQAnED3oUsyBkB3FN3NkYwB0B1Fd3MkYwB0R9HdHMkYAN1RdDdHciQ6AJZSnHQAnED3oUsyBkB3FN3NkYwB0B1Fd3MkYwB0R9HdHMkYAN1RdDdHciQ6AJZSnHQAnED3oUsyBkB3FN3NkYwB0B1Fd3MkYwB0R9HdHMkYAN1RdDdHciQ6AJZSnHQAnED3oUsyBkB3FN3NkYwB0B1Fd3MkYwB0R9HdHMkYAN1RdDdHciQ6AJZSnHQAnED3oUsyBkB3FN3NkYwB0B1Fd3MkYwB0R9HdHMkYAN1RdDdHciQ6AJZSnHQAnED3oUsyBkB3FN3NkYwB0B1Fd3MkYwB0R9HdHMkYAN1RdDdHciQ6AJZSnHQAnED3oUsyBkB3FN3NkYwB0B1Fd3MkYwB0R9HdHMkYAN1RdDdHciQ6AJZSnHQAnED3oUsyBkB3FN3NkYwB0B1Fd3MkYwB0R9HdHMkYAN1RdDdHciQ6AJZSnHQAnED3oUsyBkB3FN3NkYwB0B1Fd3MkYwB0R9HdHMkYAN1RdDdHciQ6AJZSnHQAnED3oUsyBkB3FN3NkYwB0B1Fd3MkYwB0R9HdHMkYAN1RdDdHciQ6AJZSnHQAnED3oUsyBkB3FN3NkYwB0B1Fd3MkYwB0R9HdHMkYAN1RdDdHciQ6AJZSnHQAnED3oUsyBkB3FN3NkYwB0B1Fd3MkYwB0R9HdHMkYAN1RdDdHciQ6AJZSnHQAnED3oUsyBkB3FN3NkYwB0B1Fd3MkYwB0R9HdHMkYAN1RdDdHciQ6AJZSnHQAnED3oUsyBkB3FN3NkYwB0B1Fd3MkYwB0R9HdHMkYAN1RdDdHciQ6AJZSnHQAnED3oUsyBkB3FN3NkYwB0B1Fd3MkYwB0R9HdHMkYAN1RdDdHciQ6AJZSnHQAnED3oUsyBkB3FN3NkYwB0B1Fd3MkYwB0R9HdHMkYAN1RdDdHciQ6AJZSnHQAnED3oUsyBkB3FN3NkYwB0B1Fd3MkYwB0R9HdHMkYAN1RdDdHciQ6AJZSnHQAnED3oUsyBkB3FN3NkYwB0B1Fd3MkYwB0R9HdHMkYAN1RdDdHciQ6AJZSnHQAnED3oUsyBkB3FN3NkYwB0B1Fd3MkYwB0R9HdHMkYAN1RdDdHciQ6AJZSnHQAnED3oUsyBkB3FN3NkYwB0B1Fd3MkYwB0R9HdHMkYAN1RdDdHciQ6AJZSnHQAnED3oUsyBkB3FN3NkYwB0B1Fd3MkYwB0R9HdHMkYAN1RdDdHciQ6AJZSnHQAnED3oUsyBkB3FN3NkYwB0B1Fd3MkYwB0R9HdHMkYAN1RdDdHciQ6AJZSnHQAnED3oUsyBkB3FN3NkYwB0B1Fd3MkYwB0R9HdHMkYAN1RdDdHciQ6AJZSnHQAnED3oUsyBkB3FN3NkYwB0B1Fd3MkYwB0R9HdHMkYAN1RdDdHciQ6AJZSnHQAnED3oUsyBkB3FN3NkYwB0B1Fd3MkYwB0R9HdHMkYAN1RdDdHciQ6AJZSnHQAnED3oUsyBkB3FN3NkYwB0B1Fd3MkYwB0R9HdHMkYAN1RdDdHciQ6AJZSnHQAnED3oUsyBkB3FN3NkYwB0B1Fd3MkYwB0R9HdHMkYAN1RdDdHciQ6AJZSnHQAnED3oUsyBkB3FN3NkYwB0B1Fd3MkYwB0R9HdHMkYAN1RdDdHciQ6AJZSnHQAnED3oUsyBkB3FN3NkYwB0B1Fd3MkYwB0R9HdHMkYAN1RdDdHciQ6AJZSnHQAnED3oUsyBkB3FN3NkYwB0B1Fd3MkYwB0R9HdHMkYAN1RdDdHciQ6AJZSnHQAnED3oUsyBkB3FN3NkYwB0B1Fd3MkYwB0R9HdHMkYAN1RdDdHciQ6AJZSnHQAnED3oUsyBkB3FN3NkYwB0B1Fd3MkYwB0R9HdHMkYAN1RdDdHciQ6AJZSnHQAnED3oUsyBkB3FN3NkYwB0B1Fd3MkYwB0R9HdHMkYAN1RdDdHciQ6AJZSnHQAnED3oUsyBkB3FN3NkYwB0B1Fd3MkYwB0R9HdHMkYAN1RdDdHciQ6AJZSnHQAnED3oUsyBkB3FN3NkYwB0B1Fd3MkYwB0R9HdHMkYAN1RdDdHciQ6AJZSnHQAnED3oUsyBkB3FN3NkYwB0B1Fd3MkYwB0R9HdHMkYAN1RdDdHciQ6AJZSnHQAnED3oUsyBkB3FN3NkYwB0B1Fd3MkYwB0R9HdHMkYAN1RdDdHciQ6AJZSnHQAnED3oUsyBkB3FN3NkYwB0B1Fd3MkYwB0R9HdHMkYAN1RdDdHciQ6AJZSnHQAnED3oUsyBkB3FN3NkYwB0B1Fd3MkYwB0R9HdHMkYAN1RdDdHciQ6AJZSnHQAnED3oUsyBkB3FN3NkYwB0B1Fd3MkYwB0R9HdHMkYAN1RdDdHciQ6AJZSnHQAnED3oUsyBkB3FN3NkYwB0B1Fd3MkYwB0R9HdHMkYAN1RdDdHciQ6AJZSnHQAnED3oUsyBkB3FN3NkYwB0B1Fd3MkYwB0R9HdHMkYAN1RdDdHciQ6AJZSnHQAnED3oUsyBkB3FN3NkYwB0B1Fd3MkYwB0R9HdHMkYAN1RdDdHciQ6AJYyJp8r6WZJPyjpTZI+ptU38i1bfL2nSnqtpNsl3b3839cuf/0s6QA4ge5Dl2QMgO4oupsjGQOgO4ru5kjGAOiOors5kjEAuqPobo7kSHQALGVMLl3FWzb4OveR9KoTvt6rlq87CzoATqD70CUZA6A7iu7mSMYA6I6iuzmSMQC6o+hujmQMgO4oupsjORIdAEsZk/Vv3N+T9Etrf33LBl/nH6993nskfZukG5f/+561j73slN73YToATqD70CUZA6A7iu7mSMYA6I6iuzmSMQC6o+hujmQMgO4oupsjORIdAEsZkx/Q4l8B/rzlX5+TNh4A/6ykTy8/592SHnTo45+x/PVLy9d96S5v+Bg6AE6g+9AlGQOgO4ru5kjGAOiOors5kjEAuqPobo5kDIDuKLqbIzkSHQBLmYNz0sYD4E+tfc5Nx7zmprXX/MRO7/BoOgBOoPvQJRkDoDuK7uZIxgDojqK7OZIxALqj6G6OZAyA7ii6myM5Eh0AS5mDc9JGA+B9tPiDPi5JuvWE1/6n5etu0+n/twA7AE6g+9AlGQOgO4ru5kjGAOiOors5kjEAuqPobo5kDIDuKLqbIzkSHQBLmYNz0kYD4CPXXv/KE167/oeEPGLrd3g0HQAn0H3okowB0B1Fd3MkYwB0R9HdHMkYAN1RdDdHMgZAdxTdzZEciQ6ApczBOWmjAfCb1l7/3Se89vlrr3361u/waDoATqD70CUZA6A7iu7mSMYA6I6iuzmSMQC6o+hujmQMgO4oupsjORIdAEuZg3PSRgPgd629/hknvPYZa6997obv64tP8IaDr90BcFzdhy7JGADdUXQ3RzIGQHcU3c2RjAHQHUV3cyRjAHRH0d0cyZHoAFjKHJyTNhoAv2ft9U894bVPW3vtCzZ8X5eu1Q6A4+o+dEnGAOiOors5kjEAuqPobo5kDIDuKLqbIxkDoDuK7uZIjkQHwFLm4Jy00QD4krXXP+WE1z5l7bUv3vB9XbpWOwCOq/vQJRkDoDuK7uZIxgDojqK7OZIxALqj6G6OZAyA7ii6myM5Eh0AS5mDc9JGA+C+fgdg/xXgAN2HLskYAN1RdDdHMgZAdxTdzZGMAdAdRXdzJGMAdEfR3RzJkegAWMocnJM2GgD39d8APIn+ISAT6D50ScYA6I6iuzmSMQC6o+hujmQMgO4oupsjGQOgO4ru5kiORAfAUubgnLTRAHjz2uv7pwBvA+Dgpeg+dEnGAOiOors5kjEAuqPobo5kDIDuKLqbIxkDoDuK7uZIjkQHwFLm4Jy00QD4yLXXv/KE175q7bWP2PodHk0HwAl0H7okYwB0R9HdHMkYAN1RdDdHMgZAdxTdzZGMAdAdRXdzJEeiA2Apc3BO2mgAvI+kDy9ff+sJr711+brbl593mnQAnED3oUsyBkB3FN3NkYwB0B1Fd3MkYwB0R9HdHMkYAN1RdDdHciQ6AJYyB+ekjQZASfrptc+56ZjX3LT2mp/a6R0eTQfACXQfuiRjAHRH0d0cyRgA3VF0N0cyBkB3FN3NkYwB0B1Fd3MkR6IDYClzcE7aeAB8tKRPLz/n3ZIedOjjD1r++qXl6x51Cu/zMB0AJ9B96JKMAdAdRXdzJGMAdEfR3RzJGADdUXQ3RzIGQHcU3c2RHIkOgKWMyRMlnV/z72v1jfyOQx87f5Wv80Nrn/ceSc+SdMPyf9+z9rF/cqrvfkUHwAl0H7okYwB0R9HdHMkYAN1RdDdHMgZAdxTdzZGMAdAdRXdzJEeiA2ApY3KLVt+41+Jx3FfSz5zwuf9y+bqzoAPgBLoPXZIxALqj6G6OZAyA7ii6myMZA6A7iu7mSMYA6I6iuzmSI9EBsJQxuUU6lQHwgKdLer0WfzDI3cv/fb2kp53y+z5MB8AJdB+6JGMAdEfR3RzJGADdUXQ3RzIGQHcU3c2RjAHQHUV3cyRHogNgKcVJB8AJdB+6JGMAdEfR3RzJGADdUXQ3RzIGQHcU3c2RjAHQHUV3cyRHogNgKcVJB8AJdB+6JGMAdEfR3RzJGADdUXQ3RzIGQHcU3c2RjAHQHUV3cyRHogNgKcVJB8AJdB+6JGMAdEfR3RzJGADdUXQ3RzIGQHcU3c2RjAHQHUV3cyRHogNgKcVJB8AJdB+6JGMAdEfR3RzJGADdUXQ3RzIGQHcU3c2RjAHQHUV3cyRHogNgKcVJB8AJdB+6JGMAdEfR3RzJGADdUXQ3RzIGQHcU3c2RjAHQHUV3cyRHogNgKcVJB8AJvMVVFQAAIABJREFUdB+6JGMAdEfR3RzJGADdUXQ3RzIGQHcU3c2RjAHQHUV3cyRHogNgKcVJB8AJdB+6JGMAdEfR3RzJGADdUXQ3RzIGQHcU3c2RjAHQHUV3cyRHogNgKcVJB8AJdB+6JGMAdEfR3RzJGADdUXQ3RzIGQHcU3c2RjAHQHUV3cyRHogNgKcVJB8AJdB+6JGMAdEfR3RzJGADdUXQ3RzIGQHcU3c2RjAHQHUV3cyRHogNgKcVJB8AJdB+6JGMAdEfR3RzJGADdUXQ3RzIGQHcU3c2RjAHQHUV3cyRHogNgKcVJB8AJdB+6JGMAdEfR3RzJGADdUXQ3RzIGQHcU3c2RjAHQHUV3cyRHogNgKcVJB8AJdB+6JGMAdEfR3RzJGADdUXQ3RzIGQHcU3c2RjAHQHUV3cyRHogNgKcVJB8AJdB+6JGMAdEfR3RzJGADdUXQ3RzIGQHcU3c2RjAHQHUV3cyRHogNgKcVJB8AJdB+6JGMAdEfR3RzJGADdUXQ3RzIGQHcU3c2RjAHQHUV3cyRHogNgKcVJB8AJdB+6JGMAdEfR3RzJGADdUXQ3RzIGQHcU3c2RjAHQHUV3cyRHogNgKcVJB8AJdB+6JGMAdEfR3RzJGADdUXQ3RzIGQHcU3c2RjAHQHUV3cyRHogNgKcVJB8AJdB+6JGMAdEfR3RzJGADdUXQ3RzIGQHcU3c2RjAHQHUV3cyRHogNgKcVJB8AJdB+6JGMAdEfR3RzJGADdUXQ3RzIGQHcU3c2RjAHQHUV3cyRHogNgKcVJB8AJdB+6JGMAdEfR3RzJGADdUXQ3RzIGQHcU3c2RjAHQHUV3cyRHogNgKcVJB8AJdB+6JGMAdEfR3RzJGADdUXQ3RzIGQHcU3c2RjAHQHUV3cyRHogNgKcVJB8AJdB+6JGMAdEfR3RzJGADdUXQ3RzIGQHcU3c2RjAHQHUV3cyRHogNgKcVJB8AJdB+6JGMAdEfR3RzJGADdUXQ3RzIGQHcU3c2RjAHQHUV3cyRHogNgKcVJB8AJdB+6JGMAdEfR3RzJGADdUXQ3RzIGQHcU3c2RjAHQHUV3cyRHogNgKcVJB8AJdB+6JGMAdEfR3RzJGADdUXQ3RzIGQHcU3c2RjAHQHUV3cyRHogNgKcVJB8AJdB+6JGMAdEfR3RzJGADdUXQ3RzIGQHcU3c2RjAHQHUV3cyRHogNgKcVJB8AJdB+6JGMAdEfR3RzJGADdUXQ3RzIGQHcU3c2RjAHQHUV3cyRHogNgKcVJB8AJdB+6JGMAdEfR3RzJGADdUXQ3RzIGQHcU3c2RjAHQHUV3cyRHogNgKcVJB8AJdB+6JGMAdEfR3RzJGADdUXQ3RzIGQHcU3c2RjAHQHUV3cyRHogNgKcVJB8AJdB+6JGMAdEfR3RzJGADdUXQ3RzIGQHcU3c2RjAHQHUV3cyRHogNgKcVJB8AJdB+6JGMAdEfR3RzJGADdUXQ3RzIGQHcU3c2RjAHQHUV3cyRHogNgKcVJB8AJdB+6JGMAdEfR3RzJGADdUXQ3RzIGQHcU3c2RjAHQHUV3cyRHogNgKcVJB8AJdB+6JGMAdEfR3RzJGADdUXQ3RzIGQHcU3c2RjAHQHUV3cyRHogNgKcVJB8AJdB+6JGMAdEfR3RzJGADdUXQ3RzIGQHcU3c2RjAHQHUV3cyRHogNgKcVJB8AJdB+6JGMAdEfR3RzJGADdUXQ3RzIGQHcU3c2RjAHQHUV3cyRHogNgKcVJB8AJdB+6JGMAdEfR3RzJGADdUXQ3RzIGQHcU3c2RjAHQHUV3cyRHogNgKcVJB8AJdB+6JGMAdEfR3RzJGADdUXQ3RzIGQHcU3c2RjAHQHUV3cyRHogNgKcVJB8AJdB+6JGMAdEfR3RzJGADdUXQ3RzIGQHcU3c2RjAHQHUV3cyRHogNgKcVJB8AJdB+6JGMAdEfR3RzJGADdUXQ3RzIGQHcU3c2RjAHQHUV3cyRHogNgKcVJB8AJdB+6JGMAdEfR3RzJGADdUXQ3RzIGQHcU3c2RjAHQHUV3cyRHogNgKcVJB8AJdB+6JGMAdEfR3RzJGADdUXQ3RzIGQHcU3c2RjAHQHUV3cyRHogNgKcVJB8AJdB+6JGMAdEfR3RzJGADdUXQ3RzIGQHcU3c2RjAHQHUV3cyRHogNgKcVJB8AJdB+6JGMAdEfR3RzJGADdUXQ3RzIGQHcU3c2RjAHQHUV3cyRHogNgKcVJB8AJdB+6JGMAdEfR3RzJGADdUXQ3RzIGQHcU3c2RjAHQHUV3cyRHogNgKcVJB8AJdB+6JGMAdEfR3RzJGADdUXQ3RzIGQHcU3c2RjAHQHUV3cyRHogNgKcVJB8AJdB+6JGMAdEfR3RzJGADdUXQ3RzIGQHcU3c2RjAHQHUV3cyRHogNgKcVJB8AJdB+6JGMAdEfR3RzJGADdUXQ3RzIGQHcU3c2RjAHQHUV3cyRHogNgKcVJB8AJdB+6JGMAdEfR3RzJGADdUXQ3RzIGQHcU3c2RjAHQHUV3cyRHogNgKcVJB8AJdB+6JGMAdEfR3RzJGADdUXQ3RzIGQHcU3c2RjAHQHUV3cyRHogNgKcVJB8AJdB+6JGMAdEfR3RzJGADdUXQ3RzIGQHcU3c2RjAHQHUV3cyRHogNgKcVJB8AJdB+6JGMAdEfR3RzJGADdUXQ3RzIGQHcU3c2RjAHQHUV3cyRHogNgKcVJB8AJdB+6JGMAdEfR3RzJGADdUXQ3RzIGQHcU3c2RjAHQHUV3cyRHogNgKcVJB8AJdB+6JGMAdEfR3RzJGADdUXQ3RzIGQHcU3c2RjAHQHUV3cyRHogNgKcVJB8AJdB+6JGMAdEfR3RzJGADdUXQ3RzIGQHcU3c2RjAHQHUV3cyRHogNgKcVJB8AJdB+6JGMAdEfR3RzJGADdUXQ3RzIGQHcU3c2RjAHQHUV3cyRHogNgKcVJB8AJdB+6JGMAdEfR3RzJGADdUXQ3RzIGQHcU3c2RjAHQHUV3cyRHogNgKcVJB8AJdB+6JGMAdEfR3RzJGADdUXQ3RzIGQHcU3c2RjAHQHUV3cyRHogNgKcVJB8AJdB+6JGMAdEfR3RzJGADdUXQ3RzIGQHcU3c2RjAHQHUV3cyRHogNgKcVJB8AJdB+6JGMAdEfR3RzJGADdUXQ3RzIGQHcU3c2RjAHQHUV3cyRHogNgKcVJB8AJdB+6JGMAdEfR3RzJGADdUXQ3RzIGQHcU3c2RjAHQHUV3cyRHogNgKcVJB8AJdB+6JGMAdEfR3RzJGADdUXQ3RzIGQHcU3c2RjAHQHUV3cyRHogNgKcVJB8AJdB+6JGMAdEfR3RzJGADdUXQ3RzIGQHcU3c2RjAHQHUV3cyRHogNgKcVJB8AJdB+6JGMAdEfR3RzJGADdUXQ3RzIGQHcU3c2RjAHQHUV3cyRHogNgKcVJB8AJdB+6JGMAdEfR3RzJGADdUXQ3RzIGQHcU3c2RjAHQHUV3cyRHogNgKcVJB8AJdB+6JGMAdEfR3RzJGADdUXQ3RzIGQHcU3c2RjAHQHUV3cyRHogNgKcVJB8AJdB+6JGMAdEfR3RzJGADdUXQ3RzIGQHcU3c2RjAHQHUV3cyRHogNgKcVJB8AJdB+6JGMAdEfR3RzJGADdUXQ3RzIGQHcU3c2RjAHQHUV3cyRHogNgKcVJB8AJdB+6JGMAdEfR3RzJGADdUXQ3RzIGQHcU3c2RjAHQHUV3cyRHogNgKcVJB8AJdB+6JGMAdEfR3RzJGADdUXQ3RzIGQHcU3c2RjAHQHUV3cyRHogNgKcVJB8AJdB+6JGMAdEfR3RzJGADdUXQ3RzIGQHcU3c2RjAHQHUV3cyRHogNgKcVJB8AJdB+6JGMAdEfR3RzJGADdUXQ3RzIGQHcU3c2RjAHQHUV3cyRHogNgKcVJB8AJdB+6JGMAdEfR3RzJGADdUXQ3RzIGQHcU3c2RjAHQHUV3cyRHogNgKcVJB8AJdB+6JGMAdEfR3RzJGADdUXQ3RzIGQHcU3c2RjAHQHUV3cyRHogNgKdlcukbffkZ//w6AE+g+dEnGAOiOors5kjEAuqPobo5kDIDuKLqbIxkDoDuK7uZIjkQHwFKyuXSNvv2M/v4dACfQfeiSjAHQHUV3cyRjAHRH0d0cyRgA3VF0N0cyBkB3FN3NkRyJDoClZHPwzf/Tkh57FR9xRn//DoAT6D50ScYA6I6iuzmSMQC6o+hujmQMgO4oupsjGQOgO4ru5kiORAfAUrL5/9u711jb87q+4x9wiNxEaG2JQmUyMRrrpVwGkNqkYAoWEbUmjVaF0NqEpLbUCOq0tbptKb1QbeoTQUx6JGlKiIkxQW1LbKeImg4tERq5KDYTCbEICMitMFNPH6y9sxaHM2ff1tqf9///fb+S9wPOrLXX3uFz1u/Mb845++Qn/1Hp9b0AXEHtQ5fUGIDdUWpvjtQYgN1Ram+O1BiA3VFqb47UGIDdUWpvjtSSeAEozXbyk/+o9PpeAK6g9qFLagzA7ii1N0dqDMDuKLU3R2oMwO4otTdHagzA7ii1N0dqSbwAlGY7+cl/VHp9LwBXUPvQJTUGYHeU2psjNQZgd5TamyM1BmB3lNqbIzUGYHeU2psjtSReAEqznfzkPyq9vheAK6h96JIaA7A7Su3NkRoDsDtK7c2RGgOwO0rtzZEaA7A7Su3NkVoSLwCl2U5+8v92kncn+VSSjyX53SQ/l+RZB359LwBXUPvQJTUGYHeU2psjNQZgd5TamyM1BmB3lNqbIzUGYHeU2psjtSReAEqzXT9Dv5DkCy/48R9/SneevI4XgMutfeiSGgOwO0rtzZEaA7A7Su3NkRoDsDtK7c2RGgOwO0rtzZFaEi8Apdk+keQ/JPnbSf5SkicmeXaSlyf5YLZvDncnecgFPv71s+YF4HJrH7qkxgDsjlJ7c6TGAOyOUntzpMYA7I5Se3OkxgDsjlJ7c6SWxAtAabZH3+KfPTbJW7N9g3jJBT7+9bPmBeByax+6pMYA7I5Se3OkxgDsjlJ7c6TGAOyOUntzpMYA7I5Se3OklsQLQEm3ckeST2fzBvG7F3i+fwR4QO1Dl9QYgN1Ram+O1BiA3VFqb47UGIDdUWpvjtQYgN1Ram+O1JJ4ASjpNG/I9k3iS/b8sf0mICuofeiSGgOwO0rtzZEaA7A7Su3NkRoDsDtK7c2RGgOwO0rtzZFaEi8AJZ3mX2X7JvHUPX9sLwBXUPvQJTUGYHeU2psjNQZgd5TamyM1BmB3lNqbIzUGYHeU2psjtSReAEo6zSsTLwA/B+DgpdQ+dEmNAdgdpfbmSI0B2B2l9uZIjQHYHaX25kiNAdgdpfbmSC2JF4CSTvNL2b5JPG7PH9sLwBXUPnRJjQHYHaX25kiNAdgdpfbmSI0B2B2l9uZIjQHYHaX25kgtiReAkm7ljiSfyeYN4vcO8PG9AFxB7UOX1BiA3VFqb47UGIDdUWpvjtQYgN1Ram+O1BiA3VFqb47UkngBKM31/CS33eKfPzbJW7N9g/iBA3wOXgCuoPahS2oMwO4otTdHagzA7ii1N0dqDMDuKLU3R2oMwO4otTdHakm8AJTmujfJ+5L8VJK/keQZSZ6Y5K8keXmSD2b75vBrST7/AJ+DF4ArqH3okhoDsDtK7c2RGgOwO0rtzZEaA7A7Su3NkRoDsDtK7c2RWhIvAKW57s32J/+t+vkkjz7Q5+AF4ApqH7qkxgDsjlJ7c6TGAOyOUntzpMYA7I5Se3OkxgDsjlJ7c6SWxAtAaa6/nORHk/xKkncn+VCS+5J8OMnbk7wqm98VeEheAK6g9qFLagzA7ii1N0dqDMDuKLU3R2oMwO4otTdHagzA7ii1N0dqSbwAlNTkBeAKah+6pMYA7I5Se3OkxgDsjlJ7c6TGAOyOUntzpMYA7I5Se3OklsQLQElNXgCuoPahS2oMwO4otTdHagzA7ii1N0dqDMDuKLU3R2oMwO4otTdHakm8AJTU5AXgCmofuqTGAOyOUntzpMYA7I5Se3OkxgDsjlJ7c6TGAOyOUntzpJbEC0BJTV4ArqD2oUtqDMDuKLU3R2oMwO4otTdHagzA7ii1N0dqDMDuKLU3R2pJvACU1OQF4ApqH7qkxgDsjlJ7c6TGAOyOUntzpMYA7I5Se3OkxgDsjlJ7c6SWxAtASU1eAK6g9qFLagzA7ii1N0dqDMDuKLU3R2oMwO4otTdHagzA7ii1N0dqSbwAlNTkBeAKah+6pMYA7I5Se3OkxgDsjlJ7c6TGAOyOUntzpMYA7I5Se3OklsQLQElNXgCuoPahS2oMwO4otTdHagzA7ii1N0dqDMDuKLU3R2oMwO4otTdHakm8AJTU5AXgCmofuqTGAOyOUntzpMYA7I5Se3OkxgDsjlJ7c6TGAOyOUntzpJbEC0BJTV4ArqD2oUtqDMDuKLU3R2oMwO4otTdHagzA7ii1N0dqDMDuKLU3R2pJvACU1OQF4ApqH7qkxgDsjlJ7c6TGAOyOUntzpMYA7I5Se3OkxgDsjlJ7c6SWxAtASU1eAK6g9qFLagzA7ii1N0dqDMDuKLU3R2oMwO4otTdHagzA7ii1N0dqSbwAlNTkBeAKah+6pMYA7I5Se3OkxgDsjlJ7c6TGAOyOUntzpMYA7I5Se3OklsQLQElNXgCuoPahS2oMwO4otTdHagzA7ii1N0dqDMDuKLU3R2oMwO4otTdHakm8AJTU5AXgCmofuqTGAOyOUntzpMYA7I5Se3OkxgDsjlJ7c6TGAOyOUntzpJbEC0BJTV4ArqD2oUtqDMDuKLU3R2oMwO4otTdHagzA7ii1N0dqDMDuKLU3R2pJvACU1OQF4ApqH7qkxgDsjlJ7c6TGAOyOUntzpMYA7I5Se3OkxgDsjlJ7c6SWxAtASU1eAK6g9qFLagzA7ii1N0dqDMDuKLU3R2oMwO4otTdHagzA7ii1N0dqSbwAlNTkBeAKah+6pMYA7I5Se3OkxgDsjlJ7c6TGAOyOUntzpMYA7I5Se3OklsQLQElNXgCuoPahS2oMwO4otTdHagzA7ii1N0dqDMDuKLU3R2oMwO4otTdHakm8AJTU5AXgCmofuqTGAOyOUntzpMYA7I5Se3OkxgDsjlJ7c6TGAOyOUntzpJbEC0BJTV4ArqD2oUtqDMDuKLU3R2oMwO4otTdHagzA7ii1N0dqDMDuKLU3R2pJvACU1OQF4ApqH7qkxgDsjlJ7c6TGAOyOUntzpMYA7I5Se3OkxgDsjlJ7c6SWxAtASU1eAK6g9qFLagzA7ii1N0dqDMDuKLU3R2oMwO4otTdHagzA7ii1N0dqSbwAlNTkBeAKah+6pMYA7I5Se3OkxgDsjlJ7c6TGAOyOUntzpMYA7I5Se3OklsQLQElNXgCuoPahS2oMwO4otTdHagzA7ii1N0dqDMDuKLU3R2oMwO4otTdHakm8AJTU5AXgCmofuqTGAOyOUntzpMYA7I5Se3OkxgDsjlJ7c6TGAOyOUntzpJbEC0BJTV4ArqD2oUtqDMDuKLU3R2oMwO4otTdHagzA7ii1N0dqDMDuKLU3R2pJvACU1OQF4ApqH7qkxgDsjlJ7c6TGAOyOUntzpMYA7I5Se3OkxgDsjlJ7c6SWxAtASU1eAK6g9qFLagzA7ii1N0dqDMDuKLU3R2oMwO4otTdHagzA7ii1N0dqSbwAlNTkBeAKah+6pMYA7I5Se3OkxgDsjlJ7c6TGAOyOUntzpMYA7I5Se3OklsQLQElNXgCuoPahS2oMwO4otTdHagzA7ii1N0dqDMDuKLU3R2oMwO4otTdHakm8AJTU5AXgCmofuqTGAOyOUntzpMYA7I5Se3OkxgDsjlJ7c6TGAOyOUntzpJbEC0BJTV4ArqD2oUtqDMDuKLU3R2oMwO4otTdHagzA7ii1N0dqDMDuKLU3R2pJvACU1OQF4ApqH7qkxgDsjlJ7c6TGAOyOUntzpMYA7I5Se3OkxgDsjlJ7c6SWxAtASU1eAK6g9qFLagzA7ii1N0dqDMDuKLU3R2oMwO4otTdHagzA7ii1N0dqSbwAlNTkBeAKah+6pMYA7I5Se3OkxgDsjlJ7c6TGAOyOUntzpMYA7I5Se3OklsQLQElNXgCuoPahS2oMwO4otTdHagzA7ii1N0dqDMDuKLU3R2oMwO4otTdHakm8AJTU5AXgCmofuqTGAOyOUntzpMYA7I5Se3OkxgDsjlJ7c6TGAOyOUntzpJbEC0BJTV4ArqD2oUtqDMDuKLU3R2oMwO4otTdHagzA7ii1N0dqDMDuKLU3R2pJvACU1OQF4ApqH7qkxgDsjlJ7c6TGAOyOUntzpMYA7I5Se3OkxgDsjlJ7c6SWxAtASU1eAK6g9qFLagzA7ii1N0dqDMDuKLU3R2oMwO4otTdHagzA7ii1N0dqSbwAlNTkBeAKah+6pMYA7I5Se3OkxgDsjlJ7c6TGAOyOUntzpMYA7I5Se3OklsQLQElNXgCuoPahS2oMwO4otTdHagzA7ii1N0dqDMDuKLU3R2oMwO4otTdHakm8AJTU5AXgCmofuqTGAOyOUntzpMYA7I5Se3OkxgDsjlJ7c6TGAOyOUntzpJbEC0BJTV4ArqD2oUtqDMDuKLU3R2oMwO4otTdHagzA7ii1N0dqDMDuKLU3R2pJvACU1OQF4ApqH7qkxgDsjlJ7c6TGAOyOUntzpMYA7I5Se3OkxgDsjlJ7c6SWxAtASU1eAK6g9qFLagzA7ii1N0dqDMDuKLU3R2oMwO4otTdHagzA7ii1N0dqSbwAlNTkBeAKah+6pMYA7I5Se3OkxgDsjlJ7c6TGAOyOUntzpMYA7I5Se3OklsQLQElNXgCuoPahS2oMwO4otTdHagzA7ii1N0dqDMDuKLU3R2oMwO4otTdHakm8AJTU5AXgCmofuqTGAOyOUntzpMYA7I5Se3OkxgDsjlJ7c6TGAOyOUntzpJbEC0BJTV4ArqD2oUtqDMDuKLU3R2oMwO4otTdHagzA7ii1N0dqDMDuKLU3R2pJvACU1OQF4ApqH7qkxgDsjlJ7c6TGAOyOUntzpMYA7I5Se3OkxgDsjlJ7c6SWxAtASU1eAK6g9qFLagzA7ii1N0dqDMDuKLU3R2oMwO4otTdHagzA7ii1N0dqSbwAlNTkBeAKah+6pMYA7I5Se3OkxgDsjlJ7c6TGAOyOUntzpMYA7I5Se3OklsQLQElNXgCuoPahS2oMwO4otTdHagzA7ii1N0dqDMDuKLU3R2oMwO4otTdHakm8AJTU5AXgCmofuqTGAOyOUntzpMYA7I5Se3OkxgDsjlJ7c6TGAOyOUntzpJbEC0BJTV4ArqD2oUtqDMDuKLU3R2oMwO4otTdHagzA7ii1N0dqDMDuKLU3R2pJvACU1OQF4ApqH7qkxgDsjlJ7c6TGAOyOUntzpMYA7I5Se3OkxgDsjlJ7c6SWxAtASU1eAK6g9qFLagzA7ii1N0dqDMDuKLU3R2oMwO4otTdHagzA7ii1N0dqSbwAlNTkBeAKah+6pMYA7I5Se3OkxgDsjlJ7c6TGAOyOUntzpMYA7I5Se3OklsQLQElNXgCuoPahS2oMwO4otTdHagzA7ii1N0dqDMDuKLU3R2oMwO4otTdHakm8AJTU5AXgCmofuqTGAOyOUntzpMYA7I5Se3OkxgDsjlJ7c6TGAOyOUntzpJbEC0BJTV4ArqD2oUtqDMDuKLU3R2oMwO4otTdHagzA7ii1N0dqDMDuKLU3R2pJvACU1OQF4ApqH7qkxgDsjlJ7c6TGAOyOUntzpMYA7I5Se3OkxgDsjlJ7c6SWxAtASU1eAK6g9qFLagzA7ii1N0dqDMDuKLU3R2oMwO4otTdHagzA7ii1N0dqSbwAlNTkBeAKah+6pMYA7I5Se3OkxgDsjlJ7c6TGAOyOUntzpMYA7I5Se3OklsQLQElNXgCuoPahS2oMwO4otTdHagzA7ii1N0dqDMDuKLU3R2oMwO4otTdHakm8AJTU5AXgCmofuqTGAOyOUntzpMYA7I5Se3OkxgDsjlJ7c6TGAOyOUntzpJbEC0BJTV4ArqD2oUtqDMDuKLU3R2oMwO4otTdHagzA7ii1N0dqDMDuKLU3R2pJvACU1OQF4ApqH7qkxgDsjlJ7c6TGAOyOUntzpMYA7I5Se3OkxgDsjlJ7c6SWxAtASSe+NMm/TvLOJJ9I8kdJ7knysiQPP9BregG4gtqHLqkxALuj1N4cqTEAu6PU3hypMQC7o9TeHKkxALuj1N4cqSXxAlBSkjwvyUeyfTO4sXclueMAr+sF4ApqH7qkxgDsjlJ7c6TGAOyOUntzpMYA7I5Se3OkxgDsjlJ7c6SWxAtASX8hm9/xdz3Jx5L8wyTPSPINSX4m2zeIdyZ55J5f2wvAFdQ+dEmNAdgdpfbmSI0B2B2l9uZIjQHYHaX25kiNAdgdpfbmSC2JF4CS/ms2bwD3ZXPxd6MfzPZN4kf3/NpeAK6g9qFLagzA7ii1N0dqDMDuKLU3R2oMwO4otTdHagzA7ii1N0dqSbwAlGZ7arZvAK96gMc8OMk7jh/zR0kessfX9wJwBbUPXVJjAHZHqb05UmMAdkepvTlSYwB2R6m9OVJjAHZHqb05UkviBaA02z/L9g3g6bd43F07j3v2Hl/fC8AV1D50SY0B2B2l9uZIjQHYHaX25kiNAdgdpfbmSI0B2B2l9uZILYkXgNJsb8rmJ//Hk9x2i8c9I9s3ih/f4+t7AbiC2ocuqTEAu6PU3hypMQC7o9TeHKkxALuj1N4cqTEAu6PU3hypJfECUJrtA9n85P+tUx73mGzfKF6/x9f3AnAFtQ9dUmMAdkepvTlSYwB2R6m9OVJjAHZHqb05UmMAdkepvTlSS+IFoDTXQ7P9yf+GMzz+48eP/c1zvMbjT+npJ5/DPffcc/29733vckrsuNe/3k6q79L9u3/37/7dv/uGW8ZBAAAL+0lEQVR3/+7f/bt/9+/+b9I999yzewH4hHP8e72khfsz2f7kf90ZHv/+48f+r3O8xnUzMzMzMzMzQ3VnJI3x57L9yf/aMzz+948f+55zvEb7Tc3MzMzMzMzMPjsvAKVBruJ3AJ72R4DvSPJN2bz5POEMjzdWd+azD5D252N2lbl/m5z7t8m5f5uc+192Tzj+/+3OJJ8fSWNcxd8BqHV7fLYbenz5c5GumvvXZO5fk7l/Teb+JWmh2t8FWMvmLwA0mfvXZO5fk7l/Teb+JWmh3pTNm/fHk9x2i8c9I9s3+h+/gs9Ly+AvADSZ+9dk7l+TuX9N5v4laaFeke0b+NNv8bi7dh73nCv4vLQM/gJAk7l/Teb+NZn712TuX5IW6mnZvoG/6gEe8+Ak7zh+zIeTPORqPjUtgL8A0GTuX5O5f03m/jWZ+5ekBTv5Y8D3ZfNHfW/0g9m+yR9d3aelBfAXAJrM/Wsy96/J3L8mc/+StGBPSvLJbN7EP5bkHyT5uiTPSvLqbN/g353kC0qfo5j8BYAmc/+azP1rMvevydy/JC3c85N8NNs38xt7d5Ivq312ovIXAJrM/Wsy96/J3L8mc/+StAJPSPKT2Vz2fSKbv+/vLUl+KMnDi5+XJEmSJEmSJEmSJEmSJEmSJEmSJEmSJEmSJEmSJEmSJEmSJEmSJEmSJEmSJEmSJEmSJEmSJEmSJEmSJEmSJEmSJEmSJEmSJEmSJEmSJEmSJEmSpFV4cJJvS/LTSd6W5P1JPpPkj5P87yS/mOSuJF9+i49xW5InJXlxkp9N8vYk9ye5ftzth/nUpUvbx/4fleQ7k7wmyVuTfOT4Y3wgyd1JXpbk0Qf57KXL2cf+70zy0iSvy+a9/w+SfDrJx5K8O8nPJXnWYT596VL2sf8H8sXZnAUnvw66+/KfrrRX+9j/UbYbP61n7v9LkCRJ5/FNSd6Zsx/edyf5izf5OD92yvNuP9yXIF3YPvb/3CT/9wzP/T/xEkQs+3r/f/MZn//6JA891BcjndO+9v9Afv4mz5co9rX/o3N8jGce5kuRJEln8cNJ/iTbg/nNxz/2nCRPSfL1Sb49yU8kedfO4/7jTT7W0c4//1SS30zynp0fu/1gX4V0Mfva//cc//j/O/5n35/NRd+Tkjw/m98VdfLcTyR54gG/Jums9vn+/6vZ/MvhK5K8IMmzkzw5yTcm+aFsfifJyfNfd6CvRzqPfe7/Zp5//Pj37zz37r199tLlHOrX/199So840NcjSZJO8cJsD+wPZHPo38qDknxLkt/OzX8B8I3Z/PHfJ2fzx4GT5Fq8ABTTPvf/HUleleRLb/H8v7fzer96gc9X2qd9v//fdpMf2/WwJL+x85pfc55PVtqzfe//Ro9M8vvHH/8F8QJQLPve/9HOx5MkSUCPS/LJbA7rjyf5ynM896FJ/voZH3stXgCK56r2f6O3ZPs7Bf/0BT+GdFmt/X9HtufB913wY0iXdRX7/6njj/9fjv+3F4CiOMT+j+IFoCRJaD+R7WH9/Qd8nWvxAlA8V7X/G71y53XvvMLXlXa19v/NO6/70it8XWnXoff/tGz+I8+nk3zF8Y95ASiKQ+z/KF4ASpKE9aBsfsv/9Wy+Q+MXHPC1rsULQLFc5f5vdPK7Qq5n80flpavW3P+/z3b/z7vC15VOHHr/tyX5reOP/092ftwLQBEcav9H8QJQkiSsr872oP7lA7/WtXgBKJar3P+N3nb8uvcledQVv7aUXO3+H5zksUm+Ickv7Lzuu3L63xkoHcKh93/X8cd+Tz77u117ASiCQ+3/aOfjvjHJh5J8JskfZrP5u5I8Zo+vJ0mSzuG7sj2oX37g17oWLwDFcpX73/W8ndd9wxW+rrTrKvZ/785r3Ni9Sb7qQK8rneaQ+78j279b7cZvquAFoAgOtf+jPPB7/kkfTvKte3xNSZJ0Ri/J9kD++6c89quy+S+GN+sRZ3ita/ECUCxXuf8TfyrbS5H7kzzpXJ+xtD9Xsf9787n/8ndfkn8cf+erug65/zcef9zX3eSfeQEogkPt/yjJ27P5Y+/fnM1fcfL0bL7b8H/aec37kzz38l+GJEk6j3+U7WH8vac89v488H/Ne+YZXutavAAUy1XuP0k+L8mv7Dzv6LyfsLRHV7H/L8/mXxK/NsmzkvxIkvdl800RXpvkkRf+7KXLOdT+X3j84x9N8sU3+VheAIrgUPt/9Ckf68U7z31fkoed55OWJEmXs/tfAF9yymO9ANTaXOX+k+TVO895QzYXglLLVe//xGOS3HP83Lflar/5iHTiEPv/omy/scLffYCP5QWgCFrv/0nymp3nf/cFni9Jki7ou7M9hP/pOZ97lPP9AuDazuNvP+drSYdwlfv/5zuP/7X4X73Vd5X7v9FX7jz/FRd4vnRZh9j/a49/7C3ZfOObm/ECUATN9/87d57/Mxd4viRJuqDd7wL2S+d87lG8ANSyXdX+f3jnsf8zyRee87WkQ7jK9/+b+Z3j5//OBZ8vXca+9/8lOz/2L5N85wN08ph37PzY0y/8VUgX03z/f/glXluSJF3Cg5J8MJtD+I9zvm9mcBQvALVsV7H/v5PP/he+L7rA5ykdwlW+/9/Mrx8//9MXfL50Gfve/+07P3berl38y5AupPn+/4id53sBKEnSFfvJbA/i7zvH845yvl8AXNt5/O3neB3pkA65/xck+ZPjx/xeNr9DRCK5qvf/m7n3+PkfuuDzpcva5/5vz60v+bwAFE3r/f+pO89/zQWeL0mSLuHxST6ZzUH80SRfdsbnHcULQC3fofb/7dn+xdnvjZsX01W9/99o918A777A86V9aOzf3Yui9f7/szvP/54LPF+SJF3S38z2MP6DnO1A/7fxAlDrsO/9PyebP9Z4Pcn7k3zFnj5P6RD2uf+nJXnyKc99XDZ/HP7k+d97rs9W2q+r+PXPLi8ARbLP/X9NTr9EfPENr3eeP3osSZL26Eey/eOK15P8tyQvTfLsbP6F7ilJnpvkriT/fedx1/O5f4H1I5O86IbevPP4l93wz554gK9HOo997f/rknzi+Mc/k+S7svnLtm/Vow/6lUmn29f+X3T8Y79+/Ni/evzcpyT5liT/JslHdp77xjzwd0uVrso+f/1zGi8ARbPP9//7s3lf/4Gd5z8tyQuT/Oed592fzZkgSZKKnp/td2Y8S29O8vU3+Ti3n+NjXM/mjxNIbfvY/9E5nn/Siw72FUlnt4/9v+gcz/932Xw3SIlgX7/+OY0XgCK6yvf/Dyb51kN+MZIk6ew+L8lfS/LqJG9P8odJ7svmu4Tdm8137PqxJH/+Fh/j9ngBqGW67P6P4gWgluuy+39YNn8E/l8keVM23/zmY9n8kfgPJPmNJK9M8rWH+gKkS9jHr39O4wWgqC67/z+b5G9l8409/kc2f//xJ5N8Ksn7kvxykpckedShvgBJkiRJkiRJkiRJkiRJkiRJkiRJkiRJkiRJkiRJkiRJkiRJkiRJkiRJkiRJkiRJkiRJkiRJkiRJkiRJkiRJkiRJkiRJkiRJkiRJkiRJkiRJkiRJkiRJkiRJkiRJkiRJkiRJkiRJkiRJkiRJkiRJkiRJkiRJkiRJkiRJkiRJkiRJkiRJkiRJkiRJkiRJkiRJkiRJkiRJkiRJkiRJkiRJkiRJkiRJkiRJkiRJkiRJkiRJkiRJkiRJkiRJkiRJkiRJkiRJkiRJkiRJkiRJkiRJkiRJkiRJkiRJkiRJkiRJkiRJkiRJkiRJkiRJkiRJkiRJkiRJkiRJkiRJkiRJkiRJkiRJkiRJkiRJkiRJkiRJkiRJkiRJkiRJkiRJkiRJkiRJkiRJkiRJkiRJkiRJkiRJkiRJkiRJkiRJkiRJkiRJkiRJkiRJkiRJkiRJkiRJkiRJkiRJkiRJkiRJkiRJkiRJkiRJkiRJkiRJkiRJkiRJkiRJkiRJkiRJkiRJkiRJkiRJkiRJkiRJkiRJkiRJkiRJkiRJkiRJkiRJkiRJkiRJkiRJkiRJkiRJkiRJkiRJkiRJkiRJkiRJkiRJkiRJkiRJkiRJkiRJkiRJkiRJkiRJkiRJkiRJkiRJkiRJkiRJkiR1/X+JuCpWbu6yDQAAAABJRU5ErkJggg==\" width=\"640\">"
      ],
      "text/plain": [
       "<IPython.core.display.HTML object>"
      ]
     },
     "metadata": {},
     "output_type": "display_data"
    }
   ],
   "source": [
    "%matplotlib notebook\n",
    "import numpy as np\n",
    "import matplotlib.pyplot as plt\n",
    "\n",
    "N = 5\n",
    "hombre_means = (20, 35, 30, 35, 27)\n",
    "hombre_std = (2, 3, 4, 1, 2)\n",
    "mujer_means = (25, 32, 34, 20, 25)\n",
    "mujer_std = (3, 5, 2, 3, 3)\n",
    "\n",
    "ind = np.arange(N)  # posición de cada grupo\n",
    "print('ind',ind)\n",
    "width = 0.35       # anchura de las barras\n",
    "\n",
    "fig, ax = plt.subplots()\n",
    "rects1 = ax.bar(ind, hombre_means, width, color='r', yerr=hombre_std)\n",
    "\n",
    "rects2 = ax.bar(ind + width, mujer_means, width, color='y', yerr=mujer_std)\n",
    "\n",
    "# etiquetas, título, marcas en los ejes\n",
    "ax.set_ylabel('Puntuaciones')\n",
    "ax.set_title('Puntuaciones por grupo y género')\n",
    "ax.set_xticks(ind + width / 2)\n",
    "ax.set_xticklabels(('G1', 'G2', 'G3', 'G4', 'G5'))\n",
    "\n",
    "ax.legend((rects1[0], rects2[0]), ('Hombres', 'Mujeres'))\n",
    "plt.show()"
   ]
  },
  {
   "cell_type": "markdown",
   "metadata": {},
   "source": [
    "## Tipos en Python"
   ]
  },
  {
   "cell_type": "markdown",
   "metadata": {},
   "source": [
    "En Python, **todo valor tiene un tipo**, es decir pertenece a un conjunto predefinido de valores.\n",
    "Decimos que se trata de un lenguaje con tipos, o un lenguaje tipado.\n",
    "\n",
    "Sin embargo, a diferencia de otros lenguajes como C, C++, C# o Java, en Python no se declaran los tipos explícitamente, los deduce el sistema.\n",
    "\n",
    "Esto es una comodidad, pero no debe hacernos olvidar que los tipos existen. En concreto, en Python, tenemos:\n",
    "\n",
    "* Tipos numéricos: int, float, complex \n",
    "* Tipo cierto/falso: bool\n",
    "* Tipo carácter: chr\n",
    "* Tipo secuencia de caracteres: str\n",
    "* Tipos secuencia: list, tuple, range\n",
    "* Tipos secuencia de bnarios: bytes, bytearray, memoryview\n",
    "* Conjuntos: set, frozenset\n",
    "* Maps: dict\n",
    "* Programación orientada a objetos: Clases, objetos\n",
    "* Programación funcional: funciones lambda\n",
    "\n"
   ]
  },
  {
   "cell_type": "markdown",
   "metadata": {},
   "source": [
    "### Conversión entre tipos"
   ]
  },
  {
   "cell_type": "markdown",
   "metadata": {},
   "source": [
    "La función predefinida **int( )** se puede convertir para convertir un número real en su parte entera, o para convertir un número entre comillas en su versión como entero (es decir, si no se pone segundo parámetro se asume implícitamente base 10). \n",
    "\n",
    "Para este último uso, conversión de *string* a *int*, disponemos también de una función inversa,  **str( )** que convierte un entero en string.\n",
    "\n"
   ]
  },
  {
   "cell_type": "code",
   "execution_count": 72,
   "metadata": {},
   "outputs": [
    {
     "name": "stdout",
     "output_type": "stream",
     "text": [
      "7\n",
      "7\n"
     ]
    }
   ],
   "source": [
    "print(int(7.7))\n",
    "print(int('7'))"
   ]
  },
  {
   "cell_type": "markdown",
   "metadata": {},
   "source": [
    "**Observaciones: ** \n",
    "\n",
    "* A este tipo de funciones que pasan de un tipo a otro se conoce como *funciones de conversión de tipo*\n",
    "*  Aunque generalmente no nos preocupamos de pensar en los tipos, el sistema comprueba que no mezclemos tipos diferentes en una misma expresión, y si lo hacemos obtendremos un error (a no ser que sea posible una *conversión automática de tipos*)"
   ]
  },
  {
   "cell_type": "code",
   "execution_count": 76,
   "metadata": {},
   "outputs": [
    {
     "data": {
      "text/plain": [
       "15"
      ]
     },
     "execution_count": 76,
     "metadata": {},
     "output_type": "execute_result"
    }
   ],
   "source": [
    "x = '12'\n",
    "# 3+x  # error!!!!\n",
    "3 + int(x)"
   ]
  },
  {
   "cell_type": "markdown",
   "metadata": {},
   "source": [
    "De manera similar, **float(x)**  convierte una cadena x en su representación como número real.\n",
    "\n"
   ]
  },
  {
   "cell_type": "code",
   "execution_count": 79,
   "metadata": {},
   "outputs": [
    {
     "data": {
      "text/plain": [
       "6.283"
      ]
     },
     "execution_count": 79,
     "metadata": {},
     "output_type": "execute_result"
    }
   ],
   "source": [
    "pi = '3.1415'\n",
    "2*(float(pi))"
   ]
  },
  {
   "cell_type": "markdown",
   "metadata": {},
   "source": [
    "**chr( )** se utiliza para convertir un entero a su equivalente alfabético, mientras que **ord( )** es su función inversa."
   ]
  },
  {
   "cell_type": "code",
   "execution_count": 26,
   "metadata": {},
   "outputs": [
    {
     "data": {
      "text/plain": [
       "'b'"
      ]
     },
     "execution_count": 26,
     "metadata": {},
     "output_type": "execute_result"
    }
   ],
   "source": [
    "chr(98)"
   ]
  },
  {
   "cell_type": "code",
   "execution_count": 27,
   "metadata": {},
   "outputs": [
    {
     "data": {
      "text/plain": [
       "98"
      ]
     },
     "execution_count": 27,
     "metadata": {},
     "output_type": "execute_result"
    }
   ],
   "source": [
    "ord('b')"
   ]
  },
  {
   "cell_type": "markdown",
   "metadata": {},
   "source": [
    "### Funciones predefinidas aritméticas"
   ]
  },
  {
   "cell_type": "markdown",
   "metadata": {},
   "source": [
    "**round( )** permite redondear un real a su valor entero más próximo. si se añade un segundo parámetro sirve para redondear al número de decimales indicado. "
   ]
  },
  {
   "cell_type": "code",
   "execution_count": 83,
   "metadata": {
    "scrolled": false
   },
   "outputs": [
    {
     "name": "stdout",
     "output_type": "stream",
     "text": [
      "86\n",
      "4.56\n",
      "85\n"
     ]
    }
   ],
   "source": [
    "print(round(85.6231)) \n",
    "print(round(4.55892, 2))\n",
    "print(int(85.6231))"
   ]
  },
  {
   "cell_type": "markdown",
   "metadata": {},
   "source": [
    "**complex( )** se emplea para definir números complejos, mientras que **abs( )**  deuele el valor absoluto de un número entero/real o el módulo de un número complejo."
   ]
  },
  {
   "cell_type": "code",
   "execution_count": 84,
   "metadata": {},
   "outputs": [
    {
     "name": "stdout",
     "output_type": "stream",
     "text": [
      "5.385164807134504\n",
      "4.5\n"
     ]
    }
   ],
   "source": [
    "c =complex('5+2j')\n",
    "print(abs(c))\n",
    "print(abs(-4.5))"
   ]
  },
  {
   "cell_type": "markdown",
   "metadata": {},
   "source": [
    "**divmod(x,y)** devuelve tanto el cociente como el resto de una división. Para eso se utiliza una **tupla** con la forma (cociente, resto). "
   ]
  },
  {
   "cell_type": "code",
   "execution_count": 30,
   "metadata": {},
   "outputs": [
    {
     "data": {
      "text/plain": [
       "(4, 1)"
      ]
     },
     "execution_count": 30,
     "metadata": {},
     "output_type": "execute_result"
    }
   ],
   "source": [
    "divmod(9,2)"
   ]
  },
  {
   "cell_type": "code",
   "execution_count": 86,
   "metadata": {},
   "outputs": [
    {
     "name": "stdout",
     "output_type": "stream",
     "text": [
      "4 1 9\n"
     ]
    }
   ],
   "source": [
    "cociente,resto = divmod(9,2)\n",
    "print(cociente, resto, cociente*2+resto)"
   ]
  },
  {
   "cell_type": "markdown",
   "metadata": {},
   "source": [
    "**isinstance(x,y )** es una función booleana es decir que devuelve True o False, según si x es de tipo y. Se pueden comprobar varias clases a la vez haciendo que el segundo argumento sea una tupla"
   ]
  },
  {
   "cell_type": "code",
   "execution_count": 88,
   "metadata": {},
   "outputs": [
    {
     "name": "stdout",
     "output_type": "stream",
     "text": [
      "True\n",
      "False\n",
      "True\n"
     ]
    }
   ],
   "source": [
    "print(isinstance(1, int))\n",
    "print(isinstance(1.0,int))\n",
    "print(isinstance(1.0,(int,float)))"
   ]
  },
  {
   "cell_type": "markdown",
   "metadata": {},
   "source": [
    "**pow(x,y,z)** se emplea para calcular $x^y$. Si se especifica el tercer argumento, z, el resultado es el módulo: ($x^y$ % z)."
   ]
  },
  {
   "cell_type": "code",
   "execution_count": 99,
   "metadata": {},
   "outputs": [
    {
     "name": "stdout",
     "output_type": "stream",
     "text": [
      "27\n",
      "2\n"
     ]
    }
   ],
   "source": [
    "print(pow(3,3))\n",
    "print(pow(3,3,5))"
   ]
  },
  {
   "cell_type": "markdown",
   "metadata": {},
   "source": [
    "La función **range( )** genera una secuencia de enteros dentro del rango indicado. Admite tres formatos, y es una función importante, que utilizaremos muy a menudo:\n",
    "* Si solo recibe un argumento entero x devuelve los valores desde 0 hasta x-1.\n",
    "* Si recibe dos argumentos x,y devuelve la secuencia de elementos que va desde x hasta y-1.\n",
    "* Si recibe tres argumentos, x,y,z, devuelve los elementos desde x hasta y-1, pero saltando de z en z. \n",
    "\n",
    "El resultado es una lista, tipo que veremos en detalle más adelante."
   ]
  },
  {
   "cell_type": "code",
   "execution_count": 100,
   "metadata": {},
   "outputs": [
    {
     "name": "stdout",
     "output_type": "stream",
     "text": [
      "range(0, 3)\n",
      "range(2, 9)\n",
      "range(2, 27, 8)\n"
     ]
    }
   ],
   "source": [
    "print(range(3))\n",
    "print(range(2,9))\n",
    "print(range(2,27,8))"
   ]
  },
  {
   "cell_type": "markdown",
   "metadata": {},
   "source": [
    "## Entrada del usuario"
   ]
  },
  {
   "cell_type": "markdown",
   "metadata": {},
   "source": [
    "**input( )**  es una función que lee lo que teclee el usuario hasta que pulsa enter."
   ]
  },
  {
   "cell_type": "code",
   "execution_count": 103,
   "metadata": {},
   "outputs": [
    {
     "name": "stdout",
     "output_type": "stream",
     "text": [
      "Dime lo que quieras \tguapo\n",
      "guapo ? mmmmm...estoy de acuerdo\n"
     ]
    }
   ],
   "source": [
    "abc = input(\"Dime lo que quieras \\t\")\n",
    "print(abc,'? mmmmm...estoy de acuerdo')"
   ]
  },
  {
   "cell_type": "code",
   "execution_count": 104,
   "metadata": {},
   "outputs": [
    {
     "data": {
      "text/plain": [
       "str"
      ]
     },
     "execution_count": 104,
     "metadata": {},
     "output_type": "execute_result"
    }
   ],
   "source": [
    "type(abc)"
   ]
  },
  {
   "cell_type": "markdown",
   "metadata": {},
   "source": [
    "Si lo que se quiere es leer un entero, debemos convertirlo con **int()**"
   ]
  },
  {
   "cell_type": "markdown",
   "metadata": {},
   "source": [
    "###### Ej. Corrige el siguiente programa para que calcule de verdad la suma de dos números"
   ]
  },
  {
   "cell_type": "code",
   "execution_count": 108,
   "metadata": {},
   "outputs": [
    {
     "name": "stdout",
     "output_type": "stream",
     "text": [
      "Dame un número 5\n",
      "Y ahora otro 4\n",
      "La suma es 54\n"
     ]
    }
   ],
   "source": [
    "a =  input(\"Dame un número \")\n",
    "b =  input(\"Y ahora otro \")\n",
    "suma = a+b\n",
    "print('La suma es', suma)"
   ]
  },
  {
   "cell_type": "code",
   "execution_count": 111,
   "metadata": {},
   "outputs": [
    {
     "data": {
      "text/plain": [
       "str"
      ]
     },
     "execution_count": 111,
     "metadata": {},
     "output_type": "execute_result"
    }
   ],
   "source": [
    "type(a)"
   ]
  },
  {
   "cell_type": "markdown",
   "metadata": {},
   "source": [
    "Para acabar mencionemos un valor especial, **None**,\n",
    "es un valor especial que puede ser comparado con cualquier otro, \n",
    "sin dar error de tipo"
   ]
  },
  {
   "cell_type": "code",
   "execution_count": 112,
   "metadata": {},
   "outputs": [
    {
     "name": "stdout",
     "output_type": "stream",
     "text": [
      "False\n",
      "False\n",
      "False\n"
     ]
    }
   ],
   "source": [
    "print(None==1.5)\n",
    "print(None==True)\n",
    "print(None==False)\n"
   ]
  },
  {
   "cell_type": "markdown",
   "metadata": {},
   "source": [
    "Puede pensarse entones que None pertenece a todos los tipos, pero no:"
   ]
  },
  {
   "cell_type": "code",
   "execution_count": 113,
   "metadata": {},
   "outputs": [
    {
     "name": "stdout",
     "output_type": "stream",
     "text": [
      "False\n",
      "False\n",
      "False\n",
      "False\n",
      "<class 'NoneType'>\n"
     ]
    }
   ],
   "source": [
    "print(isinstance(None,bool))\n",
    "print(isinstance(None,list))\n",
    "print(isinstance(None,float))\n",
    "print(isinstance(None,complex))\n",
    "print(type(None))"
   ]
  },
  {
   "cell_type": "markdown",
   "metadata": {},
   "source": [
    "Como vemos, *None* tiene su propio tipo, que resulta ser compatible con los demás. Este valor tan especial resulta muy útil porque normalmente se representa que ha habido un error en un cómputo."
   ]
  },
  {
   "cell_type": "code",
   "execution_count": null,
   "metadata": {
    "collapsed": true
   },
   "outputs": [],
   "source": []
  }
 ],
 "metadata": {
  "kernelspec": {
   "display_name": "Python 3",
   "language": "python",
   "name": "python3"
  },
  "language_info": {
   "codemirror_mode": {
    "name": "ipython",
    "version": 3
   },
   "file_extension": ".py",
   "mimetype": "text/x-python",
   "name": "python",
   "nbconvert_exporter": "python",
   "pygments_lexer": "ipython3",
   "version": "3.6.4"
  }
 },
 "nbformat": 4,
 "nbformat_minor": 1
}
