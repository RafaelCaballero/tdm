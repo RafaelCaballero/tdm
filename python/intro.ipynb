{
 "cells": [
  {
   "cell_type": "markdown",
   "metadata": {},
   "source": [
    "# Una breve introducción a Python \n",
    "### por Rafa Caballero (Facultad de Informática - UCM)"
   ]
  },
  {
   "cell_type": "markdown",
   "metadata": {},
   "source": [
    "Python es un lenguaje de programación de propósito general. Creado por Guido Van Rossum allá por 1989, se ha convertido en uno de los lenguajes más comunes en ciencia de datos.\n",
    "\n",
    "En estos cuadernos vamos a ver una pequeña introducción a algunos elementos básicos del lenguaje. Los cuadernos están pensados para personas con mínimos o nulos conociemientos de programación y solo abarcan lo necesario para iniciarse en la ciencia de datos.\n",
    "\n",
    "\n",
    "Estos notebooks están basados en varios libros y recursos entre los que hay que destacar:\n",
    "\n",
    "* [Rajath Kumar en GitHub](https://github.com/rajathkumarmp/Python-Lectures \"Rajath Kumar en GitHub\"). Notebooks para Python 2 en lugar de 3, pero que han servido de punto de partida para estas notas.\n",
    "* Python for Kids: un libro para niños tan bien escrito y explicado que vale para todos.\n",
    "* [The Python tutorial](https://docs.python.org/3/tutorial/index.html \"The Python tutorial\"). Una referencia obligada. Aunque no es mi preferido (me parece prolijo y poco didáctico) es una referencia muy completa.\n",
    "\n",
    "En todo caso recordad que en https://www.python.org/ tenemos siempre una descripción detallada de todos lo visto aquí (y mucho más). \n",
    "\n"
   ]
  },
  {
   "cell_type": "markdown",
   "metadata": {},
   "source": [
    "## Versiones y entornos"
   ]
  },
  {
   "cell_type": "markdown",
   "metadata": {},
   "source": [
    "Por desgracia, allá por 2008, Python se *escindió*, al publicarse la versión 3 que no era compatible *hacia atrás*, es decir los programas escritos en Python 2.X no necesariamente corren en Python 3.x (ni viceversa, pero esto es más habitual). \n",
    "\n",
    "En todo caso la idea es que finalmente solo una de las versiones, la 3.X, siga manteniéndose y nos vamos a ceñir a esta.\n",
    "\n",
    "En cuanto a entornos, hay muchos disponibles y nos valdrá cualquiera, como Anaconda, que incluya los Jupyter notebooks.\n",
    "\n",
    "**¡Empezamos!**"
   ]
  },
  {
   "cell_type": "markdown",
   "metadata": {},
   "source": [
    "# Variables"
   ]
  },
  {
   "cell_type": "markdown",
   "metadata": {},
   "source": [
    "En los lenguajes de programación a los datos, sean números, frases u otro tipo de valores, solemos ponerles nombres. Es lo que denominamos *variable*.\n",
    "\n",
    "Una variable puede pensarse como un trocito de memoria de ordenador que tiene un nombre asociado, y un valor, el valor contenido en ese trocito de memoria."
   ]
  },
  {
   "cell_type": "code",
   "execution_count": 10,
   "metadata": {
    "collapsed": true
   },
   "outputs": [],
   "source": [
    "x = 2\n",
    "y = 1.2\n",
    "xy = 'if you torture the data long enough, it will confess to anything'"
   ]
  },
  {
   "cell_type": "markdown",
   "metadata": {},
   "source": [
    "Estas instrucciones Python crean 3 variables\n",
    "* Una variable con nombre  x,  con valor 2\n",
    "* Una variable con nombre y, con valor 1.2\n",
    "* Una variable con nombre xy, con valor *'if you torture the data long enough, it will confess to anything'*. \n",
    "\n",
    "Es importante señalar con las secuencias de caracteres siempre van entre comillas (se puede elegir la comilla simple ' o la doble \", pero recordad cerrar la secuenca con el mismo símbolo)"
   ]
  },
  {
   "cell_type": "code",
   "execution_count": 11,
   "metadata": {},
   "outputs": [
    {
     "name": "stdout",
     "output_type": "stream",
     "text": [
      "3.2 if you torture the data long enough, it will confess to anything 2.4\n"
     ]
    }
   ],
   "source": [
    "print(x+y,xy,x*y)"
   ]
  },
  {
   "cell_type": "markdown",
   "metadata": {},
   "source": [
    "se le puede dar valor a varias variables simultáneamente:"
   ]
  },
  {
   "cell_type": "code",
   "execution_count": 7,
   "metadata": {
    "collapsed": true
   },
   "outputs": [],
   "source": [
    "x = y = 1"
   ]
  },
  {
   "cell_type": "code",
   "execution_count": 8,
   "metadata": {},
   "outputs": [
    {
     "name": "stdout",
     "output_type": "stream",
     "text": [
      "1 1\n"
     ]
    }
   ],
   "source": [
    "print(x,y)"
   ]
  },
  {
   "cell_type": "markdown",
   "metadata": {},
   "source": [
    "Otra forma de hacer lo mismo"
   ]
  },
  {
   "cell_type": "code",
   "execution_count": 12,
   "metadata": {
    "collapsed": true
   },
   "outputs": [],
   "source": [
    "x,y = 1,1"
   ]
  },
  {
   "cell_type": "markdown",
   "metadata": {},
   "source": [
    "###### Ej. *¿Cómo declarar en una sola línea dos variables x,y y hacer que la primera tome el valor 1 y la segunda el valor 2?*"
   ]
  },
  {
   "cell_type": "code",
   "execution_count": 16,
   "metadata": {
    "collapsed": true
   },
   "outputs": [],
   "source": [
    "# escribir aquí la solución\n"
   ]
  },
  {
   "cell_type": "markdown",
   "metadata": {},
   "source": [
    "###### Ej. * ¿Qué hará el siguiente código? * (para probarlo quitar el símbolo de comentario #)"
   ]
  },
  {
   "cell_type": "code",
   "execution_count": 24,
   "metadata": {
    "collapsed": true
   },
   "outputs": [],
   "source": [
    "#x = y = 5\n",
    "#x = x+1\n",
    "#y = y+x-2\n",
    "#print(x,y)"
   ]
  },
  {
   "cell_type": "markdown",
   "metadata": {},
   "source": [
    "## Operadores"
   ]
  },
  {
   "cell_type": "markdown",
   "metadata": {},
   "source": [
    "### Operadores aritméticos"
   ]
  },
  {
   "cell_type": "markdown",
   "metadata": {},
   "source": [
    "| Símbolo | Función |\n",
    "|----|---|\n",
    "| +  | suma |\n",
    "| -  | resta |\n",
    "| /  | división |\n",
    "| %  | módulo |\n",
    "| *  | multiplicación |\n",
    "| //  | división entera |\n",
    "| **  | Potencia |"
   ]
  },
  {
   "cell_type": "code",
   "execution_count": 25,
   "metadata": {},
   "outputs": [
    {
     "data": {
      "text/plain": [
       "20000000001"
      ]
     },
     "execution_count": 25,
     "metadata": {},
     "output_type": "execute_result"
    }
   ],
   "source": [
    "1+20000000000"
   ]
  },
  {
   "cell_type": "code",
   "execution_count": 26,
   "metadata": {},
   "outputs": [
    {
     "data": {
      "text/plain": [
       "199999999"
      ]
     },
     "execution_count": 26,
     "metadata": {},
     "output_type": "execute_result"
    }
   ],
   "source": [
    "200000000-1"
   ]
  },
  {
   "cell_type": "code",
   "execution_count": 8,
   "metadata": {},
   "outputs": [
    {
     "data": {
      "text/plain": [
       "2"
      ]
     },
     "execution_count": 8,
     "metadata": {},
     "output_type": "execute_result"
    }
   ],
   "source": [
    "1*2"
   ]
  },
  {
   "cell_type": "markdown",
   "metadata": {},
   "source": [
    "###### Ej. *¿Por qué sucede esto?*"
   ]
  },
  {
   "cell_type": "code",
   "execution_count": 9,
   "metadata": {},
   "outputs": [
    {
     "data": {
      "text/plain": [
       "0"
      ]
     },
     "execution_count": 9,
     "metadata": {},
     "output_type": "execute_result"
    }
   ],
   "source": [
    "1/2"
   ]
  },
  {
   "cell_type": "code",
   "execution_count": 10,
   "metadata": {},
   "outputs": [
    {
     "data": {
      "text/plain": [
       "0.5"
      ]
     },
     "execution_count": 10,
     "metadata": {},
     "output_type": "execute_result"
    }
   ],
   "source": [
    "1/2.0"
   ]
  },
  {
   "cell_type": "code",
   "execution_count": 11,
   "metadata": {},
   "outputs": [
    {
     "data": {
      "text/plain": [
       "5"
      ]
     },
     "execution_count": 11,
     "metadata": {},
     "output_type": "execute_result"
    }
   ],
   "source": [
    "15%10"
   ]
  },
  {
   "cell_type": "markdown",
   "metadata": {},
   "source": [
    "En el caso de trabajar con números reales también se puede obtener el resultado de truncar el resultado de la división"
   ]
  },
  {
   "cell_type": "code",
   "execution_count": 29,
   "metadata": {},
   "outputs": [
    {
     "data": {
      "text/plain": [
       "1.0"
      ]
     },
     "execution_count": 29,
     "metadata": {},
     "output_type": "execute_result"
    }
   ],
   "source": [
    "1.9//1.0"
   ]
  },
  {
   "cell_type": "markdown",
   "metadata": {},
   "source": [
    "### Operadores relacionales"
   ]
  },
  {
   "cell_type": "markdown",
   "metadata": {},
   "source": [
    "Son operadores que pueden devolver los valores True (cierto) o False (falso). \n",
    "\n",
    "En programación llamamos a estos valores (True,False) *valores booleanos* o *valores lógicos*"
   ]
  },
  {
   "cell_type": "markdown",
   "metadata": {},
   "source": [
    "| Operador | Significado |\n",
    "|----|---|\n",
    "| == | True, si los dos operandos son iguales, False e.o.c. |\n",
    "| !=  | True, si los dos operandos son diferente, False e.o.c. |\n",
    "| < | menor |\n",
    "| > | mayor  |\n",
    "| <=  | menor o igual  |\n",
    "| >=  | mayor o igual |"
   ]
  },
  {
   "cell_type": "code",
   "execution_count": 30,
   "metadata": {},
   "outputs": [
    {
     "name": "stdout",
     "output_type": "stream",
     "text": [
      "1\n"
     ]
    }
   ],
   "source": [
    "z = 1\n",
    "print(z)"
   ]
  },
  {
   "cell_type": "code",
   "execution_count": 31,
   "metadata": {},
   "outputs": [
    {
     "data": {
      "text/plain": [
       "True"
      ]
     },
     "execution_count": 31,
     "metadata": {},
     "output_type": "execute_result"
    }
   ],
   "source": [
    "z == 1"
   ]
  },
  {
   "cell_type": "code",
   "execution_count": 32,
   "metadata": {},
   "outputs": [
    {
     "data": {
      "text/plain": [
       "False"
      ]
     },
     "execution_count": 32,
     "metadata": {},
     "output_type": "execute_result"
    }
   ],
   "source": [
    "z > 1"
   ]
  },
  {
   "cell_type": "markdown",
   "metadata": {},
   "source": [
    "### Operadores de bit"
   ]
  },
  {
   "cell_type": "markdown",
   "metadata": {},
   "source": [
    "| Símbolo | Significado |\n",
    "|----|---|\n",
    "| &  | Conjunción lógica |\n",
    "| l  | disyunción lógica |\n",
    "| ^  | XOR |\n",
    "| ~  | negación |\n",
    "| >>  | desplazamiento a la derecha |\n",
    "| <<  | desplazamiento a la izquierda |"
   ]
  },
  {
   "cell_type": "code",
   "execution_count": 33,
   "metadata": {
    "collapsed": true
   },
   "outputs": [],
   "source": [
    "a = 2 #10\n",
    "b = 3 #11"
   ]
  },
  {
   "cell_type": "code",
   "execution_count": 35,
   "metadata": {},
   "outputs": [
    {
     "name": "stdout",
     "output_type": "stream",
     "text": [
      "3\n",
      "0b10\n"
     ]
    }
   ],
   "source": [
    "print(a | b)\n",
    "print(bin(a&b))"
   ]
  },
  {
   "cell_type": "code",
   "execution_count": 18,
   "metadata": {},
   "outputs": [
    {
     "data": {
      "text/plain": [
       "2"
      ]
     },
     "execution_count": 18,
     "metadata": {},
     "output_type": "execute_result"
    }
   ],
   "source": [
    "5 >> 1"
   ]
  },
  {
   "cell_type": "markdown",
   "metadata": {},
   "source": [
    "0000 0101 -> 5 \n",
    "\n",
    "El desplazamiento hacia la derecha introduce ceros por la izquierda\n",
    "\n",
    "0000 0010 -> 2"
   ]
  },
  {
   "cell_type": "code",
   "execution_count": 19,
   "metadata": {},
   "outputs": [
    {
     "data": {
      "text/plain": [
       "10"
      ]
     },
     "execution_count": 19,
     "metadata": {},
     "output_type": "execute_result"
    }
   ],
   "source": [
    "5 << 1"
   ]
  },
  {
   "cell_type": "markdown",
   "metadata": {},
   "source": [
    "###### Ej. *¿Por qué?*"
   ]
  },
  {
   "cell_type": "markdown",
   "metadata": {},
   "source": [
    "## Funciones predefinidas"
   ]
  },
  {
   "cell_type": "markdown",
   "metadata": {},
   "source": [
    "Python incluye numerosas funciones predefinidas. Veamos algunas de ellas.\n",
    "\n",
    "| Función | Significado |\n",
    "|----|---|\n",
    "| 0xV  | Convierte el número hexadecimal V en entero |\n",
    "| hex(x)  | convierte x a su representación hexadecimal, como cadena |\n",
    "| 0oV  | Convierte el número octal V en entero |\n",
    "| oct(x)  | convierte x a su representación octal, como cadena |\n",
    "| 0b  | Convierte el número binario V en entero |\n",
    "| bin(x)  | convierte x a su representación binaria, como cadena |\n",
    "| int(x,b)  | Representa el número x en base b|\n",
    "| int(x)  | Convierte el número real x en su parte entera |\n",
    "| int(x)  | Convierte el string x en un entero |\n",
    "| >>  | desplazamiento a la derecha |\n",
    "| <<  | desplazamiento a la izquierda |"
   ]
  },
  {
   "cell_type": "markdown",
   "metadata": {},
   "source": [
    "### Conversión entre bases"
   ]
  },
  {
   "cell_type": "markdown",
   "metadata": {},
   "source": [
    "Python considera que un número está escrito en hexadecimal anteponiendo el prefijo **0x**. También se puede convertir un entero en hexadecimal utilizando la función **hex( )**. Ojo porque esta función devuelve el valor  hexadecimal, pero como una cadena de caracteres."
   ]
  },
  {
   "cell_type": "code",
   "execution_count": 41,
   "metadata": {},
   "outputs": [
    {
     "data": {
      "text/plain": [
       "'0x6b2'"
      ]
     },
     "execution_count": 41,
     "metadata": {},
     "output_type": "execute_result"
    }
   ],
   "source": [
    "hex(1714) "
   ]
  },
  {
   "cell_type": "code",
   "execution_count": 38,
   "metadata": {},
   "outputs": [
    {
     "data": {
      "text/plain": [
       "1714"
      ]
     },
     "execution_count": 38,
     "metadata": {},
     "output_type": "execute_result"
    }
   ],
   "source": [
    "0x6B2"
   ]
  },
  {
   "cell_type": "markdown",
   "metadata": {},
   "source": [
    "Para representar un valor en octal antepondremos el prefijo **0o**  al valor octal. \n",
    "\n",
    "Viceversa, la función **oct( )** permite convertir un valor decimal en octal, pero representado como caracteres.\n"
   ]
  },
  {
   "cell_type": "code",
   "execution_count": 54,
   "metadata": {},
   "outputs": [
    {
     "data": {
      "text/plain": [
       "'0o10'"
      ]
     },
     "execution_count": 54,
     "metadata": {},
     "output_type": "execute_result"
    }
   ],
   "source": [
    "oct(8)"
   ]
  },
  {
   "cell_type": "code",
   "execution_count": 55,
   "metadata": {},
   "outputs": [
    {
     "data": {
      "text/plain": [
       "8"
      ]
     },
     "execution_count": 55,
     "metadata": {},
     "output_type": "execute_result"
    }
   ],
   "source": [
    "0o10"
   ]
  },
  {
   "cell_type": "markdown",
   "metadata": {},
   "source": [
    "En el caso de números binarios podemos utilizar el prefijo 0b y la función bin()"
   ]
  },
  {
   "cell_type": "code",
   "execution_count": 42,
   "metadata": {},
   "outputs": [
    {
     "data": {
      "text/plain": [
       "15"
      ]
     },
     "execution_count": 42,
     "metadata": {},
     "output_type": "execute_result"
    }
   ],
   "source": [
    "0b01111"
   ]
  },
  {
   "cell_type": "code",
   "execution_count": 50,
   "metadata": {},
   "outputs": [
    {
     "data": {
      "text/plain": [
       "'0b1111'"
      ]
     },
     "execution_count": 50,
     "metadata": {},
     "output_type": "execute_result"
    }
   ],
   "source": [
    "bin(15)"
   ]
  },
  {
   "cell_type": "markdown",
   "metadata": {},
   "source": [
    "La función **int(x,b)** convierte a entero el número x, que es un string en base b"
   ]
  },
  {
   "cell_type": "code",
   "execution_count": 77,
   "metadata": {},
   "outputs": [
    {
     "name": "stdout",
     "output_type": "stream",
     "text": [
      "520\n",
      "47802\n",
      "47802\n",
      "10\n",
      "8469720880\n"
     ]
    }
   ],
   "source": [
    "print(int('1010',8))\n",
    "print(int('baba',16))\n",
    "print(int('0xbaba',16))\n",
    "print(int('1010',2))\n",
    "print(int('bigdata',30))\n"
   ]
  },
  {
   "cell_type": "markdown",
   "metadata": {},
   "source": [
    "###### Ej. En matemáticas, decimos que f y g son funciones inversas si para todo valor x, se cumple que \n",
    "\n",
    "f(g(x)) == x \n",
    "\n",
    "y para todo valor y\n",
    "\n",
    "g(f(y)) == y\n",
    "\n",
    "¿Cual es la inversa de la función hex(x)? (para pensar, la respuesta no es trivial)"
   ]
  },
  {
   "cell_type": "code",
   "execution_count": 70,
   "metadata": {},
   "outputs": [
    {
     "data": {
      "text/plain": [
       "True"
      ]
     },
     "execution_count": 70,
     "metadata": {},
     "output_type": "execute_result"
    }
   ],
   "source": [
    "x = 0xacaba\n",
    "y = '0xcaba'\n",
    "# Solución, cambiar f,g por las funciones adecuadas para que se cumpla\n",
    "\n",
    "# f(g(x)) == x\n",
    "# g(f(y)) == y\n",
    "\n"
   ]
  },
  {
   "cell_type": "markdown",
   "metadata": {},
   "source": [
    "### Tipos en Python"
   ]
  },
  {
   "cell_type": "markdown",
   "metadata": {},
   "source": [
    "En Python, **todo valor tiene un tipo**, es decir pertenece a un conjunto predefinido de valores.\n",
    "Decimos que se trata de un lenguaje con tipos, o un lenguaje tipado.\n",
    "\n",
    "Sin embargo, a diferencia de otros lenguajes como C, C++, C# o Java, en Python no se declaran los tipos explícitamente, los deduce el sistema.\n",
    "\n",
    "Esto es una comodidad, pero no debe hacernos olvidar que los tipos existen. En concreto, en Python, tenemos:\n",
    "\n",
    "* Tipos numéricos: int, float, complex \n",
    "* Tipo cierto/falso: bool\n",
    "* Tipo carácter: chr\n",
    "* Tipo secuencia de caracteres: str\n",
    "* Tipos secuencia: list, tuple, range\n",
    "* Tipos secuencia de bnarios: bytes, bytearray, memoryview\n",
    "* Conjuntos: set, frozenset\n",
    "* Maps: dict\n",
    "* Programación orientada a objetos: Clases, objetos\n",
    "* Programación funcional: funciones lambda\n",
    "\n"
   ]
  },
  {
   "cell_type": "markdown",
   "metadata": {},
   "source": [
    "### Conversión entre tipos"
   ]
  },
  {
   "cell_type": "markdown",
   "metadata": {},
   "source": [
    "La función predefinida **int( )** se puede convertir para convertir un número real en su parte entera, o para convertir un número entre comillas en su versión como entero (es decir, si no se pone segundo parámetro se asume implícitamente base 10). \n",
    "\n",
    "Para este último uso, conversión de *string* a *int*, disponemos también de una función inversa,  **str( )** que convierte un entero en string.\n",
    "\n"
   ]
  },
  {
   "cell_type": "code",
   "execution_count": 72,
   "metadata": {},
   "outputs": [
    {
     "name": "stdout",
     "output_type": "stream",
     "text": [
      "7\n",
      "7\n"
     ]
    }
   ],
   "source": [
    "print(int(7.7))\n",
    "print(int('7'))"
   ]
  },
  {
   "cell_type": "markdown",
   "metadata": {},
   "source": [
    "**Observaciones: ** \n",
    "\n",
    "* A este tipo de funciones que pasan de un tipo a otro se conoce como *funciones de conversión de tipo*\n",
    "*  Aunque generalmente no nos preocupamos de pensar en los tipos, el sistema comprueba que no mezclemos tipos diferentes en una misma expresión, y si lo hacemos obtendremos un error (a no ser que sea posible una *conversión automática de tipos*)"
   ]
  },
  {
   "cell_type": "code",
   "execution_count": 76,
   "metadata": {},
   "outputs": [
    {
     "data": {
      "text/plain": [
       "15"
      ]
     },
     "execution_count": 76,
     "metadata": {},
     "output_type": "execute_result"
    }
   ],
   "source": [
    "x = '12'\n",
    "# 3+x  # error!!!!\n",
    "3 + int(x)"
   ]
  },
  {
   "cell_type": "markdown",
   "metadata": {},
   "source": [
    "De manera similar, **float(x)**  convierte una cadena x en su representación como número real.\n",
    "\n"
   ]
  },
  {
   "cell_type": "code",
   "execution_count": 79,
   "metadata": {},
   "outputs": [
    {
     "data": {
      "text/plain": [
       "6.283"
      ]
     },
     "execution_count": 79,
     "metadata": {},
     "output_type": "execute_result"
    }
   ],
   "source": [
    "pi = '3.1415'\n",
    "2*(float(pi))"
   ]
  },
  {
   "cell_type": "markdown",
   "metadata": {},
   "source": [
    "**chr( )** se utiliza para convertir un entero a su equivalente alfabético, mientras que **ord( )** es su función inversa."
   ]
  },
  {
   "cell_type": "code",
   "execution_count": 26,
   "metadata": {},
   "outputs": [
    {
     "data": {
      "text/plain": [
       "'b'"
      ]
     },
     "execution_count": 26,
     "metadata": {},
     "output_type": "execute_result"
    }
   ],
   "source": [
    "chr(98)"
   ]
  },
  {
   "cell_type": "code",
   "execution_count": 27,
   "metadata": {},
   "outputs": [
    {
     "data": {
      "text/plain": [
       "98"
      ]
     },
     "execution_count": 27,
     "metadata": {},
     "output_type": "execute_result"
    }
   ],
   "source": [
    "ord('b')"
   ]
  },
  {
   "cell_type": "markdown",
   "metadata": {},
   "source": [
    "### Funciones predefinidas aritméticas"
   ]
  },
  {
   "cell_type": "markdown",
   "metadata": {},
   "source": [
    "**round( )** permite redondear un real a su valor entero más próximo. si se añade un segundo parámetro sirve para redondear al número de decimales indicado. "
   ]
  },
  {
   "cell_type": "code",
   "execution_count": 83,
   "metadata": {
    "scrolled": false
   },
   "outputs": [
    {
     "name": "stdout",
     "output_type": "stream",
     "text": [
      "86\n",
      "4.56\n",
      "85\n"
     ]
    }
   ],
   "source": [
    "print(round(85.6231)) \n",
    "print(round(4.55892, 2))\n",
    "print(int(85.6231))"
   ]
  },
  {
   "cell_type": "markdown",
   "metadata": {},
   "source": [
    "**complex( )** se emplea para definir números complejos, mientras que **abs( )**  deuele el valor absoluto de un número entero/real o el módulo de un número complejo."
   ]
  },
  {
   "cell_type": "code",
   "execution_count": 84,
   "metadata": {},
   "outputs": [
    {
     "name": "stdout",
     "output_type": "stream",
     "text": [
      "5.385164807134504\n",
      "4.5\n"
     ]
    }
   ],
   "source": [
    "c =complex('5+2j')\n",
    "print(abs(c))\n",
    "print(abs(-4.5))"
   ]
  },
  {
   "cell_type": "markdown",
   "metadata": {},
   "source": [
    "**divmod(x,y)** devuelve tanto el cociente como el resto de una división. Para eso se utiliza una **tupla** con la forma (cociente, resto). "
   ]
  },
  {
   "cell_type": "code",
   "execution_count": 30,
   "metadata": {},
   "outputs": [
    {
     "data": {
      "text/plain": [
       "(4, 1)"
      ]
     },
     "execution_count": 30,
     "metadata": {},
     "output_type": "execute_result"
    }
   ],
   "source": [
    "divmod(9,2)"
   ]
  },
  {
   "cell_type": "code",
   "execution_count": 86,
   "metadata": {},
   "outputs": [
    {
     "name": "stdout",
     "output_type": "stream",
     "text": [
      "4 1 9\n"
     ]
    }
   ],
   "source": [
    "cociente,resto = divmod(9,2)\n",
    "print(cociente, resto, cociente*2+resto)"
   ]
  },
  {
   "cell_type": "markdown",
   "metadata": {},
   "source": [
    "**isinstance(x,y )** es una función booleana es decir que devuelve True o False, según si x es de tipo y. Se pueden comprobar varias clases a la vez haciendo que el segundo argumento sea una tupla"
   ]
  },
  {
   "cell_type": "code",
   "execution_count": 88,
   "metadata": {},
   "outputs": [
    {
     "name": "stdout",
     "output_type": "stream",
     "text": [
      "True\n",
      "False\n",
      "True\n"
     ]
    }
   ],
   "source": [
    "print(isinstance(1, int))\n",
    "print(isinstance(1.0,int))\n",
    "print(isinstance(1.0,(int,float)))"
   ]
  },
  {
   "cell_type": "markdown",
   "metadata": {},
   "source": [
    "**pow(x,y,z)** se emplea para calcular $x^y$. Si se especifica el tercer argumento, z, el resultado es el módulo: ($x^y$ % z)."
   ]
  },
  {
   "cell_type": "code",
   "execution_count": 99,
   "metadata": {},
   "outputs": [
    {
     "name": "stdout",
     "output_type": "stream",
     "text": [
      "27\n",
      "2\n"
     ]
    }
   ],
   "source": [
    "print(pow(3,3))\n",
    "print(pow(3,3,5))"
   ]
  },
  {
   "cell_type": "markdown",
   "metadata": {},
   "source": [
    "La función **range( )** genera una secuencia de enteros dentro del rango indicado. Admite tres formatos, y es una función importante, que utilizaremos muy a menudo:\n",
    "* Si solo recibe un argumento entero x devuelve los valores desde 0 hasta x-1.\n",
    "* Si recibe dos argumentos x,y devuelve la secuencia de elementos que va desde x hasta y-1.\n",
    "* Si recibe tres argumentos, x,y,z, devuelve los elementos desde x hasta y-1, pero saltando de z en z. \n",
    "\n",
    "El resultado es una lista, tipo que veremos en detalle más adelante."
   ]
  },
  {
   "cell_type": "code",
   "execution_count": 100,
   "metadata": {},
   "outputs": [
    {
     "name": "stdout",
     "output_type": "stream",
     "text": [
      "range(0, 3)\n",
      "range(2, 9)\n",
      "range(2, 27, 8)\n"
     ]
    }
   ],
   "source": [
    "print(range(3))\n",
    "print(range(2,9))\n",
    "print(range(2,27,8))"
   ]
  },
  {
   "cell_type": "markdown",
   "metadata": {},
   "source": [
    "## Entrada del usuario"
   ]
  },
  {
   "cell_type": "markdown",
   "metadata": {},
   "source": [
    "**input( )**  es una función que lee lo que teclee el usuario hasta que pulsa enter."
   ]
  },
  {
   "cell_type": "code",
   "execution_count": 103,
   "metadata": {},
   "outputs": [
    {
     "name": "stdout",
     "output_type": "stream",
     "text": [
      "Dime lo que quieras \tguapo\n",
      "guapo ? mmmmm...estoy de acuerdo\n"
     ]
    }
   ],
   "source": [
    "abc = input(\"Dime lo que quieras \\t\")\n",
    "print(abc,'? mmmmm...estoy de acuerdo')"
   ]
  },
  {
   "cell_type": "code",
   "execution_count": 104,
   "metadata": {},
   "outputs": [
    {
     "data": {
      "text/plain": [
       "str"
      ]
     },
     "execution_count": 104,
     "metadata": {},
     "output_type": "execute_result"
    }
   ],
   "source": [
    "type(abc)"
   ]
  },
  {
   "cell_type": "markdown",
   "metadata": {},
   "source": [
    "Si lo que se quiere es leer un entero, debemos convertirlo con **int()**"
   ]
  },
  {
   "cell_type": "markdown",
   "metadata": {},
   "source": [
    "###### Ej. Corrige el siguiente programa para que calcule de verdad la suma de dos números"
   ]
  },
  {
   "cell_type": "code",
   "execution_count": 108,
   "metadata": {},
   "outputs": [
    {
     "name": "stdout",
     "output_type": "stream",
     "text": [
      "Dame un número 5\n",
      "Y ahora otro 4\n",
      "La suma es 54\n"
     ]
    }
   ],
   "source": [
    "a =  input(\"Dame un número \")\n",
    "b =  input(\"Y ahora otro \")\n",
    "suma = a+b\n",
    "print('La suma es', suma)"
   ]
  },
  {
   "cell_type": "code",
   "execution_count": 111,
   "metadata": {},
   "outputs": [
    {
     "data": {
      "text/plain": [
       "str"
      ]
     },
     "execution_count": 111,
     "metadata": {},
     "output_type": "execute_result"
    }
   ],
   "source": [
    "type(a)"
   ]
  },
  {
   "cell_type": "markdown",
   "metadata": {},
   "source": [
    "Para acabar mencionemos un valor especial, **None**,\n",
    "es un valor especial que puede ser comparado con cualquier otro, \n",
    "sin dar error de tipo"
   ]
  },
  {
   "cell_type": "code",
   "execution_count": 112,
   "metadata": {},
   "outputs": [
    {
     "name": "stdout",
     "output_type": "stream",
     "text": [
      "False\n",
      "False\n",
      "False\n"
     ]
    }
   ],
   "source": [
    "print(None==1.5)\n",
    "print(None==True)\n",
    "print(None==False)\n"
   ]
  },
  {
   "cell_type": "markdown",
   "metadata": {},
   "source": [
    "Puede pensarse entones que None pertenece a todos los tipos, pero no:"
   ]
  },
  {
   "cell_type": "code",
   "execution_count": 113,
   "metadata": {},
   "outputs": [
    {
     "name": "stdout",
     "output_type": "stream",
     "text": [
      "False\n",
      "False\n",
      "False\n",
      "False\n",
      "<class 'NoneType'>\n"
     ]
    }
   ],
   "source": [
    "print(isinstance(None,bool))\n",
    "print(isinstance(None,list))\n",
    "print(isinstance(None,float))\n",
    "print(isinstance(None,complex))\n",
    "print(type(None))"
   ]
  },
  {
   "cell_type": "markdown",
   "metadata": {},
   "source": [
    "Como vemos, *None* tiene su propio tipo, que resulta ser compatible con los demás. Este valor tan especial resulta muy útil porque normalmente se representa que ha habido un error en un cómputo."
   ]
  },
  {
   "cell_type": "code",
   "execution_count": null,
   "metadata": {
    "collapsed": true
   },
   "outputs": [],
   "source": []
  }
 ],
 "metadata": {
  "kernelspec": {
   "display_name": "Python 3",
   "language": "python",
   "name": "python3"
  },
  "language_info": {
   "codemirror_mode": {
    "name": "ipython",
    "version": 3
   },
   "file_extension": ".py",
   "mimetype": "text/x-python",
   "name": "python",
   "nbconvert_exporter": "python",
   "pygments_lexer": "ipython3",
   "version": "3.6.3"
  }
 },
 "nbformat": 4,
 "nbformat_minor": 1
}
